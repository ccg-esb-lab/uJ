{
 "cells": [
  {
   "cell_type": "code",
   "execution_count": 1,
   "metadata": {
    "collapsed": true
   },
   "outputs": [],
   "source": [
    "import numpy as np\n",
    "import matplotlib.pyplot as plt\n",
    "from pathlib import Path"
   ]
  },
  {
   "cell_type": "markdown",
   "metadata": {},
   "source": [
    "## User-defined parameters"
   ]
  },
  {
   "cell_type": "code",
   "execution_count": 2,
   "metadata": {
    "collapsed": false
   },
   "outputs": [],
   "source": [
    "expeLabel=\"HT13-CAZ\"\n",
    "dataPath=\"/Volumes/uJ_disk/DATA/20170220_Charly_HT13-CAZ/\"\n",
    "str_pos=[\"xy07\",\"xy08\",\"xy09\",\"xy12\",\"xy13\",\"xy14\",\"xy15\",\"xy17\",\"xy24\",\"xy25\",\"xy26\",\"xy27\",\"xy28\",\"xy29\",\"xy30\",\"xy31\",\"xy32\",\"xy33\",\"xy34\",\"xy35\",\"xy36\",\"xy37\",\"xy38\",\"xy39\",\"xy40\",\"xy41\",\"xy42\"];\n",
    "\n",
    "\n",
    "#expeLabel=\"HT13-AMP\"\n",
    "#dataPath=\"/Volumes/uJ_disk/DATA/20170227_Charly_HT13-AMP/\"\n",
    "#str_pos=[\"xy01\",\"xy02\",\"xy03\",\"xy04\",\"xy05\",\"xy06\",\"xy07\",\"xy11\",\"xy12\",\"xy13\",\"xy14\",\"xy15\",\"xy16\",\"xy21\"];\n",
    "\n",
    "\n"
   ]
  },
  {
   "cell_type": "code",
   "execution_count": 3,
   "metadata": {
    "collapsed": false
   },
   "outputs": [
    {
     "name": "stdout",
     "output_type": "stream",
     "text": [
      "Frames: [1, 2, 3, 4, 5, 6, 7, 8, 9, 10, 11, 12, 13, 14, 15, 16, 17, 18, 19, 20, 21, 22, 23, 24, 25, 26, 27, 28, 29, 30, 31, 32, 33, 34, 35, 36, 37, 38, 39, 40, 41, 42, 43, 44, 45, 46, 47, 48, 49, 50, 51, 52, 53, 54, 55, 56, 57, 58, 59, 60, 61, 62, 63, 64, 65, 66, 67, 68, 69, 70, 71, 72, 73, 74, 75, 76, 77, 78, 79, 80, 81, 82, 83, 84, 85, 86, 87, 88, 89, 90, 91, 92, 93, 94, 95, 96, 97, 98, 99, 100, 101, 102, 103, 104, 105, 106, 107, 108, 109, 110, 111, 112, 113, 114, 115, 116, 117, 118, 119, 120, 121, 122, 123, 124, 125, 126, 127, 128, 129, 130, 131, 132, 133, 134, 135, 136, 137, 138, 139, 140, 141, 142, 143, 144, 145, 146, 147, 148, 149, 150, 151, 152, 153, 154, 155, 156, 157, 158, 159, 160, 161, 162, 163] \n",
      "Times:  [0, 10, 20, 30, 40, 50, 60, 70, 80, 90, 100, 110, 120, 130, 140, 150, 160, 170, 180, 190, 200, 210, 220, 230, 240, 250, 260, 270, 280, 290, 300, 310, 320, 330, 340, 350, 360, 370, 380, 390, 400, 410, 420, 430, 440, 450, 460, 470, 480, 490, 500, 510, 520, 530, 540, 550, 560, 570, 580, 590, 600, 610, 620, 630, 640, 650, 660, 670, 680, 690, 700, 710, 720, 730, 740, 750, 760, 770, 780, 790, 800, 810, 820, 830, 840, 850, 860, 870, 880, 890, 900, 910, 920, 930, 940, 950, 960, 970, 980, 990, 1000, 1010, 1020, 1030, 1040, 1050, 1060, 1070, 1080, 1090, 1100, 1110, 1120, 1130, 1140, 1150, 1160, 1170, 1180, 1190, 1200, 1210, 1220, 1230, 1240, 1250, 1260, 1270, 1280, 1290, 1300, 1310, 1320, 1330, 1340, 1350, 1360, 1370, 1380, 1390, 1400, 1410, 1420, 1430, 1440, 1450, 1460, 1470, 1480, 1490, 1500, 1510, 1520, 1530, 1540, 1550, 1560, 1570, 1580, 1590, 1600, 1610, 1620]\n"
     ]
    }
   ],
   "source": [
    "\n",
    "\n",
    "drugFrame=91\n",
    "firstFrame=drugFrame-36;\n",
    "lastFrame=drugFrame+36;\n",
    "\n",
    "#frames=range(firstFrame,lastFrame+1)\n",
    "frame2min=10\n",
    "frames=range(1,164)\n",
    "\n",
    "times=[(this_frame-1)*frame2min for this_frame in frames]\n",
    "\n",
    "print(\"Frames: %s \"%[f for f in frames])\n",
    "print(\"Times:  %s\"%times)"
   ]
  },
  {
   "cell_type": "markdown",
   "metadata": {},
   "source": [
    "## I/O Functions"
   ]
  },
  {
   "cell_type": "code",
   "execution_count": 4,
   "metadata": {
    "collapsed": false
   },
   "outputs": [],
   "source": [
    "\n",
    "def fromFileDist(fileName):\n",
    "    #print(fileName)\n",
    "    #d = np.loadtxt(fileName, delimiter=\"\\t\")\n",
    "    \n",
    "    f = open(fileName,'r')\n",
    "\n",
    "    data = []\n",
    "    numCells=0\n",
    "    for line in f.readlines():\n",
    "        if numCells>0:\n",
    "            data.append(line.replace('\\n','').split('\\t'))\n",
    "        numCells=numCells+1\n",
    "    f.close()\n",
    "\n",
    "    return data\n",
    "\n",
    "#Returns a list with index of data_t in array(t)\n",
    "def filterFrames(data_t, t):\n",
    "    i=0\n",
    "    ret=[]\n",
    "    for this_data in data_t:\n",
    "        if this_data in t:\n",
    "            ret.append(i)\n",
    "        i=i+1\n",
    "    return ret"
   ]
  },
  {
   "cell_type": "markdown",
   "metadata": {},
   "source": [
    "## Load Data"
   ]
  },
  {
   "cell_type": "code",
   "execution_count": 5,
   "metadata": {
    "collapsed": false,
    "scrolled": false
   },
   "outputs": [],
   "source": [
    "data_pos=[]\n",
    "data_t=[]\n",
    "data_GFP=[]\n",
    "data_DsRed=[]\n",
    "for i, t in enumerate(frames):\n",
    "    for pos in str_pos:\n",
    "\n",
    "        fileName='%suJ_data/%s_data_%s_t%s.txt'%(dataPath,expeLabel,pos,(i+1))\n",
    "        if Path(fileName).is_file():\n",
    "            data=fromFileDist(fileName)\n",
    "\n",
    "            this_pos=[roi[6] for roi in data]\n",
    "            this_t=[float(roi[7]) for roi in data]\n",
    "            this_GFP=[float(roi[10]) for roi in data]\n",
    "            this_DsRed=[float(roi[11]) for roi in data]\n",
    "    \n",
    "            data_pos.extend(this_pos)\n",
    "            data_t.extend(this_t)\n",
    "            data_GFP.extend(this_GFP)\n",
    "            data_DsRed.extend(this_DsRed)\n",
    "data_t=np.asarray(data_t)\n",
    "data_GFP=np.asarray(data_GFP)\n",
    "data_DsRed=np.asarray(data_DsRed)"
   ]
  },
  {
   "cell_type": "markdown",
   "metadata": {},
   "source": [
    "## Determine population-level mean fluorescence (before the antibiotic is introduced)"
   ]
  },
  {
   "cell_type": "code",
   "execution_count": 6,
   "metadata": {
    "collapsed": false
   },
   "outputs": [
    {
     "name": "stdout",
     "output_type": "stream",
     "text": [
      "8732983\n"
     ]
    }
   ],
   "source": [
    "print(len(data_t))"
   ]
  },
  {
   "cell_type": "code",
   "execution_count": 7,
   "metadata": {
    "collapsed": false
   },
   "outputs": [
    {
     "name": "stdout",
     "output_type": "stream",
     "text": [
      "meanGFP:34.809043386\tmeanDsRed:10.7755433956\n",
      "maxGFP:254.238\tmaxDsRed:225.905\n"
     ]
    }
   ],
   "source": [
    "\n",
    "xmean=0.\n",
    "ymean=0.\n",
    "\n",
    "#filter_t=filterFrames(data_t, [37, 55, 73, 91])\n",
    "filter_t=filterFrames(data_t, range(firstFrame,drugFrame))\n",
    "xmean= np.mean(data_GFP[filter_t])\n",
    "ymean= np.mean(data_DsRed[filter_t])\n",
    "print(\"meanGFP:%s\\tmeanDsRed:%s\"%(xmean,ymean))\n",
    "\n",
    "\n",
    "\n",
    "xmax= np.max(data_GFP[filter_t])\n",
    "ymax= np.max(data_DsRed[filter_t])\n",
    "print(\"maxGFP:%s\\tmaxDsRed:%s\"%(xmax,ymax))\n",
    "\n"
   ]
  },
  {
   "cell_type": "markdown",
   "metadata": {},
   "source": [
    "## Estimate relative frequencies as a function of time"
   ]
  },
  {
   "cell_type": "code",
   "execution_count": 8,
   "metadata": {
    "collapsed": false,
    "scrolled": false
   },
   "outputs": [
    {
     "name": "stdout",
     "output_type": "stream",
     "text": [
      "frame:0\tNormMeanGFP:0.311622285781\tNormMeanDsRed:0.391208079232\tRelFreq:1.25539185444\n",
      "frame:1\tNormMeanGFP:0.315796844781\tNormMeanDsRed:0.389800069607\tRelFreq:1.23433807541\n",
      "frame:2\tNormMeanGFP:0.361624694008\tNormMeanDsRed:0.419222078388\tRelFreq:1.15927392497\n",
      "frame:3\tNormMeanGFP:0.382645955269\tNormMeanDsRed:0.42857424771\tRelFreq:1.12002816653\n",
      "frame:4\tNormMeanGFP:0.398634728457\tNormMeanDsRed:0.438728078193\tRelFreq:1.10057666047\n",
      "frame:5\tNormMeanGFP:0.422142094431\tNormMeanDsRed:0.464320726013\tRelFreq:1.09991572065\n",
      "frame:6\tNormMeanGFP:0.461800156196\tNormMeanDsRed:0.495532316886\tRelFreq:1.07304493131\n",
      "frame:7\tNormMeanGFP:0.500008730983\tNormMeanDsRed:0.515047585612\tRelFreq:1.03007718405\n",
      "frame:8\tNormMeanGFP:0.520303133631\tNormMeanDsRed:0.527467804141\tRelFreq:1.0137701852\n",
      "frame:9\tNormMeanGFP:0.541760919328\tNormMeanDsRed:0.543114773016\tRelFreq:1.00249898736\n",
      "frame:10\tNormMeanGFP:0.572467592321\tNormMeanDsRed:0.569758923048\tRelFreq:0.995268432118\n",
      "frame:11\tNormMeanGFP:0.582803812307\tNormMeanDsRed:0.57744368326\tRelFreq:0.990802858639\n",
      "frame:12\tNormMeanGFP:0.607559516676\tNormMeanDsRed:0.609826295056\tRelFreq:1.00373095692\n",
      "frame:13\tNormMeanGFP:0.642104188134\tNormMeanDsRed:0.637955750231\tRelFreq:0.993539307203\n",
      "frame:14\tNormMeanGFP:0.648947534561\tNormMeanDsRed:0.634838091483\tRelFreq:0.978257960272\n",
      "frame:15\tNormMeanGFP:0.64592573112\tNormMeanDsRed:0.64485878602\tRelFreq:0.998348192294\n",
      "frame:16\tNormMeanGFP:0.670653343217\tNormMeanDsRed:0.665407710007\tRelFreq:0.992178323924\n",
      "frame:17\tNormMeanGFP:0.70721428285\tNormMeanDsRed:0.683407993724\tRelFreq:0.966337940702\n",
      "frame:18\tNormMeanGFP:0.70743728863\tNormMeanDsRed:0.705926911066\tRelFreq:0.997865001481\n",
      "frame:19\tNormMeanGFP:0.72798769807\tNormMeanDsRed:0.717369148849\tRelFreq:0.98541383426\n",
      "frame:20\tNormMeanGFP:0.749275968747\tNormMeanDsRed:0.733830012041\tRelFreq:0.979385490326\n",
      "frame:21\tNormMeanGFP:0.780946263483\tNormMeanDsRed:0.749918784404\tRelFreq:0.9602693802\n",
      "frame:22\tNormMeanGFP:0.782704659049\tNormMeanDsRed:0.766563275862\tRelFreq:0.979377427999\n",
      "frame:23\tNormMeanGFP:0.817635168653\tNormMeanDsRed:0.779347747387\tRelFreq:0.953172976489\n",
      "frame:24\tNormMeanGFP:0.768830723385\tNormMeanDsRed:0.757317465681\tRelFreq:0.985024977081\n",
      "frame:25\tNormMeanGFP:0.804524834126\tNormMeanDsRed:0.776336052576\tRelFreq:0.964962198363\n",
      "frame:26\tNormMeanGFP:0.797118638981\tNormMeanDsRed:0.776886143308\tRelFreq:0.97461796189\n",
      "frame:27\tNormMeanGFP:0.828615718366\tNormMeanDsRed:0.818642783581\tRelFreq:0.987964342741\n",
      "frame:28\tNormMeanGFP:0.841751631564\tNormMeanDsRed:0.816791097298\tRelFreq:0.970346913116\n",
      "frame:29\tNormMeanGFP:0.874888883643\tNormMeanDsRed:0.854479149913\tRelFreq:0.97667162755\n",
      "frame:30\tNormMeanGFP:0.881665750846\tNormMeanDsRed:0.854394817297\tRelFreq:0.969068852313\n",
      "frame:31\tNormMeanGFP:0.896956860502\tNormMeanDsRed:0.861874253142\tRelFreq:0.960887073945\n",
      "frame:32\tNormMeanGFP:0.919510779902\tNormMeanDsRed:0.876301140162\tRelFreq:0.953008011777\n",
      "frame:33\tNormMeanGFP:0.894408019137\tNormMeanDsRed:0.876167955231\tRelFreq:0.979606551467\n",
      "frame:34\tNormMeanGFP:0.879503144051\tNormMeanDsRed:0.865331848381\tRelFreq:0.983887157464\n",
      "frame:35\tNormMeanGFP:0.885268307572\tNormMeanDsRed:0.869439140856\tRelFreq:0.982119356832\n",
      "frame:36\tNormMeanGFP:0.912840327806\tNormMeanDsRed:0.897740674444\tRelFreq:0.983458603984\n",
      "frame:37\tNormMeanGFP:0.895754951153\tNormMeanDsRed:0.881811740662\tRelFreq:0.984434124006\n",
      "frame:38\tNormMeanGFP:0.910798878233\tNormMeanDsRed:0.891445978974\tRelFreq:0.978751731341\n",
      "frame:39\tNormMeanGFP:0.872189204257\tNormMeanDsRed:0.880755440965\tRelFreq:1.0098215349\n",
      "frame:40\tNormMeanGFP:0.90674777018\tNormMeanDsRed:0.905329241231\tRelFreq:0.998435585952\n",
      "frame:41\tNormMeanGFP:0.91837021073\tNormMeanDsRed:0.912180950086\tRelFreq:0.99326060387\n",
      "frame:42\tNormMeanGFP:0.925019090757\tNormMeanDsRed:0.916803305246\tRelFreq:0.991118253026\n",
      "frame:43\tNormMeanGFP:0.932147024948\tNormMeanDsRed:0.920094239162\tRelFreq:0.987069866165\n",
      "frame:44\tNormMeanGFP:0.934681066179\tNormMeanDsRed:0.944450471272\tRelFreq:1.01045212688\n",
      "frame:45\tNormMeanGFP:0.965288246783\tNormMeanDsRed:0.967814477193\tRelFreq:1.00261707362\n",
      "frame:46\tNormMeanGFP:0.967536046501\tNormMeanDsRed:0.967431157658\tRelFreq:0.999891591798\n",
      "frame:47\tNormMeanGFP:0.98318877971\tNormMeanDsRed:0.965028149019\tRelFreq:0.981528846682\n",
      "frame:48\tNormMeanGFP:0.990280882636\tNormMeanDsRed:0.985220656278\tRelFreq:0.994890110022\n",
      "frame:49\tNormMeanGFP:0.939575109404\tNormMeanDsRed:0.935705896922\tRelFreq:0.995881955105\n",
      "frame:50\tNormMeanGFP:0.918933408413\tNormMeanDsRed:0.920510812909\tRelFreq:1.00171656018\n",
      "frame:51\tNormMeanGFP:0.940396637791\tNormMeanDsRed:0.932832994787\tRelFreq:0.991956965072\n",
      "frame:52\tNormMeanGFP:0.947151449505\tNormMeanDsRed:0.947148003386\tRelFreq:0.999996361596\n",
      "frame:53\tNormMeanGFP:0.943430320343\tNormMeanDsRed:0.937228740506\tRelFreq:0.993426562934\n",
      "frame:54\tNormMeanGFP:0.953637888634\tNormMeanDsRed:0.945828770465\tRelFreq:0.991811233318\n",
      "frame:55\tNormMeanGFP:0.95987129592\tNormMeanDsRed:0.95945848287\tRelFreq:0.999569928748\n",
      "frame:56\tNormMeanGFP:0.95319992914\tNormMeanDsRed:0.946162141037\tRelFreq:0.992616671605\n",
      "frame:57\tNormMeanGFP:0.965329861246\tNormMeanDsRed:0.971295423135\tRelFreq:1.006179817\n",
      "frame:58\tNormMeanGFP:0.964083611409\tNormMeanDsRed:0.979245893465\tRelFreq:1.01572714428\n",
      "frame:59\tNormMeanGFP:0.922644132105\tNormMeanDsRed:0.929606778223\tRelFreq:1.00754640481\n",
      "frame:60\tNormMeanGFP:0.946171573183\tNormMeanDsRed:0.957194146526\tRelFreq:1.011649656\n",
      "frame:61\tNormMeanGFP:0.941314154402\tNormMeanDsRed:0.950239045289\tRelFreq:1.00948130956\n",
      "frame:62\tNormMeanGFP:0.965919465184\tNormMeanDsRed:0.977066244611\tRelFreq:1.01154007123\n",
      "frame:63\tNormMeanGFP:0.961030471977\tNormMeanDsRed:0.953840666493\tRelFreq:0.992518649831\n",
      "frame:64\tNormMeanGFP:1.0397620954\tNormMeanDsRed:1.01656861218\tRelFreq:0.977693471106\n",
      "frame:65\tNormMeanGFP:1.05196977956\tNormMeanDsRed:1.00701086398\tRelFreq:0.957262160522\n",
      "frame:66\tNormMeanGFP:1.07609346193\tNormMeanDsRed:1.03464651808\tRelFreq:0.96148388099\n",
      "frame:67\tNormMeanGFP:1.08475558697\tNormMeanDsRed:1.04518865209\tRelFreq:0.963524562256\n",
      "frame:68\tNormMeanGFP:1.07849028177\tNormMeanDsRed:1.03287471542\tRelFreq:0.957704239784\n",
      "frame:69\tNormMeanGFP:1.06020017393\tNormMeanDsRed:1.03238352695\tRelFreq:0.973762834913\n",
      "frame:70\tNormMeanGFP:1.08103532291\tNormMeanDsRed:1.03823396854\tRelFreq:0.96040707139\n",
      "frame:71\tNormMeanGFP:1.07593824248\tNormMeanDsRed:1.02735213421\tRelFreq:0.954843032473\n",
      "frame:72\tNormMeanGFP:1.05789968417\tNormMeanDsRed:1.0400300437\tRelFreq:0.983108379053\n",
      "frame:73\tNormMeanGFP:1.02227118327\tNormMeanDsRed:1.00478007647\tRelFreq:0.982889954161\n",
      "frame:74\tNormMeanGFP:1.04823976737\tNormMeanDsRed:1.04054113544\tRelFreq:0.992655657446\n",
      "frame:75\tNormMeanGFP:1.03308057217\tNormMeanDsRed:1.03411435625\tRelFreq:1.00100068098\n",
      "frame:76\tNormMeanGFP:1.03724011423\tNormMeanDsRed:1.03736074645\tRelFreq:1.00011630115\n",
      "frame:77\tNormMeanGFP:1.01416141185\tNormMeanDsRed:1.02606036913\tRelFreq:1.01173280421\n",
      "frame:78\tNormMeanGFP:1.04184479082\tNormMeanDsRed:1.03975223791\tRelFreq:0.997991492656\n",
      "frame:79\tNormMeanGFP:1.02761708308\tNormMeanDsRed:1.03434323902\tRelFreq:1.00654539132\n",
      "frame:80\tNormMeanGFP:1.00801490415\tNormMeanDsRed:1.02104095597\tRelFreq:1.01292247939\n",
      "frame:81\tNormMeanGFP:1.00109936065\tNormMeanDsRed:1.01343524503\tRelFreq:1.01232233769\n",
      "frame:82\tNormMeanGFP:0.973199304587\tNormMeanDsRed:1.00381725852\tRelFreq:1.03146113421\n",
      "frame:83\tNormMeanGFP:0.975729546942\tNormMeanDsRed:1.00376249332\tRelFreq:1.02873024238\n",
      "frame:84\tNormMeanGFP:0.993502261526\tNormMeanDsRed:1.01683389336\tRelFreq:1.02348422619\n",
      "frame:85\tNormMeanGFP:1.00409436688\tNormMeanDsRed:1.02264910729\tRelFreq:1.01847908027\n",
      "frame:86\tNormMeanGFP:0.968031420789\tNormMeanDsRed:0.99933631993\tRelFreq:1.03233872214\n",
      "frame:87\tNormMeanGFP:0.93157488474\tNormMeanDsRed:0.973221034358\tRelFreq:1.04470510133\n",
      "frame:88\tNormMeanGFP:0.925710970875\tNormMeanDsRed:0.973646430052\tRelFreq:1.05178231725\n",
      "frame:89\tNormMeanGFP:0.919876733571\tNormMeanDsRed:0.973728374071\tRelFreq:1.05854223564\n",
      "frame:90\tNormMeanGFP:0.914735319102\tNormMeanDsRed:0.961712667465\tRelFreq:1.05135622008\n",
      "frame:91\tNormMeanGFP:0.931320293351\tNormMeanDsRed:0.979437569568\tRelFreq:1.05166565849\n",
      "frame:92\tNormMeanGFP:0.899064684851\tNormMeanDsRed:0.9706540417\tRelFreq:1.07962648078\n",
      "frame:93\tNormMeanGFP:0.855685900314\tNormMeanDsRed:0.936291607086\tRelFreq:1.09420011098\n",
      "frame:94\tNormMeanGFP:0.852235659228\tNormMeanDsRed:0.937837926487\tRelFreq:1.10044436223\n",
      "frame:95\tNormMeanGFP:0.836832598356\tNormMeanDsRed:0.910956803555\tRelFreq:1.08857710054\n",
      "frame:96\tNormMeanGFP:0.849479613805\tNormMeanDsRed:0.915254462838\tRelFreq:1.0774295792\n",
      "frame:97\tNormMeanGFP:0.82776817153\tNormMeanDsRed:0.89267457383\tRelFreq:1.07841132884\n",
      "frame:98\tNormMeanGFP:0.854447192752\tNormMeanDsRed:0.912147575013\tRelFreq:1.06752948895\n",
      "frame:99\tNormMeanGFP:0.765472638756\tNormMeanDsRed:0.834355427842\tRelFreq:1.08998726486\n",
      "frame:100\tNormMeanGFP:0.755746385712\tNormMeanDsRed:0.818345406076\tRelFreq:1.0828307241\n",
      "frame:101\tNormMeanGFP:0.767896717803\tNormMeanDsRed:0.833147993441\tRelFreq:1.08497402597\n",
      "frame:102\tNormMeanGFP:0.778071692183\tNormMeanDsRed:0.818630088668\tRelFreq:1.05212681157\n",
      "frame:103\tNormMeanGFP:0.805456920908\tNormMeanDsRed:0.858819243051\tRelFreq:1.06625099463\n",
      "frame:104\tNormMeanGFP:0.738741506221\tNormMeanDsRed:0.800615848195\tRelFreq:1.08375641744\n",
      "frame:105\tNormMeanGFP:0.734110242689\tNormMeanDsRed:0.802532527219\tRelFreq:1.09320437252\n",
      "frame:106\tNormMeanGFP:0.684835200504\tNormMeanDsRed:0.76948259418\tRelFreq:1.12360257419\n",
      "frame:107\tNormMeanGFP:0.6609495146\tNormMeanDsRed:0.741634055922\tRelFreq:1.12207368269\n",
      "frame:108\tNormMeanGFP:0.648703703602\tNormMeanDsRed:0.730023870764\tRelFreq:1.12535795111\n",
      "frame:109\tNormMeanGFP:0.648918980733\tNormMeanDsRed:0.722433721507\tRelFreq:1.11328801123\n",
      "frame:110\tNormMeanGFP:0.599959152989\tNormMeanDsRed:0.692691481523\tRelFreq:1.15456440338\n",
      "frame:111\tNormMeanGFP:0.580206876194\tNormMeanDsRed:0.6504616255\tRelFreq:1.1210856889\n",
      "frame:112\tNormMeanGFP:0.564975307431\tNormMeanDsRed:0.656432532579\tRelFreq:1.16187826963\n",
      "frame:113\tNormMeanGFP:0.615444819322\tNormMeanDsRed:0.712813391645\tRelFreq:1.15820845227\n",
      "frame:114\tNormMeanGFP:0.550971016789\tNormMeanDsRed:0.638887527118\tRelFreq:1.15956648835\n",
      "frame:115\tNormMeanGFP:0.535122967802\tNormMeanDsRed:0.633612520393\tRelFreq:1.18405031837\n",
      "frame:116\tNormMeanGFP:0.542597793679\tNormMeanDsRed:0.635245261904\tRelFreq:1.17074796342\n",
      "frame:117\tNormMeanGFP:0.52054210165\tNormMeanDsRed:0.617275791384\tRelFreq:1.18583259534\n",
      "frame:118\tNormMeanGFP:0.52842123081\tNormMeanDsRed:0.613930811368\tRelFreq:1.16182086482\n",
      "frame:119\tNormMeanGFP:0.493307369638\tNormMeanDsRed:0.58198176574\tRelFreq:1.17975485784\n",
      "frame:120\tNormMeanGFP:0.498283198914\tNormMeanDsRed:0.58286749413\tRelFreq:1.16975144938\n",
      "frame:121\tNormMeanGFP:0.464331444999\tNormMeanDsRed:0.560654968299\tRelFreq:1.20744561743\n",
      "frame:122\tNormMeanGFP:0.467461692123\tNormMeanDsRed:0.553359047161\tRelFreq:1.1837527149\n",
      "frame:123\tNormMeanGFP:0.471415427748\tNormMeanDsRed:0.563969288211\tRelFreq:1.19633184452\n",
      "frame:124\tNormMeanGFP:0.462561944662\tNormMeanDsRed:0.543172882823\tRelFreq:1.17427057952\n",
      "frame:125\tNormMeanGFP:0.466957379262\tNormMeanDsRed:0.553984543854\tRelFreq:1.18637068062\n",
      "frame:126\tNormMeanGFP:0.473980516761\tNormMeanDsRed:0.554423208007\tRelFreq:1.16971729513\n",
      "frame:127\tNormMeanGFP:0.443584250208\tNormMeanDsRed:0.530847408391\tRelFreq:1.1967228506\n",
      "frame:128\tNormMeanGFP:0.453186239049\tNormMeanDsRed:0.536823369418\tRelFreq:1.18455355252\n",
      "frame:129\tNormMeanGFP:0.426056522392\tNormMeanDsRed:0.516171078195\tRelFreq:1.21150845267\n",
      "frame:130\tNormMeanGFP:0.428504629825\tNormMeanDsRed:0.532714224821\tRelFreq:1.24319362673\n",
      "frame:131\tNormMeanGFP:0.413274251034\tNormMeanDsRed:0.528091178122\tRelFreq:1.27782260037\n",
      "frame:132\tNormMeanGFP:0.416527859679\tNormMeanDsRed:0.535872737621\tRelFreq:1.28652315846\n",
      "frame:133\tNormMeanGFP:0.394394552751\tNormMeanDsRed:0.501339777317\tRelFreq:1.27116303666\n",
      "frame:134\tNormMeanGFP:0.389709511938\tNormMeanDsRed:0.498130714935\tRelFreq:1.2782103071\n",
      "frame:135\tNormMeanGFP:0.377730439948\tNormMeanDsRed:0.484352570268\tRelFreq:1.28227042103\n",
      "frame:136\tNormMeanGFP:0.359426877216\tNormMeanDsRed:0.466753151939\tRelFreq:1.29860392065\n",
      "frame:137\tNormMeanGFP:0.380625933829\tNormMeanDsRed:0.483007531693\tRelFreq:1.26898219161\n",
      "frame:138\tNormMeanGFP:0.383726433525\tNormMeanDsRed:0.484692647762\tRelFreq:1.26312029982\n",
      "frame:139\tNormMeanGFP:0.401258430779\tNormMeanDsRed:0.485937290455\tRelFreq:1.21103322243\n",
      "frame:140\tNormMeanGFP:0.386331840074\tNormMeanDsRed:0.475608389909\tRelFreq:1.23108773488\n",
      "frame:141\tNormMeanGFP:0.388756941684\tNormMeanDsRed:0.472033675709\tRelFreq:1.21421285409\n",
      "frame:142\tNormMeanGFP:0.392735911887\tNormMeanDsRed:0.455484049483\tRelFreq:1.15977183572\n",
      "frame:143\tNormMeanGFP:0.395969666266\tNormMeanDsRed:0.463294694598\tRelFreq:1.17002572183\n",
      "frame:144\tNormMeanGFP:0.41312868829\tNormMeanDsRed:0.467011084557\tRelFreq:1.13042521082\n",
      "frame:145\tNormMeanGFP:0.398196832678\tNormMeanDsRed:0.463700486901\tRelFreq:1.16450069124\n",
      "frame:146\tNormMeanGFP:0.425421827323\tNormMeanDsRed:0.479232436733\tRelFreq:1.1264876552\n",
      "frame:147\tNormMeanGFP:0.398752984497\tNormMeanDsRed:0.467113797459\tRelFreq:1.17143649231\n",
      "frame:148\tNormMeanGFP:0.403166732281\tNormMeanDsRed:0.464695114044\tRelFreq:1.15261274514\n",
      "frame:149\tNormMeanGFP:0.406747957428\tNormMeanDsRed:0.481149304351\tRelFreq:1.18291756741\n",
      "frame:150\tNormMeanGFP:0.395285022065\tNormMeanDsRed:0.481386086564\tRelFreq:1.2178202049\n",
      "frame:151\tNormMeanGFP:0.382713701864\tNormMeanDsRed:0.467330235817\tRelFreq:1.22109617069\n",
      "frame:152\tNormMeanGFP:0.394143189098\tNormMeanDsRed:0.48439208261\tRelFreq:1.22897489037\n",
      "frame:153\tNormMeanGFP:0.398877682641\tNormMeanDsRed:0.499704567379\tRelFreq:1.25277645034\n",
      "frame:154\tNormMeanGFP:0.362851669565\tNormMeanDsRed:0.461831042051\tRelFreq:1.2727819128\n",
      "frame:155\tNormMeanGFP:0.305425730338\tNormMeanDsRed:0.426157478943\tRelFreq:1.39529003818\n",
      "frame:156\tNormMeanGFP:0.268277198117\tNormMeanDsRed:0.397185496545\tRelFreq:1.48050411788\n",
      "frame:157\tNormMeanGFP:0.268000730276\tNormMeanDsRed:0.393502031667\tRelFreq:1.46828716199\n",
      "frame:158\tNormMeanGFP:0.254054025637\tNormMeanDsRed:0.380725516803\tRelFreq:1.4986006061\n",
      "frame:159\tNormMeanGFP:0.26409968525\tNormMeanDsRed:0.402487801543\tRelFreq:1.52399955025\n",
      "frame:160\tNormMeanGFP:0.25013886657\tNormMeanDsRed:0.385421392605\tRelFreq:1.54082969148\n",
      "frame:161\tNormMeanGFP:0.247876549391\tNormMeanDsRed:0.383210873813\tRelFreq:1.54597469892\n",
      "frame:162\tNormMeanGFP:0.240694834761\tNormMeanDsRed:0.376708033195\tRelFreq:1.56508565532\n"
     ]
    }
   ],
   "source": [
    "freqs=[]\n",
    "x_devmeans=[]\n",
    "y_devmeans=[]\n",
    "   \n",
    "which_frames=frames    \n",
    "for t, frame in enumerate(which_frames):\n",
    "    filter_t=filterFrames(data_t, [t+1])\n",
    "    \n",
    "    this_GFP=data_GFP[filter_t]\n",
    "    this_DsRed=data_DsRed[filter_t]\n",
    "\n",
    "    this_xmean= np.mean(data_GFP[filter_t])/xmean\n",
    "    this_ymean= np.mean(data_DsRed[filter_t])/ymean\n",
    "\n",
    "    this_freq=(this_ymean)/(this_xmean)\n",
    "    \n",
    "    print(\"frame:%s\\tNormMeanGFP:%s\\tNormMeanDsRed:%s\\tRelFreq:%s\"%(t,this_xmean,this_ymean,this_freq))\n",
    "    \n",
    "    freqs.append(this_freq)\n",
    "    x_devmeans.append(this_xmean)\n",
    "    y_devmeans.append(this_ymean)\n",
    "    \n"
   ]
  },
  {
   "cell_type": "code",
   "execution_count": 9,
   "metadata": {
    "collapsed": false,
    "scrolled": false
   },
   "outputs": [
    {
     "data": {
      "text/plain": [
       "'\\nimport matplotlib.cm as cm\\ndrugFrame=91\\nfirstFrame=drugFrame-36;\\nlastFrame=drugFrame+36;\\nframe2min=180\\n\\ndef find_nearest(array,value):\\n    idx = (np.abs(array-value)).argmin()\\n    return idx\\n\\n\\ninterv=1\\n\\nfig, ax = plt.subplots(ncols=1, figsize=(6, 4.5))\\n\\nwhich_frames=[1,2,3,4,5,6,7,8,9];  #We should parse this from files\\n\\ndx=(which_frames[1]-which_frames[0])*frame2min\\n\\nx=[this_x-frame2min*interv/2 for this_x in times[:]]\\ny=[this_y-1 for this_y in freqs[:]]\\n\\n\\nNcolors=40\\ncmap = cm.get_cmap(\"RdYlGn_r\", Ncolors+1) #generate a jet map with 10 values \\ncmap_vals = cmap(np.arange(Ncolors+1))\\n\\nymin=-0.35\\nymax=0.35\\ndy=(ymax+np.abs(ymin))/Ncolors\\nls=np.arange(ymin,ymax+dy,dy)\\ncolors=[]\\nfor thisy in y:\\n    print(find_nearest(ls,thisy))\\n    thisColor=cmap_vals[find_nearest(ls,thisy),:]\\n    colors.append(thisColor)\\n\\nax.bar(x,y,0.9*interv*frame2min, color = colors)\\n\\n#ax.plot(times,freqs,color=\\'black\\', linewidth=2)\\n\\n\\n\\nax.plot([0,2000],[0,0], \\'k:\\')\\nax.set_axis_bgcolor(\\'white\\')\\nax.axis([200,1400, ymin,ymax])\\n\\n\\nix=range(0,(lastFrame-firstFrame+1)*frame2min,180)\\nlx= [int(index/60) for index in ix]\\n#ax.set_xticks(ix)\\n#ax.set_xticklabels(lx)\\n\\nax.set_xlabel(\\'Time (hours)\\',fontsize=14)\\nax.set_ylabel(\\'Deviation from relative \\n mean fluorescent intensity\\',fontsize=14)\\n    \\nfigName=\\'%suJ_figures/%s_time_v_intensity.pdf\\'%(dataPath, expeLabel)\\nprint(\"\\nSaving %s\"%figName)\\n#plt.savefig(figName)    \\nplt.show()\\n'"
      ]
     },
     "execution_count": 9,
     "metadata": {},
     "output_type": "execute_result"
    }
   ],
   "source": [
    "'''\n",
    "import matplotlib.cm as cm\n",
    "drugFrame=91\n",
    "firstFrame=drugFrame-36;\n",
    "lastFrame=drugFrame+36;\n",
    "frame2min=180\n",
    "\n",
    "def find_nearest(array,value):\n",
    "    idx = (np.abs(array-value)).argmin()\n",
    "    return idx\n",
    "\n",
    "\n",
    "interv=1\n",
    "\n",
    "fig, ax = plt.subplots(ncols=1, figsize=(6, 4.5))\n",
    "\n",
    "which_frames=[1,2,3,4,5,6,7,8,9];  #We should parse this from files\n",
    "\n",
    "dx=(which_frames[1]-which_frames[0])*frame2min\n",
    "\n",
    "x=[this_x-frame2min*interv/2 for this_x in times[:]]\n",
    "y=[this_y-1 for this_y in freqs[:]]\n",
    "\n",
    "\n",
    "Ncolors=40\n",
    "cmap = cm.get_cmap(\"RdYlGn_r\", Ncolors+1) #generate a jet map with 10 values \n",
    "cmap_vals = cmap(np.arange(Ncolors+1))\n",
    "\n",
    "ymin=-0.35\n",
    "ymax=0.35\n",
    "dy=(ymax+np.abs(ymin))/Ncolors\n",
    "ls=np.arange(ymin,ymax+dy,dy)\n",
    "colors=[]\n",
    "for thisy in y:\n",
    "    print(find_nearest(ls,thisy))\n",
    "    thisColor=cmap_vals[find_nearest(ls,thisy),:]\n",
    "    colors.append(thisColor)\n",
    "\n",
    "ax.bar(x,y,0.9*interv*frame2min, color = colors)\n",
    "\n",
    "#ax.plot(times,freqs,color='black', linewidth=2)\n",
    "\n",
    "\n",
    "\n",
    "ax.plot([0,2000],[0,0], 'k:')\n",
    "ax.set_axis_bgcolor('white')\n",
    "ax.axis([200,1400, ymin,ymax])\n",
    "\n",
    "\n",
    "ix=range(0,(lastFrame-firstFrame+1)*frame2min,180)\n",
    "lx= [int(index/60) for index in ix]\n",
    "#ax.set_xticks(ix)\n",
    "#ax.set_xticklabels(lx)\n",
    "\n",
    "ax.set_xlabel('Time (hours)',fontsize=14)\n",
    "ax.set_ylabel('Deviation from relative \\n mean fluorescent intensity',fontsize=14)\n",
    "    \n",
    "figName='%suJ_figures/%s_time_v_intensity.pdf'%(dataPath, expeLabel)\n",
    "print(\"\\nSaving %s\"%figName)\n",
    "#plt.savefig(figName)    \n",
    "plt.show()\n",
    "'''"
   ]
  },
  {
   "cell_type": "code",
   "execution_count": 9,
   "metadata": {
    "collapsed": false,
    "scrolled": false
   },
   "outputs": [
    {
     "name": "stdout",
     "output_type": "stream",
     "text": [
      "\n",
      "Saving /Volumes/uJ_disk/DATA/20170220_Charly_HT13-CAZ/uJ_figures/HT13-CAZ_time_v_intensity.pdf\n"
     ]
    },
    {
     "data": {
      "image/png": "[encoded data removed]",
      "text/plain": [
       "<matplotlib.figure.Figure at 0x151ca6828>"
      ]
     },
     "metadata": {},
     "output_type": "display_data"
    }
   ],
   "source": [
    "\n",
    "import matplotlib.cm as cm\n",
    "drugFrame=91-10\n",
    "firstFrame=drugFrame-36;\n",
    "lastFrame=drugFrame+36;\n",
    "#frame2min=180\n",
    "frame2min=10\n",
    "whichFrames=range(firstFrame,lastFrame+1)\n",
    "\n",
    "def find_nearest(array,value):\n",
    "    idx = (np.abs(array-value)).argmin()\n",
    "    return idx\n",
    "\n",
    "\n",
    "interv=1\n",
    "fig, ax = plt.subplots(ncols=1, figsize=(6, 4.5))\n",
    "#dx=(which_frames[1]-which_frames[0])*frame2min\n",
    "#ax.bar(times,freqs,0.9*dx, color='black')\n",
    "\n",
    "#ax.plot(times,freqs,color='black', linewidth=2)\n",
    "\n",
    "#ax.fill_between(times, freqs, 1,  where=np.ones(len(freqs)) >= freqs, facecolor='green', interpolate=True)\n",
    "#ax.fill_between(times, freqs, 1,  where=np.ones(len(freqs)) <= freqs, facecolor='red', interpolate=True)\n",
    "x=[((this_x*frame2min)-(firstFrame+1)*frame2min) for this_x in frames[firstFrame:lastFrame]]\n",
    "y=[this_y-1 for this_y in freqs[firstFrame:lastFrame]]\n",
    "\n",
    "\n",
    "Ncolors=40\n",
    "cmap = cm.get_cmap(\"RdYlGn_r\", Ncolors) #generate a jet map with 10 values \n",
    "cmap_vals = cmap(np.arange(Ncolors))\n",
    "\n",
    "ymin=-0.35\n",
    "ymax=0.35\n",
    "dy=(ymax+np.abs(ymin))/Ncolors\n",
    "ls=np.arange(ymin,ymax+dy,dy)\n",
    "colors=[]\n",
    "for thisy in y:\n",
    "    ival=find_nearest(ls,thisy)\n",
    "    thisColor=cmap_vals[ival,:]\n",
    "    colors.append(thisColor)\n",
    "    #colors.append('k')\n",
    "\n",
    "ax.bar(x,y,frame2min, color = colors, edgecolor = colors)\n",
    "ax.plot([xi+.5*frame2min for xi in x],y,'-k',linewidth=3)\n",
    "\n",
    "#ax.plot([frame2min*(drugFrame-firstFrame),frame2min*(drugFrame-firstFrame)],[0.,times[-1]],'k:',linewidth=1)\n",
    "\n",
    "ax.plot([-.5*np.max(x), 1.5*np.max(x)],[0,0], 'k-')\n",
    "ax.set_axis_bgcolor('white')\n",
    "ax.axis([np.min(x), 1.*np.max(x), ymin,ymax])\n",
    "\n",
    "\n",
    "ix=range(0,(lastFrame-firstFrame+1)*frame2min,180)\n",
    "lx= [int(index/60) for index in ix]\n",
    "ax.set_xticks(ix)\n",
    "ax.set_xticklabels(lx)\n",
    "\n",
    "ax.set_xlabel('Time (hours)',fontsize=14)\n",
    "ax.set_ylabel('Deviation from relative\\n mean fluorescent intensity',fontsize=14)\n",
    "    \n",
    "figName='%suJ_figures/%s_time_v_intensity.pdf'%(dataPath, expeLabel)\n",
    "print(\"\\nSaving %s\"%figName)\n",
    "plt.savefig(figName)    \n",
    "plt.show()\n"
   ]
  },
  {
   "cell_type": "markdown",
   "metadata": {},
   "source": [
    "## Plot 2D histogram of fluorescent intensities"
   ]
  },
  {
   "cell_type": "code",
   "execution_count": 11,
   "metadata": {
    "collapsed": false,
    "scrolled": false
   },
   "outputs": [
    {
     "data": {
      "text/plain": [
       "'   \\nfor t in frames:\\n    filter_t=filterFrames(data_t, [t])\\n    \\n    this_GFP=data_GFP[filter_t]\\n    this_DsRed=data_DsRed[filter_t]\\n\\n    x=[this_x for this_x in this_GFP]\\n    y=[this_y for this_y in this_DsRed]\\n\\n    xmin = 0\\n    ymin = 0\\n    xmax = 90\\n    ymax = 30\\n    \\n\\n    fig, ax = plt.subplots(ncols=1)\\n    xedges, yedges = np.linspace(xmin, xmax, 20), np.linspace(ymin, ymax, 20)\\n    hist, xedges, yedges = np.histogram2d(x, y, (xedges, yedges))\\n    xidx = np.clip(np.digitize(x, xedges), 0, hist.shape[0]-1)\\n    yidx = np.clip(np.digitize(y, yedges), 0, hist.shape[1]-1)\\n    c = hist[xidx, yidx]\\n    hb=plt.scatter(x, y, c=c,cmap=\\'inferno\\', lw = 0.5)\\n\\n    ax.set_axis_bgcolor(\\'black\\')\\n    ax.axis([xmin, xmax, ymin, ymax])\\n    ax.set_xlabel(\\'GFP intensity (a.u.)\\',fontsize=14)\\n    ax.set_ylabel(\\'DsRed intensity (a.u.)\\',fontsize=14)\\n    ax.set_title(\\'%s minutes\\'%((t-1)*frame2min))\\n                 \\n    cb = fig.colorbar(hb, ax=ax)\\n    cb.set_label(\\'Number of cells\\',fontsize=14)\\n    cb.set_ticks(np.linspace(hb.get_array().min(), hb.get_array().max(), 6))\\n    cb.set_ticklabels(np.linspace(0, 1., 6))\\n    cb.set_label(\\'Relative frequency\\',fontsize=14)\\n    \\n    figName=\\'%suJ_figures/%s_2Dhist_t%s.tif\\'%(dataPath, expeLabel,t)\\n    print(\"Saving %s\"%figName)\\n    plt.savefig(figName)\\n\\nplt.show()\\n'"
      ]
     },
     "execution_count": 11,
     "metadata": {},
     "output_type": "execute_result"
    }
   ],
   "source": [
    "'''   \n",
    "for t in frames:\n",
    "    filter_t=filterFrames(data_t, [t])\n",
    "    \n",
    "    this_GFP=data_GFP[filter_t]\n",
    "    this_DsRed=data_DsRed[filter_t]\n",
    "\n",
    "    x=[this_x for this_x in this_GFP]\n",
    "    y=[this_y for this_y in this_DsRed]\n",
    "\n",
    "    xmin = 0\n",
    "    ymin = 0\n",
    "    xmax = 90\n",
    "    ymax = 30\n",
    "    \n",
    "\n",
    "    fig, ax = plt.subplots(ncols=1)\n",
    "    xedges, yedges = np.linspace(xmin, xmax, 20), np.linspace(ymin, ymax, 20)\n",
    "    hist, xedges, yedges = np.histogram2d(x, y, (xedges, yedges))\n",
    "    xidx = np.clip(np.digitize(x, xedges), 0, hist.shape[0]-1)\n",
    "    yidx = np.clip(np.digitize(y, yedges), 0, hist.shape[1]-1)\n",
    "    c = hist[xidx, yidx]\n",
    "    hb=plt.scatter(x, y, c=c,cmap='inferno', lw = 0.5)\n",
    "\n",
    "    ax.set_axis_bgcolor('black')\n",
    "    ax.axis([xmin, xmax, ymin, ymax])\n",
    "    ax.set_xlabel('GFP intensity (a.u.)',fontsize=14)\n",
    "    ax.set_ylabel('DsRed intensity (a.u.)',fontsize=14)\n",
    "    ax.set_title('%s minutes'%((t-1)*frame2min))\n",
    "                 \n",
    "    cb = fig.colorbar(hb, ax=ax)\n",
    "    cb.set_label('Number of cells',fontsize=14)\n",
    "    cb.set_ticks(np.linspace(hb.get_array().min(), hb.get_array().max(), 6))\n",
    "    cb.set_ticklabels(np.linspace(0, 1., 6))\n",
    "    cb.set_label('Relative frequency',fontsize=14)\n",
    "    \n",
    "    figName='%suJ_figures/%s_2Dhist_t%s.tif'%(dataPath, expeLabel,t)\n",
    "    print(\"Saving %s\"%figName)\n",
    "    plt.savefig(figName)\n",
    "\n",
    "plt.show()\n",
    "'''"
   ]
  },
  {
   "cell_type": "markdown",
   "metadata": {},
   "source": [
    "## Plot relative fluorescence distribution"
   ]
  },
  {
   "cell_type": "code",
   "execution_count": 12,
   "metadata": {
    "collapsed": false,
    "scrolled": false
   },
   "outputs": [
    {
     "data": {
      "text/plain": [
       "\"\\nthis_frames=range(firstFrame,lastFrame)\\nbin_max = 7\\nbin_min=0\\nbin_size = .5;  \\nN = (bin_max-bin_min)/bin_size; Nplus1 = N + 1\\nbin_list = np.linspace(bin_min, bin_max, Nplus1)\\n\\nfor t in this_frames:\\n    filter_t=filterFrames(data_t, [t])\\n    \\n    this_GFP=data_GFP[filter_t]\\n    this_DsRed=data_DsRed[filter_t]\\n    \\n    #x=[this_x/xmean for this_x in this_GFP]\\n    #y=[this_y/ymean for this_y in this_DsRed]\\n    \\n    x=[this_x for this_x in this_GFP]\\n    y=[this_y for this_y in this_DsRed]\\n    \\n    relF=[r/g for g, r in zip(x, y)]\\n    \\n    weights = np.ones_like(relF)/len(relF)\\n    \\n    fig, ax = plt.subplots(ncols=1)\\n    n, bins, patches = plt.hist(relF, bins=bin_list,  facecolor='black', alpha=1, weights=weights) #normed=1\\n    ax.set_axis_bgcolor('white')\\n    ax.set_xlim([0,15])\\n    ax.set_ylim([0,0.6])\\n    ax.set_xlabel('Relative Fluorescence Intensity (DsRed/GFP)',fontsize=14)\\n    ax.set_ylabel('Frequency',fontsize=14)\\n    ax.set_title('%s minutes'%((t-1)*frame2min))\\n#plt.show()\\n\\n\""
      ]
     },
     "execution_count": 12,
     "metadata": {},
     "output_type": "execute_result"
    }
   ],
   "source": [
    "'''\n",
    "this_frames=range(firstFrame,lastFrame)\n",
    "bin_max = 7\n",
    "bin_min=0\n",
    "bin_size = .5;  \n",
    "N = (bin_max-bin_min)/bin_size; Nplus1 = N + 1\n",
    "bin_list = np.linspace(bin_min, bin_max, Nplus1)\n",
    "\n",
    "for t in this_frames:\n",
    "    filter_t=filterFrames(data_t, [t])\n",
    "    \n",
    "    this_GFP=data_GFP[filter_t]\n",
    "    this_DsRed=data_DsRed[filter_t]\n",
    "    \n",
    "    #x=[this_x/xmean for this_x in this_GFP]\n",
    "    #y=[this_y/ymean for this_y in this_DsRed]\n",
    "    \n",
    "    x=[this_x for this_x in this_GFP]\n",
    "    y=[this_y for this_y in this_DsRed]\n",
    "    \n",
    "    relF=[r/g for g, r in zip(x, y)]\n",
    "    \n",
    "    weights = np.ones_like(relF)/len(relF)\n",
    "    \n",
    "    fig, ax = plt.subplots(ncols=1)\n",
    "    n, bins, patches = plt.hist(relF, bins=bin_list,  facecolor='black', alpha=1, weights=weights) #normed=1\n",
    "    ax.set_axis_bgcolor('white')\n",
    "    ax.set_xlim([0,15])\n",
    "    ax.set_ylim([0,0.6])\n",
    "    ax.set_xlabel('Relative Fluorescence Intensity (DsRed/GFP)',fontsize=14)\n",
    "    ax.set_ylabel('Frequency',fontsize=14)\n",
    "    ax.set_title('%s minutes'%((t-1)*frame2min))\n",
    "#plt.show()\n",
    "\n",
    "'''"
   ]
  },
  {
   "cell_type": "code",
   "execution_count": 13,
   "metadata": {
    "collapsed": false
   },
   "outputs": [
    {
     "data": {
      "text/plain": [
       "'\\nsfa_meanDsRed=[33.06, 34.575, 34.763, 34.469, 33.686, 32.272, 30.907, 29.811];\\nsfa_meanGFP=[32.298, 34.082, 34.763, 31.286, 28.418, 25.092, 20.73, 10.704];\\n\\nsfa_relF=[r/g for r, g in zip(sfa_meanDsRed, sfa_meanGFP)]\\nprint(sfa_relF)\\n\\nprint(times)\\n'"
      ]
     },
     "execution_count": 13,
     "metadata": {},
     "output_type": "execute_result"
    }
   ],
   "source": [
    "#ToDo: read from file\n",
    "#std\n",
    "'''\n",
    "sfa_meanDsRed=[33.06, 34.575, 34.763, 34.469, 33.686, 32.272, 30.907, 29.811];\n",
    "sfa_meanGFP=[32.298, 34.082, 34.763, 31.286, 28.418, 25.092, 20.73, 10.704];\n",
    "\n",
    "sfa_relF=[r/g for r, g in zip(sfa_meanDsRed, sfa_meanGFP)]\n",
    "print(sfa_relF)\n",
    "\n",
    "print(times)\n",
    "'''"
   ]
  },
  {
   "cell_type": "code",
   "execution_count": 14,
   "metadata": {
    "collapsed": false,
    "scrolled": false
   },
   "outputs": [
    {
     "data": {
      "text/plain": [
       "'\\nfig, ax = plt.subplots(ncols=1, figsize=(6, 4.5))\\nax.bar(times,sfa_relF,0.9*frame2min, color=\\'black\\')\\nax.plot([np.min(times)-2*frame2min, np.max(times)+2*frame2min],[1,1], \\'k:\\')\\nax.set_axis_bgcolor(\\'white\\')\\nax.axis([np.min(times)-frame2min/2, np.max(times)+1.5*frame2min, 0.5, 1.1*np.max(sfa_relF)])\\nax.set_xticks([this_time+.5*frame2min for this_time in times])\\nax.set_xticklabels(times)\\nax.set_xlabel(\\'Time (minutes)\\',fontsize=14)\\nax.set_ylabel(\\'Relative Fluorescent Intensity\\n (DsRed/GFP)\\',fontsize=14)\\n    \\nfigName=\\'%suJ_figures/%s_time_v_intensity_SFA.pdf\\'%(dataPath, expeLabel)\\nprint(\"\\nSaving %s\"%figName)\\nplt.savefig(figName)    \\nplt.show()\\n'"
      ]
     },
     "execution_count": 14,
     "metadata": {},
     "output_type": "execute_result"
    }
   ],
   "source": [
    "'''\n",
    "fig, ax = plt.subplots(ncols=1, figsize=(6, 4.5))\n",
    "ax.bar(times,sfa_relF,0.9*frame2min, color='black')\n",
    "ax.plot([np.min(times)-2*frame2min, np.max(times)+2*frame2min],[1,1], 'k:')\n",
    "ax.set_axis_bgcolor('white')\n",
    "ax.axis([np.min(times)-frame2min/2, np.max(times)+1.5*frame2min, 0.5, 1.1*np.max(sfa_relF)])\n",
    "ax.set_xticks([this_time+.5*frame2min for this_time in times])\n",
    "ax.set_xticklabels(times)\n",
    "ax.set_xlabel('Time (minutes)',fontsize=14)\n",
    "ax.set_ylabel('Relative Fluorescent Intensity\\n (DsRed/GFP)',fontsize=14)\n",
    "    \n",
    "figName='%suJ_figures/%s_time_v_intensity_SFA.pdf'%(dataPath, expeLabel)\n",
    "print(\"\\nSaving %s\"%figName)\n",
    "plt.savefig(figName)    \n",
    "plt.show()\n",
    "'''"
   ]
  },
  {
   "cell_type": "markdown",
   "metadata": {
    "collapsed": true
   },
   "source": []
  },
  {
   "cell_type": "code",
   "execution_count": null,
   "metadata": {
    "collapsed": true
   },
   "outputs": [],
   "source": []
  }
 ],
 "metadata": {
  "anaconda-cloud": {},
  "kernelspec": {
   "display_name": "Python [default]",
   "language": "python",
   "name": "python3"
  },
  "language_info": {
   "codemirror_mode": {
    "name": "ipython",
    "version": 3
   },
   "file_extension": ".py",
   "mimetype": "text/x-python",
   "name": "python",
   "nbconvert_exporter": "python",
   "pygments_lexer": "ipython3",
   "version": "3.5.2"
  }
 },
 "nbformat": 4,
 "nbformat_minor": 1
}
