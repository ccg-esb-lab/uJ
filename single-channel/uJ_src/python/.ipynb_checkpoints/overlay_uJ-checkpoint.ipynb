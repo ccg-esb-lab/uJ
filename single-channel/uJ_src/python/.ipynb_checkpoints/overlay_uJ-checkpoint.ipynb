{
 "cells": [
  {
   "cell_type": "code",
   "execution_count": 9,
   "metadata": {
    "collapsed": true
   },
   "outputs": [],
   "source": [
    "import numpy as np\n",
    "import matplotlib.pyplot as plt\n",
    "from pathlib import Path\n",
    "import os\n",
    "import sys\n",
    "import pathlib"
   ]
  },
  {
   "cell_type": "code",
   "execution_count": null,
   "metadata": {
    "collapsed": true
   },
   "outputs": [],
   "source": []
  },
  {
   "cell_type": "code",
   "execution_count": 14,
   "metadata": {
    "collapsed": true
   },
   "outputs": [],
   "source": [
    "expeLabel=\"HT13-CAZ\"\n",
    "dataPath=\"/Users/ESB/SYNC/_CurrentWork/uJ/uJ_data/HT13-CAZ/data/DsRed+GFP/\"\n",
    "relIntensityPath=\"/Users/ESB/SYNC/_CurrentWork/uJ/uJ_data/HT13-CAZ/data/RelativeIntensity/\"\n",
    "\n",
    "meanGFP=34.809043386 #Population-level mean fluorescent intensity (without antibiotic)\n",
    "meanDsRed=6.7755433956\n"
   ]
  },
  {
   "cell_type": "code",
   "execution_count": 15,
   "metadata": {
    "collapsed": false
   },
   "outputs": [],
   "source": [
    "\n",
    "def fromFileData(fileName):\n",
    "    #d = np.loadtxt(fileName, delimiter=\"\\t\")\n",
    "    \n",
    "    f = open(fileName,'r')\n",
    "\n",
    "    data = []\n",
    "    numCells=0\n",
    "    for line in f.readlines():\n",
    "        if numCells>0:\n",
    "            data.append(line.replace('\\n','').split('\\t'))\n",
    "        numCells=numCells+1\n",
    "    f.close()\n",
    "\n",
    "    return data\n",
    "\n",
    "def toFileData(fileName, row_data):\n",
    "    f = open(fileName, 'w')\n",
    "    f.write(\"id\\timageGFP\\timageDsRed\\tpos\\tframe\\troi_label\\tGFP\\tDsRed\\tRelativeIntensity\")\n",
    "    for row in rows:\n",
    "        str_row=\"\\t\".join(map(str,row))\n",
    "        f.write(\"\\n%s\"%str_row)\n",
    "    f.close()"
   ]
  },
  {
   "cell_type": "code",
   "execution_count": 16,
   "metadata": {
    "collapsed": false
   },
   "outputs": [
    {
     "name": "stdout",
     "output_type": "stream",
     "text": [
      "\n",
      "Loading data from: /Users/ESB/SYNC/_CurrentWork/uJ/uJ_data/HT13-CAZ/data/DsRed+GFP/xy07/HT13-CAZ_xy07_037.txt\n",
      "Saving data to: /Users/ESB/SYNC/_CurrentWork/uJ/uJ_data/HT13-CAZ/data/RelativeIntensity/xy07/HT13-CAZ_xy07_037.txt\n",
      "\n",
      "Loading data from: /Users/ESB/SYNC/_CurrentWork/uJ/uJ_data/HT13-CAZ/data/DsRed+GFP/xy07/HT13-CAZ_xy07_049.txt\n",
      "Saving data to: /Users/ESB/SYNC/_CurrentWork/uJ/uJ_data/HT13-CAZ/data/RelativeIntensity/xy07/HT13-CAZ_xy07_049.txt\n",
      "\n",
      "Loading data from: /Users/ESB/SYNC/_CurrentWork/uJ/uJ_data/HT13-CAZ/data/DsRed+GFP/xy07/HT13-CAZ_xy07_055.txt\n",
      "Saving data to: /Users/ESB/SYNC/_CurrentWork/uJ/uJ_data/HT13-CAZ/data/RelativeIntensity/xy07/HT13-CAZ_xy07_055.txt\n",
      "\n",
      "Loading data from: /Users/ESB/SYNC/_CurrentWork/uJ/uJ_data/HT13-CAZ/data/DsRed+GFP/xy07/HT13-CAZ_xy07_073.txt\n",
      "Saving data to: /Users/ESB/SYNC/_CurrentWork/uJ/uJ_data/HT13-CAZ/data/RelativeIntensity/xy07/HT13-CAZ_xy07_073.txt\n",
      "\n",
      "Loading data from: /Users/ESB/SYNC/_CurrentWork/uJ/uJ_data/HT13-CAZ/data/DsRed+GFP/xy07/HT13-CAZ_xy07_091.txt\n",
      "Saving data to: /Users/ESB/SYNC/_CurrentWork/uJ/uJ_data/HT13-CAZ/data/RelativeIntensity/xy07/HT13-CAZ_xy07_091.txt\n",
      "\n",
      "Loading data from: /Users/ESB/SYNC/_CurrentWork/uJ/uJ_data/HT13-CAZ/data/DsRed+GFP/xy07/HT13-CAZ_xy07_109.txt\n",
      "Saving data to: /Users/ESB/SYNC/_CurrentWork/uJ/uJ_data/HT13-CAZ/data/RelativeIntensity/xy07/HT13-CAZ_xy07_109.txt\n",
      "\n",
      "Loading data from: /Users/ESB/SYNC/_CurrentWork/uJ/uJ_data/HT13-CAZ/data/DsRed+GFP/xy07/HT13-CAZ_xy07_127.txt\n",
      "Saving data to: /Users/ESB/SYNC/_CurrentWork/uJ/uJ_data/HT13-CAZ/data/RelativeIntensity/xy07/HT13-CAZ_xy07_127.txt\n",
      "\n",
      "Loading data from: /Users/ESB/SYNC/_CurrentWork/uJ/uJ_data/HT13-CAZ/data/DsRed+GFP/xy07/HT13-CAZ_xy07_145.txt\n",
      "Saving data to: /Users/ESB/SYNC/_CurrentWork/uJ/uJ_data/HT13-CAZ/data/RelativeIntensity/xy07/HT13-CAZ_xy07_145.txt\n",
      "\n",
      "Loading data from: /Users/ESB/SYNC/_CurrentWork/uJ/uJ_data/HT13-CAZ/data/DsRed+GFP/xy07/HT13-CAZ_xy07_163.txt\n",
      "Saving data to: /Users/ESB/SYNC/_CurrentWork/uJ/uJ_data/HT13-CAZ/data/RelativeIntensity/xy07/HT13-CAZ_xy07_163.txt\n"
     ]
    }
   ],
   "source": [
    "\n",
    "for root, dirs, files in os.walk(dataPath):\n",
    "    path = root.split(os.sep)\n",
    "    for file in files:\n",
    "        \n",
    "        extension=\"\"\n",
    "        filename=\"\"\n",
    "        if len(os.path.splitext(file))>0:\n",
    "            extension=pathlib.Path(file).suffix\n",
    "        filePath = os.path.join(root,file)\n",
    "        \n",
    "        if extension == \".txt\":\n",
    "            \n",
    "            #Load data from file\n",
    "            print(\"\\nLoading data from: \" + filePath)\n",
    "            data=fromFileData(filePath)\n",
    "            this_i=[roi[0] for roi in data]\n",
    "            this_index=[roi[1] for roi in data]\n",
    "            this_imageGFP=[roi[2] for roi in data]\n",
    "            this_imageDsRed=[roi[3] for roi in data]\n",
    "            this_pos=[roi[4] for roi in data]\n",
    "            this_t=[float(roi[5]) for roi in data]\n",
    "            this_roi_label=[roi[6] for roi in data]\n",
    "            this_GFP=[float(roi[7]) for roi in data]\n",
    "            this_DsRed=[float(roi[8]) for roi in data]\n",
    "            \n",
    "            this_relIntensity=[(gfp/meanGFP)/(dsred/meanDsRed) for gfp, dsred in zip(this_GFP, this_DsRed)]  #TMP - Should be normalized\n",
    "    \n",
    "            #Save to file\n",
    "            rows=zip(this_index, this_imageGFP, this_imageDsRed, this_pos, this_t, this_roi_label, this_GFP, this_DsRed, this_relIntensity)\n",
    "            outPath=os.path.join(relIntensityPath,path[-1],file)\n",
    "            toFileData(outPath, rows)\n",
    "            print(\"Saving data to: \" + outPath)\n",
    "            \n",
    "            \n"
   ]
  },
  {
   "cell_type": "code",
   "execution_count": null,
   "metadata": {
    "collapsed": true
   },
   "outputs": [],
   "source": []
  }
 ],
 "metadata": {
  "anaconda-cloud": {},
  "kernelspec": {
   "display_name": "Python [default]",
   "language": "python",
   "name": "python3"
  },
  "language_info": {
   "codemirror_mode": {
    "name": "ipython",
    "version": 3
   },
   "file_extension": ".py",
   "mimetype": "text/x-python",
   "name": "python",
   "nbconvert_exporter": "python",
   "pygments_lexer": "ipython3",
   "version": "3.5.2"
  }
 },
 "nbformat": 4,
 "nbformat_minor": 1
}
