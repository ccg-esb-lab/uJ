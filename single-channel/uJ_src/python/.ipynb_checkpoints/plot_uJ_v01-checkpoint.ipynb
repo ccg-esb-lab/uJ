{
 "cells": [
  {
   "cell_type": "code",
   "execution_count": 7,
   "metadata": {
    "collapsed": true
   },
   "outputs": [],
   "source": [
    "import numpy as np\n",
    "import matplotlib.pyplot as plt\n",
    "import matplotlib.cm as cm\n",
    "from pathlib import Path\n",
    "import pandas as pd\n",
    "from itertools import cycle, islice\n",
    "import pandas, numpy as np  # I find np.random.randint to be better"
   ]
  },
  {
   "cell_type": "markdown",
   "metadata": {},
   "source": [
    "## User-defined parameters"
   ]
  },
  {
   "cell_type": "code",
   "execution_count": 12,
   "metadata": {
    "collapsed": false
   },
   "outputs": [
    {
     "name": "stdout",
     "output_type": "stream",
     "text": [
      "Frames: range(55, 128) \n",
      "Times:  [0, 10, 20, 30, 40, 50, 60, 70, 80, 90, 100, 110, 120, 130, 140, 150, 160, 170, 180, 190, 200, 210, 220, 230, 240, 250, 260, 270, 280, 290, 300, 310, 320, 330, 340, 350, 360, 370, 380, 390, 400, 410, 420, 430, 440, 450, 460, 470, 480, 490, 500, 510, 520, 530, 540, 550, 560, 570, 580, 590, 600, 610, 620, 630, 640, 650, 660, 670, 680, 690, 700, 710, 720]\n"
     ]
    }
   ],
   "source": [
    "expeLabel=\"HT13-AMP\"\n",
    "#dataPath=\"/Volumes/uJ_disk/DATA/20170227_Charly_HT13-AMP/\"\n",
    "dataPath=\"/Users/ESB/SYNC/_CurrentWork/uJ/uJ_data/DATA_sample/\"\n",
    "\n",
    "drugFrame=91\n",
    "firstFrame=drugFrame-36;\n",
    "lastFrame=drugFrame+36;\n",
    "\n",
    "frames=range(firstFrame,lastFrame+1)\n",
    "frame2min=10\n",
    "\n",
    "\n",
    "#which_frames=[37,55,73,91,109,127];  #We should parse this from files\n",
    "#times=[float(frame) for roi in data]\n",
    "\n",
    "times=[(this_frame-firstFrame)*frame2min for this_frame in frames]\n",
    "\n",
    "numPos=43\n",
    "\n",
    "str_pos=[]\n",
    "for p in range(1,numPos+1):\n",
    "    if p<10:\n",
    "        str_pos.append(\"0%s\"%p)\n",
    "    else:\n",
    "        str_pos.append(\"%s\"%p)\n",
    "    \n",
    "print(\"Frames: %s \"%frames)\n",
    "print(\"Times:  %s\"%times)"
   ]
  },
  {
   "cell_type": "markdown",
   "metadata": {},
   "source": [
    "## I/O Functions"
   ]
  },
  {
   "cell_type": "code",
   "execution_count": 13,
   "metadata": {
    "collapsed": false
   },
   "outputs": [],
   "source": [
    "\n",
    "def fromFileDist(fileName):\n",
    "    #print(fileName)\n",
    "    #d = np.loadtxt(fileName, delimiter=\"\\t\")\n",
    "    \n",
    "    f = open(fileName,'r')\n",
    "\n",
    "    data = []\n",
    "    numCells=0\n",
    "    for line in f.readlines():\n",
    "        if numCells>0:\n",
    "            data.append(line.replace('\\n','').split('\\t'))\n",
    "        numCells=numCells+1\n",
    "    f.close()\n",
    "\n",
    "    return data\n"
   ]
  },
  {
   "cell_type": "code",
   "execution_count": 14,
   "metadata": {
    "collapsed": true
   },
   "outputs": [],
   "source": [
    "\n",
    "#Returns a list with index of data_t in array(t)\n",
    "def filterFrames(data_t, t):\n",
    "    i=0\n",
    "    ret=[]\n",
    "    for this_data in data_t:\n",
    "        if this_data in t:\n",
    "            ret.append(i)\n",
    "        i=i+1\n",
    "    return ret\n",
    "\n",
    "\n",
    "        "
   ]
  },
  {
   "cell_type": "markdown",
   "metadata": {},
   "source": [
    "## Load Data"
   ]
  },
  {
   "cell_type": "code",
   "execution_count": 15,
   "metadata": {
    "collapsed": false,
    "scrolled": false
   },
   "outputs": [],
   "source": [
    "data_pos=[]\n",
    "data_t=[]\n",
    "data_GFP=[]\n",
    "data_DsRed=[]\n",
    "for t in frames:\n",
    "    for pos in str_pos:\n",
    "\n",
    "        fileName='%suJ_data/%s_data_xy%s_t%s.txt'%(dataPath,expeLabel,pos,t)\n",
    "        \n",
    "        if Path(fileName).is_file():\n",
    "            data=fromFileDist(fileName)\n",
    "\n",
    "            this_pos=[roi[6] for roi in data]\n",
    "            this_t=[float(roi[7]) for roi in data]\n",
    "            this_GFP=[float(roi[10]) for roi in data]\n",
    "            this_DsRed=[float(roi[11]) for roi in data]\n",
    "    \n",
    "        data_pos.extend(this_pos)\n",
    "        data_t.extend(this_t)\n",
    "        data_GFP.extend(this_GFP)\n",
    "        data_DsRed.extend(this_DsRed)\n",
    "data_t=np.asarray(data_t)\n",
    "data_GFP=np.asarray(data_GFP)\n",
    "data_DsRed=np.asarray(data_DsRed)"
   ]
  },
  {
   "cell_type": "markdown",
   "metadata": {},
   "source": [
    "## Determine population-level mean fluorescence (before the antibiotic is introduced)"
   ]
  },
  {
   "cell_type": "code",
   "execution_count": 16,
   "metadata": {
    "collapsed": false
   },
   "outputs": [
    {
     "name": "stdout",
     "output_type": "stream",
     "text": [
      "meanGFP:26.2892596068\tmeanDsRed:12.5879880366\n",
      "maxGFP:255.0\tmaxDsRed:222.381\n"
     ]
    }
   ],
   "source": [
    "\n",
    "xmean=0.\n",
    "ymean=0.\n",
    "\n",
    "#filter_t=filterFrames(data_t, [37, 55, 73, 91])\n",
    "filter_t=filterFrames(data_t, range(firstFrame,drugFrame))\n",
    "xmean= np.mean(data_GFP[filter_t])\n",
    "ymean= np.mean(data_DsRed[filter_t])\n",
    "print(\"meanGFP:%s\\tmeanDsRed:%s\"%(xmean,ymean))\n",
    "\n",
    "\n",
    "\n",
    "xmax= np.max(data_GFP[filter_t])\n",
    "ymax= np.max(data_DsRed[filter_t])\n",
    "print(\"maxGFP:%s\\tmaxDsRed:%s\"%(xmax,ymax))\n",
    "\n"
   ]
  },
  {
   "cell_type": "markdown",
   "metadata": {},
   "source": [
    "## Determine relative fluorescent frequencies"
   ]
  },
  {
   "cell_type": "code",
   "execution_count": 17,
   "metadata": {
    "collapsed": false,
    "scrolled": false
   },
   "outputs": [
    {
     "name": "stdout",
     "output_type": "stream",
     "text": [
      "frame:55\tNormMeanGFP:1.03192986315\tNormMeanDsRed:1.05875021158\tRelFreq:1.02599047608\n",
      "frame:56\tNormMeanGFP:1.18548318004\tNormMeanDsRed:1.14571696324\tRelFreq:0.966455688728\n",
      "frame:57\tNormMeanGFP:1.10391340707\tNormMeanDsRed:1.06682992069\tRelFreq:0.96640725065\n",
      "frame:58\tNormMeanGFP:1.04419072234\tNormMeanDsRed:1.06467892745\tRelFreq:1.01962113307\n",
      "frame:59\tNormMeanGFP:1.02847674187\tNormMeanDsRed:1.04558441849\tRelFreq:1.01663399465\n",
      "frame:60\tNormMeanGFP:1.04742388377\tNormMeanDsRed:1.08736154917\tRelFreq:1.03812942021\n",
      "frame:61\tNormMeanGFP:1.00449875848\tNormMeanDsRed:1.06484413061\tRelFreq:1.06007510873\n",
      "frame:62\tNormMeanGFP:0.997495092844\tNormMeanDsRed:1.08296045418\tRelFreq:1.08567998174\n",
      "frame:63\tNormMeanGFP:1.06017617733\tNormMeanDsRed:1.10886952394\tRelFreq:1.04592948573\n",
      "frame:64\tNormMeanGFP:1.01621913836\tNormMeanDsRed:1.03089282017\tRelFreq:1.01443948579\n",
      "frame:65\tNormMeanGFP:0.980190018343\tNormMeanDsRed:1.01327367885\tRelFreq:1.0337522928\n",
      "frame:66\tNormMeanGFP:0.921802735342\tNormMeanDsRed:0.968385612035\tRelFreq:1.05053453945\n",
      "frame:67\tNormMeanGFP:0.969752060506\tNormMeanDsRed:0.977194663904\tRelFreq:1.00767474873\n",
      "frame:68\tNormMeanGFP:0.986981520817\tNormMeanDsRed:1.0133709514\tRelFreq:1.02673751233\n",
      "frame:69\tNormMeanGFP:0.940665063158\tNormMeanDsRed:0.957391974693\tRelFreq:1.01778200572\n",
      "frame:70\tNormMeanGFP:0.902052074893\tNormMeanDsRed:0.926983058397\tRelFreq:1.02763807567\n",
      "frame:71\tNormMeanGFP:0.872558905634\tNormMeanDsRed:0.901312557372\tRelFreq:1.03295324998\n",
      "frame:72\tNormMeanGFP:0.876824448529\tNormMeanDsRed:0.902578703937\tRelFreq:1.02937219127\n",
      "frame:73\tNormMeanGFP:0.873074640916\tNormMeanDsRed:0.893920312329\tRelFreq:1.02387616183\n",
      "frame:74\tNormMeanGFP:0.94558874644\tNormMeanDsRed:0.953253003585\tRelFreq:1.00810527534\n",
      "frame:75\tNormMeanGFP:0.870640540221\tNormMeanDsRed:0.910975114478\tRelFreq:1.04632747086\n",
      "frame:76\tNormMeanGFP:0.952061453327\tNormMeanDsRed:0.952849885231\tRelFreq:1.00082813132\n",
      "frame:77\tNormMeanGFP:0.897525277342\tNormMeanDsRed:0.938312046357\tRelFreq:1.0454435881\n",
      "frame:78\tNormMeanGFP:0.908591230631\tNormMeanDsRed:0.930568019123\tRelFreq:1.02418776206\n",
      "frame:79\tNormMeanGFP:0.926726760327\tNormMeanDsRed:0.941052462489\tRelFreq:1.01545838836\n",
      "frame:80\tNormMeanGFP:0.958299429926\tNormMeanDsRed:0.949546516277\tRelFreq:0.990866201757\n",
      "frame:81\tNormMeanGFP:0.98392784364\tNormMeanDsRed:0.947655271379\tRelFreq:0.963134926513\n",
      "frame:82\tNormMeanGFP:1.05555827335\tNormMeanDsRed:0.980590899852\tRelFreq:0.928978460602\n",
      "frame:83\tNormMeanGFP:1.0151271134\tNormMeanDsRed:0.966896622253\tRelFreq:0.952488224861\n",
      "frame:84\tNormMeanGFP:1.03996773348\tNormMeanDsRed:0.996041008759\tRelFreq:0.957761454218\n",
      "frame:85\tNormMeanGFP:1.09451458765\tNormMeanDsRed:1.03633798384\tRelFreq:0.946847118836\n",
      "frame:86\tNormMeanGFP:1.01712068016\tNormMeanDsRed:0.989661091642\tRelFreq:0.973002624906\n",
      "frame:87\tNormMeanGFP:1.07849134202\tNormMeanDsRed:1.03062086139\tRelFreq:0.955613477119\n",
      "frame:88\tNormMeanGFP:1.08913386135\tNormMeanDsRed:1.0458559871\tRelFreq:0.960263953048\n",
      "frame:89\tNormMeanGFP:1.18281574725\tNormMeanDsRed:1.08439210398\tRelFreq:0.916788693846\n",
      "frame:90\tNormMeanGFP:1.18899568432\tNormMeanDsRed:1.04923399696\tRelFreq:0.88245399945\n",
      "frame:91\tNormMeanGFP:1.23497698131\tNormMeanDsRed:1.11008978047\tRelFreq:0.898874875625\n",
      "frame:92\tNormMeanGFP:1.25518363931\tNormMeanDsRed:1.12161417117\tRelFreq:0.8935857161\n",
      "frame:93\tNormMeanGFP:1.33535587868\tNormMeanDsRed:1.16193889444\tRelFreq:0.870134256335\n",
      "frame:94\tNormMeanGFP:1.22067521229\tNormMeanDsRed:1.05852421881\tRelFreq:0.867162868681\n",
      "frame:95\tNormMeanGFP:1.12927931295\tNormMeanDsRed:0.992405765877\tRelFreq:0.878795665955\n",
      "frame:96\tNormMeanGFP:1.22630572794\tNormMeanDsRed:1.06187517289\tRelFreq:0.865913897891\n",
      "frame:97\tNormMeanGFP:1.16175952342\tNormMeanDsRed:1.04122519938\tRelFreq:0.896248473449\n",
      "frame:98\tNormMeanGFP:1.19395859722\tNormMeanDsRed:1.07673366375\tRelFreq:0.901818259241\n",
      "frame:99\tNormMeanGFP:1.18832333673\tNormMeanDsRed:1.0748459972\tRelFreq:0.904506344341\n",
      "frame:100\tNormMeanGFP:1.20249250961\tNormMeanDsRed:1.05453020092\tRelFreq:0.876953654592\n",
      "frame:101\tNormMeanGFP:1.08694511056\tNormMeanDsRed:0.970138899002\tRelFreq:0.892537157192\n",
      "frame:102\tNormMeanGFP:1.16357542401\tNormMeanDsRed:0.999892643916\tRelFreq:0.859327743855\n",
      "frame:103\tNormMeanGFP:1.0292807902\tNormMeanDsRed:0.925444467364\tRelFreq:0.899117593735\n",
      "frame:104\tNormMeanGFP:1.03596341536\tNormMeanDsRed:0.929381337908\tRelFreq:0.897117913748\n",
      "frame:105\tNormMeanGFP:1.31678581336\tNormMeanDsRed:1.09086345416\tRelFreq:0.828428923741\n",
      "frame:106\tNormMeanGFP:1.05476253928\tNormMeanDsRed:0.922413827813\tRelFreq:0.874522741815\n",
      "frame:107\tNormMeanGFP:0.97038487173\tNormMeanDsRed:0.87016176203\tRelFreq:0.896718186134\n",
      "frame:108\tNormMeanGFP:0.965740602524\tNormMeanDsRed:0.852016620548\tRelFreq:0.88224168925\n",
      "frame:109\tNormMeanGFP:1.02125298428\tNormMeanDsRed:0.88837276252\tRelFreq:0.86988510799\n",
      "frame:110\tNormMeanGFP:0.957005315436\tNormMeanDsRed:0.858465775043\tRelFreq:0.897033445056\n",
      "frame:111\tNormMeanGFP:0.969265794484\tNormMeanDsRed:0.842461206746\tRelFreq:0.869174597453\n",
      "frame:112\tNormMeanGFP:0.948147595643\tNormMeanDsRed:0.825553953082\tRelFreq:0.870701942267\n",
      "frame:113\tNormMeanGFP:0.850187178443\tNormMeanDsRed:0.779343374067\tRelFreq:0.916672697293\n",
      "frame:114\tNormMeanGFP:0.896692294276\tNormMeanDsRed:0.809881102375\tRelFreq:0.903187311349\n",
      "frame:115\tNormMeanGFP:0.815355457584\tNormMeanDsRed:0.7587776695\tRelFreq:0.930609665322\n",
      "frame:116\tNormMeanGFP:0.798975355244\tNormMeanDsRed:0.750675004357\tRelFreq:0.939547133\n",
      "frame:117\tNormMeanGFP:0.809856100823\tNormMeanDsRed:0.75619344883\tRelFreq:0.933738040698\n",
      "frame:118\tNormMeanGFP:0.829559585258\tNormMeanDsRed:0.773720858635\tRelFreq:0.932688709027\n",
      "frame:119\tNormMeanGFP:0.844735919262\tNormMeanDsRed:0.789880181184\tRelFreq:0.935061672143\n",
      "frame:120\tNormMeanGFP:0.939381526458\tNormMeanDsRed:0.837650814834\tRelFreq:0.891704585667\n",
      "frame:121\tNormMeanGFP:0.979192238078\tNormMeanDsRed:0.869421592161\tRelFreq:0.887896736056\n",
      "frame:122\tNormMeanGFP:1.00591394919\tNormMeanDsRed:0.901853780497\tRelFreq:0.896551619772\n",
      "frame:123\tNormMeanGFP:0.995693956965\tNormMeanDsRed:0.901296955533\tRelFreq:0.905194763138\n",
      "frame:124\tNormMeanGFP:1.11482593757\tNormMeanDsRed:0.97106220047\tRelFreq:0.871043781584\n",
      "frame:125\tNormMeanGFP:1.06485890468\tNormMeanDsRed:0.906920916237\tRelFreq:0.851681769531\n",
      "frame:126\tNormMeanGFP:1.10002827933\tNormMeanDsRed:0.915973997408\tRelFreq:0.83268222701\n",
      "frame:127\tNormMeanGFP:1.08781630341\tNormMeanDsRed:0.938621497049\tRelFreq:0.862849264258\n"
     ]
    }
   ],
   "source": [
    "\n",
    "freqs=[]\n",
    "x_devmeans=[]\n",
    "y_devmeans=[]\n",
    "   \n",
    "for t in frames:\n",
    "    filter_t=filterFrames(data_t, [t])\n",
    "    \n",
    "    this_GFP=data_GFP[filter_t]\n",
    "    this_DsRed=data_DsRed[filter_t]\n",
    "\n",
    "    this_xmean= np.mean(data_GFP[filter_t])/xmean\n",
    "    this_ymean= np.mean(data_DsRed[filter_t])/ymean\n",
    "    this_freq=(this_ymean)/(this_xmean)\n",
    "    print(\"frame:%s\\tNormMeanGFP:%s\\tNormMeanDsRed:%s\\tRelFreq:%s\"%(t,this_xmean,this_ymean,this_freq))\n",
    "    \n",
    "    #this_freq=[r/g for g, r in zip(this_GFP, this_DsRed)]\n",
    "    #this_mean_freq=np.mean(this_freq)\n",
    "    #this_std_freq=np.std(this_freq)\n",
    "    #print(\"frame:%s\\tMean RelFreq:%s (%s)\"%(t,this_mean_freq, this_std_freq))\n",
    "    \n",
    "    \n",
    "    freqs.append(this_freq)\n",
    "          \n",
    "    x_devmeans.append(this_xmean)\n",
    "    y_devmeans.append(this_ymean)\n",
    "\n"
   ]
  },
  {
   "cell_type": "markdown",
   "metadata": {},
   "source": [
    "## Plot deviation from mean relative intensity (bar)"
   ]
  },
  {
   "cell_type": "code",
   "execution_count": 23,
   "metadata": {
    "collapsed": false
   },
   "outputs": [
    {
     "name": "stdout",
     "output_type": "stream",
     "text": [
      "\n",
      "Saving /Users/ESB/SYNC/_CurrentWork/uJ/uJ_data/DATA_sample/uJ_figures/HT13-AMP_time_v_intensity.pdf\n"
     ]
    },
    {
     "data": {
      "image/png": "[encoded data removed]",
      "text/plain": [
       "<matplotlib.figure.Figure at 0x1224166d8>"
      ]
     },
     "metadata": {},
     "output_type": "display_data"
    }
   ],
   "source": [
    "def find_nearest(array,value):\n",
    "    idx = (np.abs(array-value)).argmin()\n",
    "    return idx\n",
    "\n",
    "\n",
    "interv=9\n",
    "\n",
    "fig, ax = plt.subplots(ncols=1, figsize=(6, 4.5))\n",
    "\n",
    "which_frames=[37,55,73,91,109,127];  #We should parse this from files\n",
    "\n",
    "dx=(which_frames[1]-which_frames[0])*frame2min\n",
    "\n",
    "x=[this_x-frame2min*interv/2 for this_x in times[::interv]]\n",
    "y=[this_y-1 for this_y in freqs[::interv]]\n",
    "\n",
    "Ncolors=40\n",
    "cmap = cm.get_cmap(\"RdYlGn_r\", Ncolors) #generate a jet map with 10 values \n",
    "cmap_vals = cmap(np.arange(Ncolors))\n",
    "\n",
    "ymin=-0.2\n",
    "ymax=0.2\n",
    "dy=(ymax+np.abs(ymin))/Ncolors\n",
    "ls=np.arange(ymin,ymax+dy,dy)\n",
    "colors=[]\n",
    "for thisy in y:\n",
    "    thisColor=cmap_vals[find_nearest(ls,thisy),:]\n",
    "    colors.append(thisColor)\n",
    "\n",
    "ax.bar(x,y,0.9*interv*frame2min, color = colors)\n",
    "\n",
    "#ax.plot(times,freqs,color='black', linewidth=2)\n",
    "\n",
    "\n",
    "ax.plot([frame2min*(drugFrame-firstFrame),frame2min*(drugFrame-firstFrame)],[-1,times[-1]],'k:',linewidth=1)\n",
    "\n",
    "ax.plot([-1.5*np.max(times), 1.5*np.max(times)],[0,0], 'k:')\n",
    "ax.set_axis_bgcolor('white')\n",
    "ax.axis([np.min(times)-interv*frame2min, 1.*np.max(times)+interv*frame2min, -0.25,0.25])\n",
    "\n",
    "\n",
    "ix=range(0,(lastFrame-firstFrame+1)*frame2min,180)\n",
    "lx= [int(index/60) for index in ix]\n",
    "ax.set_xticks(ix)\n",
    "ax.set_xticklabels(lx)\n",
    "\n",
    "ax.set_xlabel('Time (hours)',fontsize=14)\n",
    "ax.set_ylabel('Deviation from relative \\n mean fluorescent intensity',fontsize=14)\n",
    "    \n",
    "figName='%suJ_figures/%s_time_v_intensity.pdf'%(dataPath, expeLabel)\n",
    "print(\"\\nSaving %s\"%figName)\n",
    "plt.savefig(figName)    \n",
    "plt.show()\n"
   ]
  },
  {
   "cell_type": "markdown",
   "metadata": {},
   "source": [
    "## Deviation from mean relative intensity (line)"
   ]
  },
  {
   "cell_type": "code",
   "execution_count": 53,
   "metadata": {
    "collapsed": false,
    "scrolled": false
   },
   "outputs": [
    {
     "data": {
      "image/png": "[encoded data removed]",
      "text/plain": [
       "<matplotlib.figure.Figure at 0x1223a1860>"
      ]
     },
     "metadata": {},
     "output_type": "display_data"
    }
   ],
   "source": [
    "\n",
    "drugFrame=91+10\n",
    "firstFrame=drugFrame-36;\n",
    "lastFrame=drugFrame+36;\n",
    "\n",
    "fig, ax = plt.subplots(ncols=1, figsize=(6, 4.5))\n",
    "#dx=(which_frames[1]-which_frames[0])*frame2min\n",
    "#ax.bar(times,freqs,0.9*dx, color='black')\n",
    "\n",
    "#ax.plot(times,freqs,color='black', linewidth=2)\n",
    "\n",
    "#ax.fill_between(times, freqs, 1,  where=np.ones(len(freqs)) >= freqs, facecolor='green', interpolate=True)\n",
    "#ax.fill_between(times, freqs, 1,  where=np.ones(len(freqs)) <= freqs, facecolor='red', interpolate=True)\n",
    "\n",
    "x=[this_x-frame2min/2 for this_x in times[:]]\n",
    "y=[this_y-1 for this_y in freqs[:]]\n",
    "\n",
    "Ncolors=40\n",
    "cmap = cm.get_cmap(\"RdYlGn_r\", Ncolors) #generate a jet map with 10 values \n",
    "cmap_vals = cmap(np.arange(Ncolors))\n",
    "\n",
    "ymin=-0.35\n",
    "ymax=0.35\n",
    "dy=(ymax+np.abs(ymin))/Ncolors\n",
    "ls=np.arange(ymin,ymax+dy,dy)\n",
    "colors=[]\n",
    "for thisy in y:\n",
    "    thisColor=cmap_vals[find_nearest(ls,thisy),:]\n",
    "    colors.append(thisColor)\n",
    "\n",
    "ax.bar(x,y,0.9*frame2min, color = colors, edgecolor = colors)\n",
    "\n",
    "ax.plot([xi+0.5*frame2min for xi in x],y,'-k',linewidth=3)\n",
    "\n",
    "#ax.plot([frame2min*(drugFrame-firstFrame),frame2min*(drugFrame-firstFrame)],[0.,times[-1]],'k:',linewidth=1)\n",
    "\n",
    "ax.plot([-.5*np.max(x), 1.5*np.max(x)],[0,0], 'k-')\n",
    "ax.set_axis_bgcolor('white')\n",
    "ax.axis([np.min(x), 1.*np.max(x), ymin,ymax])\n",
    "\n",
    "ix=range(0,(lastFrame-firstFrame+1)*frame2min,180)\n",
    "lx= [int(index/60) for index in ix]\n",
    "ax.set_xticks(ix)\n",
    "ax.set_xticklabels(lx)\n",
    "\n",
    "ax.set_xlabel('Time (hours)',fontsize=14)\n",
    "ax.set_ylabel('Deviation from relative\\n mean fluorescent intensity',fontsize=14)\n",
    "    \n",
    "figName='%suJ_figures/%s_time_v_intensity.pdf'%(dataPath, expeLabel)\n",
    "#print(\"\\nSaving %s\"%figName)\n",
    "#plt.savefig(figName)    \n",
    "plt.show()\n"
   ]
  },
  {
   "cell_type": "markdown",
   "metadata": {},
   "source": [
    "## Plot 2D histogram of fluorescent intensities"
   ]
  },
  {
   "cell_type": "code",
   "execution_count": 63,
   "metadata": {
    "collapsed": false,
    "scrolled": false
   },
   "outputs": [
    {
     "data": {
      "text/plain": [
       "'\\nfor t in frames:\\n    filter_t=filterFrames(data_t, [t])\\n    \\n    this_GFP=data_GFP[filter_t]\\n    this_DsRed=data_DsRed[filter_t]\\n    \\n\\n    x=[this_x for this_x in this_GFP]\\n    y=[this_y for this_y in this_DsRed]\\n\\n    xmin = 0\\n    ymin = 0\\n    xmax = 90\\n    ymax = 30\\n    \\n\\n    fig, ax = plt.subplots(ncols=1)\\n    xedges, yedges = np.linspace(xmin, xmax, 20), np.linspace(ymin, ymax, 20)\\n    hist, xedges, yedges = np.histogram2d(x, y, (xedges, yedges))\\n    xidx = np.clip(np.digitize(x, xedges), 0, hist.shape[0]-1)\\n    yidx = np.clip(np.digitize(y, yedges), 0, hist.shape[1]-1)\\n    c = hist[xidx, yidx]\\n    hb=plt.scatter(x, y, c=c,cmap=\\'inferno\\', lw = 0.5)\\n\\n    ax.set_axis_bgcolor(\\'black\\')\\n    ax.axis([xmin, xmax, ymin, ymax])\\n    ax.set_xlabel(\\'GFP intensity (a.u.)\\',fontsize=14)\\n    ax.set_ylabel(\\'DsRed intensity (a.u.)\\',fontsize=14)\\n    ax.set_title(\\'%s minutes\\'%((t-1)*frame2min))\\n                 \\n    cb = fig.colorbar(hb, ax=ax)\\n    cb.set_label(\\'Number of cells\\',fontsize=14)\\n    cb.set_ticks(np.linspace(hb.get_array().min(), hb.get_array().max(), 6))\\n    cb.set_ticklabels(np.linspace(0, 1., 6))\\n    cb.set_label(\\'Relative frequency\\',fontsize=14)\\n    \\n    figName=\\'%suJ_figures/2Dhist/%s_2Dhist_t%s.tif\\'%(dataPath, expeLabel,t)\\n    print(\"Saving %s\"%figName)\\n    plt.savefig(figName)\\n\\n#plt.show()\\n\\n'"
      ]
     },
     "execution_count": 63,
     "metadata": {},
     "output_type": "execute_result"
    }
   ],
   "source": [
    "'''\n",
    "for t in frames:\n",
    "    filter_t=filterFrames(data_t, [t])\n",
    "    \n",
    "    this_GFP=data_GFP[filter_t]\n",
    "    this_DsRed=data_DsRed[filter_t]\n",
    "    \n",
    "\n",
    "    x=[this_x for this_x in this_GFP]\n",
    "    y=[this_y for this_y in this_DsRed]\n",
    "\n",
    "    xmin = 0\n",
    "    ymin = 0\n",
    "    xmax = 90\n",
    "    ymax = 30\n",
    "    \n",
    "\n",
    "    fig, ax = plt.subplots(ncols=1)\n",
    "    xedges, yedges = np.linspace(xmin, xmax, 20), np.linspace(ymin, ymax, 20)\n",
    "    hist, xedges, yedges = np.histogram2d(x, y, (xedges, yedges))\n",
    "    xidx = np.clip(np.digitize(x, xedges), 0, hist.shape[0]-1)\n",
    "    yidx = np.clip(np.digitize(y, yedges), 0, hist.shape[1]-1)\n",
    "    c = hist[xidx, yidx]\n",
    "    hb=plt.scatter(x, y, c=c,cmap='inferno', lw = 0.5)\n",
    "\n",
    "    ax.set_axis_bgcolor('black')\n",
    "    ax.axis([xmin, xmax, ymin, ymax])\n",
    "    ax.set_xlabel('GFP intensity (a.u.)',fontsize=14)\n",
    "    ax.set_ylabel('DsRed intensity (a.u.)',fontsize=14)\n",
    "    ax.set_title('%s minutes'%((t-1)*frame2min))\n",
    "                 \n",
    "    cb = fig.colorbar(hb, ax=ax)\n",
    "    cb.set_label('Number of cells',fontsize=14)\n",
    "    cb.set_ticks(np.linspace(hb.get_array().min(), hb.get_array().max(), 6))\n",
    "    cb.set_ticklabels(np.linspace(0, 1., 6))\n",
    "    cb.set_label('Relative frequency',fontsize=14)\n",
    "    \n",
    "    figName='%suJ_figures/2Dhist/%s_2Dhist_t%s.tif'%(dataPath, expeLabel,t)\n",
    "    print(\"Saving %s\"%figName)\n",
    "    plt.savefig(figName)\n",
    "\n",
    "#plt.show()\n",
    "\n",
    "'''"
   ]
  },
  {
   "cell_type": "markdown",
   "metadata": {},
   "source": [
    "## Plot relative fluorescence histogram"
   ]
  },
  {
   "cell_type": "code",
   "execution_count": 33,
   "metadata": {
    "collapsed": false,
    "scrolled": false
   },
   "outputs": [
    {
     "data": {
      "text/plain": [
       "\"\\nthis_frames=range(firstFrame,lastFrame)\\nbin_max = 2.\\nbin_min=0\\nbin_size = .05;  \\nN = (bin_max-bin_min)/bin_size; Nplus1 = N + 1\\nbin_list = np.linspace(bin_min, bin_max, Nplus1)\\n\\nfor t in frames:\\n    filter_t=filterFrames(data_t, [t])\\n    \\n    this_GFP=data_GFP[filter_t]\\n    this_DsRed=data_DsRed[filter_t]\\n    \\n    #x=[this_x/xmean for this_x in this_GFP]\\n    #y=[this_y/ymean for this_y in this_DsRed]\\n    \\n    x=[this_x for this_x in this_GFP]\\n    y=[this_y for this_y in this_DsRed]\\n    \\n    relF=[r/g for g, r in zip(x, y)]\\n    \\n    weights = np.ones_like(relF)/len(relF)\\n    \\n    fig, ax = plt.subplots(ncols=1)\\n    n, bins, patches = plt.hist(relF, bins=bin_list,  facecolor='black', alpha=1, weights=weights) #normed=1\\n    ax.set_axis_bgcolor('white')\\n    ax.set_xlim([0,bin_max])\\n    ax.set_ylim([0,0.6])\\n    ax.set_xlabel('Relative Fluorescence Intensity (DsRed/GFP)',fontsize=14)\\n    ax.set_ylabel('Frequency',fontsize=14)\\n    ax.set_title('%s minutes'%((t-1)*frame2min))\\nplt.show()\\n\\n\""
      ]
     },
     "execution_count": 33,
     "metadata": {},
     "output_type": "execute_result"
    }
   ],
   "source": [
    "\n",
    "'''\n",
    "this_frames=range(firstFrame,lastFrame)\n",
    "bin_max = 2.\n",
    "bin_min=0\n",
    "bin_size = .05;  \n",
    "N = (bin_max-bin_min)/bin_size; Nplus1 = N + 1\n",
    "bin_list = np.linspace(bin_min, bin_max, Nplus1)\n",
    "\n",
    "for t in frames:\n",
    "    filter_t=filterFrames(data_t, [t])\n",
    "    \n",
    "    this_GFP=data_GFP[filter_t]\n",
    "    this_DsRed=data_DsRed[filter_t]\n",
    "    \n",
    "    #x=[this_x/xmean for this_x in this_GFP]\n",
    "    #y=[this_y/ymean for this_y in this_DsRed]\n",
    "    \n",
    "    x=[this_x for this_x in this_GFP]\n",
    "    y=[this_y for this_y in this_DsRed]\n",
    "    \n",
    "    relF=[r/g for g, r in zip(x, y)]\n",
    "    \n",
    "    weights = np.ones_like(relF)/len(relF)\n",
    "    \n",
    "    fig, ax = plt.subplots(ncols=1)\n",
    "    n, bins, patches = plt.hist(relF, bins=bin_list,  facecolor='black', alpha=1, weights=weights) #normed=1\n",
    "    ax.set_axis_bgcolor('white')\n",
    "    ax.set_xlim([0,bin_max])\n",
    "    ax.set_ylim([0,0.6])\n",
    "    ax.set_xlabel('Relative Fluorescence Intensity (DsRed/GFP)',fontsize=14)\n",
    "    ax.set_ylabel('Frequency',fontsize=14)\n",
    "    ax.set_title('%s minutes'%((t-1)*frame2min))\n",
    "plt.show()\n",
    "\n",
    "'''\n"
   ]
  },
  {
   "cell_type": "code",
   "execution_count": 112,
   "metadata": {
    "collapsed": true
   },
   "outputs": [],
   "source": [
    "\n",
    "def getHist_RelF(data_GFP, data_DsRed, frames, bins):\n",
    "    \n",
    "    #M=np.zeros(shape=(len(frames),len(nbins)))\n",
    "    for t in frames:\n",
    "        filter_t=filterFrames(data_t, [t])\n",
    "\n",
    "        this_GFP=data_GFP[filter_t]\n",
    "        this_DsRed=data_DsRed[filter_t]\n",
    "\n",
    "        m=xmean/ymean\n",
    "        #print(m)\n",
    "        \n",
    "        x=[this_x for this_x in this_GFP]\n",
    "        y=[this_y for this_y in this_DsRed]\n",
    "        relF=[r*m/g for g, r in zip(x, y)]\n",
    "        \n",
    "        #x=[this_x for this_x in this_GFP]\n",
    "        #y=[this_y for this_y in this_DsRed]\n",
    "        #relF=[(r/ymean)/(g/xmean) for g, r in zip(x, y)]\n",
    "        \n",
    "        M=np.histogram(relF, bins)\n",
    "        #print(\"%s %s\"%(t, np.mean(relF)))\n",
    "        \n",
    "        #M=np.histogram(y, bins)\n",
    "        #M=np.histogram(x, bins)\n",
    "        #print(\"%s \"%(t))\n",
    "    \n",
    "            \n",
    "    return M\n",
    "\n",
    "def plotHist_RelF(xbin, ybin, plot_title=''):\n",
    "    #fig, ax = plt.subplots(ncols=1)\n",
    "\n",
    "    #plt.bar(xbin,ybin,0.75*(xbin[1]-xbin[0]),color='k')\n",
    "    \n",
    "    df = pandas.DataFrame(ybin)\n",
    "    \n",
    "    cmap = cm.get_cmap(\"RdYlGn_r\", 40) #generate a jet map with 10 values \n",
    "    cmap_vals = cmap(np.arange(40))\n",
    "    ax=df.plot(kind='bar', stacked=True, color=cmap_vals,legend=False, width=1, rot=0)\n",
    "    \n",
    "    ax.set_axis_bgcolor('white')\n",
    "    ax.set_ylim([0,0.1])\n",
    "    ax.set_xlabel('Relative Fluorescence Intensity',fontsize=14)\n",
    "    ax.set_ylabel('Frequency',fontsize=14)\n",
    "    ax.set_title(plot_title)\n",
    "    ix=range(0,len(xbin),5)\n",
    "    lx= [xbin[index] for index in ix]\n",
    "    \n",
    "    ax.set_xticks(ix)\n",
    "    ax.set_xticklabels(lx)\n",
    "    #ax.set_xlim([1,len(xbin)+1])"
   ]
  },
  {
   "cell_type": "markdown",
   "metadata": {
    "collapsed": true
   },
   "source": [
    "## Plot relative fluorescence as a function of time"
   ]
  },
  {
   "cell_type": "code",
   "execution_count": 113,
   "metadata": {
    "collapsed": false,
    "scrolled": false
   },
   "outputs": [
    {
     "name": "stdout",
     "output_type": "stream",
     "text": [
      "mean: 0.894491628541\n",
      "Saving /Users/ESB/SYNC/_CurrentWork/uJ/uJ_data/DATA_sample/uJ_figures/relF_dist_all/HT13-AMP_relF_hist_t55.pdf\n"
     ]
    },
    {
     "name": "stderr",
     "output_type": "stream",
     "text": [
      "/Users/ESB/anaconda/lib/python3.5/site-packages/matplotlib/pyplot.py:524: RuntimeWarning: More than 20 figures have been opened. Figures created through the pyplot interface (`matplotlib.pyplot.figure`) are retained until explicitly closed and may consume too much memory. (To control this warning, see the rcParam `figure.max_open_warning`).\n",
      "  max_open_warning, RuntimeWarning)\n"
     ]
    },
    {
     "name": "stdout",
     "output_type": "stream",
     "text": [
      "mean: 0.866617796323\n",
      "Saving /Users/ESB/SYNC/_CurrentWork/uJ/uJ_data/DATA_sample/uJ_figures/relF_dist_all/HT13-AMP_relF_hist_t56.pdf\n",
      "mean: 0.867554062715\n",
      "Saving /Users/ESB/SYNC/_CurrentWork/uJ/uJ_data/DATA_sample/uJ_figures/relF_dist_all/HT13-AMP_relF_hist_t57.pdf\n",
      "mean: 0.909936925524\n",
      "Saving /Users/ESB/SYNC/_CurrentWork/uJ/uJ_data/DATA_sample/uJ_figures/relF_dist_all/HT13-AMP_relF_hist_t58.pdf\n",
      "mean: 0.907682024113\n",
      "Saving /Users/ESB/SYNC/_CurrentWork/uJ/uJ_data/DATA_sample/uJ_figures/relF_dist_all/HT13-AMP_relF_hist_t59.pdf\n",
      "mean: 0.901826494892\n",
      "Saving /Users/ESB/SYNC/_CurrentWork/uJ/uJ_data/DATA_sample/uJ_figures/relF_dist_all/HT13-AMP_relF_hist_t60.pdf\n",
      "mean: 0.940928813905\n",
      "Saving /Users/ESB/SYNC/_CurrentWork/uJ/uJ_data/DATA_sample/uJ_figures/relF_dist_all/HT13-AMP_relF_hist_t61.pdf\n",
      "mean: 0.943470158587\n",
      "Saving /Users/ESB/SYNC/_CurrentWork/uJ/uJ_data/DATA_sample/uJ_figures/relF_dist_all/HT13-AMP_relF_hist_t62.pdf\n",
      "mean: 0.927442772105\n",
      "Saving /Users/ESB/SYNC/_CurrentWork/uJ/uJ_data/DATA_sample/uJ_figures/relF_dist_all/HT13-AMP_relF_hist_t63.pdf\n",
      "mean: 0.933818457034\n",
      "Saving /Users/ESB/SYNC/_CurrentWork/uJ/uJ_data/DATA_sample/uJ_figures/relF_dist_all/HT13-AMP_relF_hist_t64.pdf\n"
     ]
    },
    {
     "ename": "KeyboardInterrupt",
     "evalue": "",
     "output_type": "error",
     "traceback": [
      "\u001b[0;31m---------------------------------------------------------------------------\u001b[0m",
      "\u001b[0;31mKeyboardInterrupt\u001b[0m                         Traceback (most recent call last)",
      "\u001b[0;32m<ipython-input-113-463ed333aa87>\u001b[0m in \u001b[0;36m<module>\u001b[0;34m()\u001b[0m\n\u001b[1;32m     13\u001b[0m     \u001b[0mbin_list\u001b[0m \u001b[0;34m=\u001b[0m \u001b[0mnp\u001b[0m\u001b[0;34m.\u001b[0m\u001b[0mlinspace\u001b[0m\u001b[0;34m(\u001b[0m\u001b[0mbin_min\u001b[0m\u001b[0;34m,\u001b[0m \u001b[0mbin_max\u001b[0m\u001b[0;34m,\u001b[0m \u001b[0mNplus1\u001b[0m\u001b[0;34m)\u001b[0m\u001b[0;34m\u001b[0m\u001b[0m\n\u001b[1;32m     14\u001b[0m \u001b[0;34m\u001b[0m\u001b[0m\n\u001b[0;32m---> 15\u001b[0;31m     \u001b[0mM\u001b[0m\u001b[0;34m=\u001b[0m\u001b[0mgetHist_RelF\u001b[0m\u001b[0;34m(\u001b[0m\u001b[0mdata_GFP\u001b[0m\u001b[0;34m,\u001b[0m \u001b[0mdata_DsRed\u001b[0m\u001b[0;34m,\u001b[0m \u001b[0;34m[\u001b[0m\u001b[0mt\u001b[0m\u001b[0;34m]\u001b[0m\u001b[0;34m,\u001b[0m \u001b[0mbin_list\u001b[0m\u001b[0;34m)\u001b[0m\u001b[0;34m\u001b[0m\u001b[0m\n\u001b[0m\u001b[1;32m     16\u001b[0m \u001b[0;34m\u001b[0m\u001b[0m\n\u001b[1;32m     17\u001b[0m     \u001b[0;31m#xbin=M[1][:-1]+(M[1][1]-M[1][0])/2\u001b[0m\u001b[0;34m\u001b[0m\u001b[0;34m\u001b[0m\u001b[0m\n",
      "\u001b[0;32m<ipython-input-112-9a593f68dc20>\u001b[0m in \u001b[0;36mgetHist_RelF\u001b[0;34m(data_GFP, data_DsRed, frames, bins)\u001b[0m\n\u001b[1;32m     20\u001b[0m         \u001b[0;31m#relF=[(r/ymean)/(g/xmean) for g, r in zip(x, y)]\u001b[0m\u001b[0;34m\u001b[0m\u001b[0;34m\u001b[0m\u001b[0m\n\u001b[1;32m     21\u001b[0m \u001b[0;34m\u001b[0m\u001b[0m\n\u001b[0;32m---> 22\u001b[0;31m         \u001b[0mM\u001b[0m\u001b[0;34m=\u001b[0m\u001b[0mnp\u001b[0m\u001b[0;34m.\u001b[0m\u001b[0mhistogram\u001b[0m\u001b[0;34m(\u001b[0m\u001b[0mrelF\u001b[0m\u001b[0;34m,\u001b[0m \u001b[0mbins\u001b[0m\u001b[0;34m)\u001b[0m\u001b[0;34m\u001b[0m\u001b[0m\n\u001b[0m\u001b[1;32m     23\u001b[0m         \u001b[0;31m#print(\"%s %s\"%(t, np.mean(relF)))\u001b[0m\u001b[0;34m\u001b[0m\u001b[0;34m\u001b[0m\u001b[0m\n\u001b[1;32m     24\u001b[0m \u001b[0;34m\u001b[0m\u001b[0m\n",
      "\u001b[0;32m/Users/ESB/anaconda/lib/python3.5/site-packages/numpy/lib/function_base.py\u001b[0m in \u001b[0;36mhistogram\u001b[0;34m(a, bins, range, normed, weights, density)\u001b[0m\n\u001b[1;32m    480\u001b[0m \u001b[0;34m\u001b[0m\u001b[0m\n\u001b[1;32m    481\u001b[0m     \"\"\"\n\u001b[0;32m--> 482\u001b[0;31m     \u001b[0ma\u001b[0m \u001b[0;34m=\u001b[0m \u001b[0masarray\u001b[0m\u001b[0;34m(\u001b[0m\u001b[0ma\u001b[0m\u001b[0;34m)\u001b[0m\u001b[0;34m\u001b[0m\u001b[0m\n\u001b[0m\u001b[1;32m    483\u001b[0m     \u001b[0;32mif\u001b[0m \u001b[0mweights\u001b[0m \u001b[0;32mis\u001b[0m \u001b[0;32mnot\u001b[0m \u001b[0;32mNone\u001b[0m\u001b[0;34m:\u001b[0m\u001b[0;34m\u001b[0m\u001b[0m\n\u001b[1;32m    484\u001b[0m         \u001b[0mweights\u001b[0m \u001b[0;34m=\u001b[0m \u001b[0masarray\u001b[0m\u001b[0;34m(\u001b[0m\u001b[0mweights\u001b[0m\u001b[0;34m)\u001b[0m\u001b[0;34m\u001b[0m\u001b[0m\n",
      "\u001b[0;32m/Users/ESB/anaconda/lib/python3.5/site-packages/numpy/core/numeric.py\u001b[0m in \u001b[0;36masarray\u001b[0;34m(a, dtype, order)\u001b[0m\n\u001b[1;32m    480\u001b[0m \u001b[0;34m\u001b[0m\u001b[0m\n\u001b[1;32m    481\u001b[0m     \"\"\"\n\u001b[0;32m--> 482\u001b[0;31m     \u001b[0;32mreturn\u001b[0m \u001b[0marray\u001b[0m\u001b[0;34m(\u001b[0m\u001b[0ma\u001b[0m\u001b[0;34m,\u001b[0m \u001b[0mdtype\u001b[0m\u001b[0;34m,\u001b[0m \u001b[0mcopy\u001b[0m\u001b[0;34m=\u001b[0m\u001b[0;32mFalse\u001b[0m\u001b[0;34m,\u001b[0m \u001b[0morder\u001b[0m\u001b[0;34m=\u001b[0m\u001b[0morder\u001b[0m\u001b[0;34m)\u001b[0m\u001b[0;34m\u001b[0m\u001b[0m\n\u001b[0m\u001b[1;32m    483\u001b[0m \u001b[0;34m\u001b[0m\u001b[0m\n\u001b[1;32m    484\u001b[0m \u001b[0;32mdef\u001b[0m \u001b[0masanyarray\u001b[0m\u001b[0;34m(\u001b[0m\u001b[0ma\u001b[0m\u001b[0;34m,\u001b[0m \u001b[0mdtype\u001b[0m\u001b[0;34m=\u001b[0m\u001b[0;32mNone\u001b[0m\u001b[0;34m,\u001b[0m \u001b[0morder\u001b[0m\u001b[0;34m=\u001b[0m\u001b[0;32mNone\u001b[0m\u001b[0;34m)\u001b[0m\u001b[0;34m:\u001b[0m\u001b[0;34m\u001b[0m\u001b[0m\n",
      "\u001b[0;31mKeyboardInterrupt\u001b[0m: "
     ]
    }
   ],
   "source": [
    "def meanDist(x,counts):\n",
    "    return np.sum(x*counts) / np.sum(counts)\n",
    "\n",
    "\n",
    "cmap=plt.get_cmap('RdYlGn')\n",
    "\n",
    "for t in frames:\n",
    "#for t in range(60,61):\n",
    "    bin_size = .05;  \n",
    "    bin_max = 2.\n",
    "    bin_min=0\n",
    "    N = (bin_max-bin_min)/bin_size; Nplus1 = N + 1\n",
    "    bin_list = np.linspace(bin_min, bin_max, Nplus1)\n",
    "\n",
    "    M=getHist_RelF(data_GFP, data_DsRed, [t], bin_list)\n",
    "\n",
    "    #xbin=M[1][:-1]+(M[1][1]-M[1][0])/2\n",
    "    xbin=M[1][:-1]\n",
    "    #ybin=M[0]/np.max(M[0])\n",
    "    ybin=M[0]/np.sum(M[0])\n",
    "    #ybin=M[0]\n",
    "    \n",
    "    #print(ybin)\n",
    "    mD=meanDist(xbin,ybin)\n",
    "    print(\"mean: %s\"%mD)\n",
    "    #normybin=[this_y/np.mean(ybin) for this_y in ybin]\n",
    "    #print(normybin)\n",
    "\n",
    "\n",
    "    plot_title='%s minutes'%((t-firstFrame)*frame2min)\n",
    "    plotHist_RelF(xbin, ybin, plot_title)\n",
    "    \n",
    "    figName='%suJ_figures/relF_dist_all/%s_relF_hist_t%s.pdf'%(dataPath, expeLabel,t)\n",
    "    print(\"Saving %s\"%figName)\n",
    "    plt.savefig(figName)\n",
    "    \n",
    "#plt.show()\n"
   ]
  },
  {
   "cell_type": "code",
   "execution_count": null,
   "metadata": {
    "collapsed": true
   },
   "outputs": [],
   "source": []
  },
  {
   "cell_type": "code",
   "execution_count": 12,
   "metadata": {
    "collapsed": false
   },
   "outputs": [],
   "source": [
    "\n",
    "interv0=range(drugFrame-36,drugFrame)\n",
    "interv1=range(drugFrame,drugFrame+36)\n",
    "\n",
    "#interv0=[firstFrame]\n",
    "#interv1=[lastFrame-1]\n",
    "\n",
    "bin_size = .05;  \n",
    "bin_max = 2.\n",
    "bin_min=0\n",
    "N = (bin_max-bin_min)/bin_size; Nplus1 = N + 1\n",
    "bin_list = np.linspace(bin_min, bin_max, Nplus1)\n",
    "\n",
    "M_interv0=getHist_RelF(data_GFP, data_DsRed, interv0, bin_list)\n",
    "xbin_interv0=M_interv0[1][:-1]\n",
    "ybin_interv0=M_interv0[0]/np.sum(M_interv0[0])\n",
    "\n",
    "M_interv1=getHist_RelF(data_GFP, data_DsRed, interv1, bin_list)\n",
    "xbin_interv1=M_interv1[1][:-1]\n",
    "ybin_interv1=M_interv1[0]/np.sum(M_interv1[0])\n",
    "    \n",
    "\n",
    "fig, ax = plt.subplots(ncols=1, figsize=(6, 4.5))\n",
    "\n",
    "ax.plot(xbin_interv0,ybin_interv0,color='black',label=\"LB\")\n",
    "ax.plot(xbin_interv1,ybin_interv1,color='red',label=\"LB+AMP\")\n",
    "\n",
    "ax.set_axis_bgcolor('white')\n",
    "ax.set_ylim([0,0.1])\n",
    "ax.set_xlabel('Relative Fluorescence Intensity',fontsize=14)\n",
    "ax.set_ylabel('Frequency',fontsize=14) \n",
    "legend = ax.legend(loc='upper right')\n",
    "    \n",
    "figName='%suJ_figures/%s_relF_hist_interv.pdf'%(dataPath, expeLabel)\n",
    "print(\"Saving %s\"%figName)\n",
    "plt.savefig(figName)\n",
    "\n",
    "plt.show()\n"
   ]
  },
  {
   "cell_type": "markdown",
   "metadata": {
    "collapsed": false
   },
   "source": [
    "## Plots time vs relFreqDist"
   ]
  },
  {
   "cell_type": "code",
   "execution_count": 78,
   "metadata": {
    "collapsed": false,
    "scrolled": false
   },
   "outputs": [
    {
     "name": "stdout",
     "output_type": "stream",
     "text": [
      "55 2.84070214202\n",
      "56 2.6092736423\n",
      "57 2.58592678069\n",
      "58 2.7904038228\n",
      "59 2.68462043412\n",
      "60 2.71487300007\n",
      "61 2.80206377656\n",
      "62 2.75807918064\n",
      "63 2.64169192453\n",
      "64 2.68157174407\n",
      "65 2.76265084346\n",
      "66 2.88989155028\n",
      "67 2.78504314968\n",
      "68 2.56830827868\n",
      "69 2.75523601927\n",
      "70 2.92543893204\n",
      "71 3.05531678417\n",
      "72 2.98265173896\n",
      "73 2.8536834939\n",
      "74 2.74301327967\n",
      "75 2.93219244193\n",
      "76 2.84648477976\n",
      "77 3.08609160271\n",
      "78 2.93876034806\n",
      "79 2.72468039297\n",
      "80 2.60877067847\n",
      "81 2.57402084729\n",
      "82 2.5062867632\n",
      "83 2.56519902718\n",
      "84 2.38544294968\n",
      "85 2.31946262015\n",
      "86 2.37456490317\n",
      "87 2.35028907164\n",
      "88 2.2698808275\n",
      "89 2.07984083686\n",
      "90 1.97583288482\n",
      "91 1.9571118247\n",
      "92 1.9722164487\n",
      "93 1.77600683555\n",
      "94 1.94657248782\n",
      "95 2.20181707297\n",
      "96 1.88278347743\n",
      "97 2.01030819915\n",
      "98 2.03562863279\n",
      "99 1.97397800245\n",
      "100 1.91656642499\n",
      "101 2.1306064261\n",
      "102 1.82953457059\n",
      "103 2.1705936765\n",
      "104 2.05124992525\n",
      "105 1.63715759885\n",
      "106 2.06990666339\n",
      "107 2.12936740483\n",
      "108 2.1566116249\n",
      "109 1.87238978692\n",
      "110 2.06250622807\n",
      "111 2.08154869493\n",
      "112 1.99026645132\n",
      "113 2.08830504377\n",
      "114 2.17516104082\n",
      "115 2.10972455861\n",
      "116 2.1871057811\n",
      "117 2.05036690758\n",
      "118 2.00699644661\n",
      "119 2.3009529111\n",
      "120 1.81007906525\n",
      "121 1.822076743\n",
      "122 1.8212665861\n",
      "123 1.89269626293\n",
      "124 1.62206791679\n",
      "125 1.56123859534\n",
      "126 1.59233043966\n"
     ]
    }
   ],
   "source": [
    "\n",
    "\n",
    "bin_size = 0.1;  \n",
    "bin_max = 2.\n",
    "bin_min=0.\n",
    "N = (bin_max-bin_min)/bin_size; Nplus1 = N + 1\n",
    "bin_list = np.linspace(bin_min, bin_max, Nplus1)\n",
    "\n",
    "M=np.zeros((lastFrame-firstFrame, int(N)))\n",
    "for i,t in enumerate(range(firstFrame, lastFrame)):\n",
    "    \n",
    "    M_t=getHist_RelF(data_GFP, data_DsRed, [t], bin_list)\n",
    "    xbin_t=M_t[1][:-1]\n",
    "    ybin_t=M_t[0]/np.sum(M_t[0])\n",
    "\n",
    "               \n",
    "    M[i,:]=ybin_t;\n",
    "    \n"
   ]
  },
  {
   "cell_type": "code",
   "execution_count": 30,
   "metadata": {
    "collapsed": false,
    "scrolled": false
   },
   "outputs": [
    {
     "data": {
      "image/png": "[encoded data removed]",
      "text/plain": [
       "<matplotlib.figure.Figure at 0x1156dd828>"
      ]
     },
     "metadata": {},
     "output_type": "display_data"
    }
   ],
   "source": [
    "import matplotlib.patches as patches\n",
    "\n",
    "\n",
    "cmap = cm.get_cmap(\"inferno\", 256) #generate a jet map with 10 values \n",
    "cmap_vals = cmap(np.arange(256))\n",
    "\n",
    "fig = plt.figure()\n",
    "ax = fig.add_subplot(111) #, aspect='equal'\n",
    "\n",
    "for i in range(0,M.shape[0]):\n",
    "    for j in range(0,M.shape[1]):\n",
    "        box_x=i\n",
    "        box_y=j\n",
    "        box_w=1.\n",
    "        box_h=1.\n",
    "        box_alpha=M[i,j]/np.max(M)\n",
    "        #print(int(255*M[i,j]/np.max(M)))\n",
    "        box_val=int(255*M[i,j]/np.max(M))\n",
    "        if box_val>255:\n",
    "            box_val=255\n",
    "        box_color=cmap_vals[box_val,0:3]\n",
    "\n",
    "        ax.add_patch(\n",
    "            patches.Rectangle(\n",
    "                (box_x, box_y),   # (x,y)\n",
    "                box_w,          # width\n",
    "                box_h,          # height\n",
    "                alpha=1,\n",
    "                color=box_color\n",
    "                #color=cmap_vals[j,0:3]\n",
    "                #color='black'\n",
    "            )\n",
    "        )\n",
    "\n",
    "ax.plot([drugFrame-firstFrame,drugFrame-firstFrame],[0,N],'w:',linewidth=2)\n",
    "ax.set_axis_bgcolor('white') \n",
    "ax.set_ylim([np.min(bin_list),np.max(bin_list)])\n",
    "ax.set_xlim([0,lastFrame-firstFrame])\n",
    "ax.set_ylabel('Relative Fluorescence Intensity',fontsize=14)\n",
    "ax.set_xlabel('Time (hours)',fontsize=14)\n",
    "\n",
    "iy=range(0,M.shape[1]+1,5)\n",
    "ly= [bin_list[index] for index in iy]\n",
    "ax.set_yticks(iy)\n",
    "ax.set_yticklabels(ly)\n",
    "\n",
    "ix=range(0,lastFrame-firstFrame+1,6)\n",
    "lx= [int(frame2min*index/60) for index in ix]\n",
    "ax.set_xticks(ix)\n",
    "ax.set_xticklabels(lx)\n",
    "\n",
    "plt.show()"
   ]
  },
  {
   "cell_type": "code",
   "execution_count": null,
   "metadata": {
    "collapsed": true
   },
   "outputs": [],
   "source": []
  }
 ],
 "metadata": {
  "anaconda-cloud": {},
  "kernelspec": {
   "display_name": "Python 3",
   "language": "python",
   "name": "python3"
  },
  "language_info": {
   "codemirror_mode": {
    "name": "ipython",
    "version": 3
   },
   "file_extension": ".py",
   "mimetype": "text/x-python",
   "name": "python",
   "nbconvert_exporter": "python",
   "pygments_lexer": "ipython3",
   "version": "3.6.0"
  }
 },
 "nbformat": 4,
 "nbformat_minor": 1
}
