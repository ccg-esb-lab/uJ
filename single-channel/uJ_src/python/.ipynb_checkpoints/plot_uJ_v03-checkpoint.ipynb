{
 "cells": [
  {
   "cell_type": "code",
   "execution_count": 1,
   "metadata": {
    "collapsed": true
   },
   "outputs": [],
   "source": [
    "import numpy as np\n",
    "import matplotlib.pyplot as plt\n",
    "from pathlib import Path\n",
    "import os\n",
    "import sys\n",
    "import pathlib\n",
    "import matplotlib.cm as cm\n"
   ]
  },
  {
   "cell_type": "markdown",
   "metadata": {},
   "source": [
    "## User-defined parameters"
   ]
  },
  {
   "cell_type": "code",
   "execution_count": 49,
   "metadata": {
    "collapsed": false
   },
   "outputs": [
    {
     "name": "stdout",
     "output_type": "stream",
     "text": [
      "Frames: [49, 50, 51, 52, 53, 54, 55, 56, 57, 58, 59, 60, 61, 62, 63, 64, 65, 66, 67, 68, 69, 70, 71, 72, 73, 74, 75, 76, 77, 78, 79, 80, 81, 82, 83, 84, 85, 86, 87, 88, 89, 90, 91, 92, 93, 94, 95, 96, 97, 98, 99, 100, 101, 102, 103, 104, 105, 106, 107, 108, 109, 110, 111, 112, 113, 114, 115, 116, 117, 118, 119, 120, 121] \n",
      "Times:  [0, 10, 20, 30, 40, 50, 60, 70, 80, 90, 100, 110, 120, 130, 140, 150, 160, 170, 180, 190, 200, 210, 220, 230, 240, 250, 260, 270, 280, 290, 300, 310, 320, 330, 340, 350, 360, 370, 380, 390, 400, 410, 420, 430, 440, 450, 460, 470, 480, 490, 500, 510, 520, 530, 540, 550, 560, 570, 580, 590, 600, 610, 620, 630, 640, 650, 660, 670, 680, 690, 700, 710, 720]\n"
     ]
    }
   ],
   "source": [
    "expeLabel=\"HT13-CAZ\"\n",
    "dataPath=\"/Users/ESB/SYNC/_CurrentWork/uJ/uJ_data/HT13-CAZ/data/RelativeIntensity/\"\n",
    "figurePath=\"/Users/ESB/SYNC/_CurrentWork/uJ/uJ_data/HT13-CAZ/figures/\"\n",
    "if not os.path.exists(figurePath):\n",
    "    os.mkdir(figurePath)\n",
    "\n",
    "frame2min=10\n",
    "#frames=range(37,164)\n",
    "#frames=[37, 55, 73, 91, 109, 127, 145, 163]\n",
    "\n",
    "drugFrame=91\n",
    "firstFrame=drugFrame-36;\n",
    "lastFrame=drugFrame+36;\n",
    "\n",
    "frames=range(firstFrame,lastFrame+1)\n",
    "times=[(this_frame-firstFrame)*frame2min for this_frame in frames]\n",
    "\n",
    "print(\"Frames: %s \"%[f for f in frames])\n",
    "print(\"Times:  %s\"%times)"
   ]
  },
  {
   "cell_type": "markdown",
   "metadata": {},
   "source": [
    "## I/O Functions"
   ]
  },
  {
   "cell_type": "code",
   "execution_count": 50,
   "metadata": {
    "collapsed": false
   },
   "outputs": [],
   "source": [
    "\n",
    "def fromFileData(fileName):\n",
    "    #d = np.loadtxt(fileName, delimiter=\"\\t\")\n",
    "    \n",
    "    f = open(fileName,'r')\n",
    "\n",
    "    data = []\n",
    "    numCells=0\n",
    "    for line in f.readlines():\n",
    "        if numCells>0:\n",
    "            data.append(line.replace('\\n','').split('\\t'))\n",
    "        numCells=numCells+1\n",
    "    f.close()\n",
    "\n",
    "    return data\n",
    "\n",
    "#Returns a list with index of data_t in array(t)\n",
    "def filterFrames(data_t, t):\n",
    "    i=0\n",
    "    ret=[]\n",
    "    for this_data in data_t:\n",
    "        if this_data in t:\n",
    "            ret.append(i)\n",
    "        i=i+1\n",
    "    return ret\n",
    "\n",
    "\n",
    "def find_nearest(array,value):\n",
    "    idx = (np.abs(array-value)).argmin()\n",
    "    return idx\n",
    "\n"
   ]
  },
  {
   "cell_type": "markdown",
   "metadata": {},
   "source": [
    "## Load Data"
   ]
  },
  {
   "cell_type": "code",
   "execution_count": 51,
   "metadata": {
    "collapsed": false,
    "scrolled": false
   },
   "outputs": [
    {
     "name": "stdout",
     "output_type": "stream",
     "text": [
      "Loaded data from 127 frames\n"
     ]
    }
   ],
   "source": [
    "\n",
    "\n",
    "data_pos=[]\n",
    "data_t=[]\n",
    "data_GFP=[]\n",
    "data_DsRed=[]\n",
    "\n",
    "loaded_frames=0;\n",
    "for root, dirs, files in os.walk(dataPath):\n",
    "    path = root.split(os.sep)\n",
    "    for file in files:\n",
    "        \n",
    "        extension=\"\"\n",
    "        if len(os.path.splitext(file))>0:\n",
    "            extension=pathlib.Path(file).suffix\n",
    "        filePath = os.path.join(root,file)\n",
    "        \n",
    "        if extension == \".txt\":\n",
    "            #print(\"Loading data from: \" + file)\n",
    "            \n",
    "            data=fromFileData(filePath)\n",
    "\n",
    "            this_pos=[roi[3] for roi in data]\n",
    "            this_t=[float(roi[4]) for roi in data]\n",
    "            this_GFP=[float(roi[6]) for roi in data]\n",
    "            this_DsRed=[float(roi[7]) for roi in data]\n",
    "    \n",
    "            data_pos.extend(this_pos)\n",
    "            data_t.extend(this_t)\n",
    "            data_GFP.extend(this_GFP)\n",
    "            data_DsRed.extend(this_DsRed)\n",
    "            loaded_frames+=1\n",
    "            \n",
    "            \n",
    "data_t=np.asarray(data_t)\n",
    "data_GFP=np.asarray(data_GFP)\n",
    "data_DsRed=np.asarray(data_DsRed)\n",
    "\n",
    "print(\"Loaded data from %s frames\"%loaded_frames)"
   ]
  },
  {
   "cell_type": "markdown",
   "metadata": {},
   "source": [
    "## Determine population-level mean fluorescence (before the antibiotic is introduced)"
   ]
  },
  {
   "cell_type": "code",
   "execution_count": 52,
   "metadata": {
    "collapsed": false,
    "scrolled": false
   },
   "outputs": [
    {
     "name": "stdout",
     "output_type": "stream",
     "text": [
      "No-drug interval: range(49, 85)\n",
      "minGFP:497.484\t\tminDsRed:152.477\n",
      "meanGFP:884.3655\tmeanDsRed:176.867138889\n",
      "maxGFP:1568.134\t\tmaxDsRed:229.933\n"
     ]
    }
   ],
   "source": [
    "\n",
    "nodrug_t=range(firstFrame,drugFrame)\n",
    "print(\"No-drug interval: %s\"%nodrug_t)\n",
    "\n",
    "minGFP= np.min(data_GFP[nodrug_t])\n",
    "minDsRed= np.min(data_DsRed[nodrug_t])\n",
    "print(\"minGFP:%s\\t\\tminDsRed:%s\"%(minGFP, minDsRed))\n",
    "\n",
    "meanGFP= np.mean(data_GFP[nodrug_t])\n",
    "meanDsRed= np.mean(data_DsRed[nodrug_t])\n",
    "print(\"meanGFP:%s\\tmeanDsRed:%s\"%(meanGFP, meanDsRed))\n",
    "\n",
    "maxGFP= np.max(data_GFP[nodrug_t])\n",
    "maxDsRed= np.max(data_DsRed[nodrug_t])\n",
    "print(\"maxGFP:%s\\t\\tmaxDsRed:%s\"%(maxGFP, maxDsRed))\n",
    "\n"
   ]
  },
  {
   "cell_type": "markdown",
   "metadata": {},
   "source": [
    "## Estimate relative frequencies as a function of time"
   ]
  },
  {
   "cell_type": "code",
   "execution_count": 53,
   "metadata": {
    "collapsed": false,
    "scrolled": false
   },
   "outputs": [
    {
     "name": "stdout",
     "output_type": "stream",
     "text": [
      "range(49, 122)\n",
      "frame:49\tNormMeanGFP:1.18745145766\tNormMeanDsRed:1.12025491278\tRelFreq:0.943411122662\n",
      "frame:50\tNormMeanGFP:1.13427355866\tNormMeanDsRed:1.10450241742\tRelFreq:0.973753120649\n",
      "frame:51\tNormMeanGFP:1.16592415382\tNormMeanDsRed:1.11997650408\tRelFreq:0.960591218917\n",
      "frame:52\tNormMeanGFP:1.15515676169\tNormMeanDsRed:1.10957416484\tRelFreq:0.960539903884\n",
      "frame:53\tNormMeanGFP:1.14309462249\tNormMeanDsRed:1.10628055761\tRelFreq:0.967794385386\n",
      "frame:54\tNormMeanGFP:1.14032564705\tNormMeanDsRed:1.11468478654\tRelFreq:0.977514440218\n",
      "frame:55\tNormMeanGFP:1.11965008139\tNormMeanDsRed:1.12267248277\tRelFreq:1.00269941603\n",
      "frame:56\tNormMeanGFP:1.12877884225\tNormMeanDsRed:1.13350297175\tRelFreq:1.00418516837\n",
      "frame:57\tNormMeanGFP:1.12109849465\tNormMeanDsRed:1.11811822726\tRelFreq:0.997341654276\n",
      "frame:58\tNormMeanGFP:1.12358270299\tNormMeanDsRed:1.11370875312\tRelFreq:0.991212084484\n",
      "frame:59\tNormMeanGFP:1.11480666455\tNormMeanDsRed:1.11074165164\tRelFreq:0.996353616241\n",
      "frame:60\tNormMeanGFP:1.10507891535\tNormMeanDsRed:1.10933870862\tRelFreq:1.00385474124\n",
      "frame:61\tNormMeanGFP:1.08862618138\tNormMeanDsRed:1.1060614058\tRelFreq:1.0160158048\n",
      "frame:62\tNormMeanGFP:1.09098861335\tNormMeanDsRed:1.1170754781\tRelFreq:1.02391121633\n",
      "frame:63\tNormMeanGFP:1.09841750787\tNormMeanDsRed:1.12446447032\tRelFreq:1.02371317124\n",
      "frame:64\tNormMeanGFP:1.09192909909\tNormMeanDsRed:1.12046165621\tRelFreq:1.02613041189\n",
      "frame:65\tNormMeanGFP:1.11517936826\tNormMeanDsRed:1.12312642334\tRelFreq:1.00712625727\n",
      "frame:66\tNormMeanGFP:1.13182539913\tNormMeanDsRed:1.14755032133\tRelFreq:1.01389341697\n",
      "frame:67\tNormMeanGFP:1.12729039297\tNormMeanDsRed:1.1412537494\tRelFreq:1.01238665433\n",
      "frame:68\tNormMeanGFP:1.14925526142\tNormMeanDsRed:1.16242042087\tRelFreq:1.01145538323\n",
      "frame:69\tNormMeanGFP:1.16538595442\tNormMeanDsRed:1.16953186029\tRelFreq:1.0035575389\n",
      "frame:70\tNormMeanGFP:1.14310587273\tNormMeanDsRed:1.1682312359\tRelFreq:1.02197990909\n",
      "frame:71\tNormMeanGFP:1.15135217962\tNormMeanDsRed:1.17524317619\tRelFreq:1.02075038116\n",
      "frame:72\tNormMeanGFP:1.14967904263\tNormMeanDsRed:1.17751368034\tRelFreq:1.02421078986\n",
      "frame:73\tNormMeanGFP:1.1361095827\tNormMeanDsRed:1.16498367494\tRelFreq:1.02541488311\n",
      "frame:74\tNormMeanGFP:1.14479547384\tNormMeanDsRed:1.18322078929\tRelFreq:1.03356522307\n",
      "frame:75\tNormMeanGFP:1.12228649466\tNormMeanDsRed:1.18305833287\tRelFreq:1.05415002185\n",
      "frame:76\tNormMeanGFP:1.12382663851\tNormMeanDsRed:1.19198196125\tRelFreq:1.0606457619\n",
      "frame:77\tNormMeanGFP:1.10420569082\tNormMeanDsRed:1.19401260735\tRelFreq:1.08133169144\n",
      "frame:78\tNormMeanGFP:1.05765970912\tNormMeanDsRed:1.18268253764\tRelFreq:1.11820704471\n",
      "frame:79\tNormMeanGFP:1.05711474764\tNormMeanDsRed:1.1660294202\tRelFreq:1.10303013254\n",
      "frame:80\tNormMeanGFP:1.03333654702\tNormMeanDsRed:1.16390254345\tRelFreq:1.12635379713\n",
      "frame:81\tNormMeanGFP:1.01314878844\tNormMeanDsRed:1.16116210309\tRelFreq:1.1460923769\n",
      "frame:82\tNormMeanGFP:1.0056417977\tNormMeanDsRed:1.15157093337\tRelFreq:1.14511045186\n",
      "frame:83\tNormMeanGFP:1.00692260637\tNormMeanDsRed:1.14080260386\tRelFreq:1.13295957072\n",
      "frame:84\tNormMeanGFP:1.00543764866\tNormMeanDsRed:1.13819655244\tRelFreq:1.13204091169\n",
      "frame:85\tNormMeanGFP:0.975651393078\tNormMeanDsRed:1.13515515252\tRelFreq:1.16348437626\n",
      "frame:86\tNormMeanGFP:0.982850905754\tNormMeanDsRed:1.13544102307\tRelFreq:1.15525255807\n",
      "frame:87\tNormMeanGFP:1.00436823264\tNormMeanDsRed:1.12591516949\tRelFreq:1.12101830075\n",
      "frame:88\tNormMeanGFP:1.00422117959\tNormMeanDsRed:1.12034078593\tRelFreq:1.11563150499\n",
      "frame:89\tNormMeanGFP:0.954019314383\tNormMeanDsRed:1.1090372487\tRelFreq:1.16248930391\n",
      "frame:90\tNormMeanGFP:0.964938660587\tNormMeanDsRed:1.09897239881\tRelFreq:1.13890389483\n",
      "frame:91\tNormMeanGFP:0.960836007182\tNormMeanDsRed:1.11111069012\tRelFreq:1.15639992862\n",
      "frame:92\tNormMeanGFP:1.00760302057\tNormMeanDsRed:1.17311656768\tRelFreq:1.16426463967\n",
      "frame:93\tNormMeanGFP:0.991385809682\tNormMeanDsRed:1.14091156166\tRelFreq:1.15082498712\n",
      "frame:94\tNormMeanGFP:0.983515009624\tNormMeanDsRed:1.13669202475\tRelFreq:1.15574446107\n",
      "frame:95\tNormMeanGFP:0.992891706531\tNormMeanDsRed:1.1459761411\tRelFreq:1.15418039406\n",
      "frame:96\tNormMeanGFP:0.982038187048\tNormMeanDsRed:1.13900384456\tRelFreq:1.15983661285\n",
      "frame:97\tNormMeanGFP:0.940823907985\tNormMeanDsRed:1.12793800685\tRelFreq:1.19888323126\n",
      "frame:98\tNormMeanGFP:0.957583827834\tNormMeanDsRed:1.14783165864\tRelFreq:1.19867485777\n",
      "frame:99\tNormMeanGFP:0.955757964745\tNormMeanDsRed:1.16106847518\tRelFreq:1.21481433376\n",
      "frame:100\tNormMeanGFP:0.908627676439\tNormMeanDsRed:1.12511938345\tRelFreq:1.23826228567\n",
      "frame:101\tNormMeanGFP:0.901529421219\tNormMeanDsRed:1.12382690114\tRelFreq:1.24657817559\n",
      "frame:102\tNormMeanGFP:0.927632767653\tNormMeanDsRed:1.11920890276\tRelFreq:1.20652152639\n",
      "frame:103\tNormMeanGFP:0.931418258389\tNormMeanDsRed:1.14187577898\tRelFreq:1.22595382761\n",
      "frame:104\tNormMeanGFP:0.947644262126\tNormMeanDsRed:1.12335463277\tRelFreq:1.18541807054\n",
      "frame:105\tNormMeanGFP:0.923025717686\tNormMeanDsRed:1.11137301018\tRelFreq:1.2040542196\n",
      "frame:106\tNormMeanGFP:0.917921974312\tNormMeanDsRed:1.11197875961\tRelFreq:1.21140880242\n",
      "frame:107\tNormMeanGFP:0.857801149795\tNormMeanDsRed:1.09857624523\tRelFreq:1.2806887068\n",
      "frame:108\tNormMeanGFP:0.915523738907\tNormMeanDsRed:1.11465652686\tRelFreq:1.21750696294\n",
      "frame:109\tNormMeanGFP:0.891950004991\tNormMeanDsRed:1.11782064846\tRelFreq:1.25323240339\n",
      "frame:110\tNormMeanGFP:0.900026701084\tNormMeanDsRed:1.11159594724\tRelFreq:1.23506996614\n",
      "frame:111\tNormMeanGFP:0.861585204552\tNormMeanDsRed:1.07509755205\tRelFreq:1.24781338673\n",
      "frame:112\tNormMeanGFP:0.830421769773\tNormMeanDsRed:1.08244359592\tRelFreq:1.30348653578\n",
      "frame:113\tNormMeanGFP:0.817711133181\tNormMeanDsRed:1.08956496864\tRelFreq:1.33245705534\n",
      "frame:114\tNormMeanGFP:0.817207481719\tNormMeanDsRed:1.09527782254\tRelFreq:1.34026896112\n",
      "frame:115\tNormMeanGFP:0.801126901641\tNormMeanDsRed:1.12847298396\tRelFreq:1.40860702798\n",
      "frame:116\tNormMeanGFP:0.802791429403\tNormMeanDsRed:1.11421439573\tRelFreq:1.3879251259\n",
      "frame:117\tNormMeanGFP:0.77126873699\tNormMeanDsRed:1.11663476209\tRelFreq:1.44778947796\n",
      "frame:118\tNormMeanGFP:0.77945594595\tNormMeanDsRed:1.10027143802\tRelFreq:1.41158899837\n",
      "frame:119\tNormMeanGFP:0.758518693399\tNormMeanDsRed:1.09282537031\tRelFreq:1.44073624002\n",
      "frame:120\tNormMeanGFP:0.733813496684\tNormMeanDsRed:1.08449299072\tRelFreq:1.47788640523\n",
      "frame:121\tNormMeanGFP:0.729530785338\tNormMeanDsRed:1.08504802033\tRelFreq:1.48732314267\n"
     ]
    }
   ],
   "source": [
    "freqs=[]\n",
    "x_devmeans=[]\n",
    "y_devmeans=[]\n",
    "   \n",
    "print(frames)\n",
    "for t, frame in enumerate(frames):\n",
    "    filter_t=filterFrames(data_t, [frame])\n",
    "    \n",
    "    \n",
    "    this_GFP=data_GFP[filter_t]\n",
    "    this_DsRed=data_DsRed[filter_t]\n",
    "\n",
    "    this_xmean= np.mean(data_GFP[filter_t])/meanGFP\n",
    "    this_ymean= np.mean(data_DsRed[filter_t])/meanDsRed\n",
    "\n",
    "    #this_xmean= (np.mean(data_DsRed[filter_t])-minDsRed)/(meanDsRed-minDsRed)\n",
    "    #this_ymean=(np.mean(data_GFP[filter_t])-minGFP)/(meanGFP-minGFP)\n",
    "    \n",
    "    this_freq=(this_ymean)/(this_xmean)\n",
    "\n",
    "    print(\"frame:%s\\tNormMeanGFP:%s\\tNormMeanDsRed:%s\\tRelFreq:%s\"%(frames[t],this_xmean,this_ymean,this_freq))\n",
    "    \n",
    "    freqs.append(this_freq)\n",
    "    x_devmeans.append(this_xmean)\n",
    "    y_devmeans.append(this_ymean)\n",
    "    \n"
   ]
  },
  {
   "cell_type": "code",
   "execution_count": 55,
   "metadata": {
    "collapsed": false,
    "scrolled": false
   },
   "outputs": [
    {
     "name": "stdout",
     "output_type": "stream",
     "text": [
      "\n",
      "Saving /Users/ESB/SYNC/_CurrentWork/uJ/uJ_data/HT13-CAZ/figures//HT13-CAZ_time_v_intensity.pdf\n"
     ]
    },
    {
     "data": {
      "image/png": "[encoded data removed]",
      "text/plain": [
       "<matplotlib.figure.Figure at 0x10f29c550>"
      ]
     },
     "metadata": {},
     "output_type": "display_data"
    }
   ],
   "source": [
    "\n",
    "#Parameters\n",
    "interv=1\n",
    "Ncolors=100\n",
    "ymin=-0.5\n",
    "ymax=0.5\n",
    "\n",
    "#Plot figure\n",
    "fig, ax = plt.subplots(ncols=1, figsize=(6, 4.5))\n",
    "\n",
    "dx=(frames[1]-frames[0])*frame2min\n",
    "x=[(this_x-frame2min*interv/2) for this_x in times[:]]\n",
    "y=[this_y-1 for this_y in freqs[:]]\n",
    "\n",
    "cmap = cm.get_cmap(\"RdYlGn_r\", Ncolors+1) #generate a jet map with 10 values \n",
    "cmap_vals = cmap(np.arange(Ncolors+1))\n",
    "\n",
    "\n",
    "dy=(ymax+np.abs(ymin))/Ncolors\n",
    "ls=np.arange(ymin,ymax+dy,dy)\n",
    "colors=[]\n",
    "for thisy in y:\n",
    "    thisColor=cmap_vals[find_nearest(ls,thisy),:]\n",
    "    colors.append(thisColor)\n",
    "\n",
    "ax.bar(x,y,0.9*interv*frame2min, color = colors)\n",
    "\n",
    "#ax.plot(times,freqs,color='black', linewidth=2)\n",
    "\n",
    "ax.plot([0,2000],[0,0], 'k:')\n",
    "ax.set_axis_bgcolor('white')\n",
    "ax.axis([times[0]-dx,times[-1]+dx, ymin,ymax])\n",
    "\n",
    "\n",
    "#ix=range(0,(lastFrame-firstFrame+1)*frame2min,180)\n",
    "#lx= [int(index/60) for index in ix]\n",
    "#ax.set_xticks(ix)\n",
    "#ax.set_xticklabels(lx)\n",
    "\n",
    "ax.set_xlabel('Time (hours)',fontsize=14)\n",
    "ax.set_ylabel('Deviation from relative \\n mean fluorescent intensity',fontsize=14)\n",
    "    \n",
    "figName='%s/%s_time_v_intensity.pdf'%(figurePath, expeLabel)\n",
    "print(\"\\nSaving %s\"%figName)\n",
    "plt.savefig(figName)    \n",
    "plt.show()\n"
   ]
  },
  {
   "cell_type": "markdown",
   "metadata": {},
   "source": [
    "## Plot 2D histogram of fluorescent intensities"
   ]
  },
  {
   "cell_type": "code",
   "execution_count": 56,
   "metadata": {
    "collapsed": false,
    "scrolled": false
   },
   "outputs": [
    {
     "name": "stdout",
     "output_type": "stream",
     "text": [
      "Saving /Users/ESB/SYNC/_CurrentWork/uJ/uJ_data/HT13-CAZ/figures/2Dhist/HT13-CAZ_2Dhist_t49.tif\n",
      "Saving /Users/ESB/SYNC/_CurrentWork/uJ/uJ_data/HT13-CAZ/figures/2Dhist/HT13-CAZ_2Dhist_t50.tif\n",
      "Saving /Users/ESB/SYNC/_CurrentWork/uJ/uJ_data/HT13-CAZ/figures/2Dhist/HT13-CAZ_2Dhist_t51.tif\n",
      "Saving /Users/ESB/SYNC/_CurrentWork/uJ/uJ_data/HT13-CAZ/figures/2Dhist/HT13-CAZ_2Dhist_t52.tif\n",
      "Saving /Users/ESB/SYNC/_CurrentWork/uJ/uJ_data/HT13-CAZ/figures/2Dhist/HT13-CAZ_2Dhist_t53.tif\n",
      "Saving /Users/ESB/SYNC/_CurrentWork/uJ/uJ_data/HT13-CAZ/figures/2Dhist/HT13-CAZ_2Dhist_t54.tif\n",
      "Saving /Users/ESB/SYNC/_CurrentWork/uJ/uJ_data/HT13-CAZ/figures/2Dhist/HT13-CAZ_2Dhist_t55.tif\n",
      "Saving /Users/ESB/SYNC/_CurrentWork/uJ/uJ_data/HT13-CAZ/figures/2Dhist/HT13-CAZ_2Dhist_t56.tif\n",
      "Saving /Users/ESB/SYNC/_CurrentWork/uJ/uJ_data/HT13-CAZ/figures/2Dhist/HT13-CAZ_2Dhist_t57.tif\n",
      "Saving /Users/ESB/SYNC/_CurrentWork/uJ/uJ_data/HT13-CAZ/figures/2Dhist/HT13-CAZ_2Dhist_t58.tif\n",
      "Saving /Users/ESB/SYNC/_CurrentWork/uJ/uJ_data/HT13-CAZ/figures/2Dhist/HT13-CAZ_2Dhist_t59.tif\n",
      "Saving /Users/ESB/SYNC/_CurrentWork/uJ/uJ_data/HT13-CAZ/figures/2Dhist/HT13-CAZ_2Dhist_t60.tif\n",
      "Saving /Users/ESB/SYNC/_CurrentWork/uJ/uJ_data/HT13-CAZ/figures/2Dhist/HT13-CAZ_2Dhist_t61.tif\n",
      "Saving /Users/ESB/SYNC/_CurrentWork/uJ/uJ_data/HT13-CAZ/figures/2Dhist/HT13-CAZ_2Dhist_t62.tif\n",
      "Saving /Users/ESB/SYNC/_CurrentWork/uJ/uJ_data/HT13-CAZ/figures/2Dhist/HT13-CAZ_2Dhist_t63.tif\n",
      "Saving /Users/ESB/SYNC/_CurrentWork/uJ/uJ_data/HT13-CAZ/figures/2Dhist/HT13-CAZ_2Dhist_t64.tif\n",
      "Saving /Users/ESB/SYNC/_CurrentWork/uJ/uJ_data/HT13-CAZ/figures/2Dhist/HT13-CAZ_2Dhist_t65.tif\n",
      "Saving /Users/ESB/SYNC/_CurrentWork/uJ/uJ_data/HT13-CAZ/figures/2Dhist/HT13-CAZ_2Dhist_t66.tif\n",
      "Saving /Users/ESB/SYNC/_CurrentWork/uJ/uJ_data/HT13-CAZ/figures/2Dhist/HT13-CAZ_2Dhist_t67.tif\n",
      "Saving /Users/ESB/SYNC/_CurrentWork/uJ/uJ_data/HT13-CAZ/figures/2Dhist/HT13-CAZ_2Dhist_t68.tif\n"
     ]
    },
    {
     "name": "stderr",
     "output_type": "stream",
     "text": [
      "/Users/ESB/anaconda/lib/python3.5/site-packages/matplotlib/pyplot.py:524: RuntimeWarning: More than 20 figures have been opened. Figures created through the pyplot interface (`matplotlib.pyplot.figure`) are retained until explicitly closed and may consume too much memory. (To control this warning, see the rcParam `figure.max_open_warning`).\n",
      "  max_open_warning, RuntimeWarning)\n"
     ]
    },
    {
     "name": "stdout",
     "output_type": "stream",
     "text": [
      "Saving /Users/ESB/SYNC/_CurrentWork/uJ/uJ_data/HT13-CAZ/figures/2Dhist/HT13-CAZ_2Dhist_t69.tif\n",
      "Saving /Users/ESB/SYNC/_CurrentWork/uJ/uJ_data/HT13-CAZ/figures/2Dhist/HT13-CAZ_2Dhist_t70.tif\n",
      "Saving /Users/ESB/SYNC/_CurrentWork/uJ/uJ_data/HT13-CAZ/figures/2Dhist/HT13-CAZ_2Dhist_t71.tif\n",
      "Saving /Users/ESB/SYNC/_CurrentWork/uJ/uJ_data/HT13-CAZ/figures/2Dhist/HT13-CAZ_2Dhist_t72.tif\n",
      "Saving /Users/ESB/SYNC/_CurrentWork/uJ/uJ_data/HT13-CAZ/figures/2Dhist/HT13-CAZ_2Dhist_t73.tif\n",
      "Saving /Users/ESB/SYNC/_CurrentWork/uJ/uJ_data/HT13-CAZ/figures/2Dhist/HT13-CAZ_2Dhist_t74.tif\n",
      "Saving /Users/ESB/SYNC/_CurrentWork/uJ/uJ_data/HT13-CAZ/figures/2Dhist/HT13-CAZ_2Dhist_t75.tif\n",
      "Saving /Users/ESB/SYNC/_CurrentWork/uJ/uJ_data/HT13-CAZ/figures/2Dhist/HT13-CAZ_2Dhist_t76.tif\n",
      "Saving /Users/ESB/SYNC/_CurrentWork/uJ/uJ_data/HT13-CAZ/figures/2Dhist/HT13-CAZ_2Dhist_t77.tif\n",
      "Saving /Users/ESB/SYNC/_CurrentWork/uJ/uJ_data/HT13-CAZ/figures/2Dhist/HT13-CAZ_2Dhist_t78.tif\n",
      "Saving /Users/ESB/SYNC/_CurrentWork/uJ/uJ_data/HT13-CAZ/figures/2Dhist/HT13-CAZ_2Dhist_t79.tif\n",
      "Saving /Users/ESB/SYNC/_CurrentWork/uJ/uJ_data/HT13-CAZ/figures/2Dhist/HT13-CAZ_2Dhist_t80.tif\n",
      "Saving /Users/ESB/SYNC/_CurrentWork/uJ/uJ_data/HT13-CAZ/figures/2Dhist/HT13-CAZ_2Dhist_t81.tif\n",
      "Saving /Users/ESB/SYNC/_CurrentWork/uJ/uJ_data/HT13-CAZ/figures/2Dhist/HT13-CAZ_2Dhist_t82.tif\n",
      "Saving /Users/ESB/SYNC/_CurrentWork/uJ/uJ_data/HT13-CAZ/figures/2Dhist/HT13-CAZ_2Dhist_t83.tif\n",
      "Saving /Users/ESB/SYNC/_CurrentWork/uJ/uJ_data/HT13-CAZ/figures/2Dhist/HT13-CAZ_2Dhist_t84.tif\n",
      "Saving /Users/ESB/SYNC/_CurrentWork/uJ/uJ_data/HT13-CAZ/figures/2Dhist/HT13-CAZ_2Dhist_t85.tif\n",
      "Saving /Users/ESB/SYNC/_CurrentWork/uJ/uJ_data/HT13-CAZ/figures/2Dhist/HT13-CAZ_2Dhist_t86.tif\n",
      "Saving /Users/ESB/SYNC/_CurrentWork/uJ/uJ_data/HT13-CAZ/figures/2Dhist/HT13-CAZ_2Dhist_t87.tif\n",
      "Saving /Users/ESB/SYNC/_CurrentWork/uJ/uJ_data/HT13-CAZ/figures/2Dhist/HT13-CAZ_2Dhist_t88.tif\n",
      "Saving /Users/ESB/SYNC/_CurrentWork/uJ/uJ_data/HT13-CAZ/figures/2Dhist/HT13-CAZ_2Dhist_t89.tif\n",
      "Saving /Users/ESB/SYNC/_CurrentWork/uJ/uJ_data/HT13-CAZ/figures/2Dhist/HT13-CAZ_2Dhist_t90.tif\n",
      "Saving /Users/ESB/SYNC/_CurrentWork/uJ/uJ_data/HT13-CAZ/figures/2Dhist/HT13-CAZ_2Dhist_t91.tif\n",
      "Saving /Users/ESB/SYNC/_CurrentWork/uJ/uJ_data/HT13-CAZ/figures/2Dhist/HT13-CAZ_2Dhist_t92.tif\n",
      "Saving /Users/ESB/SYNC/_CurrentWork/uJ/uJ_data/HT13-CAZ/figures/2Dhist/HT13-CAZ_2Dhist_t93.tif\n",
      "Saving /Users/ESB/SYNC/_CurrentWork/uJ/uJ_data/HT13-CAZ/figures/2Dhist/HT13-CAZ_2Dhist_t94.tif\n",
      "Saving /Users/ESB/SYNC/_CurrentWork/uJ/uJ_data/HT13-CAZ/figures/2Dhist/HT13-CAZ_2Dhist_t95.tif\n",
      "Saving /Users/ESB/SYNC/_CurrentWork/uJ/uJ_data/HT13-CAZ/figures/2Dhist/HT13-CAZ_2Dhist_t96.tif\n",
      "Saving /Users/ESB/SYNC/_CurrentWork/uJ/uJ_data/HT13-CAZ/figures/2Dhist/HT13-CAZ_2Dhist_t97.tif\n",
      "Saving /Users/ESB/SYNC/_CurrentWork/uJ/uJ_data/HT13-CAZ/figures/2Dhist/HT13-CAZ_2Dhist_t98.tif\n",
      "Saving /Users/ESB/SYNC/_CurrentWork/uJ/uJ_data/HT13-CAZ/figures/2Dhist/HT13-CAZ_2Dhist_t99.tif\n",
      "Saving /Users/ESB/SYNC/_CurrentWork/uJ/uJ_data/HT13-CAZ/figures/2Dhist/HT13-CAZ_2Dhist_t100.tif\n",
      "Saving /Users/ESB/SYNC/_CurrentWork/uJ/uJ_data/HT13-CAZ/figures/2Dhist/HT13-CAZ_2Dhist_t101.tif\n",
      "Saving /Users/ESB/SYNC/_CurrentWork/uJ/uJ_data/HT13-CAZ/figures/2Dhist/HT13-CAZ_2Dhist_t102.tif\n",
      "Saving /Users/ESB/SYNC/_CurrentWork/uJ/uJ_data/HT13-CAZ/figures/2Dhist/HT13-CAZ_2Dhist_t103.tif\n",
      "Saving /Users/ESB/SYNC/_CurrentWork/uJ/uJ_data/HT13-CAZ/figures/2Dhist/HT13-CAZ_2Dhist_t104.tif\n",
      "Saving /Users/ESB/SYNC/_CurrentWork/uJ/uJ_data/HT13-CAZ/figures/2Dhist/HT13-CAZ_2Dhist_t105.tif\n",
      "Saving /Users/ESB/SYNC/_CurrentWork/uJ/uJ_data/HT13-CAZ/figures/2Dhist/HT13-CAZ_2Dhist_t106.tif\n",
      "Saving /Users/ESB/SYNC/_CurrentWork/uJ/uJ_data/HT13-CAZ/figures/2Dhist/HT13-CAZ_2Dhist_t107.tif\n",
      "Saving /Users/ESB/SYNC/_CurrentWork/uJ/uJ_data/HT13-CAZ/figures/2Dhist/HT13-CAZ_2Dhist_t108.tif\n",
      "Saving /Users/ESB/SYNC/_CurrentWork/uJ/uJ_data/HT13-CAZ/figures/2Dhist/HT13-CAZ_2Dhist_t109.tif\n",
      "Saving /Users/ESB/SYNC/_CurrentWork/uJ/uJ_data/HT13-CAZ/figures/2Dhist/HT13-CAZ_2Dhist_t110.tif\n",
      "Saving /Users/ESB/SYNC/_CurrentWork/uJ/uJ_data/HT13-CAZ/figures/2Dhist/HT13-CAZ_2Dhist_t111.tif\n",
      "Saving /Users/ESB/SYNC/_CurrentWork/uJ/uJ_data/HT13-CAZ/figures/2Dhist/HT13-CAZ_2Dhist_t112.tif\n",
      "Saving /Users/ESB/SYNC/_CurrentWork/uJ/uJ_data/HT13-CAZ/figures/2Dhist/HT13-CAZ_2Dhist_t113.tif\n",
      "Saving /Users/ESB/SYNC/_CurrentWork/uJ/uJ_data/HT13-CAZ/figures/2Dhist/HT13-CAZ_2Dhist_t114.tif\n",
      "Saving /Users/ESB/SYNC/_CurrentWork/uJ/uJ_data/HT13-CAZ/figures/2Dhist/HT13-CAZ_2Dhist_t115.tif\n",
      "Saving /Users/ESB/SYNC/_CurrentWork/uJ/uJ_data/HT13-CAZ/figures/2Dhist/HT13-CAZ_2Dhist_t116.tif\n",
      "Saving /Users/ESB/SYNC/_CurrentWork/uJ/uJ_data/HT13-CAZ/figures/2Dhist/HT13-CAZ_2Dhist_t117.tif\n",
      "Saving /Users/ESB/SYNC/_CurrentWork/uJ/uJ_data/HT13-CAZ/figures/2Dhist/HT13-CAZ_2Dhist_t118.tif\n",
      "Saving /Users/ESB/SYNC/_CurrentWork/uJ/uJ_data/HT13-CAZ/figures/2Dhist/HT13-CAZ_2Dhist_t119.tif\n",
      "Saving /Users/ESB/SYNC/_CurrentWork/uJ/uJ_data/HT13-CAZ/figures/2Dhist/HT13-CAZ_2Dhist_t120.tif\n",
      "Saving /Users/ESB/SYNC/_CurrentWork/uJ/uJ_data/HT13-CAZ/figures/2Dhist/HT13-CAZ_2Dhist_t121.tif\n"
     ]
    }
   ],
   "source": [
    "outDir=\"%s2Dhist/\"%figurePath\n",
    "if not os.path.exists(outDir):\n",
    "    os.mkdir(outDir)\n",
    "\n",
    "\n",
    "for t in frames:\n",
    "    filter_t=filterFrames(data_t, [t])\n",
    "    \n",
    "    this_GFP=data_GFP[filter_t]\n",
    "    this_DsRed=data_DsRed[filter_t]\n",
    "\n",
    "    x=[this_x for this_x in this_GFP]\n",
    "    y=[this_y for this_y in this_DsRed]\n",
    "\n",
    "    xmin = 0\n",
    "    ymin = 0\n",
    "    xmax = 2250\n",
    "    ymax = 750\n",
    "    \n",
    "\n",
    "    fig, ax = plt.subplots(ncols=1)\n",
    "    xedges, yedges = np.linspace(xmin, xmax, 20), np.linspace(ymin, ymax, 20)\n",
    "    hist, xedges, yedges = np.histogram2d(x, y, (xedges, yedges))\n",
    "    xidx = np.clip(np.digitize(x, xedges), 0, hist.shape[0]-1)\n",
    "    yidx = np.clip(np.digitize(y, yedges), 0, hist.shape[1]-1)\n",
    "    c = hist[xidx, yidx]\n",
    "    hb=plt.scatter(x, y, c=c,cmap='inferno', lw = 0.5)\n",
    "\n",
    "    ax.set_axis_bgcolor('black')\n",
    "    ax.axis([xmin, xmax, ymin, ymax])\n",
    "    ax.set_xlabel('GFP intensity (a.u.)',fontsize=14)\n",
    "    ax.set_ylabel('DsRed intensity (a.u.)',fontsize=14)\n",
    "    ax.set_title('%s minutes'%((t-1)*frame2min))\n",
    "                 \n",
    "    cb = fig.colorbar(hb, ax=ax)\n",
    "    cb.set_label('Number of cells',fontsize=14)\n",
    "    cb.set_ticks(np.linspace(hb.get_array().min(), hb.get_array().max(), 6))\n",
    "    cb.set_ticklabels(np.linspace(0, 1., 6))\n",
    "    cb.set_label('Relative frequency',fontsize=14)\n",
    "    \n",
    "    figName='%s%s_2Dhist_t%s.tif'%(outDir, expeLabel,t)\n",
    "    print(\"Saving %s\"%figName)\n",
    "    plt.savefig(figName)\n",
    "\n",
    "#plt.show()\n"
   ]
  },
  {
   "cell_type": "markdown",
   "metadata": {},
   "source": [
    "## Plot relative fluorescence distribution"
   ]
  },
  {
   "cell_type": "code",
   "execution_count": 63,
   "metadata": {
    "collapsed": false,
    "scrolled": false
   },
   "outputs": [
    {
     "name": "stderr",
     "output_type": "stream",
     "text": [
      "/Users/ESB/anaconda/lib/python3.5/site-packages/matplotlib/pyplot.py:524: RuntimeWarning: More than 20 figures have been opened. Figures created through the pyplot interface (`matplotlib.pyplot.figure`) are retained until explicitly closed and may consume too much memory. (To control this warning, see the rcParam `figure.max_open_warning`).\n",
      "  max_open_warning, RuntimeWarning)\n"
     ]
    },
    {
     "name": "stdout",
     "output_type": "stream",
     "text": [
      "Saving /Users/ESB/SYNC/_CurrentWork/uJ/uJ_data/HT13-CAZ/figures/1Dhist/HT13-CAZ_1Dhist_t49.tif\n",
      "Saving /Users/ESB/SYNC/_CurrentWork/uJ/uJ_data/HT13-CAZ/figures/1Dhist/HT13-CAZ_1Dhist_t50.tif\n",
      "Saving /Users/ESB/SYNC/_CurrentWork/uJ/uJ_data/HT13-CAZ/figures/1Dhist/HT13-CAZ_1Dhist_t51.tif\n",
      "Saving /Users/ESB/SYNC/_CurrentWork/uJ/uJ_data/HT13-CAZ/figures/1Dhist/HT13-CAZ_1Dhist_t52.tif\n",
      "Saving /Users/ESB/SYNC/_CurrentWork/uJ/uJ_data/HT13-CAZ/figures/1Dhist/HT13-CAZ_1Dhist_t53.tif\n",
      "Saving /Users/ESB/SYNC/_CurrentWork/uJ/uJ_data/HT13-CAZ/figures/1Dhist/HT13-CAZ_1Dhist_t54.tif\n",
      "Saving /Users/ESB/SYNC/_CurrentWork/uJ/uJ_data/HT13-CAZ/figures/1Dhist/HT13-CAZ_1Dhist_t55.tif\n",
      "Saving /Users/ESB/SYNC/_CurrentWork/uJ/uJ_data/HT13-CAZ/figures/1Dhist/HT13-CAZ_1Dhist_t56.tif\n",
      "Saving /Users/ESB/SYNC/_CurrentWork/uJ/uJ_data/HT13-CAZ/figures/1Dhist/HT13-CAZ_1Dhist_t57.tif\n",
      "Saving /Users/ESB/SYNC/_CurrentWork/uJ/uJ_data/HT13-CAZ/figures/1Dhist/HT13-CAZ_1Dhist_t58.tif\n",
      "Saving /Users/ESB/SYNC/_CurrentWork/uJ/uJ_data/HT13-CAZ/figures/1Dhist/HT13-CAZ_1Dhist_t59.tif\n",
      "Saving /Users/ESB/SYNC/_CurrentWork/uJ/uJ_data/HT13-CAZ/figures/1Dhist/HT13-CAZ_1Dhist_t60.tif\n",
      "Saving /Users/ESB/SYNC/_CurrentWork/uJ/uJ_data/HT13-CAZ/figures/1Dhist/HT13-CAZ_1Dhist_t61.tif\n",
      "Saving /Users/ESB/SYNC/_CurrentWork/uJ/uJ_data/HT13-CAZ/figures/1Dhist/HT13-CAZ_1Dhist_t62.tif\n",
      "Saving /Users/ESB/SYNC/_CurrentWork/uJ/uJ_data/HT13-CAZ/figures/1Dhist/HT13-CAZ_1Dhist_t63.tif\n",
      "Saving /Users/ESB/SYNC/_CurrentWork/uJ/uJ_data/HT13-CAZ/figures/1Dhist/HT13-CAZ_1Dhist_t64.tif\n",
      "Saving /Users/ESB/SYNC/_CurrentWork/uJ/uJ_data/HT13-CAZ/figures/1Dhist/HT13-CAZ_1Dhist_t65.tif\n",
      "Saving /Users/ESB/SYNC/_CurrentWork/uJ/uJ_data/HT13-CAZ/figures/1Dhist/HT13-CAZ_1Dhist_t66.tif\n",
      "Saving /Users/ESB/SYNC/_CurrentWork/uJ/uJ_data/HT13-CAZ/figures/1Dhist/HT13-CAZ_1Dhist_t67.tif\n",
      "Saving /Users/ESB/SYNC/_CurrentWork/uJ/uJ_data/HT13-CAZ/figures/1Dhist/HT13-CAZ_1Dhist_t68.tif\n",
      "Saving /Users/ESB/SYNC/_CurrentWork/uJ/uJ_data/HT13-CAZ/figures/1Dhist/HT13-CAZ_1Dhist_t69.tif\n",
      "Saving /Users/ESB/SYNC/_CurrentWork/uJ/uJ_data/HT13-CAZ/figures/1Dhist/HT13-CAZ_1Dhist_t70.tif\n",
      "Saving /Users/ESB/SYNC/_CurrentWork/uJ/uJ_data/HT13-CAZ/figures/1Dhist/HT13-CAZ_1Dhist_t71.tif\n",
      "Saving /Users/ESB/SYNC/_CurrentWork/uJ/uJ_data/HT13-CAZ/figures/1Dhist/HT13-CAZ_1Dhist_t72.tif\n",
      "Saving /Users/ESB/SYNC/_CurrentWork/uJ/uJ_data/HT13-CAZ/figures/1Dhist/HT13-CAZ_1Dhist_t73.tif\n",
      "Saving /Users/ESB/SYNC/_CurrentWork/uJ/uJ_data/HT13-CAZ/figures/1Dhist/HT13-CAZ_1Dhist_t74.tif\n",
      "Saving /Users/ESB/SYNC/_CurrentWork/uJ/uJ_data/HT13-CAZ/figures/1Dhist/HT13-CAZ_1Dhist_t75.tif\n",
      "Saving /Users/ESB/SYNC/_CurrentWork/uJ/uJ_data/HT13-CAZ/figures/1Dhist/HT13-CAZ_1Dhist_t76.tif\n",
      "Saving /Users/ESB/SYNC/_CurrentWork/uJ/uJ_data/HT13-CAZ/figures/1Dhist/HT13-CAZ_1Dhist_t77.tif\n",
      "Saving /Users/ESB/SYNC/_CurrentWork/uJ/uJ_data/HT13-CAZ/figures/1Dhist/HT13-CAZ_1Dhist_t78.tif\n",
      "Saving /Users/ESB/SYNC/_CurrentWork/uJ/uJ_data/HT13-CAZ/figures/1Dhist/HT13-CAZ_1Dhist_t79.tif\n",
      "Saving /Users/ESB/SYNC/_CurrentWork/uJ/uJ_data/HT13-CAZ/figures/1Dhist/HT13-CAZ_1Dhist_t80.tif\n",
      "Saving /Users/ESB/SYNC/_CurrentWork/uJ/uJ_data/HT13-CAZ/figures/1Dhist/HT13-CAZ_1Dhist_t81.tif\n",
      "Saving /Users/ESB/SYNC/_CurrentWork/uJ/uJ_data/HT13-CAZ/figures/1Dhist/HT13-CAZ_1Dhist_t82.tif\n",
      "Saving /Users/ESB/SYNC/_CurrentWork/uJ/uJ_data/HT13-CAZ/figures/1Dhist/HT13-CAZ_1Dhist_t83.tif\n",
      "Saving /Users/ESB/SYNC/_CurrentWork/uJ/uJ_data/HT13-CAZ/figures/1Dhist/HT13-CAZ_1Dhist_t84.tif\n",
      "Saving /Users/ESB/SYNC/_CurrentWork/uJ/uJ_data/HT13-CAZ/figures/1Dhist/HT13-CAZ_1Dhist_t85.tif\n",
      "Saving /Users/ESB/SYNC/_CurrentWork/uJ/uJ_data/HT13-CAZ/figures/1Dhist/HT13-CAZ_1Dhist_t86.tif\n",
      "Saving /Users/ESB/SYNC/_CurrentWork/uJ/uJ_data/HT13-CAZ/figures/1Dhist/HT13-CAZ_1Dhist_t87.tif\n",
      "Saving /Users/ESB/SYNC/_CurrentWork/uJ/uJ_data/HT13-CAZ/figures/1Dhist/HT13-CAZ_1Dhist_t88.tif\n",
      "Saving /Users/ESB/SYNC/_CurrentWork/uJ/uJ_data/HT13-CAZ/figures/1Dhist/HT13-CAZ_1Dhist_t89.tif\n",
      "Saving /Users/ESB/SYNC/_CurrentWork/uJ/uJ_data/HT13-CAZ/figures/1Dhist/HT13-CAZ_1Dhist_t90.tif\n",
      "Saving /Users/ESB/SYNC/_CurrentWork/uJ/uJ_data/HT13-CAZ/figures/1Dhist/HT13-CAZ_1Dhist_t91.tif\n",
      "Saving /Users/ESB/SYNC/_CurrentWork/uJ/uJ_data/HT13-CAZ/figures/1Dhist/HT13-CAZ_1Dhist_t92.tif\n",
      "Saving /Users/ESB/SYNC/_CurrentWork/uJ/uJ_data/HT13-CAZ/figures/1Dhist/HT13-CAZ_1Dhist_t93.tif\n",
      "Saving /Users/ESB/SYNC/_CurrentWork/uJ/uJ_data/HT13-CAZ/figures/1Dhist/HT13-CAZ_1Dhist_t94.tif\n",
      "Saving /Users/ESB/SYNC/_CurrentWork/uJ/uJ_data/HT13-CAZ/figures/1Dhist/HT13-CAZ_1Dhist_t95.tif\n",
      "Saving /Users/ESB/SYNC/_CurrentWork/uJ/uJ_data/HT13-CAZ/figures/1Dhist/HT13-CAZ_1Dhist_t96.tif\n",
      "Saving /Users/ESB/SYNC/_CurrentWork/uJ/uJ_data/HT13-CAZ/figures/1Dhist/HT13-CAZ_1Dhist_t97.tif\n",
      "Saving /Users/ESB/SYNC/_CurrentWork/uJ/uJ_data/HT13-CAZ/figures/1Dhist/HT13-CAZ_1Dhist_t98.tif\n",
      "Saving /Users/ESB/SYNC/_CurrentWork/uJ/uJ_data/HT13-CAZ/figures/1Dhist/HT13-CAZ_1Dhist_t99.tif\n",
      "Saving /Users/ESB/SYNC/_CurrentWork/uJ/uJ_data/HT13-CAZ/figures/1Dhist/HT13-CAZ_1Dhist_t100.tif\n",
      "Saving /Users/ESB/SYNC/_CurrentWork/uJ/uJ_data/HT13-CAZ/figures/1Dhist/HT13-CAZ_1Dhist_t101.tif\n",
      "Saving /Users/ESB/SYNC/_CurrentWork/uJ/uJ_data/HT13-CAZ/figures/1Dhist/HT13-CAZ_1Dhist_t102.tif\n",
      "Saving /Users/ESB/SYNC/_CurrentWork/uJ/uJ_data/HT13-CAZ/figures/1Dhist/HT13-CAZ_1Dhist_t103.tif\n",
      "Saving /Users/ESB/SYNC/_CurrentWork/uJ/uJ_data/HT13-CAZ/figures/1Dhist/HT13-CAZ_1Dhist_t104.tif\n",
      "Saving /Users/ESB/SYNC/_CurrentWork/uJ/uJ_data/HT13-CAZ/figures/1Dhist/HT13-CAZ_1Dhist_t105.tif\n",
      "Saving /Users/ESB/SYNC/_CurrentWork/uJ/uJ_data/HT13-CAZ/figures/1Dhist/HT13-CAZ_1Dhist_t106.tif\n",
      "Saving /Users/ESB/SYNC/_CurrentWork/uJ/uJ_data/HT13-CAZ/figures/1Dhist/HT13-CAZ_1Dhist_t107.tif\n",
      "Saving /Users/ESB/SYNC/_CurrentWork/uJ/uJ_data/HT13-CAZ/figures/1Dhist/HT13-CAZ_1Dhist_t108.tif\n",
      "Saving /Users/ESB/SYNC/_CurrentWork/uJ/uJ_data/HT13-CAZ/figures/1Dhist/HT13-CAZ_1Dhist_t109.tif\n",
      "Saving /Users/ESB/SYNC/_CurrentWork/uJ/uJ_data/HT13-CAZ/figures/1Dhist/HT13-CAZ_1Dhist_t110.tif\n",
      "Saving /Users/ESB/SYNC/_CurrentWork/uJ/uJ_data/HT13-CAZ/figures/1Dhist/HT13-CAZ_1Dhist_t111.tif\n",
      "Saving /Users/ESB/SYNC/_CurrentWork/uJ/uJ_data/HT13-CAZ/figures/1Dhist/HT13-CAZ_1Dhist_t112.tif\n",
      "Saving /Users/ESB/SYNC/_CurrentWork/uJ/uJ_data/HT13-CAZ/figures/1Dhist/HT13-CAZ_1Dhist_t113.tif\n",
      "Saving /Users/ESB/SYNC/_CurrentWork/uJ/uJ_data/HT13-CAZ/figures/1Dhist/HT13-CAZ_1Dhist_t114.tif\n",
      "Saving /Users/ESB/SYNC/_CurrentWork/uJ/uJ_data/HT13-CAZ/figures/1Dhist/HT13-CAZ_1Dhist_t115.tif\n",
      "Saving /Users/ESB/SYNC/_CurrentWork/uJ/uJ_data/HT13-CAZ/figures/1Dhist/HT13-CAZ_1Dhist_t116.tif\n",
      "Saving /Users/ESB/SYNC/_CurrentWork/uJ/uJ_data/HT13-CAZ/figures/1Dhist/HT13-CAZ_1Dhist_t117.tif\n",
      "Saving /Users/ESB/SYNC/_CurrentWork/uJ/uJ_data/HT13-CAZ/figures/1Dhist/HT13-CAZ_1Dhist_t118.tif\n",
      "Saving /Users/ESB/SYNC/_CurrentWork/uJ/uJ_data/HT13-CAZ/figures/1Dhist/HT13-CAZ_1Dhist_t119.tif\n",
      "Saving /Users/ESB/SYNC/_CurrentWork/uJ/uJ_data/HT13-CAZ/figures/1Dhist/HT13-CAZ_1Dhist_t120.tif\n",
      "Saving /Users/ESB/SYNC/_CurrentWork/uJ/uJ_data/HT13-CAZ/figures/1Dhist/HT13-CAZ_1Dhist_t121.tif\n"
     ]
    }
   ],
   "source": [
    "outDir=\"%s1Dhist/\"%figurePath\n",
    "if not os.path.exists(outDir):\n",
    "    os.mkdir(outDir)\n",
    "\n",
    "#this_frames=range(firstFrame,lastFrame)\n",
    "this_frames=frames\n",
    "\n",
    "bin_max = 2\n",
    "bin_min=0.5\n",
    "bin_size = .05; \n",
    "y_min=0\n",
    "y_max=0.15\n",
    "\n",
    "N = (bin_max-bin_min)/bin_size; Nplus1 = N + 1\n",
    "bin_list = np.linspace(bin_min, bin_max, Nplus1)\n",
    "\n",
    "for t in this_frames:\n",
    "    filter_t=filterFrames(data_t, [t])\n",
    "    \n",
    "    this_GFP=data_GFP[filter_t]\n",
    "    this_DsRed=data_DsRed[filter_t]\n",
    "    \n",
    "    #x=[this_x/xmean for this_x in this_GFP]\n",
    "    #y=[this_y/ymean for this_y in this_DsRed]\n",
    "    \n",
    "    x=[this_x for this_x in this_GFP]\n",
    "    y=[this_y for this_y in this_DsRed]\n",
    "    \n",
    "    #relF=[((r-minDsRed)/(meanDsRed-minDsRed))/((g-minGFP)/(meanGFP-minGFP)) for g, r in zip(x, y)]\n",
    "    relF=[((r)/(meanDsRed))/((g)/(meanGFP)) for g, r in zip(x, y)]\n",
    "    \n",
    "    \n",
    "    weights = np.ones_like(relF)/len(relF)\n",
    "    \n",
    "    fig, ax = plt.subplots(ncols=1)\n",
    "    n, bins, patches = plt.hist(relF, bins=bin_list,  facecolor='black', alpha=1, weights=weights) #normed=1\n",
    "    ax.set_axis_bgcolor('white')\n",
    "    ax.set_xlim([bin_min,bin_max])\n",
    "    ax.set_ylim([y_min,y_max])\n",
    "    ax.set_xlabel('Relative Fluorescence Intensity (DsRed/GFP)',fontsize=14)\n",
    "    ax.set_ylabel('Frequency',fontsize=14)\n",
    "    ax.set_title('%s minutes'%((t-1)*frame2min))\n",
    "    \n",
    "    \n",
    "    figName='%s%s_1Dhist_t%s.tif'%(outDir, expeLabel,t)\n",
    "    print(\"Saving %s\"%figName)\n",
    "    plt.savefig(figName)\n",
    "    \n",
    "#plt.show()\n",
    "\n"
   ]
  },
  {
   "cell_type": "markdown",
   "metadata": {
    "collapsed": true
   },
   "source": []
  },
  {
   "cell_type": "code",
   "execution_count": null,
   "metadata": {
    "collapsed": true
   },
   "outputs": [],
   "source": []
  }
 ],
 "metadata": {
  "anaconda-cloud": {},
  "kernelspec": {
   "display_name": "Python [default]",
   "language": "python",
   "name": "python3"
  },
  "language_info": {
   "codemirror_mode": {
    "name": "ipython",
    "version": 3
   },
   "file_extension": ".py",
   "mimetype": "text/x-python",
   "name": "python",
   "nbconvert_exporter": "python",
   "pygments_lexer": "ipython3",
   "version": "3.5.2"
  }
 },
 "nbformat": 4,
 "nbformat_minor": 1
}
