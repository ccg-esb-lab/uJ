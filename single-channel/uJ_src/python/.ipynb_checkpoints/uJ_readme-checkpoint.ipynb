{
 "cells": [
  {
   "cell_type": "markdown",
   "metadata": {},
   "source": [
    "<table style=\"float:right\"><tr><td>\n",
    "![Download](../down.png \"Download\") \n",
    "</td><td>\n",
    "[v.02](https://drive.google.com/open?id=0Bx8qSVxL9EFmcHk5b1hHWmxVY2s) <br>\n",
    "(latest version)\n",
    "</tr></table>\n",
    "<img src=\"../uJ_logo.png\" style=\"float:left; padding-right:20px; margin-top:30px\">\n",
    "### A (mostly) ImageJ's macro library for quantification of bacterial single-cell dynamics in microfluidic devices."
   ]
  },
  {
   "cell_type": "markdown",
   "metadata": {},
   "source": [
    "\n",
    "### updates: \n",
    "* [v.02_20170529:](https://drive.google.com/open?id=0Bx8qSVxL9EFmcHk5b1hHWmxVY2s) Update TIF_2_Data\n",
    "* [v.01_20170515:](https://drive.google.com/open?id=0Bx8qSVxL9EFmcHk5b1hHWmxVY2s) Defines file structure\n",
    "\n"
   ]
  },
  {
   "cell_type": "markdown",
   "metadata": {},
   "source": [
    "## Image analysis pipeline\n",
    "\n",
    "We can insert imageJ's macro code (as javascript)\n",
    "\n",
    "```javascript\n",
    "\n",
    "/*******************/\n",
    "// User-defined parameters\n",
    "\n",
    "working_dir=\"<LOCALPATH>/uJ/\";\n",
    "pathDATA=working_dir+\"uJ_data/HT13-CAZ/\";   //Local (TMP)\n",
    "\n",
    "pathUJ=working_dir+\"uJ_src/macros/\"; //Path to uJ_src\n",
    "setupFile=pathDATA+\"setup.txt\"; //Path to setup file\n",
    "\n",
    "```"
   ]
  },
  {
   "cell_type": "markdown",
   "metadata": {},
   "source": [
    "```javascript\n",
    "/*******************/\n",
    "//Run Macro: Eclipse_2_Raw\n",
    "runMacro(pathUJ+\"Eclipse_2_Raw.ijm\", setupFile);\n",
    "```\n",
    "```javascript\n",
    "/*******************/\n",
    "//Run Macro: Raw_2_TIF  (ToDo: align)\n",
    "runMacro(pathUJ+\"Raw_2_TIF.ijm\", setupFile);\n",
    "```\n",
    "```javascript\n",
    "/*******************/\n",
    "//Run Macro: TIF_2_Segmentable\n",
    "runMacro(pathUJ+\"TIF_2_Segmentable.ijm\", setupFile);\n",
    "```\n",
    "```javascript\n",
    "/****************/\n",
    "//Run Macro: Segmentable_2_DeepCell\n",
    "runMacro(pathUJ+\"Segmentable_2_DeepCell.ijm\", setupFile);\n",
    "```\n",
    "```javascript\n",
    "/*******************/\n",
    "//Here we run DeepCell\n",
    "```\n",
    "```javascript\n",
    "/*******************/\n",
    "//Run Macro: DeepCell_2_RawMasks\n",
    "runMacro(pathUJ+\"DeepCell_2_RawMasks.ijm\", setupFile);\n",
    "```\n",
    "```javascript\n",
    "/*******************/\n",
    "//Run Macro: RawMasks_2_Masks\n",
    "\n",
    "thisPos=\"xy07\";  \n",
    "thisChannel=\"DsRed+GFP\";\n",
    "\n",
    "args=setupFile+\",\"+thisPos;//+\",\"+thisChannel;\n",
    "runMacro(pathUJ+\"RawMask_2_Masks.ijm\", args);\n",
    "\n",
    "```\n",
    "```javascript\n",
    "/*******************/\n",
    "//Run Macro: TIF_2_Data\n",
    "runMacro(pathUJ+\"TIF_2_Data.ijm\", setupFile);\n",
    "```"
   ]
  },
  {
   "cell_type": "markdown",
   "metadata": {},
   "source": [
    "Also in Python:\n",
    "\n",
    "```python\n",
    "s = \"Python syntax highlighting\"\n",
    "print s\n",
    "```"
   ]
  },
  {
   "cell_type": "markdown",
   "metadata": {},
   "source": [
    "And Tables:\n",
    "    \n",
    "| Tables        | Are           | Cool  |\n",
    "| ------------- |:-------------:| -----:|\n",
    "| col 3 is      | right-aligned | $1600 |\n",
    "| col 2 is      | centered      |   $12 |\n",
    "| zebra stripes | are neat      |    $1 |"
   ]
  },
  {
   "cell_type": "markdown",
   "metadata": {
    "collapsed": true
   },
   "source": [
    "![DIC](../uJ_data/HT13-CAZ/data_tif/xy07/DIC/HT13-CAZ_xy07_DIC_037.tif \"DIC\") \n",
    "\n"
   ]
  },
  {
   "cell_type": "code",
   "execution_count": null,
   "metadata": {
    "collapsed": true
   },
   "outputs": [],
   "source": []
  }
 ],
 "metadata": {
  "anaconda-cloud": {},
  "kernelspec": {
   "display_name": "Python [default]",
   "language": "python",
   "name": "python3"
  },
  "language_info": {
   "codemirror_mode": {
    "name": "ipython",
    "version": 3
   },
   "file_extension": ".py",
   "mimetype": "text/x-python",
   "name": "python",
   "nbconvert_exporter": "python",
   "pygments_lexer": "ipython3",
   "version": "3.5.2"
  }
 },
 "nbformat": 4,
 "nbformat_minor": 1
}
