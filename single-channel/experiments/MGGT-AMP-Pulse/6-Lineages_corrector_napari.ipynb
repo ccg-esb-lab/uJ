{
 "cells": [
  {
   "cell_type": "code",
   "execution_count": 1,
   "metadata": {},
   "outputs": [],
   "source": [
    "import sys\n",
    "import os\n",
    "import numpy as np\n",
    "from matplotlib import pyplot as plt\n",
    "from matplotlib import cm\n",
    "import matplotlib as mpl\n",
    "import matplotlib.patches as patches\n",
    "from descartes.patch import PolygonPatch\n",
    "from matplotlib.backends.backend_qt5agg import FigureCanvas\n",
    "from matplotlib.figure import Figure\n",
    "\n",
    "import networkx as nx\n",
    "import pygraphviz\n",
    "import pydot\n",
    "from networkx.drawing.nx_agraph import graphviz_layout\n",
    "\n",
    "import random\n",
    "import pandas as pd\n",
    "import napari\n",
    "\n",
    "import random\n",
    "from shapely.geometry import Point,MultiPoint,MultiPolygon,Polygon,box,LineString\n",
    "from shapely import affinity\n",
    "import re\n",
    "\n",
    "from shapely import geometry\n",
    "import pickle\n",
    "import time\n",
    "\n",
    "import ipywidgets as widgets\n",
    "import ipywidgets.widgets.interaction\n",
    "from ipywidgets import *\n",
    "import warnings\n",
    "warnings.simplefilter('ignore', np.RankWarning)\n",
    "\n",
    "from copy import deepcopy\n",
    "import magicgui as mg\n",
    "from magicgui import magicgui\n",
    "\n",
    "\n",
    "import skimage.measure as measure\n",
    "from dask_image.imread import imread\n",
    "import src\n",
    "\n",
    "%load_ext autoreload"
   ]
  },
  {
   "cell_type": "code",
   "execution_count": 2,
   "metadata": {},
   "outputs": [],
   "source": [
    "path_to_uj_strix=\"/home/esb/Projects/uJ/local/current/uJ_src_SingleChan/python/\"\n",
    "path_to_uj_trillion='/home/charly/Lab/Projects/uJ/local/current/uJ_src_SingleChan/python/'\n",
    "path_to_uj_trillion_online='/home/charly/Lab/Projects/uJ/uJ_src_online/python/'\n",
    "path_to_uj=path_to_uj_trillion_online\n",
    "#path_to_uj=path_to_uj_trillion\n",
    "\n",
    "sys.path.insert(0, path_to_uj)\n"
   ]
  },
  {
   "cell_type": "code",
   "execution_count": 3,
   "metadata": {},
   "outputs": [
    {
     "name": "stdout",
     "output_type": "stream",
     "text": [
      "Importing readroi\n",
      "DataStructs...loaded!\n",
      "DataManagers...loaded!\n",
      "TrackingFunctions... 1loaded!\n",
      "PlottingFunctions... loaded!\n",
      "Analysis Functions loaded\n",
      "CorrectorFunctions... loaded!\n"
     ]
    }
   ],
   "source": [
    "%autoreload 2\n",
    "from readroi import *\n",
    "from DataManagers import *\n",
    "from TrackingFunctions import *\n",
    "from PlottingFunctions import *\n",
    "from AnalysisFunctions import *\n",
    "from CorrectorFunctions import *"
   ]
  },
  {
   "cell_type": "code",
   "execution_count": 4,
   "metadata": {},
   "outputs": [
    {
     "name": "stdout",
     "output_type": "stream",
     "text": [
      "/home/charly/Lab/Projects/uJ/uJ_data/MGGT-AMP-Pulse/20190828_Bruno_MGGT_quimiostato/\n"
     ]
    }
   ],
   "source": [
    "\n",
    "uj_data_path_trillion=\"/home/charly/Lab/Projects/uJ/uJ_data/\"\n",
    "uj_data_path_trillion_online=\"/home/charly/Lab/Projects/uJ/uJ_data_online/\"\n",
    "uj_data_path=uj_data_path_trillion\n",
    "#uj_data_path=uj_data_path_trillion_online\n",
    "\n",
    "expeLabel=\"MGGT-AMP-Pulse\"\n",
    "\n",
    "rootDir=uj_data_path+\"MGGT-AMP-Pulse/20190828_Bruno_MGGT_quimiostato/\"\n",
    "\n",
    "full_trap_list=\"xy01,xy04,xy05,xy06,xy07,xy09,xy12,xy13\".split(\",\")\n",
    "\n",
    "\n",
    "\n",
    "print(rootDir)\n",
    "\n",
    "\n",
    "channels=[\"DIC\",\"GFP\",\"DsRed\"]\n",
    "channels_color=[\"gray\",\"green\",\"red\"]\n",
    "vis=[False,True,True]\n",
    "vis=[False,False,False]\n",
    "seg_chan=channels[1]\n",
    "\n",
    "\n",
    "\n",
    "frame2min=10\n",
    "\n",
    "figxlim=640\n",
    "figylim=512\n",
    "flims=(figxlim,figylim)\n",
    "\n",
    "\n",
    "frame_experiment_start=10;\n",
    "frame_experiment_end=34\n",
    "frame_signal_start=16\n",
    "frame_signal_end=20\n",
    "frame_norm_start=10\n",
    "frame_norm_end=15                  ### trick\n",
    "frame_analysis_end=34\n",
    "\n",
    "n_frames=frame_experiment_end-frame_experiment_start+1\n",
    "\n",
    "t_experiment_start=0\n",
    "t_signal_start=(frame_signal_start-frame_experiment_start)*frame2min  \n",
    "t_signal_end=(frame_signal_end-frame_experiment_start)*frame2min\n",
    "t_experiment_end=(frame_experiment_end-frame_experiment_start)*frame2min\n",
    "\n",
    "frames=range(int(frame_experiment_start),int(frame_experiment_end+1))\n",
    "frames_list=[x for x in frames]\n",
    "times=[(this_frame-frame_experiment_start)*frame2min for this_frame in frames]\n",
    "times_hour=[(this_frame-frame_experiment_start)*frame2min/60 for this_frame in frames]\n",
    "\n",
    "data_type=\"normData\"\n",
    "\n",
    "\n",
    "dirNameDataLineages=rootDir+'data/lineages/'\n",
    "\n",
    "dirNameDataNapariLabels=rootDir+'data_napari_labels/'\n",
    "if not os.path.exists(dirNameDataNapariLabels):\n",
    "    print(\"making dir napari labels...\")\n",
    "    os.makedirs(dirNameDataNapariLabels)\n",
    "\n",
    "dirNameDataCellsTrackedCorrected=rootDir+'data_cells_tracked_corrected/'\n",
    "if not os.path.exists(dirNameDataCellsTrackedCorrected):\n",
    "    print(\"making dir Cells Tracked Corrected...\")\n",
    "    os.makedirs(dirNameDataCellsTrackedCorrected)\n",
    "\n",
    "    \n",
    "dirNameDataLineagesCorrected=rootDir+'data/lineages_corrected/'\n",
    "if not os.path.exists(dirNameDataLineagesCorrected):\n",
    "    print(\"making dir lineages corrected...\")\n",
    "    os.makedirs(dirNameDataLineagesCorrected)\n",
    "\n",
    "#Prepare file system\n",
    "dataPath=\"%sdata/GFP/\"%rootDir\n",
    "\n",
    "\n",
    "trap_masks_path=[]\n",
    "trap_tif_path=[]\n",
    "for pos in full_trap_list:\n",
    "    tif_path=rootDir+\"data_raw/\"+pos+\"/\"\n",
    "    trap_tif_path.append(tif_path)\n",
    "    masks_path=rootDir+\"data_masks/\"+pos+\"/MERGE/\"  #<----------------- this is special to this experiment\n",
    "    trap_masks_path.append(masks_path)\n",
    "    \n",
    "    \n",
    "    \n",
    "\n",
    "\n"
   ]
  },
  {
   "cell_type": "markdown",
   "metadata": {},
   "source": [
    "## Chose correction trap\n",
    "\n",
    "### Do not run this cell to perform calculations for all traps\n",
    "### For trap correction, please choose one"
   ]
  },
  {
   "cell_type": "code",
   "execution_count": 5,
   "metadata": {},
   "outputs": [
    {
     "data": {
      "application/vnd.jupyter.widget-view+json": {
       "model_id": "f383a144062742d598cba7b25dbdbf44",
       "version_major": 2,
       "version_minor": 0
      },
      "text/plain": [
       "interactive(children=(Dropdown(description='Trap:', index=1, options=('All', 'xy01', 'xy04', 'xy05', 'xy06', '…"
      ]
     },
     "metadata": {},
     "output_type": "display_data"
    }
   ],
   "source": [
    "current_trap=\"All\"\n",
    "current_trap=\"xy01\"\n",
    "trap_listw=[\"All\"]+full_trap_list\n",
    "trap_menu=widgets.Dropdown(options=trap_listw,value=current_trap,description='Trap:',)\n",
    "trap_selection_widget=interactive(get_trap, sel=trap_menu,this_trap_list=fixed(full_trap_list))\n",
    "output = trap_selection_widget.children[-1]\n",
    "trap_selection_widget"
   ]
  },
  {
   "cell_type": "markdown",
   "metadata": {},
   "source": [
    "## Prepare data"
   ]
  },
  {
   "cell_type": "markdown",
   "metadata": {},
   "source": [
    "### Load tracked cells"
   ]
  },
  {
   "cell_type": "code",
   "execution_count": 6,
   "metadata": {},
   "outputs": [
    {
     "name": "stdout",
     "output_type": "stream",
     "text": [
      "Loading corrected cells !\n",
      "0: Loading MGGT-AMP-Pulse_xy01_010.pkl\n",
      "1: Loading MGGT-AMP-Pulse_xy01_011.pkl\n",
      "2: Loading MGGT-AMP-Pulse_xy01_012.pkl\n",
      "3: Loading MGGT-AMP-Pulse_xy01_013.pkl\n",
      "4: Loading MGGT-AMP-Pulse_xy01_014.pkl\n",
      "5: Loading MGGT-AMP-Pulse_xy01_015.pkl\n",
      "6: Loading MGGT-AMP-Pulse_xy01_016.pkl\n",
      "7: Loading MGGT-AMP-Pulse_xy01_017.pkl\n",
      "8: Loading MGGT-AMP-Pulse_xy01_018.pkl\n",
      "9: Loading MGGT-AMP-Pulse_xy01_019.pkl\n",
      "10: Loading MGGT-AMP-Pulse_xy01_020.pkl\n",
      "11: Loading MGGT-AMP-Pulse_xy01_021.pkl\n",
      "12: Loading MGGT-AMP-Pulse_xy01_022.pkl\n",
      "13: Loading MGGT-AMP-Pulse_xy01_023.pkl\n",
      "14: Loading MGGT-AMP-Pulse_xy01_024.pkl\n",
      "15: Loading MGGT-AMP-Pulse_xy01_025.pkl\n",
      "16: Loading MGGT-AMP-Pulse_xy01_026.pkl\n",
      "17: Loading MGGT-AMP-Pulse_xy01_027.pkl\n",
      "18: Loading MGGT-AMP-Pulse_xy01_028.pkl\n",
      "19: Loading MGGT-AMP-Pulse_xy01_029.pkl\n",
      "20: Loading MGGT-AMP-Pulse_xy01_030.pkl\n",
      "21: Loading MGGT-AMP-Pulse_xy01_031.pkl\n",
      "22: Loading MGGT-AMP-Pulse_xy01_032.pkl\n",
      "23: Loading MGGT-AMP-Pulse_xy01_033.pkl\n",
      "24: Loading MGGT-AMP-Pulse_xy01_034.pkl\n"
     ]
    }
   ],
   "source": [
    "max_frames=-1\n",
    "\n",
    "trap_tracked_cells=[]\n",
    "trap_tracked_cells_corrected=[]\n",
    "trap_corrected_list=[]\n",
    "for trap in trap_list:\n",
    "    dirNameTRACKEDCELLS=rootDir+'data_cells_tracked/'+trap+\"/\"+data_type+\"/\"\n",
    "    \n",
    "    dirNameTRACKEDCELLS_Corrrected=dirNameDataCellsTrackedCorrected+trap+\"/\"+data_type+\"/\"\n",
    "    iscorrected=os.path.exists(dirNameTRACKEDCELLS_Corrrected)\n",
    "    trap_corrected_list.append(iscorrected)\n",
    "    if(iscorrected):\n",
    "        print(\"Loading corrected cells !\")\n",
    "        tracked_cells_corrected=load_cells(dirNameTRACKEDCELLS_Corrrected,max_frames)\n",
    "        trap_tracked_cells_corrected.append(tracked_cells_corrected)\n",
    "    else:\n",
    "        print(\"Loading original cells !\")\n",
    "        tracked_cells=load_cells(dirNameTRACKEDCELLS,max_frames)\n",
    "        trap_tracked_cells.append(tracked_cells)\n",
    "    \n",
    "        tracked_cells_corrected=tracked_cells.copy()\n",
    "        trap_tracked_cells_corrected.append(tracked_cells_corrected)\n",
    "    "
   ]
  },
  {
   "cell_type": "markdown",
   "metadata": {},
   "source": [
    "### Load lineages files"
   ]
  },
  {
   "cell_type": "code",
   "execution_count": 7,
   "metadata": {},
   "outputs": [
    {
     "name": "stdout",
     "output_type": "stream",
     "text": [
      "Loading corrected lineages !\n",
      "Loading 129 lineages from /home/charly/Lab/Projects/uJ/uJ_data/MGGT-AMP-Pulse/20190828_Bruno_MGGT_quimiostato/data/lineages_corrected/MGGT-AMP-Pulse_xy01_lineages_all.csv\n"
     ]
    }
   ],
   "source": [
    "trap_df_lineages_all=[]\n",
    "trap_df_lineages_corrected_all=[]\n",
    "\n",
    "for i,trap in enumerate(trap_list):\n",
    "    \n",
    "    if(trap_corrected_list[i]):\n",
    "        print(\"Loading corrected lineages !\")\n",
    "        lineagesDataFile='%s%s_%s_lineages_all.csv'%(dirNameDataLineagesCorrected, expeLabel, trap)\n",
    "        df_lineagesC_all=load_data_lineages(lineagesDataFile)\n",
    "        trap_df_lineages_corrected_all.append(df_lineagesC_all)\n",
    "    else:\n",
    "        lineagesDataFile='%s%s_%s_lineages_all.csv'%(dirNameDataLineages, expeLabel, trap)\n",
    "        df_lineages_all=load_data_lineages(lineagesDataFile)\n",
    "        trap_df_lineages_all.append(df_lineages_all)\n",
    "        print(\"Loading original lineages !\")\n",
    "        df_lineagesC_all=df_lineages_all.copy()\n",
    "        trap_df_lineages_corrected_all.append(df_lineagesC_all)\n",
    "#df_lineages=df_lineages_all"
   ]
  },
  {
   "cell_type": "markdown",
   "metadata": {},
   "source": [
    "### Add geometric info to dataframe"
   ]
  },
  {
   "cell_type": "code",
   "execution_count": 8,
   "metadata": {
    "scrolled": true
   },
   "outputs": [
    {
     "data": {
      "text/html": [
       "<div>\n",
       "<style scoped>\n",
       "    .dataframe tbody tr th:only-of-type {\n",
       "        vertical-align: middle;\n",
       "    }\n",
       "\n",
       "    .dataframe tbody tr th {\n",
       "        vertical-align: top;\n",
       "    }\n",
       "\n",
       "    .dataframe thead th {\n",
       "        text-align: right;\n",
       "    }\n",
       "</style>\n",
       "<table border=\"1\" class=\"dataframe\">\n",
       "  <thead>\n",
       "    <tr style=\"text-align: right;\">\n",
       "      <th></th>\n",
       "      <th>lineageID</th>\n",
       "      <th>trackID</th>\n",
       "      <th>cellID</th>\n",
       "      <th>motherID</th>\n",
       "      <th>frame</th>\n",
       "      <th>roiID</th>\n",
       "      <th>length</th>\n",
       "      <th>division</th>\n",
       "      <th>state</th>\n",
       "      <th>tracking_score</th>\n",
       "      <th>GFP</th>\n",
       "      <th>DsRed</th>\n",
       "      <th>cellColor</th>\n",
       "      <th>center</th>\n",
       "      <th>roiPoly</th>\n",
       "      <th>axis</th>\n",
       "    </tr>\n",
       "  </thead>\n",
       "  <tbody>\n",
       "    <tr>\n",
       "      <th>0</th>\n",
       "      <td>33</td>\n",
       "      <td>33.009-34.006</td>\n",
       "      <td>33.009</td>\n",
       "      <td>33.009</td>\n",
       "      <td>33</td>\n",
       "      <td>roi_f33_n9_x458_y189</td>\n",
       "      <td>104.191543</td>\n",
       "      <td>1</td>\n",
       "      <td>0</td>\n",
       "      <td>167.193529</td>\n",
       "      <td>120.901</td>\n",
       "      <td>107.48</td>\n",
       "      <td>#a1147f</td>\n",
       "      <td>POINT (459.8148604514472 190.3200088638108)</td>\n",
       "      <td>POLYGON ((463 192, 462 192, 462 196, 461 196, ...</td>\n",
       "      <td>LINESTRING (448.3693111040685 241, 448.3737919...</td>\n",
       "    </tr>\n",
       "  </tbody>\n",
       "</table>\n",
       "</div>"
      ],
      "text/plain": [
       "   lineageID        trackID  cellID motherID  frame                 roiID  \\\n",
       "0         33  33.009-34.006  33.009   33.009     33  roi_f33_n9_x458_y189   \n",
       "\n",
       "       length  division  state  tracking_score      GFP   DsRed cellColor  \\\n",
       "0  104.191543         1      0      167.193529  120.901  107.48   #a1147f   \n",
       "\n",
       "                                        center  \\\n",
       "0  POINT (459.8148604514472 190.3200088638108)   \n",
       "\n",
       "                                             roiPoly  \\\n",
       "0  POLYGON ((463 192, 462 192, 462 196, 461 196, ...   \n",
       "\n",
       "                                                axis  \n",
       "0  LINESTRING (448.3693111040685 241, 448.3737919...  "
      ]
     },
     "execution_count": 8,
     "metadata": {},
     "output_type": "execute_result"
    }
   ],
   "source": [
    "trap_df_lineages_geoms=[]\n",
    "\n",
    "for i,trap in enumerate(trap_list):\n",
    "    if(trap_corrected_list[i]):\n",
    "        tracked_cells=trap_tracked_cells_corrected[i]\n",
    "        df_lineages=trap_df_lineages_corrected_all[i]\n",
    "    else:\n",
    "        tracked_cells=trap_tracked_cells[i]\n",
    "        df_lineages=trap_df_lineages_all[i]\n",
    "    trap_newDF_list=[]\n",
    "    for row in df_lineages.itertuples(index=False):\n",
    "        this_id=row.cellID\n",
    "        trackid=row.trackID\n",
    "        f,n=this_id.split('.')\n",
    "        this_cell=tracked_cells[int(f)-frame_experiment_start][int(n)]\n",
    "        new_df=pd.DataFrame.from_records([{\"cellID\":this_id,\"trackID\":trackid,\"cellColor\":this_cell['cellColor'],\"center\":this_cell['center'],\"roiPoly\":this_cell['roiPoly'],\"axis\":this_cell['axis']}], index='cellID')\n",
    "        trap_newDF_list.append(new_df)\n",
    "    trap_newDF=pd.concat(trap_newDF_list)\n",
    "    df_lineages_geoms=pd.merge(df_lineages,trap_newDF,on=['cellID','trackID'])\n",
    "    trap_df_lineages_geoms.append(df_lineages_geoms)\n",
    "df_lineages_geoms.head(1)"
   ]
  },
  {
   "cell_type": "markdown",
   "metadata": {},
   "source": [
    "## Calculating napari-masks from polys\n",
    "### If files are not found set: \n",
    "#### recalculateRois=True"
   ]
  },
  {
   "cell_type": "code",
   "execution_count": 9,
   "metadata": {
    "scrolled": true
   },
   "outputs": [
    {
     "name": "stdout",
     "output_type": "stream",
     "text": [
      "Loading files files...\n",
      "Done!\n"
     ]
    }
   ],
   "source": [
    "empty_mask=np.zeros((n_frames,figylim,figxlim))   ### Creates empty matrix array\n",
    "matrix_shape = empty_mask.shape[1:]\n",
    "roi_mask=deepcopy(empty_mask)\n",
    "\n",
    "\n",
    "\n",
    "recalculateRois=False\n",
    "#recalculateRois=True\n",
    "\n",
    "\n",
    "trap_roi_masks=[]\n",
    "trap_cellID_to_lineage=[]\n",
    "trap_colorsLid=[]\n",
    "trap_colorsCid=[]\n",
    "#trap_cellID_to_masks=[]\n",
    "for ti,trap in enumerate(trap_list):\n",
    "    cellID_to_lineage={}\n",
    "    colorsLid={}\n",
    "    colorsCid={}\n",
    "\n",
    "    if recalculateRois:\n",
    "        this_trap_cells=trap_tracked_cells[ti]\n",
    "        df_lineages_geoms=trap_df_lineages_geoms[ti]\n",
    "        nlineages=df_lineages_geoms.lineageID.unique().shape[0]\n",
    "        cmap = get_cmap_Lineages(nlineages)\n",
    "        for frame_i,frame in enumerate(frames_list):\n",
    "            print(\"Calulating frame: %s\"%frame,end=\"\\r\")\n",
    "            this_frame_df_lineages_geoms=df_lineages_geoms[df_lineages_geoms[\"frame\"]==frame]\n",
    "            this_cells=this_trap_cells[frame_i]\n",
    "            for this_cell in this_cells:\n",
    "                cellID=this_cell[\"cellID\"]\n",
    "                this_cell_df=this_frame_df_lineages_geoms[this_frame_df_lineages_geoms[\"cellID\"]==cellID]\n",
    "                if(this_cell_df.shape[0]==0):\n",
    "                    this_lid=nlineages+1\n",
    "                elif(this_cell_df.shape[0]>1):\n",
    "                    #display(this_cell_df)\n",
    "                    this_cell_df2=this_cell_df[this_cell_df.tracking_score==this_cell_df.tracking_score.max()]\n",
    "                    this_lid_list=list(this_cell_df2.lineageID.unique())\n",
    "                    if(this_lid_list==[]):\n",
    "                        #display(this_cell_df)\n",
    "                        #display(this_cell_df2)\n",
    "                        this_lid=nlineages+1\n",
    "                    else:\n",
    "                        this_lid=int(this_lid_list[0])\n",
    "                else:#(this_cell_df.tracking_score.isnull()==True):\n",
    "                    this_lid=int(this_cell_df.lineageID)\n",
    "                \n",
    "                this_color=cmap(this_lid)\n",
    "                colorsLid[this_lid]=this_color\n",
    "                cellID_to_lineage[float(cellID)]=this_lid\n",
    "                colorsCid[float(cellID)]=this_cell[\"cellColor\"]\n",
    "                #cellID_to_lineage[int(float(cellID)*1000)]=this_lid\n",
    "\n",
    "                this_poly=this_cell[\"roiPoly\"]\n",
    "                napari_coords=np.array([[int(y),int(x)] for (x,y) in this_poly.exterior.coords])\n",
    "                mask = measure.grid_points_in_poly(matrix_shape, napari_coords)\n",
    "                roi_mask[frame_i][mask] = float(cellID)\n",
    "                #roi_mask[frame_i][mask] = int(float(cellID)*1000)\n",
    "        trap_roi_masks.append(roi_mask)   \n",
    "        print(\"\\nSaving files\")\n",
    "        this_file=dirNameDataNapariLabels+\"%s_%s_roi_mask.npy\"%(trap,seg_chan)\n",
    "        np.save(this_file,roi_mask)\n",
    "        this_file=dirNameDataNapariLabels+\"%s_%s_colors_dict.npy\"%(trap,seg_chan)\n",
    "        np.save(this_file,colorsCid)\n",
    "        this_file=dirNameDataNapariLabels+\"%s_%s_colors_lineages_dict.npy\"%(trap,seg_chan)\n",
    "        np.save(this_file,colorsLid)\n",
    "        this_file=dirNameDataNapariLabels+\"%s_%s_cell_lineages_dict.npy\"%(trap,seg_chan)\n",
    "        np.save(this_file,cellID_to_lineage)\n",
    "        \n",
    "    else:\n",
    "        print(\"Loading files files...\")\n",
    "        this_file=dirNameDataNapariLabels+\"%s_%s_roi_mask.npy\"%(trap,seg_chan)\n",
    "        roi_mask=np.load(this_file)\n",
    "        this_file=dirNameDataNapariLabels+\"%s_%s_colors_dict.npy\"%(trap,seg_chan)\n",
    "        colorsCid=np.load(this_file,allow_pickle=True).item()\n",
    "              \n",
    "        this_file=dirNameDataNapariLabels+\"%s_%s_colors_lineages_dict.npy\"%(trap,seg_chan)\n",
    "        colorsLid=np.load(this_file,allow_pickle=True).item()\n",
    "        \n",
    "        this_file=dirNameDataNapariLabels+\"%s_%s_cell_lineages_dict.npy\"%(trap,seg_chan)\n",
    "        cellID_to_lineage=np.load(this_file,allow_pickle=True).item()\n",
    "        this_file=dirNameDataNapariLabels+\"%s_%s_cell_lineages_dict_corrected.npy\"%(trap,seg_chan)\n",
    "        if(os.path.exists(this_file)):\n",
    "            cellID_to_lineage=np.load(this_file,allow_pickle=True).item()\n",
    "            \n",
    "        trap_roi_masks.append(roi_mask)\n",
    "        trap_colorsCid.append(colorsCid)\n",
    "        trap_colorsLid.append(colorsLid)\n",
    "        trap_cellID_to_lineage.append(cellID_to_lineage)\n",
    "        #trap_cellID_to_masks.append(cellID_to_masks)\n",
    "print(\"Done!\")"
   ]
  },
  {
   "cell_type": "markdown",
   "metadata": {},
   "source": [
    "### Small fix for bug from lineage maker\n",
    "#### Linegae maker ----> when 2 tracks/lineages colide in the first frame, two lineages are kept"
   ]
  },
  {
   "cell_type": "code",
   "execution_count": 10,
   "metadata": {},
   "outputs": [
    {
     "name": "stdout",
     "output_type": "stream",
     "text": [
      "Checking wrong divs for lineage 33\n",
      "Checking wrong divs for lineage 39\n",
      "Checking wrong divs for lineage 1\n",
      "Checking wrong divs for lineage 3\n",
      "Checking wrong divs for lineage 37\n",
      "Checking wrong divs for lineage 4\n",
      "Checking wrong divs for lineage 14\n",
      "Checking wrong divs for lineage 31\n",
      "Checking wrong divs for lineage 25\n",
      "Checking wrong divs for lineage 12\n",
      "Checking wrong divs for lineage 13\n",
      "Checking wrong divs for lineage 11\n",
      "Checking wrong divs for lineage 27\n",
      "Checking wrong divs for lineage 15\n",
      "Checking wrong divs for lineage 17\n",
      "Checking wrong divs for lineage 5\n",
      "Checking wrong divs for lineage 18\n",
      "Checking wrong divs for lineage 10\n",
      "Checking wrong divs for lineage 23\n",
      "Checking wrong divs for lineage 24\n",
      "Checking wrong divs for lineage 28\n",
      "Checking wrong divs for lineage 30\n",
      "Checking wrong divs for lineage 32\n",
      "Checking wrong divs for lineage 29\n",
      "Checking wrong divs for lineage 2\n",
      "Checking wrong divs for lineage 35\n",
      "Checking wrong divs for lineage 6\n",
      "Checking wrong divs for lineage 22\n",
      "Checking wrong divs for lineage 7\n",
      "Checking wrong divs for lineage 34\n",
      "Checking wrong divs for lineage 8\n",
      "Checking wrong divs for lineage 9\n",
      "Checking wrong divs for lineage 36\n",
      "Checking wrong divs for lineage 38\n",
      "Checking wrong divs for lineage 40\n"
     ]
    }
   ],
   "source": [
    "df_lineages_geoms=fix_cells_with_double_lineages(df_lineages_geoms)\n",
    "xx=df_lineages_geoms.lineageID.unique()\n",
    "for x in xx:\n",
    "    df_lineages_geoms=fix_wrong_divisions(df_lineages_geoms,x)\n"
   ]
  },
  {
   "cell_type": "markdown",
   "metadata": {},
   "source": [
    "## Create local trap data backup for restarting correction session"
   ]
  },
  {
   "cell_type": "code",
   "execution_count": 11,
   "metadata": {},
   "outputs": [],
   "source": [
    "backup_cells=deepcopy(tracked_cells_corrected)\n",
    "backup_df_lineages=deepcopy(df_lineages_geoms)\n",
    "last_save_cells=deepcopy(tracked_cells_corrected)\n",
    "last_save_df_lineages=deepcopy(df_lineages_geoms)"
   ]
  },
  {
   "cell_type": "markdown",
   "metadata": {},
   "source": [
    "## Napari viewer"
   ]
  },
  {
   "cell_type": "markdown",
   "metadata": {
    "id": "sX5VizSAEbet"
   },
   "source": [
    "### Open raw/tif images"
   ]
  },
  {
   "cell_type": "code",
   "execution_count": 15,
   "metadata": {
    "id": "TZ5Mq6DwEbet"
   },
   "outputs": [],
   "source": [
    "%gui qt\n",
    "\n",
    "cellViewer=napari.Viewer()\n",
    "cellViewer.title=\"cellViewer-ESB\"\n",
    "\n",
    "trap_index=full_trap_list.index(current_trap)\n",
    "tif_path=trap_tif_path[trap_index]\n",
    "masks_path=trap_masks_path[trap_index]\n",
    "\n",
    "for chan,col,v in zip(channels,channels_color,vis):\n",
    "    this_path=tif_path+chan+\"/\"\n",
    "    cellViewer.open(this_path,blending='additive',colormap=col,name=chan,visible=v)\n",
    "cellViewer.open(masks_path,blending='additive',colormap='gray',name='masks',visible=False)\n",
    "cellViewer.dims.set_axis_label(0,\"frame(-%s)\"%frame_experiment_start)"
   ]
  },
  {
   "cell_type": "markdown",
   "metadata": {},
   "source": [
    "### Add widgets and buttons"
   ]
  },
  {
   "cell_type": "code",
   "execution_count": 16,
   "metadata": {},
   "outputs": [
    {
     "name": "stdout",
     "output_type": "stream",
     "text": [
      "Current number of lineages 40\n",
      "Selecting lineage 1     \n",
      "\n"
     ]
    },
    {
     "data": {
      "text/plain": [
       "(1, 1, 'None')"
      ]
     },
     "execution_count": 16,
     "metadata": {},
     "output_type": "execute_result"
    }
   ],
   "source": [
    "cellViewer.window.remove_dock_widget(\"all\");plotwidget=False\n",
    "\n",
    "add_lineage_slider_widget(cellViewer)\n",
    "add_save_buttons(cellViewer)\n",
    "LoadKeyBindedFuctions(cellViewer)\n",
    "lineage_slider()\n",
    "slider_default_val,current_lineageID,current_trackID"
   ]
  },
  {
   "cell_type": "code",
   "execution_count": 14,
   "metadata": {},
   "outputs": [],
   "source": [
    "#cellViewer.close()\n"
   ]
  },
  {
   "cell_type": "code",
   "execution_count": null,
   "metadata": {},
   "outputs": [],
   "source": [
    "# cellViewer.window.activate()\n",
    "# cellViewer.window.qt_viewer.console.execute()"
   ]
  },
  {
   "cell_type": "markdown",
   "metadata": {},
   "source": [
    "## Fix corrections errors\n",
    "### Run this after finishing all trap corrections"
   ]
  },
  {
   "cell_type": "markdown",
   "metadata": {},
   "source": [
    "\n",
    "### Here you get the wrong track names and tracks that were wrongly formed"
   ]
  },
  {
   "cell_type": "code",
   "execution_count": 17,
   "metadata": {
    "scrolled": false
   },
   "outputs": [
    {
     "name": "stdout",
     "output_type": "stream",
     "text": [
      "Wrong structure tracks []\n",
      "Wrong named tracks []\n"
     ]
    }
   ],
   "source": [
    "wrong_track_names,wrong_track_names=dataframe_error_reporter(df_lineages_geoms)"
   ]
  },
  {
   "cell_type": "markdown",
   "metadata": {},
   "source": [
    "### Please corrrect the tracks with wrong structure manually (if any)\n",
    "#### you can drop them from the dataframe or drop specific lines and re-associate-deassociate"
   ]
  },
  {
   "cell_type": "code",
   "execution_count": 18,
   "metadata": {
    "scrolled": false
   },
   "outputs": [
    {
     "data": {
      "text/html": [
       "<div>\n",
       "<style scoped>\n",
       "    .dataframe tbody tr th:only-of-type {\n",
       "        vertical-align: middle;\n",
       "    }\n",
       "\n",
       "    .dataframe tbody tr th {\n",
       "        vertical-align: top;\n",
       "    }\n",
       "\n",
       "    .dataframe thead th {\n",
       "        text-align: right;\n",
       "    }\n",
       "</style>\n",
       "<table border=\"1\" class=\"dataframe\">\n",
       "  <thead>\n",
       "    <tr style=\"text-align: right;\">\n",
       "      <th></th>\n",
       "      <th>lineageID</th>\n",
       "      <th>trackID</th>\n",
       "      <th>cellID</th>\n",
       "      <th>motherID</th>\n",
       "      <th>frame</th>\n",
       "      <th>roiID</th>\n",
       "      <th>length</th>\n",
       "      <th>division</th>\n",
       "      <th>state</th>\n",
       "      <th>tracking_score</th>\n",
       "      <th>GFP</th>\n",
       "      <th>DsRed</th>\n",
       "      <th>cellColor</th>\n",
       "      <th>center</th>\n",
       "      <th>roiPoly</th>\n",
       "      <th>axis</th>\n",
       "    </tr>\n",
       "  </thead>\n",
       "  <tbody>\n",
       "    <tr>\n",
       "      <th>708</th>\n",
       "      <td>36</td>\n",
       "      <td>10.006-13.005</td>\n",
       "      <td>10.006</td>\n",
       "      <td>10.006</td>\n",
       "      <td>10</td>\n",
       "      <td>roi_f10_n6_x150_y224</td>\n",
       "      <td>18.618064</td>\n",
       "      <td>0</td>\n",
       "      <td>0</td>\n",
       "      <td>0.0</td>\n",
       "      <td>119.275</td>\n",
       "      <td>108.264</td>\n",
       "      <td>#83784b</td>\n",
       "      <td>POINT (149.5869072363876 224.3073716807991)</td>\n",
       "      <td>POLYGON ((153 225, 152 225, 152 229, 151 229, ...</td>\n",
       "      <td>LINESTRING (146.2004655478 232.6586492581778, ...</td>\n",
       "    </tr>\n",
       "  </tbody>\n",
       "</table>\n",
       "</div>"
      ],
      "text/plain": [
       "     lineageID        trackID  cellID motherID  frame                 roiID  \\\n",
       "708         36  10.006-13.005  10.006   10.006     10  roi_f10_n6_x150_y224   \n",
       "\n",
       "        length  division  state  tracking_score      GFP    DsRed cellColor  \\\n",
       "708  18.618064         0      0             0.0  119.275  108.264   #83784b   \n",
       "\n",
       "                                          center  \\\n",
       "708  POINT (149.5869072363876 224.3073716807991)   \n",
       "\n",
       "                                               roiPoly  \\\n",
       "708  POLYGON ((153 225, 152 225, 152 229, 151 229, ...   \n",
       "\n",
       "                                                  axis  \n",
       "708  LINESTRING (146.2004655478 232.6586492581778, ...  "
      ]
     },
     "metadata": {},
     "output_type": "display_data"
    },
    {
     "data": {
      "text/html": [
       "<div>\n",
       "<style scoped>\n",
       "    .dataframe tbody tr th:only-of-type {\n",
       "        vertical-align: middle;\n",
       "    }\n",
       "\n",
       "    .dataframe tbody tr th {\n",
       "        vertical-align: top;\n",
       "    }\n",
       "\n",
       "    .dataframe thead th {\n",
       "        text-align: right;\n",
       "    }\n",
       "</style>\n",
       "<table border=\"1\" class=\"dataframe\">\n",
       "  <thead>\n",
       "    <tr style=\"text-align: right;\">\n",
       "      <th></th>\n",
       "      <th>lineageID</th>\n",
       "      <th>trackID</th>\n",
       "      <th>cellID</th>\n",
       "      <th>motherID</th>\n",
       "      <th>frame</th>\n",
       "      <th>roiID</th>\n",
       "      <th>length</th>\n",
       "      <th>division</th>\n",
       "      <th>state</th>\n",
       "      <th>tracking_score</th>\n",
       "      <th>GFP</th>\n",
       "      <th>DsRed</th>\n",
       "      <th>cellColor</th>\n",
       "      <th>center</th>\n",
       "      <th>roiPoly</th>\n",
       "      <th>axis</th>\n",
       "    </tr>\n",
       "  </thead>\n",
       "  <tbody>\n",
       "  </tbody>\n",
       "</table>\n",
       "</div>"
      ],
      "text/plain": [
       "Empty DataFrame\n",
       "Columns: [lineageID, trackID, cellID, motherID, frame, roiID, length, division, state, tracking_score, GFP, DsRed, cellColor, center, roiPoly, axis]\n",
       "Index: []"
      ]
     },
     "metadata": {},
     "output_type": "display_data"
    }
   ],
   "source": [
    "### by cellID\n",
    "cidx='26.006'\n",
    "#cidx='27.019'\n",
    "#cidx='31.021'\n",
    "cidx='10.006'\n",
    "display(df_lineages_geoms[df_lineages_geoms[\"cellID\"]==cidx])\n",
    "\n",
    "temp_tracks=df_lineages_geoms[df_lineages_geoms[\"cellID\"]==cidx][\"trackID\"]\n",
    "\n",
    "### by lineageID\n",
    "\n",
    "#temp_tracks=df_lineages_geoms[df_lineages_geoms[\"lineageID\"]==26][\"trackID\"].unique()\n",
    "\n",
    "### by spicific track\n",
    "temp_tracks=['cellID1-cellID2']\n",
    "                    \n",
    "\n",
    "#temp_tracks.sort()\n",
    "#print(temp_tracks)\n",
    "for temp_track in temp_tracks:\n",
    "    display(df_lineages_geoms[df_lineages_geoms[\"trackID\"]==temp_track])\n"
   ]
  },
  {
   "cell_type": "code",
   "execution_count": null,
   "metadata": {},
   "outputs": [],
   "source": [
    "#df_lineages_geoms=df_lineages_geoms.drop(4559)"
   ]
  },
  {
   "cell_type": "code",
   "execution_count": 19,
   "metadata": {},
   "outputs": [
    {
     "name": "stdout",
     "output_type": "stream",
     "text": [
      "41\n",
      "Int64Index([], dtype='int64')\n"
     ]
    },
    {
     "data": {
      "text/html": [
       "<div>\n",
       "<style scoped>\n",
       "    .dataframe tbody tr th:only-of-type {\n",
       "        vertical-align: middle;\n",
       "    }\n",
       "\n",
       "    .dataframe tbody tr th {\n",
       "        vertical-align: top;\n",
       "    }\n",
       "\n",
       "    .dataframe thead th {\n",
       "        text-align: right;\n",
       "    }\n",
       "</style>\n",
       "<table border=\"1\" class=\"dataframe\">\n",
       "  <thead>\n",
       "    <tr style=\"text-align: right;\">\n",
       "      <th></th>\n",
       "      <th>lineageID</th>\n",
       "      <th>trackID</th>\n",
       "      <th>cellID</th>\n",
       "      <th>motherID</th>\n",
       "      <th>frame</th>\n",
       "      <th>roiID</th>\n",
       "      <th>length</th>\n",
       "      <th>division</th>\n",
       "      <th>state</th>\n",
       "      <th>tracking_score</th>\n",
       "      <th>GFP</th>\n",
       "      <th>DsRed</th>\n",
       "      <th>cellColor</th>\n",
       "      <th>center</th>\n",
       "      <th>roiPoly</th>\n",
       "      <th>axis</th>\n",
       "    </tr>\n",
       "  </thead>\n",
       "  <tbody>\n",
       "  </tbody>\n",
       "</table>\n",
       "</div>"
      ],
      "text/plain": [
       "Empty DataFrame\n",
       "Columns: [lineageID, trackID, cellID, motherID, frame, roiID, length, division, state, tracking_score, GFP, DsRed, cellColor, center, roiPoly, axis]\n",
       "Index: []"
      ]
     },
     "metadata": {},
     "output_type": "display_data"
    }
   ],
   "source": [
    "x=max(df_lineages_geoms.lineageID.unique())\n",
    "nlins=x+1\n",
    "print(nlins)\n",
    "temp_track=list(temp_tracks)[0]\n",
    "inxs=df_lineages_geoms[df_lineages_geoms[\"trackID\"]==temp_track].index\n",
    "print(inxs)\n",
    "#df_lineages_geoms=df_lineages_geoms.drop(inxs)\n",
    "#df_lineages_geoms.loc[inxs,\"lineageID\"]=4\n",
    "#df_lineages_geoms.loc[inxs,\"lineageID\"]=nlins\n",
    "#df_lineages_geoms.loc[[296,659],\"division\"]=1\n",
    "#df_lineages_geoms.loc[inxs,\"trackID\"]=\"21.030-33.010\"\n",
    "for tt in temp_tracks:\n",
    "    display(df_lineages_geoms[df_lineages_geoms[\"trackID\"]==temp_track])\n"
   ]
  },
  {
   "cell_type": "markdown",
   "metadata": {},
   "source": [
    "### This section corrects wrong tracks names\n",
    "### Set confirmation to True to choose correction for each one"
   ]
  },
  {
   "cell_type": "code",
   "execution_count": 20,
   "metadata": {
    "scrolled": true
   },
   "outputs": [
    {
     "name": "stdout",
     "output_type": "stream",
     "text": [
      "Automatic changing wrog track names\n"
     ]
    }
   ],
   "source": [
    "df_lineages_geoms=dataframe_error_name_corrrector(df_lineages_geoms,wrong_track_names,confirmation=False)"
   ]
  },
  {
   "cell_type": "markdown",
   "metadata": {},
   "source": [
    "### This section corrects wrongly splitted tracks upopn division"
   ]
  },
  {
   "cell_type": "code",
   "execution_count": 21,
   "metadata": {},
   "outputs": [
    {
     "name": "stdout",
     "output_type": "stream",
     "text": [
      "checking lineage:\n",
      "1, 2, 3, 4, 5, 6, 7, 8, 9, 10, 11, 12, 13, 14, 15, 17, 18, 22, 23, 24, 25, 27, 28, 29, 30, 31, 32, 33, 34, 35, 36, 37, 38, 39, 40, "
     ]
    }
   ],
   "source": [
    "df_lineages_geoms=fix_splited_tracks_and_divisions(df_lineages_geoms)"
   ]
  },
  {
   "cell_type": "markdown",
   "metadata": {},
   "source": [
    "### check there are no erros left"
   ]
  },
  {
   "cell_type": "code",
   "execution_count": 23,
   "metadata": {},
   "outputs": [
    {
     "name": "stdout",
     "output_type": "stream",
     "text": [
      "Wrong structure tracks []\n",
      "Wrong named tracks []\n"
     ]
    }
   ],
   "source": [
    "wrong_track_names2,wrong_track_names2=dataframe_error_reporter(df_lineages_geoms)"
   ]
  },
  {
   "cell_type": "markdown",
   "metadata": {},
   "source": [
    "### upload session data\n",
    "### depending on your Gdrive syncer you may want to work locally and then sync to your online data files"
   ]
  },
  {
   "cell_type": "code",
   "execution_count": 71,
   "metadata": {},
   "outputs": [
    {
     "name": "stdout",
     "output_type": "stream",
     "text": [
      "Syncing cells\n",
      "sending incremental file list\n",
      "./\n",
      "xy01/\n",
      "xy01/normData/\n",
      "xy01/normData/MGGT-AMP-Pulse_xy01_010.pkl\n",
      "xy01/normData/MGGT-AMP-Pulse_xy01_011.pkl\n",
      "xy01/normData/MGGT-AMP-Pulse_xy01_012.pkl\n",
      "xy01/normData/MGGT-AMP-Pulse_xy01_013.pkl\n",
      "xy01/normData/MGGT-AMP-Pulse_xy01_014.pkl\n",
      "xy01/normData/MGGT-AMP-Pulse_xy01_015.pkl\n",
      "xy01/normData/MGGT-AMP-Pulse_xy01_016.pkl\n",
      "xy01/normData/MGGT-AMP-Pulse_xy01_017.pkl\n",
      "xy01/normData/MGGT-AMP-Pulse_xy01_018.pkl\n",
      "xy01/normData/MGGT-AMP-Pulse_xy01_019.pkl\n",
      "xy01/normData/MGGT-AMP-Pulse_xy01_020.pkl\n",
      "xy01/normData/MGGT-AMP-Pulse_xy01_021.pkl\n",
      "xy01/normData/MGGT-AMP-Pulse_xy01_022.pkl\n",
      "xy01/normData/MGGT-AMP-Pulse_xy01_023.pkl\n",
      "xy01/normData/MGGT-AMP-Pulse_xy01_024.pkl\n",
      "xy01/normData/MGGT-AMP-Pulse_xy01_025.pkl\n",
      "xy01/normData/MGGT-AMP-Pulse_xy01_026.pkl\n",
      "xy01/normData/MGGT-AMP-Pulse_xy01_027.pkl\n",
      "xy01/normData/MGGT-AMP-Pulse_xy01_028.pkl\n",
      "xy01/normData/MGGT-AMP-Pulse_xy01_029.pkl\n",
      "xy01/normData/MGGT-AMP-Pulse_xy01_030.pkl\n",
      "xy01/normData/MGGT-AMP-Pulse_xy01_031.pkl\n",
      "xy01/normData/MGGT-AMP-Pulse_xy01_032.pkl\n",
      "xy01/normData/MGGT-AMP-Pulse_xy01_033.pkl\n",
      "xy01/normData/MGGT-AMP-Pulse_xy01_034.pkl\n",
      "\n",
      "sent 4,441,236 bytes  received 508 bytes  16,792.98 bytes/sec\n",
      "total size is 32,253,534  speedup is 7.26\n",
      "Syncing dataframe\n",
      "sending incremental file list\n",
      "./\n",
      "MGGT-AMP-Pulse_xy01_lineages_all.csv\n",
      "_MGGT-AMP-Pulse_xy01_lineages_all.csv\n",
      "\n",
      "sent 186,268 bytes  received 57 bytes  7,928.72 bytes/sec\n",
      "total size is 909,820  speedup is 4.88\n",
      "Syncing napari labels data\n",
      "sending incremental file list\n",
      "xy01_GFP_cell_lineages_dict.npy\n",
      "xy01_GFP_colors_dict.npy\n",
      "xy01_GFP_colors_lineages_dict.npy\n",
      "xy01_GFP_roi_mask.npy\n",
      "\n",
      "sent 65,583,696 bytes  received 92 bytes  353,551.42 bytes/sec\n",
      "total size is 131,345,299  speedup is 2.00\n"
     ]
    }
   ],
   "source": [
    "rootDir0=uj_data_path_trillion+\"MGGT-AMP-Pulse/20190828_Bruno_MGGT_quimiostato/\"\n",
    "rootDir1=uj_data_path_trillion_online+\"MGGT-AMP-Pulse/20190828_Bruno_MGGT_quimiostato/\"\n",
    "\n",
    "dirNameDataCellsTrackedCorrected0=rootDir0+\"data_cells_tracked_corrected/\"\n",
    "dirNameDataCellsTrackedCorrected1=rootDir1+\"data_cells_tracked_corrected/\"\n",
    "dirNameDataLineagesCorrected0=rootDir0+\"data/lineages_corrected/\"\n",
    "dirNameDataLineagesCorrected1=rootDir1+\"data/lineages_corrected/\"\n",
    "\n",
    "dirNameDataNapariLabels0=rootDir0+'data_napari_labels/'\n",
    "dirNameDataNapariLabels1=rootDir1+'data_napari_labels/'\n",
    "\n",
    "\n",
    "#print(\"watch -n 600 rsync -auv %s %s | rsync -auv %s %s \"%(dirNameDataCellsTrackedCorrected0,dirNameDataCellsTrackedCorrected1,dirNameDataLineagesCorrected0,dirNameDataLineagesCorrected1))\n",
    "print(\"Syncing cells\")\n",
    "!rsync -auv $dirNameDataCellsTrackedCorrected0 $dirNameDataCellsTrackedCorrected1 \n",
    "print(\"Syncing dataframe\")\n",
    "!rsync -auv $dirNameDataLineagesCorrected0 $dirNameDataLineagesCorrected1\n",
    "print(\"Syncing napari labels data\")\n",
    "!rsync -auv $dirNameDataNapariLabels0 $dirNameDataNapariLabels1"
   ]
  },
  {
   "cell_type": "markdown",
   "metadata": {},
   "source": [
    "## Native binded keys\n",
    "##### Ctrl Switch to fill mode temporarily when pressed\n",
    "##### Ctrl+Y Toggle ndisplay\n",
    "##### ← Increment dimensions slider to the left\n",
    "##### →Increment dimensions slider to the right\n",
    "##### Alt+↑ Move focus of dimensions slider up\n",
    "##### Alt+↓ Move focus of dimensions slider down\n",
    "##### Ctrl+E Change order of the visible axes, e.g. [0, 1, 2] -> [2, 0, 1]\n",
    "##### Ctrl+T Transpose order of the last two visible axes, e.g. [0, 1] -> [1, 0]\n",
    "##### Ctrl+Delete Remove selected layers\n",
    "##### Ctrl+⌫ Remove selected layers\n",
    "##### Ctrl+A Selected all layers\n",
    "##### Ctrl+⇧+Delete Remove all layers\n",
    "##### Ctrl+⇧+⌫ Remove all layers\n",
    "##### ↑ Select layer above\n",
    "##### ↓ Select layer below\n",
    "##### ⇧+↑ Also select layer above\n",
    "##### ⇧+↓ Also select layer below\n",
    "##### Ctrl+R Reset view to original state\n",
    "##### Ctrl+G Toggle grid mode\n",
    "##### V Toggle visibility of selected layers\n",
    "##### Space Hold to pan and zoom in the viewer\n",
    "##### P Activate the paintbrush\n",
    "##### F Activate the fill bucket\n",
    "##### Z Activate pan and zoom mode\n",
    "##### L Activate the label picker\n",
    "##### E Activate the label eraser\n",
    "##### M Set the currently selected label to the largest used label plus one\n",
    "##### D Decrease the currently selected label by one\n",
    "##### I Increase the currently selected label by one\n",
    "##### Ctrl+Z Undo the last paint or fill action since the view slice has changed\n",
    "##### Ctrl+⇧+Z Redo any previously undone actions\n",
    "##### ⇧ Toggle preserve label option when pressed\n",
    "##### Alt Switch to erase mode temporarily when pressed\n"
   ]
  },
  {
   "cell_type": "code",
   "execution_count": null,
   "metadata": {},
   "outputs": [],
   "source": []
  },
  {
   "cell_type": "code",
   "execution_count": null,
   "metadata": {},
   "outputs": [],
   "source": []
  },
  {
   "cell_type": "code",
   "execution_count": null,
   "metadata": {},
   "outputs": [],
   "source": []
  }
 ],
 "metadata": {
  "kernelspec": {
   "display_name": "Python 3",
   "language": "python",
   "name": "python3"
  },
  "language_info": {
   "codemirror_mode": {
    "name": "ipython",
    "version": 3
   },
   "file_extension": ".py",
   "mimetype": "text/x-python",
   "name": "python",
   "nbconvert_exporter": "python",
   "pygments_lexer": "ipython3",
   "version": "3.9.1"
  }
 },
 "nbformat": 4,
 "nbformat_minor": 4
}
