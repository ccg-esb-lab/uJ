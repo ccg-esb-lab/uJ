{
 "cells": [
  {
   "cell_type": "code",
   "execution_count": 1,
   "metadata": {},
   "outputs": [],
   "source": [
    "import sys\n",
    "import os\n",
    "import numpy as np\n",
    "from matplotlib import pyplot as plt\n",
    "from matplotlib import cm\n",
    "import matplotlib as mpl\n",
    "import matplotlib.patches as patches\n",
    "from descartes.patch import PolygonPatch\n",
    "from matplotlib.backends.backend_qt5agg import FigureCanvas\n",
    "from matplotlib.figure import Figure\n",
    "\n",
    "import networkx as nx\n",
    "import pygraphviz\n",
    "import pydot\n",
    "from networkx.drawing.nx_agraph import graphviz_layout\n",
    "\n",
    "import random\n",
    "import pandas as pd\n",
    "import napari\n",
    "\n",
    "import random\n",
    "from shapely.geometry import Point,MultiPoint,MultiPolygon,Polygon,box,LineString\n",
    "from shapely import affinity\n",
    "import re\n",
    "\n",
    "from shapely import geometry\n",
    "import pickle\n",
    "import time\n",
    "\n",
    "import ipywidgets as widgets\n",
    "import ipywidgets.widgets.interaction\n",
    "from ipywidgets import *\n",
    "import warnings\n",
    "warnings.simplefilter('ignore', np.RankWarning)\n",
    "\n",
    "from copy import deepcopy\n",
    "import magicgui as mg\n",
    "from magicgui import magicgui\n",
    "\n",
    "\n",
    "import skimage.measure as measure\n",
    "from dask_image.imread import imread\n",
    "import src\n",
    "\n",
    "%load_ext autoreload"
   ]
  },
  {
   "cell_type": "code",
   "execution_count": 2,
   "metadata": {},
   "outputs": [],
   "source": [
    "path_to_uj_strix=\"/home/esb/Projects/uJ/local/current/uJ_src_SingleChan/python/\"\n",
    "path_to_uj_trillion='/home/charly/Lab/Projects/uJ/local/current/uJ_src_SingleChan/python/'\n",
    "path_to_uj_trillion_online='/home/charly/Lab/Projects/uJ/uJ_src_online/python/'\n",
    "path_to_uj=path_to_uj_trillion_online\n",
    "#path_to_uj=path_to_uj_trillion\n",
    "\n",
    "sys.path.insert(0, path_to_uj)\n"
   ]
  },
  {
   "cell_type": "code",
   "execution_count": 3,
   "metadata": {},
   "outputs": [
    {
     "name": "stdout",
     "output_type": "stream",
     "text": [
      "Importing readroi\n",
      "DataStructs...loaded!\n",
      "DataManagers...loaded!\n",
      "TrackingFunctions... 1loaded!\n",
      "PlottingFunctions... loaded!\n",
      "Analysis Functions loaded\n",
      "CorrectorFunctions... loaded!\n"
     ]
    }
   ],
   "source": [
    "%autoreload 2\n",
    "from readroi import *\n",
    "from DataManagers import *\n",
    "from TrackingFunctions import *\n",
    "from PlottingFunctions import *\n",
    "from AnalysisFunctions import *\n",
    "from CorrectorFunctions import *"
   ]
  },
  {
   "cell_type": "code",
   "execution_count": 4,
   "metadata": {},
   "outputs": [
    {
     "name": "stdout",
     "output_type": "stream",
     "text": [
      "/home/charly/Lab/Projects/uJ/uJ_data/pBGT-AMP-Pulse/20190325_Bruno_pBGT_quimiostato/\n"
     ]
    }
   ],
   "source": [
    "\n",
    "uj_data_path_trillion=\"/home/charly/Lab/Projects/uJ/uJ_data/\"\n",
    "uj_data_path_trillion_online=\"/home/charly/Lab/Projects/uJ/uJ_data_online/\"\n",
    "uj_data_path=uj_data_path_trillion\n",
    "#uj_data_path=uj_data_path_trillion_online\n",
    "\n",
    "expeLabel=\"pBGT-AMP-Pulse\"\n",
    "\n",
    "rootDir=uj_data_path+\"pBGT-AMP-Pulse/20190325_Bruno_pBGT_quimiostato/\"\n",
    "\n",
    "full_trap_list=\"xy01,xy02,xy03,xy11,xy12,xy13,xy14,xy20,xy21,xy22,xy23,xy25,xy26,xy27,xy28,xy29,xy30,xy33,xy34,xy35,xy36,xy37,xy39,xy40,xy41,xy42,xy43,xy44,xy45,xy46,xy47\".split(\",\")\n",
    "\n",
    "\n",
    "\n",
    "print(rootDir)\n",
    "\n",
    "\n",
    "channels=[\"DIC\",\"GFP\",\"DsRed\"]\n",
    "channels_color=[\"gray\",\"green\",\"red\"]\n",
    "vis=[False,True,True]\n",
    "vis=[False,False,False]\n",
    "seg_chan=channels[1]\n",
    "\n",
    "\n",
    "\n",
    "frame2min=10\n",
    "\n",
    "figxlim=640\n",
    "figylim=512\n",
    "flims=(figxlim,figylim)\n",
    "\n",
    "\n",
    "frame_experiment_start=20;\n",
    "frame_experiment_end=44\n",
    "frame_signal_start=26\n",
    "frame_signal_end=34\n",
    "frame_norm_start=20\n",
    "frame_norm_end=25\n",
    "frame_analysis_end=44\n",
    "\n",
    "n_frames=frame_experiment_end-frame_experiment_start+1\n",
    "\n",
    "t_experiment_start=0\n",
    "t_signal_start=(frame_signal_start-frame_experiment_start)*frame2min  \n",
    "t_signal_end=(frame_signal_end-frame_experiment_start)*frame2min\n",
    "t_experiment_end=(frame_experiment_end-frame_experiment_start)*frame2min\n",
    "\n",
    "frames=range(int(frame_experiment_start),int(frame_experiment_end+1))\n",
    "frames_list=[x for x in frames]\n",
    "times=[(this_frame-frame_experiment_start)*frame2min for this_frame in frames]\n",
    "times_hour=[(this_frame-frame_experiment_start)*frame2min/60 for this_frame in frames]\n",
    "\n",
    "data_type=\"normData\"\n",
    "\n",
    "\n",
    "dirNameDataLineages=rootDir+'data/lineages/'\n",
    "\n",
    "dirNameDataNapariLabels=rootDir+'data_napari_labels/'\n",
    "if not os.path.exists(dirNameDataNapariLabels):\n",
    "    print(\"making dir napari labels...\")\n",
    "    os.makedirs(dirNameDataNapariLabels)\n",
    "\n",
    "dirNameDataCellsTrackedCorrected=rootDir+'data_cells_tracked_corrected/'\n",
    "if not os.path.exists(dirNameDataCellsTrackedCorrected):\n",
    "    print(\"making dir Cells Tracked Corrected...\")\n",
    "    os.makedirs(dirNameDataCellsTrackedCorrected)\n",
    "\n",
    "    \n",
    "dirNameDataLineagesCorrected=rootDir+'data/lineages_corrected/'\n",
    "if not os.path.exists(dirNameDataLineagesCorrected):\n",
    "    print(\"making dir lineages corrected...\")\n",
    "    os.makedirs(dirNameDataLineagesCorrected)\n",
    "\n",
    "#Prepare file system\n",
    "dataPath=\"%sdata/GFP/\"%rootDir\n",
    "\n",
    "\n",
    "trap_masks_path=[]\n",
    "trap_tif_path=[]\n",
    "for pos in full_trap_list:\n",
    "    tif_path=rootDir+\"data_raw/\"+pos+\"/\"\n",
    "    trap_tif_path.append(tif_path)\n",
    "    masks_path=rootDir+\"data_masks/\"+pos+\"/\"+seg_chan+\"/\"\n",
    "    trap_masks_path.append(masks_path)\n",
    "    \n",
    "    \n",
    "    \n",
    "\n",
    "\n"
   ]
  },
  {
   "cell_type": "markdown",
   "metadata": {},
   "source": [
    "## Chose correction trap\n",
    "\n",
    "### Do not run this cell to perform calculations for all traps\n",
    "### For trap correction, please choose one"
   ]
  },
  {
   "cell_type": "code",
   "execution_count": 5,
   "metadata": {},
   "outputs": [
    {
     "data": {
      "application/vnd.jupyter.widget-view+json": {
       "model_id": "2f0d8e1cbd08469e9d18bfbe32d7d0ec",
       "version_major": 2,
       "version_minor": 0
      },
      "text/plain": [
       "interactive(children=(Dropdown(description='Trap:', index=2, options=('All', 'xy01', 'xy02', 'xy03', 'xy11', '…"
      ]
     },
     "metadata": {},
     "output_type": "display_data"
    }
   ],
   "source": [
    "current_trap=\"All\"\n",
    "current_trap=\"xy02\"\n",
    "trap_listw=[\"All\"]+full_trap_list\n",
    "trap_menu=widgets.Dropdown(options=trap_listw,value=current_trap,description='Trap:',)\n",
    "trap_selection_widget=interactive(get_trap, sel=trap_menu,this_trap_list=fixed(full_trap_list))\n",
    "output = trap_selection_widget.children[-1]\n",
    "trap_selection_widget"
   ]
  },
  {
   "cell_type": "markdown",
   "metadata": {},
   "source": [
    "## Prepare data"
   ]
  },
  {
   "cell_type": "markdown",
   "metadata": {},
   "source": [
    "### Load tracked cells"
   ]
  },
  {
   "cell_type": "code",
   "execution_count": 6,
   "metadata": {},
   "outputs": [
    {
     "name": "stdout",
     "output_type": "stream",
     "text": [
      "Loading corrected cells !\n",
      "0: Loading pBGT-AMP-Pulse_xy02_020.pkl\n",
      "1: Loading pBGT-AMP-Pulse_xy02_021.pkl\n",
      "2: Loading pBGT-AMP-Pulse_xy02_022.pkl\n",
      "3: Loading pBGT-AMP-Pulse_xy02_023.pkl\n",
      "4: Loading pBGT-AMP-Pulse_xy02_024.pkl\n",
      "5: Loading pBGT-AMP-Pulse_xy02_025.pkl\n",
      "6: Loading pBGT-AMP-Pulse_xy02_026.pkl\n",
      "7: Loading pBGT-AMP-Pulse_xy02_027.pkl\n",
      "8: Loading pBGT-AMP-Pulse_xy02_028.pkl\n",
      "9: Loading pBGT-AMP-Pulse_xy02_029.pkl\n",
      "10: Loading pBGT-AMP-Pulse_xy02_030.pkl\n",
      "11: Loading pBGT-AMP-Pulse_xy02_031.pkl\n",
      "12: Loading pBGT-AMP-Pulse_xy02_032.pkl\n",
      "13: Loading pBGT-AMP-Pulse_xy02_033.pkl\n",
      "14: Loading pBGT-AMP-Pulse_xy02_034.pkl\n",
      "15: Loading pBGT-AMP-Pulse_xy02_035.pkl\n",
      "16: Loading pBGT-AMP-Pulse_xy02_036.pkl\n",
      "17: Loading pBGT-AMP-Pulse_xy02_037.pkl\n",
      "18: Loading pBGT-AMP-Pulse_xy02_038.pkl\n",
      "19: Loading pBGT-AMP-Pulse_xy02_039.pkl\n",
      "20: Loading pBGT-AMP-Pulse_xy02_040.pkl\n",
      "21: Loading pBGT-AMP-Pulse_xy02_041.pkl\n",
      "22: Loading pBGT-AMP-Pulse_xy02_042.pkl\n",
      "23: Loading pBGT-AMP-Pulse_xy02_043.pkl\n",
      "24: Loading pBGT-AMP-Pulse_xy02_044.pkl\n"
     ]
    }
   ],
   "source": [
    "max_frames=-1\n",
    "\n",
    "trap_tracked_cells=[]\n",
    "trap_tracked_cells_corrected=[]\n",
    "trap_corrected_list=[]\n",
    "for trap in trap_list:\n",
    "    dirNameTRACKEDCELLS=rootDir+'data_cells_tracked/'+trap+\"/\"+data_type+\"/\"\n",
    "    \n",
    "    dirNameTRACKEDCELLS_Corrrected=dirNameDataCellsTrackedCorrected+trap+\"/\"+data_type+\"/\"\n",
    "    iscorrected=os.path.exists(dirNameTRACKEDCELLS_Corrrected)\n",
    "    trap_corrected_list.append(iscorrected)\n",
    "    if(iscorrected):\n",
    "        print(\"Loading corrected cells !\")\n",
    "        tracked_cells_corrected=load_cells(dirNameTRACKEDCELLS_Corrrected,max_frames)\n",
    "        trap_tracked_cells_corrected.append(tracked_cells_corrected)\n",
    "    else:\n",
    "        print(\"Loading original cells !\")\n",
    "        tracked_cells=load_cells(dirNameTRACKEDCELLS,max_frames)\n",
    "        trap_tracked_cells.append(tracked_cells)\n",
    "    \n",
    "        tracked_cells_corrected=tracked_cells.copy()\n",
    "        trap_tracked_cells_corrected.append(tracked_cells_corrected)\n",
    "    "
   ]
  },
  {
   "cell_type": "markdown",
   "metadata": {},
   "source": [
    "### Load lineages files"
   ]
  },
  {
   "cell_type": "code",
   "execution_count": 7,
   "metadata": {},
   "outputs": [
    {
     "name": "stdout",
     "output_type": "stream",
     "text": [
      "Loading corrected lineages !\n",
      "Loading 540 lineages from /home/charly/Lab/Projects/uJ/uJ_data/pBGT-AMP-Pulse/20190325_Bruno_pBGT_quimiostato/data/lineages_corrected/pBGT-AMP-Pulse_xy02_lineages_all.csv\n"
     ]
    }
   ],
   "source": [
    "trap_df_lineages_all=[]\n",
    "trap_df_lineages_corrected_all=[]\n",
    "\n",
    "for i,trap in enumerate(trap_list):\n",
    "    \n",
    "    if(trap_corrected_list[i]):\n",
    "        print(\"Loading corrected lineages !\")\n",
    "        lineagesDataFile='%s%s_%s_lineages_all.csv'%(dirNameDataLineagesCorrected, expeLabel, trap)\n",
    "        df_lineagesC_all=load_data_lineages(lineagesDataFile)\n",
    "        trap_df_lineages_corrected_all.append(df_lineagesC_all)\n",
    "    else:\n",
    "        lineagesDataFile='%s%s_%s_lineages_all.csv'%(dirNameDataLineages, expeLabel, trap)\n",
    "        df_lineages_all=load_data_lineages(lineagesDataFile)\n",
    "        trap_df_lineages_all.append(df_lineages_all)\n",
    "        print(\"Loading original lineages !\")\n",
    "        df_lineagesC_all=df_lineages_all.copy()\n",
    "        trap_df_lineages_corrected_all.append(df_lineagesC_all)\n",
    "#df_lineages=df_lineages_all"
   ]
  },
  {
   "cell_type": "markdown",
   "metadata": {},
   "source": [
    "### Add geometric info to dataframe"
   ]
  },
  {
   "cell_type": "code",
   "execution_count": 8,
   "metadata": {
    "scrolled": true
   },
   "outputs": [
    {
     "data": {
      "text/html": [
       "<div>\n",
       "<style scoped>\n",
       "    .dataframe tbody tr th:only-of-type {\n",
       "        vertical-align: middle;\n",
       "    }\n",
       "\n",
       "    .dataframe tbody tr th {\n",
       "        vertical-align: top;\n",
       "    }\n",
       "\n",
       "    .dataframe thead th {\n",
       "        text-align: right;\n",
       "    }\n",
       "</style>\n",
       "<table border=\"1\" class=\"dataframe\">\n",
       "  <thead>\n",
       "    <tr style=\"text-align: right;\">\n",
       "      <th></th>\n",
       "      <th>lineageID</th>\n",
       "      <th>trackID</th>\n",
       "      <th>cellID</th>\n",
       "      <th>motherID</th>\n",
       "      <th>frame</th>\n",
       "      <th>roiID</th>\n",
       "      <th>length</th>\n",
       "      <th>division</th>\n",
       "      <th>state</th>\n",
       "      <th>tracking_score</th>\n",
       "      <th>GFP</th>\n",
       "      <th>DsRed</th>\n",
       "      <th>cellColor</th>\n",
       "      <th>center</th>\n",
       "      <th>roiPoly</th>\n",
       "      <th>axis</th>\n",
       "    </tr>\n",
       "  </thead>\n",
       "  <tbody>\n",
       "    <tr>\n",
       "      <th>0</th>\n",
       "      <td>7</td>\n",
       "      <td>20.068-44.007</td>\n",
       "      <td>20.068</td>\n",
       "      <td>20.068</td>\n",
       "      <td>20</td>\n",
       "      <td>roi_f20_n68_x317_y325</td>\n",
       "      <td>31.99251</td>\n",
       "      <td>0</td>\n",
       "      <td>0</td>\n",
       "      <td>131.316172</td>\n",
       "      <td>354.444</td>\n",
       "      <td>97.979</td>\n",
       "      <td>#2c0740</td>\n",
       "      <td>POINT (317.3729617346758 325.7724344391575)</td>\n",
       "      <td>POLYGON ((323 326, 325 326, 325 327, 328 327, ...</td>\n",
       "      <td>LINESTRING (331.9999999999999 332.163544760007...</td>\n",
       "    </tr>\n",
       "  </tbody>\n",
       "</table>\n",
       "</div>"
      ],
      "text/plain": [
       "   lineageID        trackID  cellID motherID  frame                  roiID  \\\n",
       "0          7  20.068-44.007  20.068   20.068     20  roi_f20_n68_x317_y325   \n",
       "\n",
       "     length  division  state  tracking_score      GFP   DsRed cellColor  \\\n",
       "0  31.99251         0      0      131.316172  354.444  97.979   #2c0740   \n",
       "\n",
       "                                        center  \\\n",
       "0  POINT (317.3729617346758 325.7724344391575)   \n",
       "\n",
       "                                             roiPoly  \\\n",
       "0  POLYGON ((323 326, 325 326, 325 327, 328 327, ...   \n",
       "\n",
       "                                                axis  \n",
       "0  LINESTRING (331.9999999999999 332.163544760007...  "
      ]
     },
     "execution_count": 8,
     "metadata": {},
     "output_type": "execute_result"
    }
   ],
   "source": [
    "trap_df_lineages_geoms=[]\n",
    "\n",
    "for i,trap in enumerate(trap_list):\n",
    "    if(trap_corrected_list[i]):\n",
    "        tracked_cells=trap_tracked_cells_corrected[i]\n",
    "        df_lineages=trap_df_lineages_corrected_all[i]\n",
    "    else:\n",
    "        tracked_cells=trap_tracked_cells[i]\n",
    "        df_lineages=trap_df_lineages_all[i]\n",
    "    trap_newDF_list=[]\n",
    "    for row in df_lineages.itertuples(index=False):\n",
    "        this_id=row.cellID\n",
    "        trackid=row.trackID\n",
    "        f,n=this_id.split('.')\n",
    "        this_cell=tracked_cells[int(f)-frame_experiment_start][int(n)]\n",
    "        new_df=pd.DataFrame.from_records([{\"cellID\":this_id,\"trackID\":trackid,\"cellColor\":this_cell['cellColor'],\"center\":this_cell['center'],\"roiPoly\":this_cell['roiPoly'],\"axis\":this_cell['axis']}], index='cellID')\n",
    "        trap_newDF_list.append(new_df)\n",
    "    trap_newDF=pd.concat(trap_newDF_list)\n",
    "    df_lineages_geoms=pd.merge(df_lineages,trap_newDF,on=['cellID','trackID'])\n",
    "    trap_df_lineages_geoms.append(df_lineages_geoms)\n",
    "df_lineages_geoms.head(1)"
   ]
  },
  {
   "cell_type": "markdown",
   "metadata": {},
   "source": [
    "## Calculating napari-masks from polys\n",
    "### If files are not found set: \n",
    "#### recalculateRois=True"
   ]
  },
  {
   "cell_type": "code",
   "execution_count": 9,
   "metadata": {
    "scrolled": true
   },
   "outputs": [
    {
     "name": "stdout",
     "output_type": "stream",
     "text": [
      "Loading files files...\n",
      "Done!\n"
     ]
    }
   ],
   "source": [
    "empty_mask=np.zeros((n_frames,figylim,figxlim))   ### Creates empty matrix array\n",
    "matrix_shape = empty_mask.shape[1:]\n",
    "roi_mask=deepcopy(empty_mask)\n",
    "\n",
    "\n",
    "\n",
    "recalculateRois=False\n",
    "#recalculateRois=True\n",
    "\n",
    "\n",
    "trap_roi_masks=[]\n",
    "trap_cellID_to_lineage=[]\n",
    "trap_colorsLid=[]\n",
    "trap_colorsCid=[]\n",
    "#trap_cellID_to_masks=[]\n",
    "for ti,trap in enumerate(trap_list):\n",
    "    cellID_to_lineage={}\n",
    "    colorsLid={}\n",
    "    colorsCid={}\n",
    "\n",
    "    if recalculateRois:\n",
    "        this_trap_cells=trap_tracked_cells_corrected[ti]\n",
    "        df_lineages_geoms=trap_df_lineages_geoms[ti]\n",
    "        nlineages=df_lineages_geoms.lineageID.unique().shape[0]\n",
    "        cmap = get_cmap_Lineages(nlineages)\n",
    "        for frame_i,frame in enumerate(frames_list):\n",
    "            print(\"Calulating frame: %s\"%frame,end=\"\\r\")\n",
    "            this_frame_df_lineages_geoms=df_lineages_geoms[df_lineages_geoms[\"frame\"]==frame]\n",
    "            this_cells=this_trap_cells[frame_i]\n",
    "            for this_cell in this_cells:\n",
    "                cellID=this_cell[\"cellID\"]\n",
    "                this_cell_df=this_frame_df_lineages_geoms[this_frame_df_lineages_geoms[\"cellID\"]==cellID]\n",
    "                if(this_cell_df.shape[0]==0):\n",
    "                    this_lid=nlineages+1\n",
    "                elif(this_cell_df.shape[0]>1):\n",
    "                    #display(this_cell_df)\n",
    "                    this_cell_df2=this_cell_df[this_cell_df.tracking_score==this_cell_df.tracking_score.max()]\n",
    "                    this_lid_list=list(this_cell_df2.lineageID.unique())\n",
    "                    if(this_lid_list==[]):\n",
    "                        #display(this_cell_df)\n",
    "                        #display(this_cell_df2)\n",
    "                        this_lid=nlineages+1\n",
    "                    else:\n",
    "                        this_lid=int(this_lid_list[0])\n",
    "                else:#(this_cell_df.tracking_score.isnull()==True):\n",
    "                    this_lid=int(this_cell_df.lineageID)\n",
    "                \n",
    "                this_color=cmap(this_lid)\n",
    "                colorsLid[this_lid]=this_color\n",
    "                colorsCid[float(cellID)]=this_cell[\"cellColor\"]\n",
    "                cellID_to_lineage[float(cellID)]=this_lid\n",
    "\n",
    "                this_poly=this_cell[\"roiPoly\"]\n",
    "                napari_coords=np.array([[int(y),int(x)] for (x,y) in this_poly.exterior.coords])\n",
    "                mask = measure.grid_points_in_poly(matrix_shape, napari_coords)\n",
    "                roi_mask[frame_i][mask] = float(cellID)\n",
    "        trap_roi_masks.append(roi_mask)   \n",
    "        print(\"\\nSaving files\")\n",
    "        this_file=dirNameDataNapariLabels+\"%s_%s_roi_mask.npy\"%(trap,seg_chan)\n",
    "        np.save(this_file,roi_mask)\n",
    "        this_file=dirNameDataNapariLabels+\"%s_%s_colors_dict.npy\"%(trap,seg_chan)\n",
    "        np.save(this_file,colorsCid)\n",
    "        this_file=dirNameDataNapariLabels+\"%s_%s_colors_lineages_dict.npy\"%(trap,seg_chan)\n",
    "        np.save(this_file,colorsLid)\n",
    "        this_file=dirNameDataNapariLabels+\"%s_%s_cell_lineages_dict.npy\"%(trap,seg_chan)\n",
    "        np.save(this_file,cellID_to_lineage)\n",
    "        \n",
    "    else:\n",
    "        print(\"Loading files files...\")\n",
    "        this_file=dirNameDataNapariLabels+\"%s_%s_roi_mask.npy\"%(trap,seg_chan)\n",
    "        roi_mask=np.load(this_file)\n",
    "        this_file=dirNameDataNapariLabels+\"%s_%s_colors_dict.npy\"%(trap,seg_chan)\n",
    "        colorsCid=np.load(this_file,allow_pickle=True).item()\n",
    "              \n",
    "        this_file=dirNameDataNapariLabels+\"%s_%s_colors_lineages_dict.npy\"%(trap,seg_chan)\n",
    "        colorsLid=np.load(this_file,allow_pickle=True).item()\n",
    "        \n",
    "        this_file=dirNameDataNapariLabels+\"%s_%s_cell_lineages_dict.npy\"%(trap,seg_chan)\n",
    "        cellID_to_lineage=np.load(this_file,allow_pickle=True).item()\n",
    "        this_file=dirNameDataNapariLabels+\"%s_%s_cell_lineages_dict_corrected.npy\"%(trap,seg_chan)\n",
    "        if(os.path.exists(this_file)):\n",
    "            cellID_to_lineage=np.load(this_file,allow_pickle=True).item()\n",
    "            \n",
    "        trap_roi_masks.append(roi_mask)\n",
    "        trap_colorsCid.append(colorsCid)\n",
    "        trap_colorsLid.append(colorsLid)\n",
    "        trap_cellID_to_lineage.append(cellID_to_lineage)\n",
    "        #trap_cellID_to_masks.append(cellID_to_masks)\n",
    "print(\"Done!\")"
   ]
  },
  {
   "cell_type": "markdown",
   "metadata": {},
   "source": [
    "### Small fix for bug from lineage maker\n",
    "#### Linegae maker ----> when 2 tracks/lineages colide in the first frame, two lineages are kept"
   ]
  },
  {
   "cell_type": "code",
   "execution_count": 24,
   "metadata": {},
   "outputs": [
    {
     "name": "stdout",
     "output_type": "stream",
     "text": [
      "Checking wrong divs for lineage 7\n",
      "Checking wrong divs for lineage 8\n",
      "Checking wrong divs for lineage 10\n",
      "Checking wrong divs for lineage 3\n",
      "Checking wrong divs for lineage 12\n",
      "Checking wrong divs for lineage 13\n",
      "Checking wrong divs for lineage 5\n",
      "Checking wrong divs for lineage 1\n",
      "Checking wrong divs for lineage 16\n",
      "Checking wrong divs for lineage 34\n",
      "Checking wrong divs for lineage 18\n",
      "Checking wrong divs for lineage 21\n",
      "Checking wrong divs for lineage 22\n",
      "Checking wrong divs for lineage 11\n",
      "Checking wrong divs for lineage 27\n",
      "Checking wrong divs for lineage 29\n",
      "Checking wrong divs for lineage 30\n",
      "Checking wrong divs for lineage 106\n",
      "Checking wrong divs for lineage 9\n",
      "Checking wrong divs for lineage 32\n",
      "Checking wrong divs for lineage 35\n",
      "Checking wrong divs for lineage 36\n",
      "Checking wrong divs for lineage 28\n",
      "Checking wrong divs for lineage 31\n",
      "Checking wrong divs for lineage 37\n",
      "Checking wrong divs for lineage 38\n",
      "Checking wrong divs for lineage 39\n",
      "Checking wrong divs for lineage 40\n",
      "Checking wrong divs for lineage 4\n",
      "Checking wrong divs for lineage 123\n",
      "Checking wrong divs for lineage 42\n",
      "Checking wrong divs for lineage 44\n",
      "Checking wrong divs for lineage 33\n",
      "Checking wrong divs for lineage 17\n",
      "Checking wrong divs for lineage 50\n",
      "Checking wrong divs for lineage 51\n",
      "Checking wrong divs for lineage 52\n",
      "Checking wrong divs for lineage 54\n",
      "Checking wrong divs for lineage 55\n",
      "Checking wrong divs for lineage 56\n",
      "Checking wrong divs for lineage 60\n",
      "Checking wrong divs for lineage 66\n",
      "Checking wrong divs for lineage 67\n",
      "Checking wrong divs for lineage 70\n",
      "Checking wrong divs for lineage 71\n",
      "Checking wrong divs for lineage 72\n",
      "Checking wrong divs for lineage 322\n",
      "Checking wrong divs for lineage 73\n",
      "Checking wrong divs for lineage 74\n",
      "Checking wrong divs for lineage 76\n",
      "Checking wrong divs for lineage 77\n",
      "Checking wrong divs for lineage 81\n",
      "Checking wrong divs for lineage 83\n",
      "Checking wrong divs for lineage 84\n",
      "Checking wrong divs for lineage 85\n",
      "Checking wrong divs for lineage 86\n",
      "Checking wrong divs for lineage 87\n",
      "Checking wrong divs for lineage 90\n",
      "Checking wrong divs for lineage 91\n",
      "Checking wrong divs for lineage 94\n",
      "Checking wrong divs for lineage 96\n",
      "Checking wrong divs for lineage 97\n",
      "Checking wrong divs for lineage 99\n",
      "Checking wrong divs for lineage 405\n",
      "Checking wrong divs for lineage 100\n",
      "Checking wrong divs for lineage 101\n",
      "Checking wrong divs for lineage 104\n",
      "Checking wrong divs for lineage 108\n",
      "Checking wrong divs for lineage 113\n",
      "Checking wrong divs for lineage 6\n",
      "Checking wrong divs for lineage 57\n",
      "Checking wrong divs for lineage 124\n",
      "Checking wrong divs for lineage 125\n",
      "Checking wrong divs for lineage 127\n",
      "Checking wrong divs for lineage 128\n",
      "Checking wrong divs for lineage 129\n",
      "Checking wrong divs for lineage 130\n",
      "Checking wrong divs for lineage 131\n",
      "Checking wrong divs for lineage 133\n",
      "Checking wrong divs for lineage 137\n",
      "Checking wrong divs for lineage 140\n",
      "Checking wrong divs for lineage 141\n",
      "Checking wrong divs for lineage 142\n",
      "Checking wrong divs for lineage 143\n",
      "Checking wrong divs for lineage 151\n",
      "Checking wrong divs for lineage 146\n",
      "Checking wrong divs for lineage 147\n",
      "Checking wrong divs for lineage 148\n",
      "Checking wrong divs for lineage 155\n",
      "Checking wrong divs for lineage 157\n",
      "Checking wrong divs for lineage 158\n",
      "Checking wrong divs for lineage 159\n",
      "Checking wrong divs for lineage 161\n",
      "Checking wrong divs for lineage 163\n",
      "Checking wrong divs for lineage 164\n",
      "Checking wrong divs for lineage 165\n",
      "Checking wrong divs for lineage 167\n",
      "Checking wrong divs for lineage 168\n",
      "Checking wrong divs for lineage 172\n",
      "Checking wrong divs for lineage 174\n",
      "Checking wrong divs for lineage 175\n",
      "Checking wrong divs for lineage 176\n",
      "Checking wrong divs for lineage 177\n",
      "Checking wrong divs for lineage 178\n",
      "Checking wrong divs for lineage 179\n",
      "Checking wrong divs for lineage 180\n",
      "Checking wrong divs for lineage 181\n",
      "Checking wrong divs for lineage 187\n",
      "Checking wrong divs for lineage 188\n",
      "Checking wrong divs for lineage 184\n",
      "Checking wrong divs for lineage 190\n",
      "Checking wrong divs for lineage 192\n",
      "Checking wrong divs for lineage 193\n",
      "Checking wrong divs for lineage 195\n",
      "Checking wrong divs for lineage 196\n",
      "Checking wrong divs for lineage 197\n",
      "Checking wrong divs for lineage 198\n",
      "Checking wrong divs for lineage 199\n",
      "Checking wrong divs for lineage 200\n",
      "Checking wrong divs for lineage 202\n",
      "Checking wrong divs for lineage 203\n",
      "Checking wrong divs for lineage 204\n",
      "Checking wrong divs for lineage 205\n",
      "Checking wrong divs for lineage 206\n",
      "Checking wrong divs for lineage 208\n",
      "Checking wrong divs for lineage 209\n",
      "Checking wrong divs for lineage 117\n",
      "Checking wrong divs for lineage 212\n",
      "Checking wrong divs for lineage 217\n",
      "Checking wrong divs for lineage 477\n",
      "Checking wrong divs for lineage 223\n",
      "Checking wrong divs for lineage 224\n",
      "Checking wrong divs for lineage 225\n",
      "Checking wrong divs for lineage 226\n",
      "Checking wrong divs for lineage 227\n",
      "Checking wrong divs for lineage 228\n",
      "Checking wrong divs for lineage 230\n",
      "Checking wrong divs for lineage 231\n",
      "Checking wrong divs for lineage 233\n",
      "Checking wrong divs for lineage 235\n",
      "Checking wrong divs for lineage 236\n",
      "Checking wrong divs for lineage 210\n",
      "Checking wrong divs for lineage 240\n",
      "Checking wrong divs for lineage 241\n",
      "Checking wrong divs for lineage 246\n",
      "Checking wrong divs for lineage 248\n",
      "Checking wrong divs for lineage 250\n",
      "Checking wrong divs for lineage 251\n",
      "Checking wrong divs for lineage 252\n",
      "Checking wrong divs for lineage 254\n",
      "Checking wrong divs for lineage 255\n",
      "Checking wrong divs for lineage 256\n",
      "Checking wrong divs for lineage 118\n",
      "Checking wrong divs for lineage 258\n",
      "Checking wrong divs for lineage 259\n",
      "Checking wrong divs for lineage 261\n",
      "Checking wrong divs for lineage 262\n",
      "Checking wrong divs for lineage 263\n",
      "Checking wrong divs for lineage 264\n",
      "Checking wrong divs for lineage 265\n",
      "Checking wrong divs for lineage 266\n",
      "Checking wrong divs for lineage 267\n",
      "Checking wrong divs for lineage 268\n",
      "Checking wrong divs for lineage 269\n",
      "Checking wrong divs for lineage 271\n",
      "Checking wrong divs for lineage 272\n",
      "Checking wrong divs for lineage 273\n",
      "Checking wrong divs for lineage 274\n",
      "Checking wrong divs for lineage 276\n",
      "Checking wrong divs for lineage 280\n",
      "Checking wrong divs for lineage 285\n",
      "Checking wrong divs for lineage 286\n",
      "Checking wrong divs for lineage 289\n",
      "Checking wrong divs for lineage 295\n",
      "Checking wrong divs for lineage 299\n",
      "Checking wrong divs for lineage 302\n",
      "Checking wrong divs for lineage 2\n",
      "Checking wrong divs for lineage 80\n",
      "Checking wrong divs for lineage 48\n",
      "Checking wrong divs for lineage 317\n",
      "Checking wrong divs for lineage 315\n",
      "Checking wrong divs for lineage 471\n",
      "Checking wrong divs for lineage 15\n",
      "Checking wrong divs for lineage 150\n",
      "Checking wrong divs for lineage 20\n",
      "Checking wrong divs for lineage 78\n",
      "Checking wrong divs for lineage 24\n",
      "Checking wrong divs for lineage 25\n",
      "Checking wrong divs for lineage 353\n",
      "Checking wrong divs for lineage 362\n",
      "Checking wrong divs for lineage 369\n",
      "Checking wrong divs for lineage 327\n",
      "Checking wrong divs for lineage 46\n",
      "Checking wrong divs for lineage 379\n",
      "Checking wrong divs for lineage 47\n",
      "Checking wrong divs for lineage 79\n",
      "Checking wrong divs for lineage 14\n",
      "Checking wrong divs for lineage 49\n",
      "Checking wrong divs for lineage 171\n",
      "Checking wrong divs for lineage 387\n",
      "Checking wrong divs for lineage 58\n",
      "Checking wrong divs for lineage 393\n",
      "Checking wrong divs for lineage 61\n",
      "Checking wrong divs for lineage 397\n",
      "Checking wrong divs for lineage 399\n",
      "Checking wrong divs for lineage 400\n",
      "Checking wrong divs for lineage 403\n",
      "Checking wrong divs for lineage 64\n",
      "Checking wrong divs for lineage 404\n",
      "Checking wrong divs for lineage 407\n",
      "Checking wrong divs for lineage 69\n",
      "Checking wrong divs for lineage 410\n",
      "Checking wrong divs for lineage 82\n",
      "Checking wrong divs for lineage 260\n",
      "Checking wrong divs for lineage 89\n",
      "Checking wrong divs for lineage 420\n",
      "Checking wrong divs for lineage 93\n",
      "Checking wrong divs for lineage 95\n",
      "Checking wrong divs for lineage 98\n",
      "Checking wrong divs for lineage 427\n",
      "Checking wrong divs for lineage 103\n",
      "Checking wrong divs for lineage 107\n",
      "Checking wrong divs for lineage 109\n",
      "Checking wrong divs for lineage 152\n",
      "Checking wrong divs for lineage 110\n",
      "Checking wrong divs for lineage 111\n",
      "Checking wrong divs for lineage 112\n",
      "Checking wrong divs for lineage 114\n",
      "Checking wrong divs for lineage 115\n",
      "Checking wrong divs for lineage 119\n",
      "Checking wrong divs for lineage 120\n",
      "Checking wrong divs for lineage 182\n",
      "Checking wrong divs for lineage 126\n",
      "Checking wrong divs for lineage 284\n",
      "Checking wrong divs for lineage 132\n",
      "Checking wrong divs for lineage 144\n",
      "Checking wrong divs for lineage 438\n",
      "Checking wrong divs for lineage 160\n",
      "Checking wrong divs for lineage 442\n",
      "Checking wrong divs for lineage 173\n",
      "Checking wrong divs for lineage 185\n",
      "Checking wrong divs for lineage 229\n",
      "Checking wrong divs for lineage 191\n",
      "Checking wrong divs for lineage 194\n"
     ]
    },
    {
     "name": "stdout",
     "output_type": "stream",
     "text": [
      "Checking wrong divs for lineage 201\n",
      "Checking wrong divs for lineage 211\n",
      "Checking wrong divs for lineage 214\n",
      "Checking wrong divs for lineage 216\n",
      "Checking wrong divs for lineage 218\n",
      "Checking wrong divs for lineage 219\n",
      "Checking wrong divs for lineage 222\n",
      "Checking wrong divs for lineage 153\n",
      "Checking wrong divs for lineage 253\n",
      "Checking wrong divs for lineage 232\n",
      "Checking wrong divs for lineage 234\n",
      "Checking wrong divs for lineage 454\n",
      "Checking wrong divs for lineage 455\n",
      "Checking wrong divs for lineage 239\n",
      "Checking wrong divs for lineage 242\n",
      "Checking wrong divs for lineage 243\n",
      "Checking wrong divs for lineage 245\n",
      "Checking wrong divs for lineage 138\n",
      "Checking wrong divs for lineage 43\n",
      "Checking wrong divs for lineage 247\n",
      "Checking wrong divs for lineage 170\n",
      "Checking wrong divs for lineage 249\n",
      "Checking wrong divs for lineage 279\n",
      "Checking wrong divs for lineage 465\n",
      "Checking wrong divs for lineage 290\n",
      "Checking wrong divs for lineage 292\n",
      "Checking wrong divs for lineage 294\n",
      "Checking wrong divs for lineage 296\n",
      "Checking wrong divs for lineage 298\n",
      "Checking wrong divs for lineage 300\n",
      "Checking wrong divs for lineage 469\n",
      "Checking wrong divs for lineage 468\n",
      "Checking wrong divs for lineage 68\n",
      "Checking wrong divs for lineage 363\n",
      "Checking wrong divs for lineage 473\n",
      "Checking wrong divs for lineage 75\n",
      "Checking wrong divs for lineage 215\n",
      "Checking wrong divs for lineage 156\n",
      "Checking wrong divs for lineage 408\n",
      "Checking wrong divs for lineage 166\n",
      "Checking wrong divs for lineage 422\n",
      "Checking wrong divs for lineage 283\n",
      "Checking wrong divs for lineage 475\n",
      "Checking wrong divs for lineage 476\n",
      "Checking wrong divs for lineage 478\n",
      "Checking wrong divs for lineage 434\n",
      "Checking wrong divs for lineage 441\n",
      "Checking wrong divs for lineage 444\n",
      "Checking wrong divs for lineage 445\n",
      "Checking wrong divs for lineage 450\n",
      "Checking wrong divs for lineage 456\n",
      "Checking wrong divs for lineage 458\n",
      "Checking wrong divs for lineage 149\n",
      "Checking wrong divs for lineage 463\n",
      "Checking wrong divs for lineage 481\n",
      "Checking wrong divs for lineage 467\n",
      "Checking wrong divs for lineage 134\n",
      "Checking wrong divs for lineage 474\n",
      "Checking wrong divs for lineage 480\n",
      "Checking wrong divs for lineage 26\n",
      "Checking wrong divs for lineage 63\n",
      "Checking wrong divs for lineage 213\n",
      "Checking wrong divs for lineage 291\n",
      "Checking wrong divs for lineage 318\n",
      "Saving corrected tracked cells:\n",
      "/home/charly/Lab/Projects/uJ/uJ_data/pBGT-AMP-Pulse/20190325_Bruno_pBGT_quimiostato/data_cells_tracked/xy02/normData/\n",
      "/home/charly/Lab/Projects/uJ/uJ_data/pBGT-AMP-Pulse/20190325_Bruno_pBGT_quimiostato/data_cells_tracked_corrected/xy02/normData/\n",
      "Saving 325 cells to /home/charly/Lab/Projects/uJ/uJ_data/pBGT-AMP-Pulse/20190325_Bruno_pBGT_quimiostato/data_cells_tracked_corrected/xy02/normData/pBGT-AMP-Pulse_xy02_020.pkl\n",
      "Saving 302 cells to /home/charly/Lab/Projects/uJ/uJ_data/pBGT-AMP-Pulse/20190325_Bruno_pBGT_quimiostato/data_cells_tracked_corrected/xy02/normData/pBGT-AMP-Pulse_xy02_021.pkl\n",
      "Saving 307 cells to /home/charly/Lab/Projects/uJ/uJ_data/pBGT-AMP-Pulse/20190325_Bruno_pBGT_quimiostato/data_cells_tracked_corrected/xy02/normData/pBGT-AMP-Pulse_xy02_022.pkl\n",
      "Saving 303 cells to /home/charly/Lab/Projects/uJ/uJ_data/pBGT-AMP-Pulse/20190325_Bruno_pBGT_quimiostato/data_cells_tracked_corrected/xy02/normData/pBGT-AMP-Pulse_xy02_023.pkl\n",
      "Saving 290 cells to /home/charly/Lab/Projects/uJ/uJ_data/pBGT-AMP-Pulse/20190325_Bruno_pBGT_quimiostato/data_cells_tracked_corrected/xy02/normData/pBGT-AMP-Pulse_xy02_024.pkl\n",
      "Saving 265 cells to /home/charly/Lab/Projects/uJ/uJ_data/pBGT-AMP-Pulse/20190325_Bruno_pBGT_quimiostato/data_cells_tracked_corrected/xy02/normData/pBGT-AMP-Pulse_xy02_025.pkl\n",
      "Saving 179 cells to /home/charly/Lab/Projects/uJ/uJ_data/pBGT-AMP-Pulse/20190325_Bruno_pBGT_quimiostato/data_cells_tracked_corrected/xy02/normData/pBGT-AMP-Pulse_xy02_026.pkl\n",
      "Saving 172 cells to /home/charly/Lab/Projects/uJ/uJ_data/pBGT-AMP-Pulse/20190325_Bruno_pBGT_quimiostato/data_cells_tracked_corrected/xy02/normData/pBGT-AMP-Pulse_xy02_027.pkl\n",
      "Saving 166 cells to /home/charly/Lab/Projects/uJ/uJ_data/pBGT-AMP-Pulse/20190325_Bruno_pBGT_quimiostato/data_cells_tracked_corrected/xy02/normData/pBGT-AMP-Pulse_xy02_028.pkl\n",
      "Saving 156 cells to /home/charly/Lab/Projects/uJ/uJ_data/pBGT-AMP-Pulse/20190325_Bruno_pBGT_quimiostato/data_cells_tracked_corrected/xy02/normData/pBGT-AMP-Pulse_xy02_029.pkl\n",
      "Saving 142 cells to /home/charly/Lab/Projects/uJ/uJ_data/pBGT-AMP-Pulse/20190325_Bruno_pBGT_quimiostato/data_cells_tracked_corrected/xy02/normData/pBGT-AMP-Pulse_xy02_030.pkl\n",
      "Saving 139 cells to /home/charly/Lab/Projects/uJ/uJ_data/pBGT-AMP-Pulse/20190325_Bruno_pBGT_quimiostato/data_cells_tracked_corrected/xy02/normData/pBGT-AMP-Pulse_xy02_031.pkl\n",
      "Saving 140 cells to /home/charly/Lab/Projects/uJ/uJ_data/pBGT-AMP-Pulse/20190325_Bruno_pBGT_quimiostato/data_cells_tracked_corrected/xy02/normData/pBGT-AMP-Pulse_xy02_032.pkl\n",
      "Saving 132 cells to /home/charly/Lab/Projects/uJ/uJ_data/pBGT-AMP-Pulse/20190325_Bruno_pBGT_quimiostato/data_cells_tracked_corrected/xy02/normData/pBGT-AMP-Pulse_xy02_033.pkl\n",
      "Saving 124 cells to /home/charly/Lab/Projects/uJ/uJ_data/pBGT-AMP-Pulse/20190325_Bruno_pBGT_quimiostato/data_cells_tracked_corrected/xy02/normData/pBGT-AMP-Pulse_xy02_034.pkl\n",
      "Saving 125 cells to /home/charly/Lab/Projects/uJ/uJ_data/pBGT-AMP-Pulse/20190325_Bruno_pBGT_quimiostato/data_cells_tracked_corrected/xy02/normData/pBGT-AMP-Pulse_xy02_035.pkl\n",
      "Saving 125 cells to /home/charly/Lab/Projects/uJ/uJ_data/pBGT-AMP-Pulse/20190325_Bruno_pBGT_quimiostato/data_cells_tracked_corrected/xy02/normData/pBGT-AMP-Pulse_xy02_036.pkl\n",
      "Saving 120 cells to /home/charly/Lab/Projects/uJ/uJ_data/pBGT-AMP-Pulse/20190325_Bruno_pBGT_quimiostato/data_cells_tracked_corrected/xy02/normData/pBGT-AMP-Pulse_xy02_037.pkl\n",
      "Saving 114 cells to /home/charly/Lab/Projects/uJ/uJ_data/pBGT-AMP-Pulse/20190325_Bruno_pBGT_quimiostato/data_cells_tracked_corrected/xy02/normData/pBGT-AMP-Pulse_xy02_038.pkl\n",
      "Saving 114 cells to /home/charly/Lab/Projects/uJ/uJ_data/pBGT-AMP-Pulse/20190325_Bruno_pBGT_quimiostato/data_cells_tracked_corrected/xy02/normData/pBGT-AMP-Pulse_xy02_039.pkl\n",
      "Saving 115 cells to /home/charly/Lab/Projects/uJ/uJ_data/pBGT-AMP-Pulse/20190325_Bruno_pBGT_quimiostato/data_cells_tracked_corrected/xy02/normData/pBGT-AMP-Pulse_xy02_040.pkl\n",
      "Saving 120 cells to /home/charly/Lab/Projects/uJ/uJ_data/pBGT-AMP-Pulse/20190325_Bruno_pBGT_quimiostato/data_cells_tracked_corrected/xy02/normData/pBGT-AMP-Pulse_xy02_041.pkl\n",
      "Saving 123 cells to /home/charly/Lab/Projects/uJ/uJ_data/pBGT-AMP-Pulse/20190325_Bruno_pBGT_quimiostato/data_cells_tracked_corrected/xy02/normData/pBGT-AMP-Pulse_xy02_042.pkl\n",
      "Saving 133 cells to /home/charly/Lab/Projects/uJ/uJ_data/pBGT-AMP-Pulse/20190325_Bruno_pBGT_quimiostato/data_cells_tracked_corrected/xy02/normData/pBGT-AMP-Pulse_xy02_043.pkl\n",
      "Saving 129 cells to /home/charly/Lab/Projects/uJ/uJ_data/pBGT-AMP-Pulse/20190325_Bruno_pBGT_quimiostato/data_cells_tracked_corrected/xy02/normData/pBGT-AMP-Pulse_xy02_044.pkl\n",
      "Saving corrected lineages dataframe...\n",
      "Saving:  /home/charly/Lab/Projects/uJ/uJ_data/pBGT-AMP-Pulse/20190325_Bruno_pBGT_quimiostato/data/lineages_corrected/pBGT-AMP-Pulse_xy02_lineages_all.csv\n"
     ]
    }
   ],
   "source": [
    "df_lineages_geoms=fix_cells_with_double_lineages(df_lineages_geoms)\n",
    "xx=df_lineages_geoms.lineageID.unique()\n",
    "for x in xx:\n",
    "    df_lineages_geoms=fix_wrong_divisions(df_lineages_geoms,x)\n"
   ]
  },
  {
   "cell_type": "markdown",
   "metadata": {},
   "source": [
    "## Create local trap data backup for restarting correction session"
   ]
  },
  {
   "cell_type": "code",
   "execution_count": 25,
   "metadata": {},
   "outputs": [],
   "source": [
    "backup_cells=deepcopy(tracked_cells_corrected)\n",
    "backup_df_lineages=deepcopy(df_lineages_geoms)\n",
    "last_save_cells=deepcopy(tracked_cells_corrected)\n",
    "last_save_df_lineages=deepcopy(df_lineages_geoms)"
   ]
  },
  {
   "cell_type": "markdown",
   "metadata": {},
   "source": [
    "## Napari viewer"
   ]
  },
  {
   "cell_type": "markdown",
   "metadata": {
    "id": "sX5VizSAEbet"
   },
   "source": [
    "### Open raw/tif images"
   ]
  },
  {
   "cell_type": "code",
   "execution_count": 13,
   "metadata": {
    "id": "TZ5Mq6DwEbet"
   },
   "outputs": [],
   "source": [
    "%gui qt\n",
    "\n",
    "cellViewer=napari.Viewer()\n",
    "cellViewer.title=\"cellViewer-ESB\"\n",
    "\n",
    "trap_index=full_trap_list.index(current_trap)\n",
    "tif_path=trap_tif_path[trap_index]\n",
    "masks_path=trap_masks_path[trap_index]\n",
    "\n",
    "for chan,col,v in zip(channels,channels_color,vis):\n",
    "    this_path=tif_path+chan+\"/\"\n",
    "    cellViewer.open(this_path,blending='additive',colormap=col,name=chan,visible=v)\n",
    "cellViewer.open(masks_path,blending='additive',colormap='gray',name='masks',visible=False)\n",
    "cellViewer.dims.set_axis_label(0,\"frame(-%s)\"%frame_experiment_start)"
   ]
  },
  {
   "cell_type": "markdown",
   "metadata": {},
   "source": [
    "### Add widgets and buttons"
   ]
  },
  {
   "cell_type": "code",
   "execution_count": 14,
   "metadata": {},
   "outputs": [
    {
     "name": "stdout",
     "output_type": "stream",
     "text": [
      "Current number of lineages 481\n",
      "Selecting lineage 1     \n",
      "\n"
     ]
    },
    {
     "data": {
      "text/plain": [
       "(1, 1, 'None')"
      ]
     },
     "execution_count": 14,
     "metadata": {},
     "output_type": "execute_result"
    }
   ],
   "source": [
    "cellViewer.window.remove_dock_widget(\"all\");plotwidget=False\n",
    "\n",
    "add_lineage_slider_widget(cellViewer)\n",
    "add_save_buttons(cellViewer)\n",
    "LoadKeyBindedFuctions(cellViewer)\n",
    "lineage_slider()\n",
    "slider_default_val,current_lineageID,current_trackID"
   ]
  },
  {
   "cell_type": "code",
   "execution_count": null,
   "metadata": {},
   "outputs": [],
   "source": [
    "#cellViewer.close()\n"
   ]
  },
  {
   "cell_type": "code",
   "execution_count": null,
   "metadata": {},
   "outputs": [],
   "source": [
    "# cellViewer.window.activate()\n",
    "# cellViewer.window.qt_viewer.console.execute()"
   ]
  },
  {
   "cell_type": "markdown",
   "metadata": {},
   "source": [
    "## Fix corrections errors\n",
    "### Run this after finishing all trap corrections"
   ]
  },
  {
   "cell_type": "markdown",
   "metadata": {},
   "source": [
    "\n",
    "### Here you get the wrong track names and tracks that were wrongly formed"
   ]
  },
  {
   "cell_type": "code",
   "execution_count": 26,
   "metadata": {
    "scrolled": false
   },
   "outputs": [
    {
     "name": "stdout",
     "output_type": "stream",
     "text": [
      "Wrong structure tracks []\n",
      "Wrong named tracks []\n"
     ]
    }
   ],
   "source": [
    "    \n",
    "wrong_track_names,wrong_track_names=dataframe_error_reporter(df_lineages_geoms)"
   ]
  },
  {
   "cell_type": "markdown",
   "metadata": {},
   "source": [
    "### Please corrrect the tracks with wrong structure manually (if any)\n",
    "#### you can drop them from the dataframe or drop specific lines and re-associate-deassociate"
   ]
  },
  {
   "cell_type": "code",
   "execution_count": 27,
   "metadata": {
    "scrolled": false
   },
   "outputs": [
    {
     "name": "stdout",
     "output_type": "stream",
     "text": [
      "['cellID1-cellID2']\n"
     ]
    },
    {
     "data": {
      "text/html": [
       "<div>\n",
       "<style scoped>\n",
       "    .dataframe tbody tr th:only-of-type {\n",
       "        vertical-align: middle;\n",
       "    }\n",
       "\n",
       "    .dataframe tbody tr th {\n",
       "        vertical-align: top;\n",
       "    }\n",
       "\n",
       "    .dataframe thead th {\n",
       "        text-align: right;\n",
       "    }\n",
       "</style>\n",
       "<table border=\"1\" class=\"dataframe\">\n",
       "  <thead>\n",
       "    <tr style=\"text-align: right;\">\n",
       "      <th></th>\n",
       "      <th>lineageID</th>\n",
       "      <th>trackID</th>\n",
       "      <th>cellID</th>\n",
       "      <th>motherID</th>\n",
       "      <th>frame</th>\n",
       "      <th>roiID</th>\n",
       "      <th>length</th>\n",
       "      <th>division</th>\n",
       "      <th>state</th>\n",
       "      <th>tracking_score</th>\n",
       "      <th>GFP</th>\n",
       "      <th>DsRed</th>\n",
       "      <th>cellColor</th>\n",
       "      <th>center</th>\n",
       "      <th>roiPoly</th>\n",
       "      <th>axis</th>\n",
       "    </tr>\n",
       "  </thead>\n",
       "  <tbody>\n",
       "  </tbody>\n",
       "</table>\n",
       "</div>"
      ],
      "text/plain": [
       "Empty DataFrame\n",
       "Columns: [lineageID, trackID, cellID, motherID, frame, roiID, length, division, state, tracking_score, GFP, DsRed, cellColor, center, roiPoly, axis]\n",
       "Index: []"
      ]
     },
     "metadata": {},
     "output_type": "display_data"
    }
   ],
   "source": [
    "### by cellID\n",
    "cidx='26.155'\n",
    "temp_tracks=df_lineages_geoms[df_lineages_geoms[\"cellID\"]==cidx][\"trackID\"]\n",
    "\n",
    "### by lineageID\n",
    "\n",
    "# temp_tracks=df_lineages_geoms[df_lineages_geoms[\"lineageID\"]==15][\"trackID\"].unique()\n",
    "\n",
    "### by spicific track\n",
    "temp_tracks=['cellID1-cellID2']\n",
    "#temp_tracks=['20.254-41.093']\n",
    "\n",
    "#temp_tracks.sort()\n",
    "print(temp_tracks)\n",
    "for temp_track in temp_tracks:\n",
    "    display(df_lineages_geoms[df_lineages_geoms[\"trackID\"]==temp_track])\n"
   ]
  },
  {
   "cell_type": "code",
   "execution_count": 20,
   "metadata": {},
   "outputs": [],
   "source": [
    "#df_lineages_geoms=df_lineages_geoms.drop(4559)\n"
   ]
  },
  {
   "cell_type": "code",
   "execution_count": 29,
   "metadata": {},
   "outputs": [
    {
     "name": "stdout",
     "output_type": "stream",
     "text": [
      "Int64Index([], dtype='int64')\n"
     ]
    },
    {
     "data": {
      "text/html": [
       "<div>\n",
       "<style scoped>\n",
       "    .dataframe tbody tr th:only-of-type {\n",
       "        vertical-align: middle;\n",
       "    }\n",
       "\n",
       "    .dataframe tbody tr th {\n",
       "        vertical-align: top;\n",
       "    }\n",
       "\n",
       "    .dataframe thead th {\n",
       "        text-align: right;\n",
       "    }\n",
       "</style>\n",
       "<table border=\"1\" class=\"dataframe\">\n",
       "  <thead>\n",
       "    <tr style=\"text-align: right;\">\n",
       "      <th></th>\n",
       "      <th>lineageID</th>\n",
       "      <th>trackID</th>\n",
       "      <th>cellID</th>\n",
       "      <th>motherID</th>\n",
       "      <th>frame</th>\n",
       "      <th>roiID</th>\n",
       "      <th>length</th>\n",
       "      <th>division</th>\n",
       "      <th>state</th>\n",
       "      <th>tracking_score</th>\n",
       "      <th>GFP</th>\n",
       "      <th>DsRed</th>\n",
       "      <th>cellColor</th>\n",
       "      <th>center</th>\n",
       "      <th>roiPoly</th>\n",
       "      <th>axis</th>\n",
       "    </tr>\n",
       "  </thead>\n",
       "  <tbody>\n",
       "  </tbody>\n",
       "</table>\n",
       "</div>"
      ],
      "text/plain": [
       "Empty DataFrame\n",
       "Columns: [lineageID, trackID, cellID, motherID, frame, roiID, length, division, state, tracking_score, GFP, DsRed, cellColor, center, roiPoly, axis]\n",
       "Index: []"
      ]
     },
     "metadata": {},
     "output_type": "display_data"
    }
   ],
   "source": [
    "x=max(df_lineages_geoms.lineageID.unique())\n",
    "nlins=x+1\n",
    "\n",
    "temp_track=list(temp_tracks)[0]\n",
    "inxs=df_lineages_geoms[df_lineages_geoms[\"trackID\"]==temp_track].index\n",
    "print(inxs)\n",
    "#df_lineages_geoms=df_lineages_geoms.drop(inxs)\n",
    "#df_lineages_geoms.loc[inxs,\"lineageID\"]=322\n",
    "#df_lineages_geoms.loc[4573,\"division\"]=0\n",
    "#df_lineages_geoms.loc[inxs,\"trackID\"]=\"26.155-41.093\"\n",
    "for temp_track in temp_tracks:\n",
    "    display(df_lineages_geoms[df_lineages_geoms[\"trackID\"]==temp_track])\n"
   ]
  },
  {
   "cell_type": "markdown",
   "metadata": {},
   "source": [
    "### This section corrects wrong tracks names\n",
    "### Set conformation to True to choose correction for each one"
   ]
  },
  {
   "cell_type": "code",
   "execution_count": 30,
   "metadata": {
    "scrolled": true
   },
   "outputs": [
    {
     "name": "stdout",
     "output_type": "stream",
     "text": [
      "Automatic changing wrog track names\n"
     ]
    }
   ],
   "source": [
    "df_lineages_geoms=dataframe_error_name_corrrector(df_lineages_geoms,wrong_track_names,confirmation=False)"
   ]
  },
  {
   "cell_type": "markdown",
   "metadata": {},
   "source": [
    "### This section corrects wrongly splitted tracks upopn division"
   ]
  },
  {
   "cell_type": "code",
   "execution_count": 31,
   "metadata": {},
   "outputs": [
    {
     "name": "stdout",
     "output_type": "stream",
     "text": [
      "checking lineage:\n",
      "1, 2, 3, 4, 5, 6, 7, 8, 9, 10, 11, 12, 13, 14, 15, 16, 17, 18, 20, 21, 22, 24, 25, 26, 27, 28, 29, 30, 31, 32, 33, 34, 35, 36, 37, 38, 39, 40, 42, 43, 44, 46, 47, 48, 49, 50, 51, 52, 54, 55, 56, 57, 58, 60, 61, 63, 64, 66, 67, 68, 69, \n",
      "Joining track 20.156-34.066 with track 34.066-36.071\n",
      "70, 71, 72, 73, 74, 75, 76, 77, 78, 79, 80, 81, 82, 83, 84, 85, 86, 87, 89, 90, 91, 93, 94, 95, 96, 97, 98, 99, 100, 101, 103, 104, 106, 107, 108, 109, 110, 111, 112, 113, 114, 115, 117, 118, 119, 120, 123, 124, 125, 126, 127, 128, 129, 130, 131, 132, 133, 134, 137, 138, 140, 141, 142, 143, 144, 146, 147, 148, 149, 150, 151, 152, 153, 155, 156, 157, 158, 159, 160, 161, 163, 164, 165, 166, 167, 168, 170, 171, 172, 173, 174, 175, 176, 177, 178, 179, 180, 181, 182, 184, 185, 187, 188, 190, 191, 192, 193, 194, 195, 196, 197, 198, 199, 200, 201, 202, 203, 204, 205, 206, 208, 209, 210, 211, 212, 213, 214, 215, 216, 217, 218, 219, 222, 223, 224, 225, 226, 227, 228, 229, 230, 231, 232, 233, 234, 235, 236, 239, 240, 241, 242, 243, 245, 246, 247, 248, 249, 250, 251, 252, 253, 254, 255, 256, 258, 259, 260, 261, 262, 263, 264, 265, 266, 267, 268, 269, 271, 272, 273, 274, 276, 279, 280, 283, 284, 285, 286, 289, 290, 291, 292, 294, 295, 296, 298, 299, 300, 302, 315, 317, 318, 322, 327, 353, 362, 363, 369, 379, 387, 393, 397, 399, 400, 403, 404, 405, 407, 408, 410, 420, 422, 427, 434, 438, 441, 442, 444, 445, 450, 454, 455, 456, 458, 463, 465, 467, 468, 469, 471, 473, 474, 475, 476, 477, 478, 480, 481, "
     ]
    }
   ],
   "source": [
    "df_lineages_geoms=fix_splited_tracks_and_divisions(df_lineages_geoms)"
   ]
  },
  {
   "cell_type": "markdown",
   "metadata": {},
   "source": [
    "### check there are no erros left"
   ]
  },
  {
   "cell_type": "code",
   "execution_count": 32,
   "metadata": {},
   "outputs": [
    {
     "name": "stdout",
     "output_type": "stream",
     "text": [
      "Wrong structure tracks []\n",
      "Wrong named tracks []\n",
      "Saving corrected tracked cells:\n",
      "/home/charly/Lab/Projects/uJ/uJ_data/pBGT-AMP-Pulse/20190325_Bruno_pBGT_quimiostato/data_cells_tracked/xy02/normData/\n",
      "/home/charly/Lab/Projects/uJ/uJ_data/pBGT-AMP-Pulse/20190325_Bruno_pBGT_quimiostato/data_cells_tracked_corrected/xy02/normData/\n",
      "Saving 325 cells to /home/charly/Lab/Projects/uJ/uJ_data/pBGT-AMP-Pulse/20190325_Bruno_pBGT_quimiostato/data_cells_tracked_corrected/xy02/normData/pBGT-AMP-Pulse_xy02_020.pkl\n",
      "Saving 302 cells to /home/charly/Lab/Projects/uJ/uJ_data/pBGT-AMP-Pulse/20190325_Bruno_pBGT_quimiostato/data_cells_tracked_corrected/xy02/normData/pBGT-AMP-Pulse_xy02_021.pkl\n",
      "Saving 307 cells to /home/charly/Lab/Projects/uJ/uJ_data/pBGT-AMP-Pulse/20190325_Bruno_pBGT_quimiostato/data_cells_tracked_corrected/xy02/normData/pBGT-AMP-Pulse_xy02_022.pkl\n",
      "Saving 303 cells to /home/charly/Lab/Projects/uJ/uJ_data/pBGT-AMP-Pulse/20190325_Bruno_pBGT_quimiostato/data_cells_tracked_corrected/xy02/normData/pBGT-AMP-Pulse_xy02_023.pkl\n",
      "Saving 290 cells to /home/charly/Lab/Projects/uJ/uJ_data/pBGT-AMP-Pulse/20190325_Bruno_pBGT_quimiostato/data_cells_tracked_corrected/xy02/normData/pBGT-AMP-Pulse_xy02_024.pkl\n",
      "Saving 265 cells to /home/charly/Lab/Projects/uJ/uJ_data/pBGT-AMP-Pulse/20190325_Bruno_pBGT_quimiostato/data_cells_tracked_corrected/xy02/normData/pBGT-AMP-Pulse_xy02_025.pkl\n",
      "Saving 179 cells to /home/charly/Lab/Projects/uJ/uJ_data/pBGT-AMP-Pulse/20190325_Bruno_pBGT_quimiostato/data_cells_tracked_corrected/xy02/normData/pBGT-AMP-Pulse_xy02_026.pkl\n",
      "Saving 172 cells to /home/charly/Lab/Projects/uJ/uJ_data/pBGT-AMP-Pulse/20190325_Bruno_pBGT_quimiostato/data_cells_tracked_corrected/xy02/normData/pBGT-AMP-Pulse_xy02_027.pkl\n",
      "Saving 166 cells to /home/charly/Lab/Projects/uJ/uJ_data/pBGT-AMP-Pulse/20190325_Bruno_pBGT_quimiostato/data_cells_tracked_corrected/xy02/normData/pBGT-AMP-Pulse_xy02_028.pkl\n",
      "Saving 156 cells to /home/charly/Lab/Projects/uJ/uJ_data/pBGT-AMP-Pulse/20190325_Bruno_pBGT_quimiostato/data_cells_tracked_corrected/xy02/normData/pBGT-AMP-Pulse_xy02_029.pkl\n",
      "Saving 142 cells to /home/charly/Lab/Projects/uJ/uJ_data/pBGT-AMP-Pulse/20190325_Bruno_pBGT_quimiostato/data_cells_tracked_corrected/xy02/normData/pBGT-AMP-Pulse_xy02_030.pkl\n",
      "Saving 139 cells to /home/charly/Lab/Projects/uJ/uJ_data/pBGT-AMP-Pulse/20190325_Bruno_pBGT_quimiostato/data_cells_tracked_corrected/xy02/normData/pBGT-AMP-Pulse_xy02_031.pkl\n",
      "Saving 140 cells to /home/charly/Lab/Projects/uJ/uJ_data/pBGT-AMP-Pulse/20190325_Bruno_pBGT_quimiostato/data_cells_tracked_corrected/xy02/normData/pBGT-AMP-Pulse_xy02_032.pkl\n",
      "Saving 132 cells to /home/charly/Lab/Projects/uJ/uJ_data/pBGT-AMP-Pulse/20190325_Bruno_pBGT_quimiostato/data_cells_tracked_corrected/xy02/normData/pBGT-AMP-Pulse_xy02_033.pkl\n",
      "Saving 124 cells to /home/charly/Lab/Projects/uJ/uJ_data/pBGT-AMP-Pulse/20190325_Bruno_pBGT_quimiostato/data_cells_tracked_corrected/xy02/normData/pBGT-AMP-Pulse_xy02_034.pkl\n",
      "Saving 125 cells to /home/charly/Lab/Projects/uJ/uJ_data/pBGT-AMP-Pulse/20190325_Bruno_pBGT_quimiostato/data_cells_tracked_corrected/xy02/normData/pBGT-AMP-Pulse_xy02_035.pkl\n",
      "Saving 125 cells to /home/charly/Lab/Projects/uJ/uJ_data/pBGT-AMP-Pulse/20190325_Bruno_pBGT_quimiostato/data_cells_tracked_corrected/xy02/normData/pBGT-AMP-Pulse_xy02_036.pkl\n",
      "Saving 120 cells to /home/charly/Lab/Projects/uJ/uJ_data/pBGT-AMP-Pulse/20190325_Bruno_pBGT_quimiostato/data_cells_tracked_corrected/xy02/normData/pBGT-AMP-Pulse_xy02_037.pkl\n",
      "Saving 114 cells to /home/charly/Lab/Projects/uJ/uJ_data/pBGT-AMP-Pulse/20190325_Bruno_pBGT_quimiostato/data_cells_tracked_corrected/xy02/normData/pBGT-AMP-Pulse_xy02_038.pkl\n",
      "Saving 114 cells to /home/charly/Lab/Projects/uJ/uJ_data/pBGT-AMP-Pulse/20190325_Bruno_pBGT_quimiostato/data_cells_tracked_corrected/xy02/normData/pBGT-AMP-Pulse_xy02_039.pkl\n",
      "Saving 115 cells to /home/charly/Lab/Projects/uJ/uJ_data/pBGT-AMP-Pulse/20190325_Bruno_pBGT_quimiostato/data_cells_tracked_corrected/xy02/normData/pBGT-AMP-Pulse_xy02_040.pkl\n",
      "Saving 120 cells to /home/charly/Lab/Projects/uJ/uJ_data/pBGT-AMP-Pulse/20190325_Bruno_pBGT_quimiostato/data_cells_tracked_corrected/xy02/normData/pBGT-AMP-Pulse_xy02_041.pkl\n",
      "Saving 123 cells to /home/charly/Lab/Projects/uJ/uJ_data/pBGT-AMP-Pulse/20190325_Bruno_pBGT_quimiostato/data_cells_tracked_corrected/xy02/normData/pBGT-AMP-Pulse_xy02_042.pkl\n",
      "Saving 133 cells to /home/charly/Lab/Projects/uJ/uJ_data/pBGT-AMP-Pulse/20190325_Bruno_pBGT_quimiostato/data_cells_tracked_corrected/xy02/normData/pBGT-AMP-Pulse_xy02_043.pkl\n",
      "Saving 129 cells to /home/charly/Lab/Projects/uJ/uJ_data/pBGT-AMP-Pulse/20190325_Bruno_pBGT_quimiostato/data_cells_tracked_corrected/xy02/normData/pBGT-AMP-Pulse_xy02_044.pkl\n",
      "Saving corrected lineages dataframe...\n",
      "Saving:  /home/charly/Lab/Projects/uJ/uJ_data/pBGT-AMP-Pulse/20190325_Bruno_pBGT_quimiostato/data/lineages_corrected/pBGT-AMP-Pulse_xy02_lineages_all.csv\n"
     ]
    }
   ],
   "source": [
    "wrong_track_names2,wrong_track_names2=dataframe_error_reporter(df_lineages_geoms)"
   ]
  },
  {
   "cell_type": "markdown",
   "metadata": {},
   "source": [
    "### upload session data\n",
    "### depending on your Gdrive syncer you may want to work locally and then sync to your online data files"
   ]
  },
  {
   "cell_type": "code",
   "execution_count": 22,
   "metadata": {},
   "outputs": [
    {
     "name": "stdout",
     "output_type": "stream",
     "text": [
      "Syncing cells\n",
      "sending incremental file list\n",
      "xy02/normData/pBGT-AMP-Pulse_xy02_020.pkl\n",
      "xy02/normData/pBGT-AMP-Pulse_xy02_021.pkl\n",
      "xy02/normData/pBGT-AMP-Pulse_xy02_022.pkl\n",
      "xy02/normData/pBGT-AMP-Pulse_xy02_023.pkl\n",
      "xy02/normData/pBGT-AMP-Pulse_xy02_024.pkl\n",
      "xy02/normData/pBGT-AMP-Pulse_xy02_025.pkl\n",
      "xy02/normData/pBGT-AMP-Pulse_xy02_026.pkl\n",
      "xy02/normData/pBGT-AMP-Pulse_xy02_027.pkl\n",
      "xy02/normData/pBGT-AMP-Pulse_xy02_028.pkl\n",
      "xy02/normData/pBGT-AMP-Pulse_xy02_029.pkl\n",
      "xy02/normData/pBGT-AMP-Pulse_xy02_030.pkl\n",
      "xy02/normData/pBGT-AMP-Pulse_xy02_031.pkl\n",
      "xy02/normData/pBGT-AMP-Pulse_xy02_032.pkl\n",
      "xy02/normData/pBGT-AMP-Pulse_xy02_033.pkl\n",
      "xy02/normData/pBGT-AMP-Pulse_xy02_034.pkl\n",
      "xy02/normData/pBGT-AMP-Pulse_xy02_035.pkl\n",
      "xy02/normData/pBGT-AMP-Pulse_xy02_036.pkl\n",
      "xy02/normData/pBGT-AMP-Pulse_xy02_037.pkl\n",
      "xy02/normData/pBGT-AMP-Pulse_xy02_038.pkl\n",
      "xy02/normData/pBGT-AMP-Pulse_xy02_039.pkl\n",
      "xy02/normData/pBGT-AMP-Pulse_xy02_040.pkl\n",
      "xy02/normData/pBGT-AMP-Pulse_xy02_041.pkl\n",
      "xy02/normData/pBGT-AMP-Pulse_xy02_042.pkl\n",
      "xy02/normData/pBGT-AMP-Pulse_xy02_043.pkl\n",
      "xy02/normData/pBGT-AMP-Pulse_xy02_044.pkl\n",
      "\n",
      "sent 22,159,143 bytes  received 493 bytes  61,812.09 bytes/sec\n",
      "total size is 22,152,185  speedup is 1.00\n",
      "Syncing dataframe\n",
      "sending incremental file list\n",
      "pBGT-AMP-Pulse_xy02_lineages_all.csv\n",
      "\n",
      "sent 499,935 bytes  received 35 bytes  32,256.13 bytes/sec\n",
      "total size is 499,662  speedup is 1.00\n"
     ]
    }
   ],
   "source": [
    "rootDir0=uj_data_path_trillion+\"pBGT-AMP-Pulse/20190325_Bruno_pBGT_quimiostato/\"\n",
    "rootDir1=uj_data_path_trillion_online+\"pBGT-AMP-Pulse/20190325_Bruno_pBGT_quimiostato/\"\n",
    "\n",
    "dirNameDataCellsTrackedCorrected0=rootDir0+\"data_cells_tracked_corrected/\"\n",
    "dirNameDataCellsTrackedCorrected1=rootDir1+\"data_cells_tracked_corrected/\"\n",
    "dirNameDataLineagesCorrected0=rootDir0+\"data/lineages_corrected/\"\n",
    "dirNameDataLineagesCorrected1=rootDir1+\"data/lineages_corrected/\"\n",
    "dirNameDataNapariLabels0=rootDir0+'data_napari_labels/'\n",
    "dirNameDataNapariLabels1=rootDir1+'data_napari_labels/'\n",
    "\n",
    "\n",
    "#print(\"watch -n 600 rsync -auv %s %s | rsync -auv %s %s \"%(dirNameDataCellsTrackedCorrected0,dirNameDataCellsTrackedCorrected1,dirNameDataLineagesCorrected0,dirNameDataLineagesCorrected1))\n",
    "print(\"Syncing cells\")\n",
    "!rsync -auv $dirNameDataCellsTrackedCorrected0 $dirNameDataCellsTrackedCorrected1 \n",
    "print(\"Syncing dataframe\")\n",
    "!rsync -auv $dirNameDataLineagesCorrected0 $dirNameDataLineagesCorrected1\n",
    "print(\"Syncing napari labels data\")\n",
    "!rsync -auv $dirNameDataNapariLabels0 $dirNameDataNapariLabels1"
   ]
  },
  {
   "cell_type": "markdown",
   "metadata": {},
   "source": [
    "## Native binded keys\n",
    "##### Ctrl Switch to fill mode temporarily when pressed\n",
    "##### Ctrl+Y Toggle ndisplay\n",
    "##### ← Increment dimensions slider to the left\n",
    "##### →Increment dimensions slider to the right\n",
    "##### Alt+↑ Move focus of dimensions slider up\n",
    "##### Alt+↓ Move focus of dimensions slider down\n",
    "##### Ctrl+E Change order of the visible axes, e.g. [0, 1, 2] -> [2, 0, 1]\n",
    "##### Ctrl+T Transpose order of the last two visible axes, e.g. [0, 1] -> [1, 0]\n",
    "##### Ctrl+Delete Remove selected layers\n",
    "##### Ctrl+⌫ Remove selected layers\n",
    "##### Ctrl+A Selected all layers\n",
    "##### Ctrl+⇧+Delete Remove all layers\n",
    "##### Ctrl+⇧+⌫ Remove all layers\n",
    "##### ↑ Select layer above\n",
    "##### ↓ Select layer below\n",
    "##### ⇧+↑ Also select layer above\n",
    "##### ⇧+↓ Also select layer below\n",
    "##### Ctrl+R Reset view to original state\n",
    "##### Ctrl+G Toggle grid mode\n",
    "##### V Toggle visibility of selected layers\n",
    "##### Space Hold to pan and zoom in the viewer\n",
    "##### P Activate the paintbrush\n",
    "##### F Activate the fill bucket\n",
    "##### Z Activate pan and zoom mode\n",
    "##### L Activate the label picker\n",
    "##### E Activate the label eraser\n",
    "##### M Set the currently selected label to the largest used label plus one\n",
    "##### D Decrease the currently selected label by one\n",
    "##### I Increase the currently selected label by one\n",
    "##### Ctrl+Z Undo the last paint or fill action since the view slice has changed\n",
    "##### Ctrl+⇧+Z Redo any previously undone actions\n",
    "##### ⇧ Toggle preserve label option when pressed\n",
    "##### Alt Switch to erase mode temporarily when pressed\n"
   ]
  },
  {
   "cell_type": "code",
   "execution_count": null,
   "metadata": {},
   "outputs": [],
   "source": []
  },
  {
   "cell_type": "code",
   "execution_count": null,
   "metadata": {},
   "outputs": [],
   "source": []
  },
  {
   "cell_type": "code",
   "execution_count": null,
   "metadata": {},
   "outputs": [],
   "source": []
  }
 ],
 "metadata": {
  "kernelspec": {
   "display_name": "Python 3",
   "language": "python",
   "name": "python3"
  },
  "language_info": {
   "codemirror_mode": {
    "name": "ipython",
    "version": 3
   },
   "file_extension": ".py",
   "mimetype": "text/x-python",
   "name": "python",
   "nbconvert_exporter": "python",
   "pygments_lexer": "ipython3",
   "version": "3.9.1"
  }
 },
 "nbformat": 4,
 "nbformat_minor": 4
}
