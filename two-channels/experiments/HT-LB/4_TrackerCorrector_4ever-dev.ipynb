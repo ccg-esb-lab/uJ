{
 "cells": [
  {
   "cell_type": "code",
   "execution_count": 1,
   "metadata": {},
   "outputs": [],
   "source": [
    "import sys\n",
    "import os\n",
    "import numpy as np\n",
    "from matplotlib import pyplot as plt\n",
    "import matplotlib as mpl\n",
    "import matplotlib.patches as patches\n",
    "from shapely.geometry import Point\n",
    "from shapely.geometry import MultiPoint\n",
    "from shapely.geometry import MultiPolygon\n",
    "from shapely.geometry import Polygon\n",
    "from shapely.geometry import box\n",
    "from descartes.patch import PolygonPatch\n",
    "import ipywidgets as widgets\n",
    "import ipywidgets.widgets.interaction\n",
    "#from ipywidgets import interactive, fixed\n",
    "from ipywidgets import *\n",
    "import random\n",
    "import pandas as pd\n",
    "\n",
    "import re\n",
    "\n",
    "from shapely import geometry\n",
    "import pickle\n",
    "import time\n",
    "\n",
    "from ipyparallel import Client\n",
    "\n",
    "from shapely import affinity\n",
    "from shapely.geometry import LineString\n",
    "import warnings\n",
    "warnings.simplefilter('ignore', np.RankWarning)\n",
    "\n"
   ]
  },
  {
   "cell_type": "code",
   "execution_count": 2,
   "metadata": {},
   "outputs": [],
   "source": [
    "os.chdir('/home/charly/Lab/Projects/uJ/local/experiments/HT-LB/')\n",
    "#os.chdir('/home/esb/Projects/uJ/uJ_master/experiments/HT-Sine2hr/')\n"
   ]
  },
  {
   "cell_type": "code",
   "execution_count": 3,
   "metadata": {},
   "outputs": [
    {
     "data": {
      "text/plain": [
       "'/media/charly/Data/Lab/Projects/uJ/local/experiments/HT-LB'"
      ]
     },
     "execution_count": 3,
     "metadata": {},
     "output_type": "execute_result"
    }
   ],
   "source": [
    "pwd()"
   ]
  },
  {
   "cell_type": "code",
   "execution_count": 4,
   "metadata": {},
   "outputs": [],
   "source": [
    "#sys.path.insert(0, '/Users/ESB/RPM_SYNC/RPM_Work/uJ_master/current/uJ_src/python/')\n",
    "#sys.path.insert(0, '/home/esb/Projects/uJ/uJ_master/current/uJ_src/python/')\n",
    "#sys.path.insert(0, '/Users/ESB/SYNC_RPM/RPM_Work/uJ_master/current/uJ_src/python/')\n",
    "#sys.path.insert(0, '/home/charly/Lab/Projects/uJ/uJ_master/current/uJ_src/python/')\n",
    "sys.path.insert(0, '/home/charly/Lab/Projects/uJ/local/current/uJ_src/python/')\n",
    "\n",
    "\n"
   ]
  },
  {
   "cell_type": "code",
   "execution_count": 5,
   "metadata": {},
   "outputs": [
    {
     "name": "stdout",
     "output_type": "stream",
     "text": [
      "Importing readroi\n",
      "DataStructs...loaded!\n",
      "DataManagers...loaded!\n",
      "TrackingFunctions... loaded!\n",
      "PlottingFunctions... loaded!\n"
     ]
    }
   ],
   "source": [
    "from readroi import *\n",
    "from DataManagers import *\n",
    "from TrackingFunctions import *\n",
    "from PlottingFunctions import *"
   ]
  },
  {
   "cell_type": "code",
   "execution_count": null,
   "metadata": {},
   "outputs": [],
   "source": []
  },
  {
   "cell_type": "code",
   "execution_count": null,
   "metadata": {},
   "outputs": [],
   "source": [
    "# import sys, importlib\n",
    "# importlib.reload(sys.modules['DataManagers'])\n",
    "# importlib.reload(sys.modules['TrackingFunctions'])\n",
    "# from DataManagers import *\n",
    "# from TrackingFunctions import *"
   ]
  },
  {
   "cell_type": "markdown",
   "metadata": {},
   "source": [
    "## Note \n",
    "### Start a cluster with ipcluster start"
   ]
  },
  {
   "cell_type": "markdown",
   "metadata": {},
   "source": [
    "## Experiment Parameters"
   ]
  },
  {
   "cell_type": "code",
   "execution_count": 6,
   "metadata": {},
   "outputs": [
    {
     "name": "stdout",
     "output_type": "stream",
     "text": [
      "making dir cells...\n",
      "making dir tracked cells...\n",
      "making dir tracked cells imgs ...\n",
      "\n",
      "Frames:  range(1, 866)\t 0.0->72.0 hours\n",
      "t_experiment_start=0\t(0.0h)\n",
      "t_experiment_end=4320\t(72.0h)\n"
     ]
    }
   ],
   "source": [
    "\n",
    "expeLabel=\"HT13-LB\"\n",
    "rootDir=\"../../data_sample/HT13-LB/\"\n",
    "trap_list=\"xy02,xy03,xy04,xy05,xy06,xy10\".split(\",\")  \n",
    "trap=\"xy04\" \n",
    "\n",
    "#Input files\n",
    "dirNameROIs=rootDir+\"data_rois/\"+trap+\"/DsRed+GFP/\"\n",
    "dirNameDATA=rootDir+'data/relativeIntensity/'+trap+\"/\"\n",
    "\n",
    "#Output\n",
    "dirNameCELLS=rootDir+'data_cells/'+trap+'/DsRed+GFP/'\n",
    "if not os.path.exists(dirNameCELLS):\n",
    "    print(\"making dir cells...\")\n",
    "    os.makedirs(dirNameCELLS)\n",
    "\n",
    "dirNameTRACKEDCELLS=rootDir+'data_cells_tracked/'+trap+'/DsRed+GFP/'\n",
    "if not os.path.exists(dirNameTRACKEDCELLS):\n",
    "    print(\"making dir tracked cells...\")\n",
    "    os.makedirs(dirNameTRACKEDCELLS)\n",
    "\n",
    "    \n",
    "    \n",
    "dirNameTRACKEDCELLS_IMGS=rootDir+'images_cells_tracked/'+trap+'/DsRed+GFP/'\n",
    "if not os.path.exists(dirNameTRACKEDCELLS_IMGS):\n",
    "    print(\"making dir tracked cells imgs ...\")\n",
    "    os.makedirs(dirNameTRACKEDCELLS_IMGS)\n",
    "\n",
    "dirNameDATALINEAGES=rootDir+'data/'\n",
    "if not os.path.exists(dirNameDATALINEAGES):\n",
    "    print(\"making dir lineages...\")\n",
    "    os.makedirs(dirNameDATALINEAGES)\n",
    "\n",
    "#toFile=False\n",
    "toFile=True\n",
    "\n",
    "#Parameters \n",
    "bin_num=41\n",
    "bin_max =0.75\n",
    "bin_min=-.75\n",
    "bin_size = (bin_max-bin_min)/bin_num; \n",
    "\n",
    "frame2min=5\n",
    "frame_experiment_start=1;\n",
    "frame_signal_start=int(865-(frame_experiment_start-1)/2)\n",
    "frame_signal_end=int(865-(frame_experiment_start-1)/2)\n",
    "frame_experiment_end=int(865-(frame_experiment_start-1)/2)\n",
    "\n",
    "t_experiment_start=0\n",
    "t_signal_start=(frame_signal_start-frame_experiment_start)*frame2min  \n",
    "t_signal_end=(frame_signal_end-frame_experiment_start)*frame2min\n",
    "t_experiment_end=(frame_experiment_end-frame_experiment_start)*frame2min\n",
    "\n",
    "\n",
    "frames=range(int(frame_experiment_start),int(frame_experiment_end+1))\n",
    "\n",
    "times=[(this_frame-frame_experiment_start)*frame2min for this_frame in frames]\n",
    "times_hour=[(this_frame-frame_experiment_start)*frame2min/60 for this_frame in frames]\n",
    "#print(\"\\nMinutes:  %s\"%times)\n",
    "#print(\"\\nHours:  [%s,%s]\"%(times_hour[0],times_hour[-1]))\n",
    "\n",
    "\n",
    "print(\"\\nFrames:  %s\\t %s->%s hours\"%(frames,times_hour[0],times_hour[-1]))\n",
    "print(\"t_experiment_start=%s\\t(%sh)\"%(t_experiment_start, t_experiment_start/60))\n",
    "print(\"t_experiment_end=%s\\t(%sh)\"%(t_experiment_end, t_experiment_end/60))\n",
    "\n",
    "\n",
    "#Prepare file system\n",
    "dataPath=\"%sdata/DsRed+GFP/\"%rootDir\n",
    "\n",
    "#if not os.path.exists(figurePathDM) and toFile:\n",
    "#    os.mkdir(figurePathDM)\n",
    "\n"
   ]
  },
  {
   "cell_type": "markdown",
   "metadata": {},
   "source": [
    "### Save tracked cells"
   ]
  },
  {
   "cell_type": "code",
   "execution_count": null,
   "metadata": {
    "scrolled": true
   },
   "outputs": [],
   "source": [
    "file_cells= list(f for f in os.listdir(dirNameCELLS) if f.endswith('.pkl'))\n",
    "file_cells.sort()\n",
    "for frame, this_file in enumerate(file_cells):\n",
    "    this_cells=cells_tracked[frame] \n",
    "    #print(frame, this_file)\n",
    "    fileNameTrackedCells=\"%s%s.pkl\"%(dirNameTRACKEDCELLS,os.path.splitext(os.path.basename(this_file))[0])    \n",
    "#    print(fileNameFrameCells)\n",
    "    save_cells(this_cells, fileNameTrackedCells)"
   ]
  },
  {
   "cell_type": "markdown",
   "metadata": {},
   "source": [
    "### Load tracked cells"
   ]
  },
  {
   "cell_type": "code",
   "execution_count": null,
   "metadata": {},
   "outputs": [],
   "source": [
    "#_tracked_cells=cells\n",
    "cells_tracked=load_cells(dirNameTRACKEDCELLS)"
   ]
  },
  {
   "cell_type": "markdown",
   "metadata": {},
   "source": [
    "### (Here we should correct tracking)"
   ]
  },
  {
   "cell_type": "code",
   "execution_count": null,
   "metadata": {},
   "outputs": [],
   "source": [
    "def plot_this_cells(matchID,cellID_list,local_cells):\n",
    "    \n",
    "    #fig, ax = plt.subplots(1, 2, sharey=True, figsize=(30,30))\n",
    "    fig, ax = plt.subplots(1, 2, figsize=(15,6))\n",
    "    \n",
    "    #ax = plt.axes()\n",
    "    ax[0].set_aspect('equal')\n",
    "    ax[1].set_aspect('equal')\n",
    "   # plt.xlim(0,640)\n",
    "    plt.ylim(0,512)\n",
    "#     #plt.axis('off')\n",
    "#     ax[0].xlim(0,640)\n",
    "#     ax[0].ylim(0,512)\n",
    "#     ax[1].xlim(0,640)\n",
    "#     ax[1].ylim(0,512)\n",
    "#     \n",
    "    ax[0].clear()\n",
    "    ax[1].clear()\n",
    "    matchID=matchID.split('.')\n",
    "    frame=int(matchID[0])\n",
    "    index=int(matchID[1])\n",
    "    this_cell=local_cells[frame][index]\n",
    "    this_poly=this_cell['roiPoly']\n",
    "    #print(frame,index,this_cell['RelInt'],this_cell['GFP'],this_cell['DsRed'])    \n",
    "    #patch = PolygonPatch(this_poly, facecolor=[0.75,0.75,0.75], edgecolor=[0,0,0], alpha=0.3, zorder=2)\n",
    "    patch = PolygonPatch(this_poly, facecolor=this_cell['cellColor'], edgecolor=[0,0,0], alpha=0.7, zorder=2)\n",
    "    \n",
    "    ax[0].add_patch(patch)\n",
    "    patch = PolygonPatch(this_poly, facecolor=this_cell['cellColor'], edgecolor=[0,0,0], alpha=0.3, zorder=1)\n",
    "    ax[1].add_patch(patch)\n",
    "    this_axis=this_cell['axis']\n",
    "    linexy=np.array(this_axis)\n",
    "    linex=linexy[:,0]\n",
    "    liney=linexy[:,1]\n",
    "    ax[1].plot(linex,liney,'r*',alpha=0.5)\n",
    "    ax[0].plot(linex,liney,'c-',alpha=0.5)\n",
    "    \n",
    "    for this_cell in local_cells[frame]:\n",
    "        this_poly=this_cell['roiPoly']\n",
    "        patch = PolygonPatch(this_poly, facecolor=this_cell['cellColor'], edgecolor=[0,0,0], alpha=0.3, zorder=2)\n",
    "        ax[0].add_patch(patch)\n",
    "        this_axis=this_cell['axis']\n",
    "        linexy=np.array(this_axis)\n",
    "        linex=linexy[:,0]\n",
    "        liney=linexy[:,1]\n",
    "        ax[0].plot(linex,liney,'y-',alpha=0.5)\n",
    "    \n",
    "    \n",
    "    for this_cell in local_cells[frame+1]:\n",
    "        this_poly=this_cell['roiPoly']\n",
    "        patch = PolygonPatch(this_poly, facecolor=this_cell['cellColor'], edgecolor=[0,0,0], alpha=0.3, zorder=2)\n",
    "        ax[1].add_patch(patch)\n",
    "        this_axis=this_cell['axis']\n",
    "        linexy=np.array(this_axis)\n",
    "        linex=linexy[:,0]\n",
    "        liney=linexy[:,1]\n",
    "        ax[1].plot(linex,liney,'y-',alpha=0.5)\n",
    "    \n",
    "    \n",
    "    \n",
    "    for this_id in cellID_list:\n",
    "        this_id=this_id.split('.')\n",
    "        frame=int(this_id[0])\n",
    "        index=int(this_id[1])\n",
    "        this_cell=local_cells[frame][index]\n",
    "        this_poly=this_cell['roiPoly']\n",
    "       # print(frame,index,this_cell['RelInt'],this_cell['GFP'],this_cell['DsRed'])    \n",
    "        patch = PolygonPatch(this_poly, facecolor=this_cell['cellColor'], edgecolor=[0.2,0.2,0.2], alpha=0.7, zorder=3)    \n",
    "        \n",
    "        \n",
    "        \n",
    "        ax[1].add_patch(patch)\n",
    "        this_axis=this_cell['axis']\n",
    "        linexy=np.array(this_axis)\n",
    "        linex=linexy[:,0]\n",
    "        liney=linexy[:,1]\n",
    "        ax[1].plot(linex,liney,'c-',alpha=0.5)\n",
    "    \n",
    "\n",
    "    \n",
    "    text=ax[0].text(0,0, \"\", va=\"bottom\", ha=\"left\")\n",
    "    ax[0].set_title('frame: %s cellID: %s'%(frame-1,matchID))\n",
    "    ax[1].set_title('frame: %s cellIDs: %s'%(frame,cellID_list))    \n",
    "   # ax[0].axis('off')\n",
    "   # ax[1].axis('off')\n",
    "    #plt.show()\n",
    "    #rfig=fig\n",
    "    #plt.close()\n",
    "    #plt.show()\n",
    "\n",
    "    "
   ]
  },
  {
   "cell_type": "code",
   "execution_count": null,
   "metadata": {
    "scrolled": true
   },
   "outputs": [],
   "source": [
    "cont=0\n",
    "to_correct_plots=[]\n",
    "for this_cells in cells_tracked:\n",
    "    for this_cell in this_cells:\n",
    "        if(len(this_cell['trackedBy_next_frame'])>2):\n",
    "            cont+=1\n",
    "            print(cont,end='\\r')\n",
    "            print(this_cell['cellID'],\"\\t\",this_cell['trackedBy_next_frame'])\n",
    "            this_fig=plot_this_cells(this_cell['cellID'],this_cell['trackedBy_next_frame'],cells_tracked)\n",
    "            to_correct_plots.append(this_fig)\n",
    "            if(cont>=5):\n",
    "                break\n",
    "    if(cont>=5):\n",
    "        break\n",
    "cont     "
   ]
  },
  {
   "cell_type": "code",
   "execution_count": null,
   "metadata": {},
   "outputs": [],
   "source": [
    "to_correct_plots[1]"
   ]
  },
  {
   "cell_type": "code",
   "execution_count": null,
   "metadata": {},
   "outputs": [],
   "source": [
    "%%html\n",
    "<style>\n",
    ".output_wrapper button.btn.btn-default,\n",
    ".output_wrapper .ui-dialog-titlebar {\n",
    " display: none;\n",
    "}\n",
    "</style>"
   ]
  },
  {
   "cell_type": "code",
   "execution_count": null,
   "metadata": {},
   "outputs": [],
   "source": []
  },
  {
   "cell_type": "code",
   "execution_count": null,
   "metadata": {},
   "outputs": [],
   "source": [
    "def get_frame_polys(this_tracked_cells,frame):\n",
    "    this_polys=[]\n",
    "    for i,this_cell in enumerate(this_tracked_cells[frame-1]):\n",
    "        this_poly=this_cell['roiPoly']\n",
    "        this_polys.append(this_poly)\n",
    "\n",
    "\n",
    "    return(this_polys)\n",
    "            \n",
    "            \n",
    "            \n",
    "            \n",
    "def plot_this_cells2(matchID,cellID_list,local_cells):\n",
    "    \n",
    "    fig=plt.figure(figsize=(15,6))\n",
    "    #fig, ax = plt.subplots(1, 2, )\n",
    "    ax0=fig.add_subplot(121)\n",
    "    ax1=fig.add_subplot(122)\n",
    "    #ax = plt.axes()\n",
    "    ax0.set_aspect('equal')\n",
    "    ax1.set_aspect('equal')\n",
    "  # plt.xlim(0,640)\n",
    "   # plt.ylim(0,512)\n",
    "#     #plt.axis('off')\n",
    "#     ax[0].xlim(0,640)\n",
    "#     ax[0].ylim(0,512)\n",
    "#     ax[1].xlim(0,640)\n",
    "#     ax[1].ylim(0,512)\n",
    "#     \n",
    "    ax0.clear()\n",
    "    ax1.clear()\n",
    "    \n",
    "    matchID=matchID.split('.')\n",
    "    frame=int(matchID[0])\n",
    "    index=int(matchID[1])\n",
    "    this_cell=local_cells[frame][index]\n",
    "    this_poly=this_cell['roiPoly']\n",
    "    #print(frame,index,this_cell['RelInt'],this_cell['GFP'],this_cell['DsRed'])    \n",
    "    #patch = PolygonPatch(this_poly, facecolor=[0.75,0.75,0.75], edgecolor=[0,0,0], alpha=0.3, zorder=2)\n",
    "    patch = PolygonPatch(this_poly, facecolor=this_cell['cellColor'], edgecolor=[0,0,0], alpha=0.7, zorder=2)\n",
    "    \n",
    "    ax0.add_patch(patch)\n",
    "    patch = PolygonPatch(this_poly, facecolor=this_cell['cellColor'], edgecolor=[0,0,0], alpha=0.3, zorder=1)\n",
    "    ax1.add_patch(patch)\n",
    "    this_axis=this_cell['axis']\n",
    "    linexy=np.array(this_axis)\n",
    "    linex=linexy[:,0]\n",
    "    liney=linexy[:,1]\n",
    "    ax1.plot(linex,liney,'r*',alpha=0.5)\n",
    "    ax0.plot(linex,liney,'c-',alpha=0.5)\n",
    "    \n",
    "    for this_cell in local_cells[frame]:\n",
    "        this_poly=this_cell['roiPoly']\n",
    "        patch = PolygonPatch(this_poly, facecolor=this_cell['cellColor'], edgecolor=[0,0,0], alpha=0.3, zorder=2)\n",
    "        ax0.add_patch(patch)\n",
    "        this_axis=this_cell['axis']\n",
    "        linexy=np.array(this_axis)\n",
    "        linex=linexy[:,0]\n",
    "        liney=linexy[:,1]\n",
    "        ax0.plot(linex,liney,'y-',alpha=0.5)\n",
    "    \n",
    "    \n",
    "    for this_cell in local_cells[frame+1]:\n",
    "        this_poly=this_cell['roiPoly']\n",
    "        patch = PolygonPatch(this_poly, facecolor=this_cell['cellColor'], edgecolor=[0,0,0], alpha=0.3, zorder=2)\n",
    "        ax1.add_patch(patch)\n",
    "        this_axis=this_cell['axis']\n",
    "        linexy=np.array(this_axis)\n",
    "        linex=linexy[:,0]\n",
    "        liney=linexy[:,1]\n",
    "        ax1.plot(linex,liney,'y-',alpha=0.5)\n",
    "    \n",
    "    \n",
    "    \n",
    "    for this_id in cellID_list:\n",
    "        this_id=this_id.split('.')\n",
    "        frame=int(this_id[0])\n",
    "        index=int(this_id[1])\n",
    "        this_cell=local_cells[frame][index]\n",
    "        this_poly=this_cell['roiPoly']\n",
    "       # print(frame,index,this_cell['RelInt'],this_cell['GFP'],this_cell['DsRed'])    \n",
    "        patch = PolygonPatch(this_poly, facecolor=this_cell['cellColor'], edgecolor=[0.2,0.2,0.2], alpha=0.7, zorder=3)    \n",
    "        \n",
    "        \n",
    "        \n",
    "        ax1.add_patch(patch)\n",
    "        this_axis=this_cell['axis']\n",
    "        linexy=np.array(this_axis)\n",
    "        linex=linexy[:,0]\n",
    "        liney=linexy[:,1]\n",
    "        ax1.plot(linex,liney,'c-',alpha=0.5)\n",
    "    \n",
    "\n",
    "    \n",
    "    \n",
    "    ax0.set_title('frame: %s cellID: %s'%(frame-1,matchID))\n",
    "    ax1.set_title('frame: %s cellIDs: %s'%(frame,cellID_list))    \n",
    "    \n",
    "   # ax[0].axis('off')\n",
    "   # ax[1].axis('off')\n",
    "    #plt.show()\n",
    "    #rfig=fig\n",
    "    #plt.close()\n",
    "    #plt.show()\n",
    "    return fig\n",
    "    "
   ]
  },
  {
   "cell_type": "code",
   "execution_count": null,
   "metadata": {},
   "outputs": [],
   "source": [
    "print(len(this_frame_polys))"
   ]
  },
  {
   "cell_type": "code",
   "execution_count": null,
   "metadata": {
    "scrolled": false
   },
   "outputs": [],
   "source": [
    "%matplotlib notebook\n",
    "#%matplotlib inline   \n",
    "#if plot does not show,uncomment this line run, comment and re-run\n",
    "\n",
    "def onclickSelect(event):\n",
    "    tx = 'button=%d, x=%d, y=%d, xdata=%f, ydata=%f' % (event.button, event.x, event.y, event.xdata, event.ydata)\n",
    "    \n",
    "    this_point = Point(event.xdata,event.ydata)\n",
    "    tx=\"x=%s y=%s\"%(this_point.x,this_point.y)\n",
    "    \n",
    "    for select_index, select_cell in enumerate(cells_tracked[this_frame]):\n",
    "        select_poly=select_cell['roiPoly']\n",
    "        in_roi=select_poly.contains(this_point)\n",
    "        \n",
    "        if in_roi:\n",
    "            tx=\"%s\"%select_cell['cellID']\n",
    "            #text.set_text(tx2)\n",
    "                \n",
    "#             select_x,select_y = select_poly.exterior.xy     \n",
    "#             ax.plot(select_x, select_y, color='#6699cc', alpha=0.7, linewidth=2, solid_capstyle='round', zorder=3)\n",
    "#             ax.axis('off')\n",
    "            \n",
    "#             toTrack_roiIndex.append(select_index)\n",
    "#             toTrack_roiFrame.append(max_frames)\n",
    "#             print(select_index, this_point)\n",
    "            \n",
    "            #break\n",
    "    text.set_text(tx)\n",
    "\n",
    "\n",
    "\n",
    "this_cell=cells_tracked[1][172]\n",
    "this_frame=1\n",
    "global this_frame_polys\n",
    "this_frame_polys=get_frame_polys(cells_tracked,this_frame)\n",
    "\n",
    "next_frame_polys=get_frame_polys(cells_tracked,this_frame+1)\n",
    "#fig=to_correct_plots[this_frame]\n",
    "#fig2=plot_this_cells2(this_cell['cellID'],this_cell['trackedBy_next_frame'],cells_tracked)\n",
    "matchID=this_cell['cellID']\n",
    "cellID_list=this_cell['trackedBy_next_frame']\n",
    "local_cells=cells_tracked.copy()\n",
    "if(1):\n",
    "    fig=plt.figure(figsize=(15,6))\n",
    "    #fig, ax = plt.subplots(1, 2, )\n",
    "    ax0=fig.add_subplot(121)\n",
    "    ax1=fig.add_subplot(122)\n",
    "    #ax = plt.axes()\n",
    "    ax0.set_aspect('equal')\n",
    "    ax1.set_aspect('equal')\n",
    "  # plt.xlim(0,640)\n",
    "   # plt.ylim(0,512)\n",
    "#     #plt.axis('off')\n",
    "#     ax[0].xlim(0,640)\n",
    "#     ax[0].ylim(0,512)\n",
    "#     ax[1].xlim(0,640)\n",
    "#     ax[1].ylim(0,512)\n",
    "#     \n",
    "    ax0.clear()\n",
    "    ax1.clear()\n",
    "    text=ax0.text(0,0, \"\", va=\"bottom\", ha=\"left\")\n",
    "    matchID=matchID.split('.')\n",
    "    frame=int(matchID[0])\n",
    "    index=int(matchID[1])\n",
    "    this_cell=local_cells[frame][index]\n",
    "    this_poly=this_cell['roiPoly']\n",
    "    #print(frame,index,this_cell['RelInt'],this_cell['GFP'],this_cell['DsRed'])    \n",
    "    #patch = PolygonPatch(this_poly, facecolor=[0.75,0.75,0.75], edgecolor=[0,0,0], alpha=0.3, zorder=2)\n",
    "    patch = PolygonPatch(this_poly, facecolor=this_cell['cellColor'], edgecolor=[0,0,0], alpha=0.7, zorder=2)\n",
    "    \n",
    "    ax0.add_patch(patch)\n",
    "    patch = PolygonPatch(this_poly, facecolor=this_cell['cellColor'], edgecolor=[0,0,0], alpha=0.3, zorder=1)\n",
    "    ax1.add_patch(patch)\n",
    "    this_axis=this_cell['axis']\n",
    "    linexy=np.array(this_axis)\n",
    "    linex=linexy[:,0]\n",
    "    liney=linexy[:,1]\n",
    "    ax1.plot(linex,liney,'r*',alpha=0.5)\n",
    "    ax0.plot(linex,liney,'c-',alpha=0.5)\n",
    "    \n",
    "    for this_cell in local_cells[frame]:\n",
    "        this_poly=this_cell['roiPoly']\n",
    "        patch = PolygonPatch(this_poly, facecolor=this_cell['cellColor'], edgecolor=[0,0,0], alpha=0.3, zorder=2)\n",
    "        ax0.add_patch(patch)\n",
    "        this_axis=this_cell['axis']\n",
    "        linexy=np.array(this_axis)\n",
    "        linex=linexy[:,0]\n",
    "        liney=linexy[:,1]\n",
    "        ax0.plot(linex,liney,'y-',alpha=0.5)\n",
    "    \n",
    "    \n",
    "    for this_cell in local_cells[frame+1]:\n",
    "        this_poly=this_cell['roiPoly']\n",
    "        patch = PolygonPatch(this_poly, facecolor=this_cell['cellColor'], edgecolor=[0,0,0], alpha=0.3, zorder=2)\n",
    "        ax1.add_patch(patch)\n",
    "        this_axis=this_cell['axis']\n",
    "        linexy=np.array(this_axis)\n",
    "        linex=linexy[:,0]\n",
    "        liney=linexy[:,1]\n",
    "        ax1.plot(linex,liney,'y-',alpha=0.5)\n",
    "    \n",
    "    \n",
    "    \n",
    "    for this_id in cellID_list:\n",
    "        this_id=this_id.split('.')\n",
    "        frame=int(this_id[0])\n",
    "        index=int(this_id[1])\n",
    "        this_cell=local_cells[frame][index]\n",
    "        this_poly=this_cell['roiPoly']\n",
    "       # print(frame,index,this_cell['RelInt'],this_cell['GFP'],this_cell['DsRed'])    \n",
    "        patch = PolygonPatch(this_poly, facecolor=this_cell['cellColor'], edgecolor=[0.2,0.2,0.2], alpha=0.7, zorder=3)    \n",
    "        \n",
    "        \n",
    "        \n",
    "        ax1.add_patch(patch)\n",
    "        this_axis=this_cell['axis']\n",
    "        linexy=np.array(this_axis)\n",
    "        linex=linexy[:,0]\n",
    "        liney=linexy[:,1]\n",
    "        ax1.plot(linex,liney,'c-',alpha=0.5)\n",
    "    \n",
    "\n",
    "    \n",
    "    \n",
    "    ax0.set_title('frame: %s cellID: %s'%(frame-1,matchID))\n",
    "    ax1.set_title('frame: %s cellIDs: %s'%(frame,cellID_list))    \n",
    "    \n",
    "\n",
    "cid = fig.canvas.mpl_connect('button_press_event', onclickSelect)\n"
   ]
  },
  {
   "cell_type": "code",
   "execution_count": null,
   "metadata": {},
   "outputs": [],
   "source": [
    "%matplotlib notebook\n",
    "#import numpy as np\n",
    "#import matplotlib.pyplot as plt\n",
    "def onclick(event):\n",
    "    tx = 'button=%d, x=%d, y=%d, xdata=%f, ydata=%f' % (event.button, event.x, event.y, event.xdata, event.ydata)\n",
    "    text.set_text(tx)\n",
    "\n",
    "\n",
    "fig = plt.figure()\n",
    "ax = fig.add_subplot(121)\n",
    "ax1 = fig.add_subplot(122)\n",
    "\n",
    "ax.plot(np.random.rand(10))\n",
    "text=ax.text(0,0, \"\", va=\"bottom\", ha=\"left\")\n",
    "#ax.axis('off')\n",
    "\n",
    "cid = fig.canvas.mpl_connect('button_press_event', onclick)"
   ]
  },
  {
   "cell_type": "markdown",
   "metadata": {},
   "source": [
    "### Draw ROIs + Tracked Cells"
   ]
  },
  {
   "cell_type": "code",
   "execution_count": null,
   "metadata": {
    "scrolled": true
   },
   "outputs": [],
   "source": [
    "%matplotlib inline \n",
    "max_frames=len(cells_tracked)\n",
    "tracked_plots=[]\n",
    "for tracked_frame in range(1,max_frames+1):\n",
    "    this_fig=draw_cell(cells_tracked,tracked_frame)\n",
    "    tracked_plots.append(this_fig)\n"
   ]
  },
  {
   "cell_type": "code",
   "execution_count": null,
   "metadata": {},
   "outputs": [],
   "source": [
    "%matplotlib inline \n",
    "\n",
    "\n",
    "\n",
    "\n",
    "this_tracked_plots=tracked_plots\n",
    "interactive_plot=interactive(show_all,this_tracked_plots=fixed(this_tracked_plots),tracked_frame=widgets.IntSlider(min=1,max=max_frames,step=1,value=1))\n",
    "interactive_plot    \n",
    "\n"
   ]
  },
  {
   "cell_type": "code",
   "execution_count": null,
   "metadata": {},
   "outputs": [],
   "source": [
    "pwd()"
   ]
  },
  {
   "cell_type": "markdown",
   "metadata": {},
   "source": [
    "### Save corrected cells"
   ]
  },
  {
   "cell_type": "code",
   "execution_count": null,
   "metadata": {
    "scrolled": true
   },
   "outputs": [],
   "source": [
    "#file_cells=os.listdir(dirNameFRAMECELLS)    \n",
    "#file_cells.sort()\n",
    "#for frame, this_file in enumerate(file_cells):\n",
    "#    this_cells=cells_tracked[frame] \n",
    "#    fileNameFrameCells=\"%s%s.pkl\"%(dirNameTRACKEDFRAMECELLS,os.path.splitext(os.path.basename(this_file))[0])   \n",
    "#    save_cells(this_cells, fileNameFrameCells)"
   ]
  },
  {
   "cell_type": "markdown",
   "metadata": {},
   "source": [
    "### Export ROIs + Tracked Cells"
   ]
  },
  {
   "cell_type": "code",
   "execution_count": null,
   "metadata": {},
   "outputs": [],
   "source": [
    "#for this_frame, this_file in enumerate(fileROIs[0:max_frames+1]):\n",
    "#    fileNameTrackedCells=\"%s%s.png\"%(dirNameTRACKEDCELLS,os.path.splitext(os.path.basename(this_file))[0])  \n",
    "#    export_frame(cells_tracked, this_frame, dirNameROIs, fileROIs, fileNameTrackedCells)"
   ]
  }
 ],
 "metadata": {
  "anaconda-cloud": {},
  "kernelspec": {
   "display_name": "Python 3",
   "language": "python",
   "name": "python3"
  },
  "language_info": {
   "codemirror_mode": {
    "name": "ipython",
    "version": 3
   },
   "file_extension": ".py",
   "mimetype": "text/x-python",
   "name": "python",
   "nbconvert_exporter": "python",
   "pygments_lexer": "ipython3",
   "version": "3.6.5"
  },
  "widgets": {
   "state": {
    "26c19d1ca3294924865f05f84eccd46e": {
     "views": [
      {
       "cell_index": 3
      }
     ]
    },
    "3f13279d1bdd49d0b62cb40313cd15f1": {
     "views": [
      {
       "cell_index": 3
      }
     ]
    },
    "c69d3e1fe63148bc81c86370397bcdb3": {
     "views": [
      {
       "cell_index": 3
      }
     ]
    },
    "e968d55e3439482aa131e0c7b32e2d64": {
     "views": [
      {
       "cell_index": 3
      }
     ]
    }
   },
   "version": "1.2.0"
  }
 },
 "nbformat": 4,
 "nbformat_minor": 2
}
