{
 "cells": [
  {
   "cell_type": "code",
   "execution_count": 1,
   "metadata": {},
   "outputs": [],
   "source": [
    "import sys\n",
    "import os\n",
    "import numpy as np\n",
    "from matplotlib import pyplot as plt\n",
    "import matplotlib as mpl\n",
    "import matplotlib.patches as patches\n",
    "from shapely.geometry import Point\n",
    "from shapely.geometry import MultiPoint\n",
    "from shapely.geometry import MultiPolygon\n",
    "from shapely.geometry import Polygon\n",
    "from shapely.geometry import box\n",
    "from descartes.patch import PolygonPatch\n",
    "import ipywidgets as widgets\n",
    "import ipywidgets.widgets.interaction\n",
    "#from ipywidgets import interactive, fixed\n",
    "from ipywidgets import *\n",
    "import random\n",
    "import pandas as pd\n",
    "\n",
    "import re\n",
    "\n",
    "from shapely import geometry\n",
    "import pickle\n",
    "import time\n",
    "\n",
    "from ipyparallel import Client\n",
    "\n",
    "from shapely import affinity\n",
    "from shapely.geometry import LineString\n",
    "import warnings\n",
    "warnings.simplefilter('ignore', np.RankWarning)\n",
    "import gc\n",
    "gc.enable()"
   ]
  },
  {
   "cell_type": "code",
   "execution_count": 2,
   "metadata": {},
   "outputs": [],
   "source": [
    "#os.chdir('/home/charly/Lab/Projects/uJ/local/experiments/HT-LB/')\n",
    "\n"
   ]
  },
  {
   "cell_type": "code",
   "execution_count": 3,
   "metadata": {},
   "outputs": [
    {
     "data": {
      "text/plain": [
       "'/home/esb/Projects/uJ/local/experiments/HT-LB'"
      ]
     },
     "execution_count": 3,
     "metadata": {},
     "output_type": "execute_result"
    }
   ],
   "source": [
    "pwd()"
   ]
  },
  {
   "cell_type": "code",
   "execution_count": 4,
   "metadata": {},
   "outputs": [],
   "source": [
    "#sys.path.insert(0, '/Users/ESB/RPM_SYNC/RPM_Work/uJ_master/current/uJ_src/python/')\n",
    "\n",
    "#sys.path.insert(0, '/Users/ESB/SYNC_RPM/RPM_Work/uJ_master/current/uJ_src/python/')\n",
    "#sys.path.insert(0, '/home/charly/Lab/Projects/uJ/uJ_master/current/uJ_src/python/')\n",
    "sys.path.insert(0, '/home/charly/Lab/Projects/uJ/local/current/uJ_src_pHT/python/')\n",
    "sys.path.insert(0, '/home/esb/Projects/uJ/local/current/uJ_src_pHT/python/')\n",
    "\n"
   ]
  },
  {
   "cell_type": "code",
   "execution_count": 5,
   "metadata": {},
   "outputs": [
    {
     "name": "stdout",
     "output_type": "stream",
     "text": [
      "Importing readroi\n",
      "DataStructs...loaded!\n",
      "DataManagers...loaded!\n",
      "TrackingFunctions... loaded!\n",
      "PlottingFunctions... loaded!\n"
     ]
    }
   ],
   "source": [
    "\n",
    "from readroi import *\n",
    "from DataManagers import *\n",
    "from TrackingFunctions import *\n",
    "from PlottingFunctions import *"
   ]
  },
  {
   "cell_type": "code",
   "execution_count": null,
   "metadata": {},
   "outputs": [],
   "source": [
    "\n"
   ]
  },
  {
   "cell_type": "code",
   "execution_count": 18,
   "metadata": {},
   "outputs": [
    {
     "name": "stdout",
     "output_type": "stream",
     "text": [
      "PlottingFunctions... loaded!\n"
     ]
    }
   ],
   "source": [
    "# import sys, importlib\n",
    "# # importlib.reload(sys.modules['DataManagers'])\n",
    "# # importlib.reload(sys.modules['TrackingFunctions'])\n",
    "# importlib.reload(sys.modules['PlottingFunctions'])\n",
    "# # from DataManagers import *\n",
    "# # from TrackingFunctions import *\n",
    "# from PlottingFunctions import *\n"
   ]
  },
  {
   "cell_type": "markdown",
   "metadata": {},
   "source": [
    "## Experiment Parameters"
   ]
  },
  {
   "cell_type": "code",
   "execution_count": 8,
   "metadata": {},
   "outputs": [],
   "source": [
    "\n",
    "expeLabel=\"HT-LB\"\n",
    "rootDir=\"../../data_sample/HT-LB/\"\n",
    "trap_list=\"xy02,xy03,xy04,xy05,xy06,xy10\".split(\",\")  \n",
    "trap_list=\"xy03,xy03-1\".split(\",\")  \n",
    "#trap=\"xy03\" \n",
    "\n",
    "\n",
    "\n",
    "\n",
    "data_type=\"relativeIntensity\"\n",
    "data_type=\"normData\"\n",
    "\n",
    "figxlim=1000\n",
    "figylim=512\n",
    "\n",
    "flims=(figxlim,figylim)\n",
    "\n",
    "\n",
    "\n",
    "#data_type=\"normDataN\"\n",
    "#Input files\n",
    "for trap in trap_list:\n",
    "    #Input files\n",
    "    dirNameROIs=rootDir+\"data_rois/\"+trap+\"/DsRed+GFP/\"\n",
    "    #dirNameDATA=rootDir+'data/'+data_type+'/'+trap+\"/\"\n",
    "    dirNameDATA=rootDir+'data/'+data_type+'/'+trap+\"/\"\n",
    "    \n",
    "    #Output\n",
    "    dirNameCELLS=rootDir+'data_cells/'+trap+'/'+data_type+'/'\n",
    "    if not os.path.exists(dirNameCELLS):\n",
    "        print(\"making dir cells...\")\n",
    "        os.makedirs(dirNameCELLS)\n",
    "\n",
    "    dirNameTRACKEDCELLS=rootDir+'data_cells_tracked/'+trap+'/'+data_type+'/'\n",
    "    if not os.path.exists(dirNameTRACKEDCELLS):\n",
    "        print(\"making dir tracked cells...\")\n",
    "        os.makedirs(dirNameTRACKEDCELLS)\n",
    "\n",
    "\n",
    "    dirNameDATALINEAGES=rootDir+'data/'\n",
    "    if not os.path.exists(dirNameDATALINEAGES):\n",
    "        print(\"making dir lineages...\")\n",
    "        os.makedirs(dirNameDATALINEAGES)\n",
    "        \n",
    "    dirNameFIGURES=rootDir+'figures/traked_cells/'+trap+'/'+data_type+'/'\n",
    "    if not os.path.exists(dirNameFIGURES):\n",
    "        print(\"making dir figures...\")\n",
    "        os.makedirs(dirNameFIGURES)\n",
    "#toFile=False\n",
    "toFile=True\n",
    "\n",
    "\n",
    "\n",
    "frame_experiment_start=1;\n",
    "frame_signal_start=int(865-(frame_experiment_start-1)/2)\n",
    "frame_signal_end=int(865-(frame_experiment_start-1)/2)\n",
    "frame_experiment_end=int(865-(frame_experiment_start-1)/2)\n",
    "\n",
    "\n",
    "frames=range(int(frame_experiment_start),int(frame_experiment_end)+1)\n",
    "frames_list=[x for x in frames]"
   ]
  },
  {
   "cell_type": "markdown",
   "metadata": {},
   "source": [
    "___\n",
    "# Create Cells\n"
   ]
  },
  {
   "cell_type": "markdown",
   "metadata": {},
   "source": [
    "### Load ROIs generated by uJ"
   ]
  },
  {
   "cell_type": "code",
   "execution_count": null,
   "metadata": {},
   "outputs": [],
   "source": [
    "\n",
    "fileROIs=load_rois(dirNameROIs)\n",
    "dataFiles=load_data_files(dirNameDATA)\n",
    "numFrames=len(fileROIs)\n",
    "#print('Loading %s frames'%numFrames)\n",
    "#meanGFP-750print('Loading %s data files'%len(dataFiles))\n",
    "\n",
    "fileROIs=fileROIs[0:frame_experiment_end]\n",
    "dataFiles=dataFiles[0:frame_experiment_end]\n",
    "#fileROIs=fileROIs[0:5]\n",
    "#dataFiles=dataFiles[0:5]\n",
    "\n",
    "numFrames=len(fileROIs)\n",
    "print('Loading  %s frames'%numFrames)\n",
    "print('Loading %s data files'%len(dataFiles))\n",
    "\n",
    "    \n",
    "   ##### NOTE if path not found check the NAME of your local sync folder "
   ]
  },
  {
   "cell_type": "markdown",
   "metadata": {},
   "source": [
    "### Process ROIs (parallel version)"
   ]
  },
  {
   "cell_type": "code",
   "execution_count": null,
   "metadata": {},
   "outputs": [],
   "source": [
    "def par_process_rois():\n",
    "    \n",
    "    import numpy as np\n",
    "    \n",
    "    def get_max_x_angle(poly):\n",
    "        rangle=0\n",
    "        angles= list(range(0,185,5))\n",
    "        (bminx, bminy, bmaxx, bmaxy)=poly.bounds\n",
    "        xl=bmaxx-bminx\n",
    "        yl=bmaxy-bminy\n",
    "        center=Point((xl/2)+bminx,(yl/2)+bminy)\n",
    "\n",
    "        max_xrange=xl\n",
    "        for i,angle in enumerate(angles):\n",
    "            #print(i,angle)\n",
    "            poly_t=affinity.rotate(poly,angle,center)\n",
    "            (bminx, bminy, bmaxx, bmaxy)=poly_t.bounds\n",
    "            xl=bmaxx-bminx\n",
    "\n",
    "            if(xl>max_xrange):\n",
    "                max_xrange=xl\n",
    "                rangle=angle\n",
    "\n",
    "        return rangle,center\n",
    "\n",
    "\n",
    "    def get_cell_axis(poly):\n",
    "      #  t=time.time()\n",
    "        line=LineString()\n",
    "        pre_cloud=[]\n",
    "        poly=poly.convex_hull\n",
    "        angle,center=get_max_x_angle(poly)\n",
    "\n",
    "        poly=affinity.rotate(poly, angle,center )\n",
    "\n",
    "        ext=poly.exterior.coords\n",
    "\n",
    "        decs=0\n",
    "\n",
    "        for i,seed_point in enumerate(ext):\n",
    "            pre_cloud_i=[]\n",
    "\n",
    "            seed_point=Point(seed_point)\n",
    "\n",
    "            i=.5;\n",
    "            intersection=poly.exterior.intersection(seed_point)\n",
    "            sphere=seed_point.buffer(i)\n",
    "            intersection=poly.exterior.intersection(sphere.exterior)\n",
    "            while(len(list(intersection))>0):\n",
    "                arc=Point()\n",
    "                sphere=seed_point.buffer(i)\n",
    "                intersection=poly.exterior.intersection(sphere.exterior)\n",
    "                i+=3\n",
    "                #i+=.5\n",
    "\n",
    "                if(len(list(intersection))<=1):\n",
    "                    continue\n",
    "\n",
    "                arc=poly.intersection(sphere.exterior)\n",
    "\n",
    "                if(arc.geom_type==\"MultiLineString\"):\n",
    "\n",
    "                    for this_geom in arc.geoms:\n",
    "                        arc_xy=list(this_geom.coords)\n",
    "\n",
    "                        for pi in arc_xy:\n",
    "                            pi=Point(pi)\n",
    "                            pre_cloud_i.append((round(pi.x,decs),round(pi.y,decs)))\n",
    "\n",
    "                elif(arc.geom_type==\"LineString\"):\n",
    "                    for pi in list(arc.coords):\n",
    "                        pi=Point(pi) \n",
    "                        pre_cloud_i.append((round(pi.x,decs),round(pi.y,decs)))\n",
    "\n",
    "\n",
    "            pre_cloud.append(pre_cloud_i)\n",
    "\n",
    "\n",
    "        cloud=MultiPoint(pre_cloud[0])\n",
    "\n",
    "        for line in pre_cloud:\n",
    "\n",
    "            line=MultiPoint(line)\n",
    "            cloud=cloud.union(line)\n",
    "\n",
    "        ###make poly fit to points cloud\n",
    "        xs=[]\n",
    "        ys=[]\n",
    "        for pi in cloud:\n",
    "            pi=Point(pi)\n",
    "\n",
    "            xs.append(pi.x)\n",
    "            ys.append(pi.y)\n",
    "\n",
    "        pf=np.poly1d(np.polyfit(xs,ys,25))\n",
    "        xr=np.linspace(np.min(xs),np.max(xs),100)\n",
    "\n",
    "        line=[]\n",
    "        for x in xr:\n",
    "            pi=Point(x,pf(x))\n",
    "            line.append(pi)\n",
    "\n",
    "        line=LineString(line)\n",
    "        linexy=np.array(line)\n",
    "        linex=linexy[:,0]\n",
    "        liney=linexy[:,1]\n",
    "\n",
    "        line=poly.intersection(line)\n",
    "        liner=affinity.rotate(line,-angle,center)\n",
    "        if(liner.geom_type==\"MultiLineString\"):\n",
    "            line=LineString()\n",
    "            for this_geom in liner.geoms:\n",
    "                if(this_geom.length>line.length):\n",
    "                    line=this_geom\n",
    "            liner=line\n",
    "\n",
    "\n",
    "\n",
    "        linexy=np.array(liner)\n",
    "        linex=linexy[:,0]\n",
    "        liney=linexy[:,1]\n",
    "\n",
    "        x=(np.max(xs)-np.min(xs))/2+np.min(xs)\n",
    "        pi=Point(x,pf(x))\n",
    "\n",
    "\n",
    "        center=affinity.rotate(pi,-angle,center)\n",
    "       # t=time.time()-t\n",
    "       # print(t)\n",
    "\n",
    "        return liner,center\n",
    "    \n",
    "    frame_axis=[]\n",
    "    frame_centers=[]\n",
    "    for j,this_roi in enumerate(rois):\n",
    "        \n",
    "        this_axis,this_center=get_cell_axis(this_roi)\n",
    "            \n",
    "        frame_axis.append(this_axis)\n",
    "        frame_centers.append(this_center)\n",
    "    ret=[rois, roiIDs, frame_axis, frame_centers]\n",
    "    return ret\n",
    "\n"
   ]
  },
  {
   "cell_type": "code",
   "execution_count": 10,
   "metadata": {
    "scrolled": true
   },
   "outputs": [
    {
     "name": "stdout",
     "output_type": "stream",
     "text": [
      "Loading 865 frames\n",
      "\n",
      "19: Loading HT-LB_xy03_020.pkl\r"
     ]
    },
    {
     "ename": "KeyboardInterrupt",
     "evalue": "",
     "output_type": "error",
     "traceback": [
      "\u001b[0;31m---------------------------------------------------------------------------\u001b[0m",
      "\u001b[0;31mKeyboardInterrupt\u001b[0m                         Traceback (most recent call last)",
      "\u001b[0;32m<ipython-input-10-b682ee363320>\u001b[0m in \u001b[0;36m<module>\u001b[0;34m()\u001b[0m\n\u001b[1;32m     99\u001b[0m         \u001b[0mprint\u001b[0m\u001b[0;34m(\u001b[0m\u001b[0;34m)\u001b[0m\u001b[0;34m\u001b[0m\u001b[0m\n\u001b[1;32m    100\u001b[0m         \u001b[0;31m#max_frames=-1\u001b[0m\u001b[0;34m\u001b[0m\u001b[0;34m\u001b[0m\u001b[0m\n\u001b[0;32m--> 101\u001b[0;31m         \u001b[0mcells\u001b[0m\u001b[0;34m=\u001b[0m\u001b[0mload_cells\u001b[0m\u001b[0;34m(\u001b[0m\u001b[0mdirNameCELLS\u001b[0m\u001b[0;34m)\u001b[0m\u001b[0;34m\u001b[0m\u001b[0m\n\u001b[0m\u001b[1;32m    102\u001b[0m         \u001b[0mtrap_cells\u001b[0m\u001b[0;34m.\u001b[0m\u001b[0mappend\u001b[0m\u001b[0;34m(\u001b[0m\u001b[0mcells\u001b[0m\u001b[0;34m)\u001b[0m\u001b[0;34m\u001b[0m\u001b[0m\n\u001b[1;32m    103\u001b[0m         \u001b[0;31m##### NOTE   if not working check for changes in your folder names due to sync\u001b[0m\u001b[0;34m\u001b[0m\u001b[0;34m\u001b[0m\u001b[0m\n",
      "\u001b[0;32m~/Projects/uJ/local/current/uJ_src_pHT/python/DataManagers.py\u001b[0m in \u001b[0;36mload_cells\u001b[0;34m(dirNameFRAMECELLS, max_frames)\u001b[0m\n\u001b[1;32m    273\u001b[0m     \u001b[0;32mfor\u001b[0m \u001b[0mi\u001b[0m\u001b[0;34m,\u001b[0m \u001b[0mthis_file\u001b[0m \u001b[0;32min\u001b[0m \u001b[0menumerate\u001b[0m\u001b[0;34m(\u001b[0m\u001b[0mfileNames\u001b[0m\u001b[0;34m[\u001b[0m\u001b[0;36m0\u001b[0m\u001b[0;34m:\u001b[0m\u001b[0mmax_frames\u001b[0m\u001b[0;34m]\u001b[0m\u001b[0;34m)\u001b[0m\u001b[0;34m:\u001b[0m\u001b[0;34m\u001b[0m\u001b[0m\n\u001b[1;32m    274\u001b[0m         \u001b[0mprint\u001b[0m\u001b[0;34m(\u001b[0m\u001b[0;34m'%s: Loading %s'\u001b[0m\u001b[0;34m%\u001b[0m\u001b[0;34m(\u001b[0m\u001b[0mi\u001b[0m\u001b[0;34m,\u001b[0m\u001b[0mthis_file\u001b[0m\u001b[0;34m)\u001b[0m\u001b[0;34m,\u001b[0m\u001b[0mend\u001b[0m\u001b[0;34m=\u001b[0m\u001b[0;34m'\\r'\u001b[0m\u001b[0;34m)\u001b[0m\u001b[0;34m\u001b[0m\u001b[0m\n\u001b[0;32m--> 275\u001b[0;31m         \u001b[0mret_cells\u001b[0m\u001b[0;34m.\u001b[0m\u001b[0mappend\u001b[0m\u001b[0;34m(\u001b[0m\u001b[0mload_this_cells\u001b[0m\u001b[0;34m(\u001b[0m\u001b[0;34m\"%s%s\"\u001b[0m\u001b[0;34m%\u001b[0m\u001b[0;34m(\u001b[0m\u001b[0mdirNameFRAMECELLS\u001b[0m\u001b[0;34m,\u001b[0m\u001b[0mthis_file\u001b[0m\u001b[0;34m)\u001b[0m\u001b[0;34m)\u001b[0m\u001b[0;34m)\u001b[0m\u001b[0;34m\u001b[0m\u001b[0m\n\u001b[0m\u001b[1;32m    276\u001b[0m     \u001b[0mprint\u001b[0m\u001b[0;34m(\u001b[0m\u001b[0;34m)\u001b[0m\u001b[0;34m\u001b[0m\u001b[0m\n\u001b[1;32m    277\u001b[0m     \u001b[0;32mreturn\u001b[0m \u001b[0mret_cells\u001b[0m\u001b[0;34m\u001b[0m\u001b[0m\n",
      "\u001b[0;32m~/Projects/uJ/local/current/uJ_src_pHT/python/DataManagers.py\u001b[0m in \u001b[0;36mload_this_cells\u001b[0;34m(fileName)\u001b[0m\n\u001b[1;32m    256\u001b[0m     \u001b[0mloaded_cells\u001b[0m\u001b[0;34m=\u001b[0m\u001b[0;34m[\u001b[0m\u001b[0;34m]\u001b[0m\u001b[0;34m\u001b[0m\u001b[0m\n\u001b[1;32m    257\u001b[0m     \u001b[0;32mfor\u001b[0m \u001b[0mthis_serialized_cell\u001b[0m \u001b[0;32min\u001b[0m \u001b[0mserialized_cells\u001b[0m\u001b[0;34m:\u001b[0m\u001b[0;34m\u001b[0m\u001b[0m\n\u001b[0;32m--> 258\u001b[0;31m         \u001b[0mloaded_cells\u001b[0m\u001b[0;34m.\u001b[0m\u001b[0mappend\u001b[0m\u001b[0;34m(\u001b[0m\u001b[0mget_unserialized_cell\u001b[0m\u001b[0;34m(\u001b[0m\u001b[0mthis_serialized_cell\u001b[0m\u001b[0;34m)\u001b[0m\u001b[0;34m)\u001b[0m\u001b[0;34m\u001b[0m\u001b[0m\n\u001b[0m\u001b[1;32m    259\u001b[0m \u001b[0;34m\u001b[0m\u001b[0m\n\u001b[1;32m    260\u001b[0m     \u001b[0;32mreturn\u001b[0m \u001b[0mloaded_cells\u001b[0m\u001b[0;34m\u001b[0m\u001b[0m\n",
      "\u001b[0;32m~/Projects/uJ/local/current/uJ_src_pHT/python/DataManagers.py\u001b[0m in \u001b[0;36mget_unserialized_cell\u001b[0;34m(str_cell)\u001b[0m\n\u001b[1;32m    145\u001b[0m             \u001b[0mexterior_coords\u001b[0m\u001b[0;34m.\u001b[0m\u001b[0mappend\u001b[0m\u001b[0;34m(\u001b[0m\u001b[0mPoint\u001b[0m\u001b[0;34m(\u001b[0m\u001b[0mfloat\u001b[0m\u001b[0;34m(\u001b[0m\u001b[0mp1\u001b[0m\u001b[0;34m)\u001b[0m\u001b[0;34m,\u001b[0m\u001b[0mfloat\u001b[0m\u001b[0;34m(\u001b[0m\u001b[0mp2\u001b[0m\u001b[0;34m)\u001b[0m\u001b[0;34m)\u001b[0m\u001b[0;34m)\u001b[0m\u001b[0;34m\u001b[0m\u001b[0m\n\u001b[1;32m    146\u001b[0m         \u001b[0;31m#roiLine.append(geometry.LineString([[p.x, p.y] for p in exterior_coords]))\u001b[0m\u001b[0;34m\u001b[0m\u001b[0;34m\u001b[0m\u001b[0m\n\u001b[0;32m--> 147\u001b[0;31m         \u001b[0mroiLine\u001b[0m\u001b[0;34m=\u001b[0m\u001b[0mgeometry\u001b[0m\u001b[0;34m.\u001b[0m\u001b[0mLineString\u001b[0m\u001b[0;34m(\u001b[0m\u001b[0;34m[\u001b[0m\u001b[0;34m[\u001b[0m\u001b[0mp\u001b[0m\u001b[0;34m.\u001b[0m\u001b[0mx\u001b[0m\u001b[0;34m,\u001b[0m \u001b[0mp\u001b[0m\u001b[0;34m.\u001b[0m\u001b[0my\u001b[0m\u001b[0;34m]\u001b[0m \u001b[0;32mfor\u001b[0m \u001b[0mp\u001b[0m \u001b[0;32min\u001b[0m \u001b[0mexterior_coords\u001b[0m\u001b[0;34m]\u001b[0m\u001b[0;34m)\u001b[0m\u001b[0;34m\u001b[0m\u001b[0m\n\u001b[0m\u001b[1;32m    148\u001b[0m     \u001b[0mthis_cell\u001b[0m\u001b[0;34m[\u001b[0m\u001b[0;34m'axis'\u001b[0m\u001b[0;34m]\u001b[0m\u001b[0;34m=\u001b[0m\u001b[0mroiLine\u001b[0m  \u001b[0;31m#not ok\u001b[0m\u001b[0;34m\u001b[0m\u001b[0m\n\u001b[1;32m    149\u001b[0m \u001b[0;34m\u001b[0m\u001b[0m\n",
      "\u001b[0;32m~/Projects/uJ/local/current/uJ_src_pHT/python/DataManagers.py\u001b[0m in \u001b[0;36m<listcomp>\u001b[0;34m(.0)\u001b[0m\n\u001b[1;32m    145\u001b[0m             \u001b[0mexterior_coords\u001b[0m\u001b[0;34m.\u001b[0m\u001b[0mappend\u001b[0m\u001b[0;34m(\u001b[0m\u001b[0mPoint\u001b[0m\u001b[0;34m(\u001b[0m\u001b[0mfloat\u001b[0m\u001b[0;34m(\u001b[0m\u001b[0mp1\u001b[0m\u001b[0;34m)\u001b[0m\u001b[0;34m,\u001b[0m\u001b[0mfloat\u001b[0m\u001b[0;34m(\u001b[0m\u001b[0mp2\u001b[0m\u001b[0;34m)\u001b[0m\u001b[0;34m)\u001b[0m\u001b[0;34m)\u001b[0m\u001b[0;34m\u001b[0m\u001b[0m\n\u001b[1;32m    146\u001b[0m         \u001b[0;31m#roiLine.append(geometry.LineString([[p.x, p.y] for p in exterior_coords]))\u001b[0m\u001b[0;34m\u001b[0m\u001b[0;34m\u001b[0m\u001b[0m\n\u001b[0;32m--> 147\u001b[0;31m         \u001b[0mroiLine\u001b[0m\u001b[0;34m=\u001b[0m\u001b[0mgeometry\u001b[0m\u001b[0;34m.\u001b[0m\u001b[0mLineString\u001b[0m\u001b[0;34m(\u001b[0m\u001b[0;34m[\u001b[0m\u001b[0;34m[\u001b[0m\u001b[0mp\u001b[0m\u001b[0;34m.\u001b[0m\u001b[0mx\u001b[0m\u001b[0;34m,\u001b[0m \u001b[0mp\u001b[0m\u001b[0;34m.\u001b[0m\u001b[0my\u001b[0m\u001b[0;34m]\u001b[0m \u001b[0;32mfor\u001b[0m \u001b[0mp\u001b[0m \u001b[0;32min\u001b[0m \u001b[0mexterior_coords\u001b[0m\u001b[0;34m]\u001b[0m\u001b[0;34m)\u001b[0m\u001b[0;34m\u001b[0m\u001b[0m\n\u001b[0m\u001b[1;32m    148\u001b[0m     \u001b[0mthis_cell\u001b[0m\u001b[0;34m[\u001b[0m\u001b[0;34m'axis'\u001b[0m\u001b[0;34m]\u001b[0m\u001b[0;34m=\u001b[0m\u001b[0mroiLine\u001b[0m  \u001b[0;31m#not ok\u001b[0m\u001b[0;34m\u001b[0m\u001b[0m\n\u001b[1;32m    149\u001b[0m \u001b[0;34m\u001b[0m\u001b[0m\n",
      "\u001b[0;32m~/.anaconda3/lib/python3.6/site-packages/shapely/geometry/point.py\u001b[0m in \u001b[0;36mx\u001b[0;34m(self)\u001b[0m\n\u001b[1;32m     54\u001b[0m     \u001b[0;32mdef\u001b[0m \u001b[0mx\u001b[0m\u001b[0;34m(\u001b[0m\u001b[0mself\u001b[0m\u001b[0;34m)\u001b[0m\u001b[0;34m:\u001b[0m\u001b[0;34m\u001b[0m\u001b[0m\n\u001b[1;32m     55\u001b[0m         \u001b[0;34m\"\"\"Return x coordinate.\"\"\"\u001b[0m\u001b[0;34m\u001b[0m\u001b[0m\n\u001b[0;32m---> 56\u001b[0;31m         \u001b[0;32mreturn\u001b[0m \u001b[0mself\u001b[0m\u001b[0;34m.\u001b[0m\u001b[0mcoords\u001b[0m\u001b[0;34m[\u001b[0m\u001b[0;36m0\u001b[0m\u001b[0;34m]\u001b[0m\u001b[0;34m[\u001b[0m\u001b[0;36m0\u001b[0m\u001b[0;34m]\u001b[0m\u001b[0;34m\u001b[0m\u001b[0m\n\u001b[0m\u001b[1;32m     57\u001b[0m \u001b[0;34m\u001b[0m\u001b[0m\n\u001b[1;32m     58\u001b[0m     \u001b[0;34m@\u001b[0m\u001b[0mproperty\u001b[0m\u001b[0;34m\u001b[0m\u001b[0m\n",
      "\u001b[0;32m~/.anaconda3/lib/python3.6/site-packages/shapely/geometry/base.py\u001b[0m in \u001b[0;36m_get_coords\u001b[0;34m(self)\u001b[0m\n\u001b[1;32m    322\u001b[0m         \u001b[0;32mif\u001b[0m \u001b[0mself\u001b[0m\u001b[0;34m.\u001b[0m\u001b[0mis_empty\u001b[0m\u001b[0;34m:\u001b[0m\u001b[0;34m\u001b[0m\u001b[0m\n\u001b[1;32m    323\u001b[0m             \u001b[0;32mreturn\u001b[0m \u001b[0;34m[\u001b[0m\u001b[0;34m]\u001b[0m\u001b[0;34m\u001b[0m\u001b[0m\n\u001b[0;32m--> 324\u001b[0;31m         \u001b[0;32mreturn\u001b[0m \u001b[0mCoordinateSequence\u001b[0m\u001b[0;34m(\u001b[0m\u001b[0mself\u001b[0m\u001b[0;34m)\u001b[0m\u001b[0;34m\u001b[0m\u001b[0m\n\u001b[0m\u001b[1;32m    325\u001b[0m \u001b[0;34m\u001b[0m\u001b[0m\n\u001b[1;32m    326\u001b[0m     \u001b[0;32mdef\u001b[0m \u001b[0m_set_coords\u001b[0m\u001b[0;34m(\u001b[0m\u001b[0mself\u001b[0m\u001b[0;34m,\u001b[0m \u001b[0mob\u001b[0m\u001b[0;34m)\u001b[0m\u001b[0;34m:\u001b[0m\u001b[0;34m\u001b[0m\u001b[0m\n",
      "\u001b[0;32m~/.anaconda3/lib/python3.6/site-packages/shapely/coords.py\u001b[0m in \u001b[0;36m__init__\u001b[0;34m(self, parent)\u001b[0m\n\u001b[1;32m     39\u001b[0m     \u001b[0m__p__\u001b[0m \u001b[0;34m=\u001b[0m \u001b[0;32mNone\u001b[0m\u001b[0;34m\u001b[0m\u001b[0m\n\u001b[1;32m     40\u001b[0m \u001b[0;34m\u001b[0m\u001b[0m\n\u001b[0;32m---> 41\u001b[0;31m     \u001b[0;32mdef\u001b[0m \u001b[0m__init__\u001b[0m\u001b[0;34m(\u001b[0m\u001b[0mself\u001b[0m\u001b[0;34m,\u001b[0m \u001b[0mparent\u001b[0m\u001b[0;34m)\u001b[0m\u001b[0;34m:\u001b[0m\u001b[0;34m\u001b[0m\u001b[0m\n\u001b[0m\u001b[1;32m     42\u001b[0m         \u001b[0mself\u001b[0m\u001b[0;34m.\u001b[0m\u001b[0m__p__\u001b[0m \u001b[0;34m=\u001b[0m \u001b[0mparent\u001b[0m\u001b[0;34m\u001b[0m\u001b[0m\n\u001b[1;32m     43\u001b[0m \u001b[0;34m\u001b[0m\u001b[0m\n",
      "\u001b[0;31mKeyboardInterrupt\u001b[0m: "
     ]
    }
   ],
   "source": [
    "re_do_cells=False\n",
    "re_do_cells=True\n",
    "\n",
    "trap_cells=[]\n",
    "#trap_list=\"xy03,xy04,xy05,xy06,xy10\".split(\",\")  \n",
    "#trap_list=\"xy03\".split(\",\")  \n",
    "\n",
    "\n",
    "\n",
    "for trap in trap_list:\n",
    "    dirNameROIs=rootDir+\"data_rois/\"+trap+\"/DsRed+GFP/\"\n",
    "    dirNameDATA=rootDir+'data/'+data_type+'/'+trap+\"/\"\n",
    "    dirNameCELLS=rootDir+'data_cells/'+trap+'/'+data_type+'/'\n",
    "    fileROIs=load_rois(dirNameROIs)\n",
    "    dataFiles=load_data_files(dirNameDATA)\n",
    "    numFrames=len(fileROIs)\n",
    "    print('Loading %s frames'%numFrames)\n",
    "    #print('Loading %s data files'%len(dataFiles))\n",
    "\n",
    "    fileROIs=fileROIs[0:frame_experiment_end-frame_experiment_start+1]\n",
    "    dataFiles=dataFiles[0:frame_experiment_end-frame_experiment_start+1]\n",
    "\n",
    "\n",
    "#     fx=frame_experiment_end-frame_experiment_start\n",
    "#     fileROIs=fileROIs[fx:frame_experiment_end-frame_experiment_start+1]\n",
    "#     dataFiles=dataFiles[fx:frame_experiment_end-frame_experiment_start+1]\n",
    "\n",
    "\n",
    "\n",
    "   # fileROIs=fileROIs[0:2]\n",
    "    #dataFiles=dataFiles[0:2]\n",
    "\n",
    "#     numFrames=len(fileROIs)\n",
    "#     print('Loading  %s frames'%numFrames)\n",
    "#     print('Loading %s data files'%len(dataFiles))\n",
    "\n",
    "\n",
    "\n",
    "    if re_do_cells:\n",
    "        rc = Client()\n",
    "        dview = rc[:]\n",
    "        with rc[:].sync_imports(): \n",
    "            from shapely.geometry import Point\n",
    "            from shapely.geometry import LineString\n",
    "            from shapely import affinity\n",
    "            from shapely.geometry import MultiPoint\n",
    "\n",
    "\n",
    "        global cells  # global?\n",
    "        cells=[]\n",
    "        for frame, this_file in enumerate(fileROIs):\n",
    "            [rois,roiIDs]=load_frame('%s%s'%(dirNameROIs,this_file))\n",
    "            this_data_file=\"%s%s\"%(dirNameDATA,dataFiles[frame])\n",
    "            \n",
    "            rois=[poly.convex_hull for poly in rois]\n",
    "\n",
    "            print(\"\\n(Parallel) Processing %s ROIs from %s\"%(len(rois),this_file))\n",
    "\n",
    "\n",
    "            tic()\n",
    "\n",
    "            #First scatter rois\n",
    "            dview.scatter('rois', rois)\n",
    "            dview.scatter('roiIDs', roiIDs)\n",
    "\n",
    "            #Asynchronous execution of par_process_rois\n",
    "            ret=dview.apply_async(par_process_rois)\n",
    "\n",
    "            #Now gather results\n",
    "            frame_rois = []\n",
    "            frame_roiIDs = []\n",
    "            frame_axis = []\n",
    "            frame_center = []\n",
    "\n",
    "            ret_proc=ret.get()\n",
    "            for i in rc.ids:\n",
    "                frame_rois.append(ret_proc[i][0])\n",
    "                frame_roiIDs.append(ret_proc[i][1])\n",
    "                frame_axis.append(ret_proc[i][2])\n",
    "                frame_center.append(ret_proc[i][3])\n",
    "\n",
    "            frame_rois=[y for x in frame_rois for y in x]\n",
    "            frame_roiIDs=[y for x in frame_roiIDs for y in x]\n",
    "            frame_axis=[y for x in frame_axis for y in x]\n",
    "            frame_center=[y for x in frame_center for y in x]\n",
    "\n",
    "            toc()\n",
    "\n",
    "            print(\"Compiling fluorescence from %s\"%(dataFiles[frame]))\n",
    "            this_cells=create_cells(frame,this_data_file, frame_roiIDs, frame_rois, frame_axis, frame_center,frame_experiment_start)\n",
    "            cells.append(this_cells)\n",
    "\n",
    "            fileNameCells=\"%s%s.pkl\"%(dirNameCELLS,os.path.splitext(os.path.basename(this_file))[0])    \n",
    "            save_cells(this_cells, fileNameCells)\n",
    "    \n",
    "        trap_cells.append(cells)\n",
    "    \n",
    "    else:\n",
    "        print()\n",
    "        #max_frames=-1\n",
    "        cells=load_cells(dirNameCELLS)\n",
    "        trap_cells.append(cells)\n",
    "        ##### NOTE   if not working check for changes in your folder names due to sync"
   ]
  },
  {
   "cell_type": "code",
   "execution_count": null,
   "metadata": {},
   "outputs": [],
   "source": [
    "trap_cells[0][0][0]"
   ]
  },
  {
   "cell_type": "markdown",
   "metadata": {},
   "source": [
    "## View cells"
   ]
  },
  {
   "cell_type": "code",
   "execution_count": null,
   "metadata": {
    "scrolled": false
   },
   "outputs": [],
   "source": [
    "%matplotlib inline \n",
    "\n",
    "cells_plots_t=[]\n",
    "\n",
    "for tracked_frame in range(len(cells)):\n",
    "    this_fig=draw_cell(cells,tracked_frame+1)\n",
    "    cells_plots_t.append(this_fig)\n",
    "\n"
   ]
  },
  {
   "cell_type": "code",
   "execution_count": null,
   "metadata": {},
   "outputs": [],
   "source": [
    "%matplotlib inline \n",
    "\n",
    "this_tracked_plots=cells_plots_t\n",
    "interactive_plot_t=interactive(show_all,this_tracked_plots=fixed(this_tracked_plots),tracked_frame=widgets.IntSlider(min=1,max=len(this_tracked_plots),step=1,value=1))\n",
    "interactive_plot_t    \n",
    "\n"
   ]
  },
  {
   "cell_type": "markdown",
   "metadata": {},
   "source": [
    "___\n",
    "# uJ_Tracker: Step 2"
   ]
  },
  {
   "cell_type": "markdown",
   "metadata": {},
   "source": [
    "### Select cells to track"
   ]
  },
  {
   "cell_type": "code",
   "execution_count": null,
   "metadata": {},
   "outputs": [],
   "source": [
    "#global weight_vec\n",
    "#weight_vec=[-.25,-.25,1,5,-5]\n",
    "#[distance,angle diff,coverage,axis-intersection,relInt Diff]\n"
   ]
  },
  {
   "cell_type": "code",
   "execution_count": null,
   "metadata": {},
   "outputs": [],
   "source": [
    "#%%html\n",
    "#<style>\n",
    "#.output_wrapper button.btn.btn-default,\n",
    "#.output_wrapper .ui-dialog-titlebar {\n",
    "#  display: none;\n",
    "#}\n",
    "#</style>"
   ]
  },
  {
   "cell_type": "code",
   "execution_count": null,
   "metadata": {
    "scrolled": false
   },
   "outputs": [],
   "source": [
    "%matplotlib ipympl\n",
    "#%matplotlib widgets\n",
    "\n",
    " #if plot does not show,uncomment this line run, comment and re-run\n",
    "def onclickSelectMulti(event):\n",
    "\n",
    "       #global max_frames\n",
    "\n",
    "       #First find if Point is inside a roi\n",
    "    this_point = Point(event.xdata,event.ydata)\n",
    "    #if(event.y)\n",
    "    \n",
    "    title=event.inaxes.get_title()\n",
    "    tindex=trap_list.index(title)\n",
    "    to_track_polys=trap_to_track_polys[tindex]\n",
    "    ax=axs[tindex]\n",
    "    for select_index, select_poly in enumerate(to_track_polys):\n",
    "        in_roi=select_poly.contains(this_point)\n",
    "        if in_roi:\n",
    "            select_x,select_y = select_poly.exterior.xy     \n",
    "            ax.plot(select_x, select_y, color='#6699cc', alpha=0.7, linewidth=2, solid_capstyle='round', zorder=3)\n",
    "            ax.axis('off')\n",
    "            trap_toTrack_roiIndex[tindex].append(select_index)\n",
    "            trap_toTrack_roiFrame[tindex].append(to_track_frame)\n",
    "            #trap_toTrack_trapIndex\n",
    "            \n",
    "            break\n",
    "\n",
    "\n",
    "\n",
    "fig,axs=plt.subplots(len(trap_cells),1,figsize=(30,30))\n",
    "trap_to_track_polys=[]\n",
    "\n",
    "trap_toTrack_roiIndex=[]\n",
    "trap_toTrack_roiFrame=[]\n",
    "\n",
    "for ti,t_cells in enumerate(trap_cells):\n",
    "    cells=t_cells\n",
    "    to_track_frame=len(cells)-1\n",
    "    #to_track_frame=14\n",
    "   # global toTrack_roiIndex\n",
    "    trap_toTrack_roiIndex.append([])\n",
    "    trap_toTrack_roiFrame.append([])\n",
    "\n",
    "\n",
    "\n",
    "\n",
    "    \n",
    "    #fig=plt.figure()\n",
    "    ax = axs[ti]\n",
    "\n",
    "    ax.set_xlim(0,640)\n",
    "    ax.set_ylim(0,512)\n",
    "    #ax.clear()\n",
    "    to_track_polys=[]\n",
    "\n",
    "    for this_cell in cells[to_track_frame]:\n",
    "        this_poly=this_cell['roiPoly']\n",
    "        to_track_polys.append(this_poly)\n",
    "        patch = PolygonPatch(this_poly, facecolor=[0.75,0.75,0.75], edgecolor=[0,0,0], alpha=0.7, zorder=2)\n",
    "        ax.add_patch(patch)\n",
    "       #ax.plot(x=100,y=100,c='r*')\n",
    "    #ax.axis('off')\n",
    "    trap_to_track_polys.append(to_track_polys)\n",
    "    ax.set_title(trap_list[ti])\n",
    "    ax.set_aspect('equal')\n",
    "    #fig.canvas.layout.width = '1280px'\n",
    "    fig.canvas.layout.height = '%spx'%(512*len(trap_cells))\n",
    "    fig.canvas.layout.width = '640px'\n",
    "    #fig.canvas.layout.height = '512px'\n",
    "    \n",
    "    \n",
    "\n",
    "\n",
    "cid = fig.canvas.mpl_connect('button_press_event', onclickSelectMulti)\n",
    "#cid = plt.gcf().canvas.mpl_connect('button_press_event', onclickSelect)\n",
    "    \n",
    "   "
   ]
  },
  {
   "cell_type": "code",
   "execution_count": null,
   "metadata": {
    "scrolled": false
   },
   "outputs": [],
   "source": [
    "#%matplotlib notebook\n",
    "## #%matplotlib inline   #if plot does not show,uncomment this line run, comment and re-run\n",
    "\n",
    "#global max_frames\n",
    "#max_frames=len(cells)-1\n",
    "\n",
    "#global toTrack_roiIndex\n",
    "#toTrack_roiIndex=[]\n",
    "\n",
    "#global toTrack_roiFrame\n",
    "#toTrack_roiFrame=[]\n",
    "\n",
    "#track_all_cells=True\n",
    "#track_all_cells=False\n",
    "\n",
    "#def onclickSelect(event):\n",
    "    \n",
    "#    #global max_frames\n",
    "#    \n",
    "#    #First find if Point is inside a roi\n",
    "#    this_point = Point(event.xdata,event.ydata)\n",
    "#    \n",
    "#    for select_index, select_poly in enumerate(to_track_polys):\n",
    "#        in_roi=select_poly.contains(this_point)\n",
    "#        if in_roi:\n",
    "#            \n",
    "#            select_x,select_y = select_poly.exterior.xy     \n",
    "#            ax.plot(select_x, select_y, color='#6699cc', alpha=0.7, linewidth=2, solid_capstyle='round', zorder=3)\n",
    "#            ax.axis('off')\n",
    "            \n",
    "#            toTrack_roiIndex.append(select_index)\n",
    "#            toTrack_roiFrame.append(max_frames)\n",
    "#            \n",
    "#            break\n",
    "\n",
    "#fig=plt.figure(figsize=(15,15))\n",
    "#ax = plt.axes()\n",
    "#ax.set_aspect('equal')\n",
    "#plt.xlim(0,640)\n",
    "#plt.ylim(0,512)\n",
    "##ax.clear()\n",
    "\n",
    "#to_track_polys=[]\n",
    "\n",
    "#for this_cell in cells[max_frames]:\n",
    "#    this_poly=this_cell['roiPoly']\n",
    "#    to_track_polys.append(this_poly)\n",
    "#    patch = PolygonPatch(this_poly, facecolor=[0.75,0.75,0.75], edgecolor=[0,0,0], alpha=0.7, zorder=2)\n",
    "#    ax.add_patch(patch)\n",
    "#    #ax.plot(x=100,y=100,c='r*')\n",
    "\n",
    "#if track_all_cells:    \n",
    "#    for select_index, this_poly in enumerate(to_track_polys):\n",
    "#        patch = PolygonPatch(this_poly, facecolor='#6699cc', alpha=0.7, linewidth=2,  zorder=3)\n",
    "#        ax.add_patch(patch)\n",
    "#        \n",
    "#        toTrack_roiIndex.append(select_index)\n",
    "#        toTrack_roiFrame.append(max_frames)\n",
    "    \n",
    "#    ax.axis('off')\n",
    "#    \n",
    "#else:\n",
    "    \n",
    "#    ax.axis('off')\n",
    "#   # plt.close()\n",
    "#    cid = fig.canvas.mpl_connect('button_press_event', onclickSelect)\n",
    "#    \n"
   ]
  },
  {
   "cell_type": "code",
   "execution_count": null,
   "metadata": {},
   "outputs": [],
   "source": [
    "print(trap_toTrack_roiIndex)\n",
    "print(trap_toTrack_roiFrame)"
   ]
  },
  {
   "cell_type": "markdown",
   "metadata": {},
   "source": [
    "### Track selected cells"
   ]
  },
  {
   "cell_type": "code",
   "execution_count": null,
   "metadata": {
    "scrolled": true
   },
   "outputs": [],
   "source": [
    "#print(toTrack_roiIndex)\n",
    "#print(toTrack_roiFrame)\n",
    "weight_vec=[-5,-100,200,1500,-5,-5]\n",
    "#weight_vec=[-1,-5,5,35,-175]\n",
    "#[distance,angle_diff,coverage,axisFraction,GFPDiff,DsRedDiff]\n",
    "trap_tracked_cells=[]\n",
    "for ti,t_cells in enumerate(trap_cells):\n",
    "    cells=t_cells\n",
    "    cells=clear_tracks(cells)\n",
    "    \n",
    "    cells_tracked=cells.copy()\n",
    "    if('cells_tracked' in vars()):\n",
    "        cells_tracked=clear_tracks(cells_tracked)\n",
    "    toTrack_roiIndex=trap_toTrack_roiIndex[ti]\n",
    "    toTrack_roiFrame=trap_toTrack_roiFrame[ti]\n",
    "    \n",
    "    cells_tracked=track_this_indexs(toTrack_roiIndex,toTrack_roiFrame,cells,weight_vec) \n",
    "    \n",
    "    trap_tracked_cells.append(cells_tracked)\n",
    "    print('\\n\\nTracking complete! Trap:',trap)\n",
    "    \n",
    "    print(\"\\nSaving cells...\")\n",
    "    file_cells= list(f for f in os.listdir(dirNameCELLS) if f.endswith('.pkl'))\n",
    "    file_cells.sort()\n",
    "    for frame, this_file in enumerate(file_cells):\n",
    "        this_cells=cells_tracked[frame] \n",
    "        #print(frame, this_file)\n",
    "        fileNameTrackedCells=\"%s%s.pkl\"%(dirNameTRACKEDCELLS,os.path.splitext(os.path.basename(this_file))[0])    \n",
    "    #    print(fileNameFrameCells)\n",
    "        save_cells(this_cells, fileNameTrackedCells)\n",
    "\n",
    "\n"
   ]
  },
  {
   "cell_type": "markdown",
   "metadata": {},
   "source": [
    "## Track cells from last frame\n"
   ]
  },
  {
   "cell_type": "code",
   "execution_count": null,
   "metadata": {},
   "outputs": [],
   "source": [
    "#trap_list2=[trap_list[0]]\n",
    "trap_tracked_cells=[]\n",
    "for tindex,trap in enumerate(trap_list):\n",
    "\n",
    "    dirNameCELLS=rootDir+'data_cells/'+trap+'/'+data_type+'/'\n",
    "    dirNameTRACKEDCELLS=rootDir+'data_cells_tracked/'+trap+'/'+data_type+'/'\n",
    "    print(\"Tracking trap: \",trap)\n",
    "    \n",
    "    cells=trap_cells[tindex]\n",
    "    \n",
    "    cells=clear_tracks(cells)\n",
    "    cells_tracked=cells.copy()\n",
    "    \n",
    "\n",
    "    \n",
    "    max_frames=len(cells)-1\n",
    "    #max_frames=len(cells)-1\n",
    "\n",
    "    from_frame=max_frames\n",
    "    to_frame=max_frames-1\n",
    "    \n",
    "    for this_frame in range(from_frame,to_frame,-1):\n",
    "        toTrack_roiIndex=[]\n",
    "        toTrack_roiFrame=[]\n",
    "        for select_index, this_cell in enumerate(cells_tracked[this_frame]):\n",
    "            if len(this_cell['trackID'])==0:\n",
    "                toTrack_roiFrame.append(this_frame)\n",
    "                toTrack_roiIndex.append(select_index)\n",
    "        print('\\n___\\nTracking %s cells from frame %s'%(len(toTrack_roiFrame),this_frame))\n",
    "        cells_tracked=track_this_indexs(toTrack_roiIndex,toTrack_roiFrame,cells_tracked,weight_vec) \n",
    "    print('\\n\\nTracking complete! Trap:',trap)\n",
    "    trap_tracked_cells.append(cells_tracked)\n",
    "    print(\"\\nSaving cells...\")\n",
    "    file_cells= list(f for f in os.listdir(dirNameCELLS) if f.endswith('.pkl'))\n",
    "    file_cells.sort()\n",
    "    for frame, this_file in enumerate(file_cells):\n",
    "        this_cells=cells_tracked[frame] \n",
    "        #print(frame, this_file)\n",
    "        fileNameTrackedCells=\"%s%s.pkl\"%(dirNameTRACKEDCELLS,os.path.splitext(os.path.basename(this_file))[0])    \n",
    "    #    print(fileNameFrameCells)\n",
    "        save_cells(this_cells, fileNameTrackedCells)"
   ]
  },
  {
   "cell_type": "markdown",
   "metadata": {},
   "source": [
    "### Track all cells all frames"
   ]
  },
  {
   "cell_type": "code",
   "execution_count": null,
   "metadata": {
    "scrolled": true
   },
   "outputs": [],
   "source": [
    "#weight_vec=[-5,-100,200,1500,-5,-5]\n",
    "\n",
    "#weight_vec=[-5,-1,150,150,-5,-5]\n",
    "weight_vec=[-5,-100,200,1500,-5,-5]\n",
    "\n",
    "trap_tracked_cells=[]\n",
    "\n",
    "for tindex,trap in enumerate(trap_list):\n",
    "    dirNameCELLS=rootDir+'data_cells/'+trap+'/'+data_type+'/'\n",
    "    dirNameTRACKEDCELLS=rootDir+'data_cells_tracked/'+trap+'/'+data_type+'/'\n",
    "    print(\"Tracking trap: \",trap)\n",
    "    \n",
    "    cells=trap_cells[tindex]\n",
    "    \n",
    "    cells=clear_tracks(cells)\n",
    "    cells_tracked=cells.copy()\n",
    "    \n",
    "    max_frames=len(cells)-1\n",
    "    from_frame=max_frames\n",
    "    to_frame=0\n",
    "    \n",
    "    for this_frame in range(from_frame,to_frame,-1):\n",
    "        toTrack_roiIndex=[]\n",
    "        toTrack_roiFrame=[]\n",
    "        for select_index, this_cell in enumerate(cells_tracked[this_frame]):\n",
    "            if len(this_cell['trackID'])==0:\n",
    "                toTrack_roiFrame.append(this_frame)\n",
    "                toTrack_roiIndex.append(select_index)\n",
    "        print('\\n___\\nTracking %s cells from frame %s'%(len(toTrack_roiFrame),this_frame))\n",
    "        cells_tracked=track_this_indexs(toTrack_roiIndex,toTrack_roiFrame,cells_tracked,weight_vec) \n",
    "    print('\\n\\nTracking complete! Trap:',trap)\n",
    "    trap_tracked_cells.append(cells_tracked)\n",
    "    print(\"\\nSaving cells...\")\n",
    "    file_cells= list(f for f in os.listdir(dirNameCELLS) if f.endswith('.pkl'))\n",
    "    file_cells.sort()\n",
    "    for frame, this_file in enumerate(file_cells):\n",
    "        this_cells=cells_tracked[frame] \n",
    "        #print(frame, this_file)\n",
    "        fileNameTrackedCells=\"%s%s.pkl\"%(dirNameTRACKEDCELLS,os.path.splitext(os.path.basename(this_file))[0])    \n",
    "    #    print(fileNameFrameCells)\n",
    "        save_cells(this_cells, fileNameTrackedCells)\n",
    "    "
   ]
  },
  {
   "cell_type": "code",
   "execution_count": null,
   "metadata": {},
   "outputs": [],
   "source": [
    "len(cells_tracked)"
   ]
  },
  {
   "cell_type": "code",
   "execution_count": null,
   "metadata": {},
   "outputs": [],
   "source": [
    "trap_list[1]"
   ]
  },
  {
   "cell_type": "markdown",
   "metadata": {},
   "source": [
    "### Load tracked cells"
   ]
  },
  {
   "cell_type": "code",
   "execution_count": 21,
   "metadata": {
    "scrolled": true
   },
   "outputs": [
    {
     "name": "stdout",
     "output_type": "stream",
     "text": [
      "../../data_sample/HT-LB/data_cells_tracked/xy03/normData/\n",
      "864: Loading HT-LB_xy03_865.pkl\n",
      "../../data_sample/HT-LB/data_cells_tracked/xy03-1/normData/\n",
      "864: Loading HT-LB_xy03-1_865.pkl\n"
     ]
    }
   ],
   "source": [
    "trap_tracked_cells=[]\n",
    "for trap in trap_list:\n",
    "    \n",
    "    dirNameTRACKEDCELLS=rootDir+'data_cells_tracked/'+trap+'/'+data_type+'/'\n",
    "    print(dirNameTRACKEDCELLS)\n",
    "    tracked_cells=load_cells(dirNameTRACKEDCELLS)\n",
    "    trap_tracked_cells.append(tracked_cells)"
   ]
  },
  {
   "cell_type": "markdown",
   "metadata": {},
   "source": [
    "### Draw ROIs + Tracked Cells"
   ]
  },
  {
   "cell_type": "code",
   "execution_count": 23,
   "metadata": {
    "scrolled": true
   },
   "outputs": [
    {
     "name": "stdout",
     "output_type": "stream",
     "text": [
      "Trap: xy03 in ../../data_sample/HT-LB/figures/traked_cells/xy03/normData/\n",
      "Building plot for frame frame 865 \n",
      "Trap: xy03-1 in ../../data_sample/HT-LB/figures/traked_cells/xy03-1/normData/\n",
      "Building plot for frame frame 865 \n"
     ]
    }
   ],
   "source": [
    "%matplotlib inline\n",
    "#max_frames=len(cells_tracked)\n",
    "trap_tracked_plots=[]\n",
    "for tindex,trap in enumerate(trap_list):\n",
    "    tracked_plots=[]\n",
    "    cells_tracked=trap_tracked_cells[tindex]\n",
    "    dirNameFIGURES=rootDir+'figures/traked_cells/'+trap+'/'+data_type+'/'\n",
    "    print(\"Trap: %s in %s\"%(trap,dirNameFIGURES))\n",
    "    for i,tracked_frame in enumerate(frames_list):\n",
    "        this_fig=draw_cell(cells_tracked,i+1,flims)\n",
    "        #plt.show(this_fig)\n",
    "        tracked_frame_name=str(tracked_frame).zfill(3)\n",
    "        figname=\"%s%s_%s-%s.png\"%(dirNameFIGURES,expeLabel,trap,tracked_frame_name)\n",
    "        this_fig.savefig(figname)\n",
    "        tracked_plots.append(this_fig)\n",
    "       # display(this_fig)\n",
    "        plt.close(\"all\")\n",
    "    print()\n",
    "    trap_tracked_plots.append(tracked_plots)"
   ]
  },
  {
   "cell_type": "code",
   "execution_count": 1,
   "metadata": {},
   "outputs": [
    {
     "ename": "NameError",
     "evalue": "name 'trap_tracked_plots' is not defined",
     "output_type": "error",
     "traceback": [
      "\u001b[0;31m---------------------------------------------------------------------------\u001b[0m",
      "\u001b[0;31mNameError\u001b[0m                                 Traceback (most recent call last)",
      "\u001b[0;32m<ipython-input-1-94c464516705>\u001b[0m in \u001b[0;36m<module>\u001b[0;34m()\u001b[0m\n\u001b[1;32m      1\u001b[0m \u001b[0;34m\u001b[0m\u001b[0m\n\u001b[0;32m----> 2\u001b[0;31m \u001b[0mthis_tracked_plots\u001b[0m\u001b[0;34m=\u001b[0m\u001b[0mtrap_tracked_plots\u001b[0m\u001b[0;34m[\u001b[0m\u001b[0;36m0\u001b[0m\u001b[0;34m]\u001b[0m\u001b[0;34m\u001b[0m\u001b[0m\n\u001b[0m\u001b[1;32m      3\u001b[0m \u001b[0;31m#interactive_plot=interactive(show_all,this_tracked_plots=fixed(this_tracked_plots),tracked_frame=widgets.IntSlider(min=1,max=max_frames,step=1,value=1),fs=fixed(frame_experiment_start))\u001b[0m\u001b[0;34m\u001b[0m\u001b[0;34m\u001b[0m\u001b[0m\n\u001b[1;32m      4\u001b[0m \u001b[0minteractive_plot\u001b[0m\u001b[0;34m=\u001b[0m\u001b[0minteractive\u001b[0m\u001b[0;34m(\u001b[0m\u001b[0mshow_all\u001b[0m\u001b[0;34m,\u001b[0m\u001b[0mthis_tracked_plots\u001b[0m\u001b[0;34m=\u001b[0m\u001b[0mfixed\u001b[0m\u001b[0;34m(\u001b[0m\u001b[0mthis_tracked_plots\u001b[0m\u001b[0;34m)\u001b[0m\u001b[0;34m,\u001b[0m\u001b[0mtracked_frame\u001b[0m\u001b[0;34m=\u001b[0m\u001b[0mwidgets\u001b[0m\u001b[0;34m.\u001b[0m\u001b[0mIntSlider\u001b[0m\u001b[0;34m(\u001b[0m\u001b[0mmin\u001b[0m\u001b[0;34m=\u001b[0m\u001b[0mframe_experiment_start\u001b[0m\u001b[0;34m,\u001b[0m\u001b[0mmax\u001b[0m\u001b[0;34m=\u001b[0m\u001b[0mframe_experiment_end\u001b[0m\u001b[0;34m,\u001b[0m\u001b[0mstep\u001b[0m\u001b[0;34m=\u001b[0m\u001b[0;36m1\u001b[0m\u001b[0;34m,\u001b[0m\u001b[0mvalue\u001b[0m\u001b[0;34m=\u001b[0m\u001b[0;36m1\u001b[0m\u001b[0;34m)\u001b[0m\u001b[0;34m,\u001b[0m\u001b[0mfs\u001b[0m\u001b[0;34m=\u001b[0m\u001b[0mfixed\u001b[0m\u001b[0;34m(\u001b[0m\u001b[0mframe_experiment_start\u001b[0m\u001b[0;34m)\u001b[0m\u001b[0;34m)\u001b[0m\u001b[0;34m\u001b[0m\u001b[0m\n\u001b[1;32m      5\u001b[0m \u001b[0minteractive_plot\u001b[0m\u001b[0;34m\u001b[0m\u001b[0m\n",
      "\u001b[0;31mNameError\u001b[0m: name 'trap_tracked_plots' is not defined"
     ]
    }
   ],
   "source": [
    "\n",
    "this_tracked_plots=trap_tracked_plots[0]\n",
    "#interactive_plot=interactive(show_all,this_tracked_plots=fixed(this_tracked_plots),tracked_frame=widgets.IntSlider(min=1,max=max_frames,step=1,value=1),fs=fixed(frame_experiment_start))\n",
    "interactive_plot=interactive(show_all,this_tracked_plots=fixed(this_tracked_plots),tracked_frame=widgets.IntSlider(min=frame_experiment_start,max=frame_experiment_end,step=1,value=1),fs=fixed(frame_experiment_start))\n",
    "interactive_plot    \n"
   ]
  },
  {
   "cell_type": "code",
   "execution_count": 24,
   "metadata": {},
   "outputs": [
    {
     "data": {
      "application/vnd.jupyter.widget-view+json": {
       "model_id": "2b28f0d9d10348f091e68d9c31826748",
       "version_major": 2,
       "version_minor": 0
      },
      "text/plain": [
       "interactive(children=(IntSlider(value=1, description='tracked_frame', max=865, min=1), Output()), _dom_classes…"
      ]
     },
     "metadata": {},
     "output_type": "display_data"
    }
   ],
   "source": [
    "\n",
    "this_tracked_plots=trap_tracked_plots[0]\n",
    "#interactive_plot=interactive(show_all,this_tracked_plots=fixed(this_tracked_plots),tracked_frame=widgets.IntSlider(min=1,max=max_frames,step=1,value=1),fs=fixed(frame_experiment_start))\n",
    "interactive_plot=interactive(show_all,this_tracked_plots=fixed(this_tracked_plots),tracked_frame=widgets.IntSlider(min=frame_experiment_start,max=frame_experiment_end,step=1,value=1),fs=fixed(frame_experiment_start))\n",
    "interactive_plot    \n"
   ]
  },
  {
   "cell_type": "code",
   "execution_count": null,
   "metadata": {},
   "outputs": [],
   "source": [
    "trap_tracked_cells[1][415][102]"
   ]
  },
  {
   "cell_type": "code",
   "execution_count": null,
   "metadata": {},
   "outputs": [],
   "source": [
    "%matplotlib inline \n",
    "\n",
    "\n",
    "\n",
    "\n",
    "this_tracked_plots=tracked_plots\n",
    "interactive_plot=interactive(show_all,this_tracked_plots=fixed(this_tracked_plots),tracked_frame=widgets.IntSlider(min=1,max=max_frames,step=1,value=1))\n",
    "interactive_plot    \n",
    "\n"
   ]
  },
  {
   "cell_type": "code",
   "execution_count": null,
   "metadata": {},
   "outputs": [],
   "source": []
  },
  {
   "cell_type": "code",
   "execution_count": null,
   "metadata": {},
   "outputs": [],
   "source": [
    "%%html\n",
    "<style>\n",
    ".output_wrapper button.btn.btn-default,\n",
    ".output_wrapper .ui-dialog-titlebar {\n",
    " display: none;\n",
    "}\n",
    "</style>"
   ]
  }
 ],
 "metadata": {
  "anaconda-cloud": {},
  "kernelspec": {
   "display_name": "Python 3",
   "language": "python",
   "name": "python3"
  },
  "language_info": {
   "codemirror_mode": {
    "name": "ipython",
    "version": 3
   },
   "file_extension": ".py",
   "mimetype": "text/x-python",
   "name": "python",
   "nbconvert_exporter": "python",
   "pygments_lexer": "ipython3",
   "version": "3.6.5"
  },
  "widgets": {
   "state": {
    "26c19d1ca3294924865f05f84eccd46e": {
     "views": [
      {
       "cell_index": 3
      }
     ]
    },
    "3f13279d1bdd49d0b62cb40313cd15f1": {
     "views": [
      {
       "cell_index": 3
      }
     ]
    },
    "c69d3e1fe63148bc81c86370397bcdb3": {
     "views": [
      {
       "cell_index": 3
      }
     ]
    },
    "e968d55e3439482aa131e0c7b32e2d64": {
     "views": [
      {
       "cell_index": 3
      }
     ]
    }
   },
   "version": "1.2.0"
  }
 },
 "nbformat": 4,
 "nbformat_minor": 2
}
