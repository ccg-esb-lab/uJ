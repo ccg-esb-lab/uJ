{
 "cells": [
  {
   "cell_type": "code",
   "execution_count": 1,
   "metadata": {},
   "outputs": [],
   "source": [
    "import sys\n",
    "import os\n",
    "import numpy as np\n",
    "from matplotlib import pyplot as plt\n",
    "import matplotlib as mpl\n",
    "import matplotlib.patches as patches\n",
    "from shapely.geometry import Point\n",
    "from shapely.geometry import MultiPoint\n",
    "from shapely.geometry import MultiPolygon\n",
    "from shapely.geometry import Polygon\n",
    "from shapely.geometry import box\n",
    "from descartes.patch import PolygonPatch\n",
    "import ipywidgets as widgets\n",
    "import ipywidgets.widgets.interaction\n",
    "#from ipywidgets import interactive, fixed\n",
    "from ipywidgets import *\n",
    "import random\n",
    "import pandas as pd\n",
    "\n",
    "import re\n",
    "\n",
    "from shapely import geometry\n",
    "import pickle\n",
    "import time\n",
    "\n",
    "#from ipyparallel import Client\n",
    "\n",
    "from shapely import affinity\n",
    "from shapely.geometry import LineString\n",
    "import warnings\n",
    "warnings.simplefilter('ignore', np.RankWarning)\n",
    "\n",
    "\n",
    "import gc\n",
    "gc.enable()"
   ]
  },
  {
   "cell_type": "code",
   "execution_count": 2,
   "metadata": {},
   "outputs": [],
   "source": [
    "#os.chdir('/home/charly/Lab/Projects/uJ/local/experiments/HT-Sine2hr/')\n",
    "#os.chdir('/home/esb/Projects/uJ/uJ_master/experiments/HT-Sine2hr/')"
   ]
  },
  {
   "cell_type": "code",
   "execution_count": 3,
   "metadata": {},
   "outputs": [
    {
     "data": {
      "text/plain": [
       "'/home/esb/Projects/uJ/local/experiments/HT-LB'"
      ]
     },
     "execution_count": 3,
     "metadata": {},
     "output_type": "execute_result"
    }
   ],
   "source": [
    "pwd"
   ]
  },
  {
   "cell_type": "code",
   "execution_count": 13,
   "metadata": {},
   "outputs": [
    {
     "name": "stdout",
     "output_type": "stream",
     "text": [
      "> Analysis Functions loaded\n"
     ]
    }
   ],
   "source": [
    "#sys.path.insert(0, '/Users/ESB/SYNC_RPM/RPM_Work/uJ_master/current/uJ_src/python/')\n",
    "#sys.path.insert(0, '/home/esb/Projects/uJ/uJ_master/current/uJ_src/python/')\n",
    "#sys.path.insert(0, '/home/charly/Lab/Projects/uJ/uJ_master/current/uJ_src/python/')\n",
    "sys.path.insert(0, '/home/esb/Projects/uJ/local/current/uJ_src_pHT/python/')\n",
    "sys.path.insert(0, '/home/charly/Lab/Projects/uJ/local/current/uJ_src_PHT/python/')\n",
    "\n",
    "#from readroi import *\n",
    "from DataManagers import *\n",
    "from DataStructs import *\n",
    "from TrackingFunctions import *\n",
    "from PlottingFunctions import *\n",
    "from AnalysisFunctions import *"
   ]
  },
  {
   "cell_type": "markdown",
   "metadata": {},
   "source": [
    "## Experiment Parameters"
   ]
  },
  {
   "cell_type": "code",
   "execution_count": 5,
   "metadata": {},
   "outputs": [
    {
     "name": "stdout",
     "output_type": "stream",
     "text": [
      "\n",
      "Frames:  range(1, 866)\t 0.0->72.0 hours\n",
      "t_experiment_start=0\t(0.0h)\n",
      "t_experiment_end=4320\t(72.0h)\n"
     ]
    }
   ],
   "source": [
    "rootDir=\"../../data_sample/HT-LB/\"\n",
    "expeLabel=\"HT-LB\"\n",
    "trap_list=\"xy02,xy03,xy04,xy05,xy06,xy10\".split(\",\")  \n",
    "trap_list=\"xy03,xy03-1\".split(\",\")  \n",
    "\n",
    "\n",
    "data_type=\"normData\"\n",
    "#Input files\n",
    "\n",
    "\n",
    "\n",
    "figxlim=1000\n",
    "figylim=512\n",
    "flims=(figxlim,figylim)\n",
    "\n",
    "\n",
    "\n",
    "for trap in trap_list:\n",
    "    #Input files\n",
    "    \n",
    "    dirNameDATA=rootDir+'data/'+data_type+'/'+trap+\"/\"\n",
    "    \n",
    "    #Output\n",
    "    dirNameCELLS=rootDir+'data_cells/'+trap+'/'+data_type+'/'\n",
    "   \n",
    "\n",
    "    dirNameTRACKEDCELLS=rootDir+'data_cells_tracked/'+trap+'/'+data_type+'/'\n",
    "    \n",
    "\n",
    "\n",
    "    dirNameTRACKEDCELLS_IMGS=rootDir+'figures/traked_cells/'+trap+'/'\n",
    "    if not os.path.exists(dirNameTRACKEDCELLS_IMGS):\n",
    "        print(\"making dir figures...\")\n",
    "        os.makedirs(dirNameTRACKEDCELLS_IMGS)\n",
    "   \n",
    "    dirNameDATALINEAGES=rootDir+'data/lineages/'\n",
    "      \n",
    "\n",
    "#toFile=False\n",
    "toFile=True\n",
    "    \n",
    "\n",
    "frame2min=5\n",
    "\n",
    "notcaptured_start=866\n",
    "notcaptured_end=866\n",
    "\n",
    "\n",
    "frame_experiment_start=1;\n",
    "frame_signal_start=int(865-(frame_experiment_start-1)/2)\n",
    "frame_signal_end=int(865-(frame_experiment_start-1)/2)\n",
    "frame_experiment_end=int(865-(frame_experiment_start-1)/2)\n",
    "\n",
    "t_experiment_start=0\n",
    "t_signal_start=(frame_signal_start-frame_experiment_start)*frame2min  \n",
    "t_signal_end=(frame_signal_end-frame_experiment_start)*frame2min\n",
    "t_experiment_end=(frame_experiment_end-frame_experiment_start)*frame2min\n",
    "\n",
    "\n",
    "frames=range(int(frame_experiment_start),int(frame_experiment_end+1))\n",
    "\n",
    "times=[(this_frame-frame_experiment_start)*frame2min for this_frame in frames]\n",
    "times_hour=[(this_frame-frame_experiment_start)*frame2min/60 for this_frame in frames]\n",
    "#print(\"\\nMinutes:  %s\"%times)\n",
    "#print(\"\\nHours:  [%s,%s]\"%(times_hour[0],times_hour[-1]))\n",
    "\n",
    "\n",
    "print(\"\\nFrames:  %s\\t %s->%s hours\"%(frames,times_hour[0],times_hour[-1]))\n",
    "print(\"t_experiment_start=%s\\t(%sh)\"%(t_experiment_start, t_experiment_start/60))\n",
    "print(\"t_experiment_end=%s\\t(%sh)\"%(t_experiment_end, t_experiment_end/60))\n",
    "\n",
    "\n",
    "\n",
    "#print(dataPath)\n",
    "#if not os.path.exists(figurePathDM) and toFile:"
   ]
  },
  {
   "cell_type": "markdown",
   "metadata": {},
   "source": [
    " ## Load tracked cells"
   ]
  },
  {
   "cell_type": "code",
   "execution_count": 7,
   "metadata": {
    "scrolled": true
   },
   "outputs": [
    {
     "name": "stdout",
     "output_type": "stream",
     "text": [
      "xy03\n",
      "864: Loading HT-LB_xy03_865.pkl\n",
      "865\n",
      "xy03-1\n",
      "864: Loading HT-LB_xy03-1_865.pkl\n",
      "865\n"
     ]
    }
   ],
   "source": [
    "\n",
    "max_frames=-1\n",
    "#max_frames=10\n",
    "\n",
    "trap_tracked_cells=[]\n",
    "for trap in trap_list:\n",
    "    print(trap)\n",
    "    dirNameTRACKEDCELLS=rootDir+'data_cells_tracked/'+trap+\"/\"+data_type+\"/\"\n",
    "    \n",
    "    tracked_cells=load_cells(dirNameTRACKEDCELLS,max_frames)\n",
    "    print(len(tracked_cells))\n",
    "    trap_tracked_cells.append(tracked_cells)"
   ]
  },
  {
   "cell_type": "markdown",
   "metadata": {},
   "source": [
    "## Load lineages"
   ]
  },
  {
   "cell_type": "code",
   "execution_count": 8,
   "metadata": {},
   "outputs": [
    {
     "name": "stdout",
     "output_type": "stream",
     "text": [
      "Loading 168 lineages from ../../data_sample/HT-LB/data/lineages/HT-LB_xy03_lineages_all.csv\n",
      "Loading 8 lineages from ../../data_sample/HT-LB/data/lineages/HT-LB_xy03_lineages_analysis.csv\n",
      "Loading 15 lineages from ../../data_sample/HT-LB/data/lineages/HT-LB_xy03-1_lineages_all.csv\n",
      "Loading 1 lineages from ../../data_sample/HT-LB/data/lineages/HT-LB_xy03-1_lineages_analysis.csv\n",
      "865\n"
     ]
    }
   ],
   "source": [
    "def load_data_lineages(fileName):\n",
    "    df_lineages = pd.read_csv(fileName,dtype=object)\n",
    "    df_lineages[\"frame\"] = pd.to_numeric(df_lineages[\"frame\"])\n",
    "    #df_lineages = pd.read_csv(fileName)\n",
    "    print('Loading %s lineages from %s'%(len(df_lineages.lineageID.unique()), fileName))\n",
    "    return df_lineages\n",
    "\n",
    "\n",
    "trap_df_lineages=[]\n",
    "trap_df_lineages_long=[]\n",
    "for i,trap in enumerate(trap_list):\n",
    "    #cell_lineages=trap_lineages[i]\n",
    "    dirNameDATALINEAGES=rootDir+'data/lineages/'\n",
    "    \n",
    "    lineagesDataFile='%s%s_%s_lineages_all.csv'%(dirNameDATALINEAGES, expeLabel, trap)\n",
    "    df_lineages=load_data_lineages(lineagesDataFile)\n",
    "    trap_df_lineages.append(df_lineages)\n",
    "    list_frames=df_lineages.frame.unique()\n",
    "    lineagesDataFile='%s%s_%s_lineages_analysis.csv'%(dirNameDATALINEAGES, expeLabel, trap)\n",
    "    df_lineages_long=load_data_lineages(lineagesDataFile)\n",
    "    trap_df_lineages_long.append(df_lineages_long)\n",
    "list_frames=[int(x) for x in list_frames]\n",
    "print(len(list_frames))"
   ]
  },
  {
   "cell_type": "markdown",
   "metadata": {},
   "source": [
    "## Select final & initial cells"
   ]
  },
  {
   "cell_type": "code",
   "execution_count": null,
   "metadata": {},
   "outputs": [],
   "source": [
    "%matplotlib notebook"
   ]
  },
  {
   "cell_type": "code",
   "execution_count": 11,
   "metadata": {
    "scrolled": false
   },
   "outputs": [
    {
     "data": {
      "application/vnd.jupyter.widget-view+json": {
       "model_id": "",
       "version_major": 2,
       "version_minor": 0
      },
      "text/plain": [
       "Canvas(toolbar=Toolbar(toolitems=[('Home', 'Reset original view', 'home', 'home'), ('Back', 'Back to  previous…"
      ]
     },
     "metadata": {},
     "output_type": "display_data"
    }
   ],
   "source": [
    "%matplotlib ipympl\n",
    "#%matplotlib widgets\n",
    "\n",
    " #if plot does not show,uncomment this line run, comment and re-run\n",
    "def onclickSelectMulti(event):\n",
    "\n",
    "       #global max_frames\n",
    "\n",
    "       #First find if Point is inside a roi\n",
    "    this_point = Point(event.xdata,event.ydata)\n",
    "    #if(event.y)\n",
    "    \n",
    "    titleA=event.inaxes.get_title()\n",
    "    title=titleA.split(\" \")[0]\n",
    "    tindex2=int(titleA.split(\" \")[1])\n",
    "    \n",
    "    tindex=trap_list.index(title)\n",
    "    to_track_polys0=trap_to_track_polys0[tindex]\n",
    "    \n",
    "    to_track_polysf=trap_to_track_polysf[tindex]\n",
    "    ax=axs[tindex,tindex2]\n",
    "   # print(tindex,tindex2)\n",
    "    if(tindex2==0):\n",
    "        \n",
    "        for select_index, select_poly in enumerate(to_track_polys0):\n",
    "            in_roi=select_poly.contains(this_point)\n",
    "            if in_roi:\n",
    "                select_x,select_y = select_poly.exterior.xy     \n",
    "                ax.plot(select_x, select_y, color='#6699cc', alpha=0.7, linewidth=2, solid_capstyle='round', zorder=3)\n",
    "                #ax.axis('off')\n",
    "                cellID=trap_tracked_cells[tindex][0][select_index]['cellID']\n",
    "                trap_toTrack_cellID0[tindex].append(cellID)\n",
    "                #trap_toTrack_roiIndex0[tindex].append(select_index)\n",
    "                #trap_toTrack_roiFrame0[tindex].append(to_track_frame)\n",
    "                #trap_toTrack_roiFrame0[tindex].append(1)\n",
    "                #trap_toTrack_trapIndex\n",
    "\n",
    "                break\n",
    "    if(tindex2==1):\n",
    "        \n",
    "        for select_index, select_poly in enumerate(to_track_polysf):\n",
    "            in_roi=select_poly.contains(this_point)\n",
    "            if in_roi:\n",
    "                select_x,select_y = select_poly.exterior.xy     \n",
    "                ax.plot(select_x, select_y, color='#6699cc', alpha=0.7, linewidth=2, solid_capstyle='round', zorder=3)\n",
    "                #ax.axis('off')\n",
    "                cellID=trap_tracked_cells[tindex][final_frame][select_index]['cellID']\n",
    "                trap_toTrack_cellIDf[tindex].append(cellID)\n",
    "                #trap_toTrack_roiIndexf[tindex].append(select_index)\n",
    "                #trap_toTrack_roiFramef[tindex].append(to_track_frame)\n",
    "                #trap_toTrack_roiFramef[tindex].append(final_frame)\n",
    "                #trap_toTrack_trapIndex\n",
    "\n",
    "                break\n",
    "\n",
    "\n",
    "fig,axs=plt.subplots(len(trap_tracked_cells),2,figsize=(15,15))\n",
    "trap_to_track_polys0=[]\n",
    "trap_to_track_polysf=[]\n",
    "\n",
    "trap_toTrack_cellID0=[]\n",
    "trap_toTrack_cellIDf=[]\n",
    "\n",
    "for ti,t_cells in enumerate(trap_tracked_cells):\n",
    "    cells=t_cells\n",
    "    ini_frame=1\n",
    "    final_frame=len(cells)-1\n",
    "    #to_track_frame=14\n",
    "   # global toTrack_roiIndex\n",
    "    trap_toTrack_cellID0.append([])\n",
    "    trap_toTrack_cellIDf.append([])\n",
    "    \n",
    "\n",
    "\n",
    "\n",
    "    \n",
    "    #fig=plt.figure()\n",
    "    ax = axs[ti,0]\n",
    "    ax.set_xlim(0,figxlim)\n",
    "    ax.set_ylim(0,figylim)\n",
    "    #ax.clear()\n",
    "    to_track_polys0=[]\n",
    "    to_track_cellIDs0=[]\n",
    "    to_track_polysf=[]\n",
    "    to_track_cellIDsf=[]\n",
    "        \n",
    "\n",
    "    for this_cell in cells[ini_frame-1]:\n",
    "        this_poly=this_cell['roiPoly']\n",
    "        this_cellID=this_cell['cellID']\n",
    "        to_track_polys0.append(this_poly)\n",
    "        to_track_cellIDs0.append(this_cellID)\n",
    "        patch = PolygonPatch(this_poly, facecolor=[0.75,0.75,0.75], edgecolor=[0,0,0], alpha=0.7, zorder=2)\n",
    "        ax.add_patch(patch)\n",
    "       #ax.plot(x=100,y=100,c='r*')\n",
    "    #ax.axis('off')\n",
    "    trap_to_track_polys0.append(to_track_polys0)\n",
    "    #trap_toTrack_cellID0.append(to_track_cellIDs0)\n",
    "    ax.set_title(\"%s %s\"%(trap_list[ti],0))\n",
    "    ax.set_aspect('equal')\n",
    "    ax.invert_yaxis()\n",
    "    \n",
    "    \n",
    "    ax = axs[ti,1]\n",
    "    ax.set_xlim(0,figxlim)\n",
    "    ax.set_ylim(0,figylim)\n",
    "    #ax.clear()\n",
    "    to_track_polysf=[]\n",
    "\n",
    "    for this_cell in cells[final_frame]:\n",
    "        this_poly=this_cell['roiPoly']\n",
    "        this_cellID=this_cell['cellID']\n",
    "        to_track_polysf.append(this_poly)\n",
    "        to_track_cellIDsf.append(this_cellID)\n",
    "        \n",
    "        patch = PolygonPatch(this_poly, facecolor=[0.75,0.75,0.75], edgecolor=[0,0,0], alpha=0.7, zorder=2)\n",
    "        ax.add_patch(patch)\n",
    "       #ax.plot(x=100,y=100,c='r*')\n",
    "    #ax.axis('off')\n",
    "    trap_to_track_polysf.append(to_track_polysf)\n",
    "    #trap_toTrack_cellIDf.append(to_track_cellIDsf)\n",
    "    ax.set_title(\"%s %s\"%(trap_list[ti],1))\n",
    "    ax.set_aspect('equal')\n",
    "    ax.invert_yaxis()\n",
    "\n",
    "plt.tight_layout(pad=0,h_pad=0,w_pad=0)\n",
    "    \n",
    "    \n",
    "    \n",
    "    \n",
    "    #fig.canvas.layout.width = '1280px'\n",
    "    #fig.canvas.layout.height = '%spx'%(512*len(trap_tracked_cells))\n",
    "    #fig.canvas.layout.width = '2000px'\n",
    "    #fig.canvas.layout.height = '512px'\n",
    "    #fig.canvas.layout.height = '%spx'%(512*len(trap_tracked_cells))\n",
    "    #fig.canvas.layout.width = '500px'\n",
    "    \n",
    "    \n",
    "\n",
    "\n",
    "cid = fig.canvas.mpl_connect('button_press_event', onclickSelectMulti)"
   ]
  },
  {
   "cell_type": "markdown",
   "metadata": {},
   "source": [
    " ## Get cells path"
   ]
  },
  {
   "cell_type": "code",
   "execution_count": null,
   "metadata": {},
   "outputs": [],
   "source": [
    "list_frames2=list_frames[-2:]\n",
    "f1=[int(x) for x  in np.linspace(1,len(tracked_cells),len(tracked_cells))]\n",
    "#list_frames2\n",
    "list_frames2=f1"
   ]
  },
  {
   "cell_type": "code",
   "execution_count": 14,
   "metadata": {
    "scrolled": false
   },
   "outputs": [
    {
     "name": "stdout",
     "output_type": "stream",
     "text": [
      "xy03\n",
      "['1.166', '1.162', '1.161', '1.165'] ['865.054', '865.056', '865.043', '865.051']\n",
      "xy03-1\n",
      "['1.014'] ['865.009']\n"
     ]
    },
    {
     "data": {
      "text/plain": [
       "4"
      ]
     },
     "execution_count": 14,
     "metadata": {},
     "output_type": "execute_result"
    }
   ],
   "source": [
    "\n",
    "trap_path_list=[]\n",
    "\n",
    "for i,trap in enumerate(trap_list):\n",
    "    print(trap)\n",
    "    cIDi=trap_toTrack_cellID0[i]\n",
    "    cIDf=trap_toTrack_cellIDf[i]\n",
    "    print(cIDi,cIDf)\n",
    "    trap_df=trap_df_lineages[i]\n",
    "    tyList=get_this_path(trap_df,cIDi,cIDf)\n",
    "    trap_path_list.append(tyList)\n",
    "len(trap_path_list[0])"
   ]
  },
  {
   "cell_type": "markdown",
   "metadata": {},
   "source": [
    "## Plot paths"
   ]
  },
  {
   "cell_type": "code",
   "execution_count": 16,
   "metadata": {
    "scrolled": false
   },
   "outputs": [
    {
     "name": "stdout",
     "output_type": "stream",
     "text": [
      "../../data_sample/HT-LB/figures/traked_cells/xy03/\n",
      "../../data_sample/HT-LB/figures/traked_cells/xy03/mothers_paths/path-1.166-865.054/   865\n",
      "../../data_sample/HT-LB/figures/traked_cells/xy03/mothers_paths/path-1.162-865.056/   865\n",
      "../../data_sample/HT-LB/figures/traked_cells/xy03/mothers_paths/path-1.161-865.043/   865\n",
      "../../data_sample/HT-LB/figures/traked_cells/xy03/mothers_paths/path-1.165-865.051/   865 274\n",
      "../../data_sample/HT-LB/figures/traked_cells/xy03-1/\n",
      "../../data_sample/HT-LB/figures/traked_cells/xy03-1/mothers_paths/path-1.014-865.009/   865\n"
     ]
    }
   ],
   "source": [
    "%matplotlib inline\n",
    "\n",
    "\n",
    "\n",
    "for i,trap in enumerate(trap_list):\n",
    "    tracked_cells=trap_tracked_cells[i]\n",
    "    dirNameTRACKEDCELLS_IMGS=rootDir+'figures/traked_cells/'+trap+'/'\n",
    "    print(dirNameTRACKEDCELLS_IMGS)\n",
    "    paths=trap_path_list[i]\n",
    "    \n",
    "        \n",
    "    for im,path in enumerate(paths):\n",
    "        path_name=\"%s-%s\"%(path[0],path[-1])\n",
    "        dirNameIMAGEOVERLAY=dirNameTRACKEDCELLS_IMGS+'mothers_paths/path-%s/'%(path_name)\n",
    "        \n",
    "        if not os.path.exists(dirNameIMAGEOVERLAY):\n",
    "            os.makedirs(dirNameIMAGEOVERLAY)\n",
    "        \n",
    "        for this_frame in list_frames:\n",
    "            print(dirNameIMAGEOVERLAY,\" \",this_frame,end=\"\\r\")\n",
    "            plt,matchID=plot_track_path(tracked_cells,this_frame,path,flims)\n",
    "            #plt.title(\"%s %s path %s cellID %s\"%(expeLabel,trap,path_name,matchID))\n",
    "            framen=str(this_frame).zfill(3)\n",
    "            figName=\"%s%s_%s_path-%s_%s_%s.png\"%(dirNameIMAGEOVERLAY,expeLabel,trap,path_name,matchID,framen)\n",
    "            plt.savefig(figName)\n",
    "            plt.close(\"all\")\n",
    "        \n",
    "        print()"
   ]
  },
  {
   "cell_type": "markdown",
   "metadata": {},
   "source": [
    "## Mother Lineages"
   ]
  },
  {
   "cell_type": "code",
   "execution_count": 9,
   "metadata": {},
   "outputs": [
    {
     "name": "stdout",
     "output_type": "stream",
     "text": [
      "../../data_sample/HT-LB/figures/traked_cells/xy03/\n",
      "['1', '2', '3', '4', '5', '6', '7', '8']\n",
      "['1.161' '1.141' '1.159' '1.162' '1.166' '1.148' '1.169' '1.165']\n",
      "../../data_sample/HT-LB/figures/traked_cells/xy03/mothers_lineages/lineage-1_mother-1.161/   865\n",
      "../../data_sample/HT-LB/figures/traked_cells/xy03/mothers_lineages/lineage-2_mother-1.141/   865\n",
      "../../data_sample/HT-LB/figures/traked_cells/xy03/mothers_lineages/lineage-3_mother-1.159/   865\n",
      "../../data_sample/HT-LB/figures/traked_cells/xy03/mothers_lineages/lineage-4_mother-1.162/   865\n",
      "../../data_sample/HT-LB/figures/traked_cells/xy03/mothers_lineages/lineage-5_mother-1.166/   865\n",
      "../../data_sample/HT-LB/figures/traked_cells/xy03/mothers_lineages/lineage-6_mother-1.148/   865278\n",
      "../../data_sample/HT-LB/figures/traked_cells/xy03/mothers_lineages/lineage-7_mother-1.169/   865\n",
      "../../data_sample/HT-LB/figures/traked_cells/xy03/mothers_lineages/lineage-8_mother-1.165/   865\n",
      "../../data_sample/HT-LB/figures/traked_cells/xy03-1/\n",
      "['1']\n",
      "['1.014']\n",
      "../../data_sample/HT-LB/figures/traked_cells/xy03-1/mothers_lineages/lineage-1_mother-1.014/   865\n"
     ]
    }
   ],
   "source": [
    "\n",
    "\n",
    "for i,trap in enumerate(trap_list):\n",
    "    tracked_cells=trap_tracked_cells[i]\n",
    "    df_lineages=trap_df_lineages_long[i]\n",
    "    dirNameTRACKEDCELLS_IMGS=rootDir+'figures/traked_cells/'+trap+'/'\n",
    "    print(dirNameTRACKEDCELLS_IMGS)\n",
    "    \n",
    "    \n",
    "    this_frame=1\n",
    "    frame_df=df_lineages[df_lineages['frame']==this_frame]\n",
    "    mothers=frame_df.motherID.unique()\n",
    "    mothers_lineage_ids=[]\n",
    "    for this_mother in mothers:\n",
    "        tdf=frame_df[frame_df[\"motherID\"]==this_mother]\n",
    "        this_lineageID=tdf.lineageID.unique()[0]\n",
    "        mothers_lineage_ids.append(this_lineageID)\n",
    "    print(mothers_lineage_ids)\n",
    "    print(mothers)\n",
    "    for im,this_lineage_id in enumerate(mothers_lineage_ids):\n",
    "       # if(this_lineage_id!=1):\n",
    "        #    continue\n",
    "        this_frame=1\n",
    "        #mother_name=\"%s.%s\"%(this_frame,str(round(mothers[im]-this_frame,3)).ljust(5,'0').split(\".\")[1])\n",
    "        mother_name=mothers[im]\n",
    "        dirNameIMAGEOVERLAY=dirNameTRACKEDCELLS_IMGS+'mothers_lineages/lineage-%s_mother-%s/'%(this_lineage_id,mother_name)\n",
    "        \n",
    "        if not os.path.exists(dirNameIMAGEOVERLAY):\n",
    "            os.makedirs(dirNameIMAGEOVERLAY)\n",
    "        lineage_df=df_lineages[df_lineages['lineageID']==this_lineage_id]\n",
    "        \n",
    "        for this_frame in list_frames:\n",
    "            print(dirNameIMAGEOVERLAY,\" \",this_frame,end=\"\\r\")\n",
    "            frame_lineage_df=lineage_df[lineage_df['frame']==this_frame]\n",
    "            this_daughters=frame_lineage_df[\"cellID\"].tolist()\n",
    "            #this_daughters=[\"%s.%s\"%(this_frame,str(round(x-this_frame,3)).ljust(5,'0').split(\".\")[1]) for x in this_daughters]\n",
    "            #print(this_daughters)\n",
    "            #print(zzz)\n",
    "            plt=plot_mother_lineages(tracked_cells,this_frame,this_daughters,flims)\n",
    "            plt.title(\"%s %s mother %s lineage %s\"%(expeLabel,trap,mother_name,this_lineage_id))\n",
    "            framen=str(this_frame).zfill(3)\n",
    "            figName=\"%s%s_%s_lineage-%s_mother-%s_%s.png\"%(dirNameIMAGEOVERLAY,expeLabel,trap,this_lineage_id,mother_name,framen)\n",
    "            plt.savefig(figName)\n",
    "            plt.close(\"all\")\n",
    "        print()"
   ]
  },
  {
   "cell_type": "markdown",
   "metadata": {},
   "source": [
    "## Plot longest tracks"
   ]
  },
  {
   "cell_type": "code",
   "execution_count": 10,
   "metadata": {},
   "outputs": [
    {
     "name": "stdout",
     "output_type": "stream",
     "text": [
      "../../data_sample/HT-LB/figures/traked_cells/xy03/\n",
      "['1.161-865.000', '1.141-865.001', '1.159-865.002', '1.162-865.006', '1.166-865.009', '1.148-865.022', '1.169-865.028', '1.165-865.044']\n",
      "../../data_sample/HT-LB/figures/traked_cells/xy03/mothers_longestTracks_masks/mother-1.161/   865\n",
      "../../data_sample/HT-LB/figures/traked_cells/xy03/mothers_longestTracks_masks/mother-1.141/   8657331\n",
      "../../data_sample/HT-LB/figures/traked_cells/xy03/mothers_longestTracks_masks/mother-1.159/   865\n",
      "../../data_sample/HT-LB/figures/traked_cells/xy03/mothers_longestTracks_masks/mother-1.162/   865 246\n",
      "../../data_sample/HT-LB/figures/traked_cells/xy03/mothers_longestTracks_masks/mother-1.166/   865\n",
      "../../data_sample/HT-LB/figures/traked_cells/xy03/mothers_longestTracks_masks/mother-1.148/   865\n",
      "../../data_sample/HT-LB/figures/traked_cells/xy03/mothers_longestTracks_masks/mother-1.169/   865193\n",
      "../../data_sample/HT-LB/figures/traked_cells/xy03/mothers_longestTracks_masks/mother-1.165/   865\n",
      "../../data_sample/HT-LB/figures/traked_cells/xy03-1/\n",
      "['1.014-865.000']\n",
      "../../data_sample/HT-LB/figures/traked_cells/xy03-1/mothers_longestTracks_masks/mother-1.014/   865\n"
     ]
    }
   ],
   "source": [
    "\n",
    "\n",
    "for i,trap in enumerate(trap_list):\n",
    "    tracked_cells=trap_tracked_cells[i]\n",
    "    df_lineages=trap_df_lineages_long[i]\n",
    "    dirNameTRACKEDCELLS_IMGS=rootDir+'figures/traked_cells/'+trap+'/'\n",
    "    print(dirNameTRACKEDCELLS_IMGS)\n",
    "    \n",
    "    \n",
    "    this_frame=1\n",
    "    frame_df=df_lineages[df_lineages['frame']==this_frame]\n",
    "    mothers=frame_df.motherID.unique()\n",
    "    mothers_lineage_ids=[]\n",
    "    for this_mother in mothers:\n",
    "        tdf=frame_df[frame_df[\"motherID\"]==this_mother]\n",
    "        this_lineageID=tdf.trackID.unique()[0]\n",
    "        mothers_lineage_ids.append(this_lineageID)\n",
    "    print(mothers_lineage_ids)\n",
    "    \n",
    "    for im,this_lineage_id in enumerate(mothers_lineage_ids):\n",
    "       # if(this_lineage_id!=1):\n",
    "        #    continue\n",
    "        this_frame=1\n",
    "        #mother_name=\"%s.%s\"%(this_frame,str(round(mothers[im]-this_frame,3)).ljust(5,'0').split(\".\")[1])\n",
    "        mother_name=mothers[im]\n",
    "        dirNameIMAGEOVERLAY=dirNameTRACKEDCELLS_IMGS+'mothers_longestTracks_masks/mother-%s/'%(mother_name)\n",
    "        \n",
    "        if not os.path.exists(dirNameIMAGEOVERLAY):\n",
    "            os.makedirs(dirNameIMAGEOVERLAY)\n",
    "        lineage_df=df_lineages[df_lineages['trackID']==this_lineage_id]\n",
    "        \n",
    "        for this_frame in list_frames:\n",
    "            print(dirNameIMAGEOVERLAY,\" \",this_frame,end=\"\\r\")\n",
    "            frame_lineage_df=lineage_df[lineage_df['frame']==this_frame]\n",
    "            this_daughters=frame_lineage_df[\"cellID\"].tolist()\n",
    "            #this_daughters=[\"%s.%s\"%(this_frame,str(round(x-this_frame,3)).ljust(5,'0').split(\".\")[1]) for x in this_daughters]\n",
    "            #print(this_daughters)\n",
    "            #print(zzz)\n",
    "            plt=plot_mother_lineages(tracked_cells,this_frame,this_daughters,flims)\n",
    "            plt.title(\"%s %s mother %s track %s\"%(expeLabel,trap,mother_name,this_lineage_id))\n",
    "            framen=str(this_frame).zfill(3)\n",
    "            figName=\"%s%s_%s_mother-%s_track-%s_%s.png\"%(dirNameIMAGEOVERLAY,expeLabel,trap,mother_name,this_lineage_id,framen)\n",
    "            plt.savefig(figName)\n",
    "            plt.close(\"all\")\n",
    "            #plt.close()\n",
    "        print()\n",
    "\n"
   ]
  },
  {
   "cell_type": "code",
   "execution_count": null,
   "metadata": {},
   "outputs": [],
   "source": []
  }
 ],
 "metadata": {
  "anaconda-cloud": {},
  "kernelspec": {
   "display_name": "Python 3",
   "language": "python",
   "name": "python3"
  },
  "language_info": {
   "codemirror_mode": {
    "name": "ipython",
    "version": 3
   },
   "file_extension": ".py",
   "mimetype": "text/x-python",
   "name": "python",
   "nbconvert_exporter": "python",
   "pygments_lexer": "ipython3",
   "version": "3.6.5"
  },
  "widgets": {
   "state": {
    "26c19d1ca3294924865f05f84eccd46e": {
     "views": [
      {
       "cell_index": 3
      }
     ]
    },
    "3f13279d1bdd49d0b62cb40313cd15f1": {
     "views": [
      {
       "cell_index": 3
      }
     ]
    },
    "c69d3e1fe63148bc81c86370397bcdb3": {
     "views": [
      {
       "cell_index": 3
      }
     ]
    },
    "e968d55e3439482aa131e0c7b32e2d64": {
     "views": [
      {
       "cell_index": 3
      }
     ]
    }
   },
   "version": "1.2.0"
  }
 },
 "nbformat": 4,
 "nbformat_minor": 2
}
