{
 "cells": [
  {
   "cell_type": "markdown",
   "metadata": {},
   "source": [
    "## List of pending scripts and fixes"
   ]
  },
  {
   "cell_type": "markdown",
   "metadata": {},
   "source": [
    "### Finish pos_filler\n",
    "    to fill with pictures \n",
    "    recursive function for more than two time-lapses"
   ]
  },
  {
   "cell_type": "markdown",
   "metadata": {},
   "source": [
    "RawMasks_2_masks:\n",
    "line 117-118: cell areas modified, most cells were deleted after splitting\n",
    "line 553: dowand tolerance 5.0 -> 25.0 (because when extending cells background is set to 249 bug*)\n",
    "\n",
    "\n",
    "\n",
    "\n",
    "DeepCell_2_RawMasks:\n",
    "threshold_down=10\n",
    "\n",
    "TIF_2_Segmentable:\n",
    "line 71: substack for loop changed from nslices to frame_names.length\n",
    "\tThis allows to create segmentable image(s) for a particular frame(s)\n",
    "line 77-88: Check if deconvolution erases/blackens the whole image, if so, deconvolves with only one iteration \n",
    "\n",
    "line 92: Gaussian Blur disabled (works better for fluorescence images)\n",
    "\n",
    "line 160: decon function changed to recieve maxIters as a parameter\n",
    "\n",
    "\n",
    "\n",
    "\n",
    "\n",
    "\n",
    "to do: \n",
    "fix traps/pos -> pos/traps"
   ]
  }
 ],
 "metadata": {
  "kernelspec": {
   "display_name": "Python 3",
   "language": "python",
   "name": "python3"
  },
  "language_info": {
   "codemirror_mode": {
    "name": "ipython",
    "version": 3
   },
   "file_extension": ".py",
   "mimetype": "text/x-python",
   "name": "python",
   "nbconvert_exporter": "python",
   "pygments_lexer": "ipython3",
   "version": "3.6.3"
  }
 },
 "nbformat": 4,
 "nbformat_minor": 2
}
